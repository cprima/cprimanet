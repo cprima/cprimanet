{
 "cells": [
  {
   "cell_type": "code",
   "execution_count": null,
   "metadata": {},
   "outputs": [],
   "source": []
  },
  {
   "cell_type": "markdown",
   "metadata": {},
   "source": [
    "\n",
    "\n",
    "# asciinema truncator\n",
    "\n",
    "A Python script to truncate recording sessions of `asciinema`. This tool is perfect for users who want to remove specific time intervals from their recorded sessions, ensuring the end result is clean and only showcases what's necessary.\n",
    "\n",
    "## Features\n",
    "\n",
    "- Removes specified time intervals from an `asciinema` recording.\n",
    "- Automatically adjusts timestamps to maintain continuity after truncation.\n",
    "- Maintains the integrity of the JSON structure of the recording.\n",
    "\n",
    "## Prerequisites\n",
    "\n",
    "- Python 3.x\n",
    "- Jupyter Notebook (if you're running the script in Jupyter)\n",
    "\n",
    "## Usage\n",
    "\n",
    "1. Record your terminal session with `asciinema`.\n",
    "\n",
    "    ```bash\n",
    "    asciinema rec filename.cast\n",
    "    ```\n",
    "\n",
    "2. Run the script in a Jupyter Notebook or as a standalone script, providing:\n",
    "   - Path to the recorded `.cast` file.\n",
    "   - Path to an output file to save the processed contents.\n",
    "   - List of timestamp pairs representing the start and end of intervals you want to truncate.\n",
    "\n",
    "    ```python\n",
    "    # Run the script and get processing statistics\n",
    "    processing_stats = truncate_asciinema(input_file=\"long.cast\", output_file=\"truncated.cast\", timestamp_ranges=[(10, 20), (40, 60)])\n",
    "\n",
    "    # Print processing statistics\n",
    "    for stat in processing_stats:\n",
    "        print(stat)\n",
    "    ```\n",
    "\n",
    "3. The script will create a new `.cast` file with the specified intervals removed. \n",
    "\n",
    "## Sample\n",
    "\n",
    "Here's a simple use case to better understand the script's functionality:\n",
    "\n",
    "**Input timestamps**:\n",
    "0, 3, 4, 6, 8, 10, 12, 15, 18, 20, 22, 25, 31, 49, 50\n",
    "\n",
    "**Timestamp ranges to truncate**:\n",
    "(10, 20) and (30, 40)\n",
    "\n",
    "**Output timestamps**:\n",
    "0, 3, 4, 6, 8, 10, 13, 31, 32\n",
    "\n",
    "See a truncated output file on teh asciinema website at https://asciinema.org/a/cPkBEGvwHSL2eE5OUzjeBClrl\n",
    "\n",
    "## Contribute\n",
    "\n",
    "Feedback and pull requests are welcome. If you find any issues or have suggestions, please [write a comment](https://gist.github.com/cprima/d0973019db4d0654a364a1498f45ff80).\n",
    "\n",
    "## License\n",
    "\n",
    "MIT\n"
   ]
  },
  {
   "cell_type": "markdown",
   "metadata": {},
   "source": [
    "# asciinema Truncator\n",
    "\n",
    "This notebook provides a utility to truncate specific time intervals from an `asciinema` recording and automatically adjusts the timestamps to maintain continuity after truncation.\n"
   ]
  },
  {
   "cell_type": "code",
   "execution_count": 10,
   "metadata": {},
   "outputs": [],
   "source": [
    "import json\n"
   ]
  },
  {
   "cell_type": "markdown",
   "metadata": {},
   "source": [
    "## Truncation Function\n"
   ]
  },
  {
   "cell_type": "code",
   "execution_count": 16,
   "metadata": {},
   "outputs": [],
   "source": [
    "\n",
    "\n",
    "class TruncateAsciinemaError(Exception):\n",
    "    pass\n",
    "\n",
    "def truncate_asciinema(input_file, output_file, timestamp_ranges):\n",
    "    stats = []\n",
    "\n",
    "    try:\n",
    "        # Check if output_file is writeable\n",
    "        with open(output_file, 'w'):\n",
    "            pass\n",
    "    except IOError:\n",
    "        raise TruncateAsciinemaError(f\"Output file '{output_file}' is not writeable.\")\n",
    "    \n",
    "    # Ensure output file has .cast extension\n",
    "    if not output_file.endswith('.cast'):\n",
    "        output_file += '.cast'\n",
    "\n",
    "    # First pass: Calculate deltas\n",
    "    try:\n",
    "        with open(input_file, 'r') as f:\n",
    "            lines = f.readlines()\n",
    "            previous_timestamp = 0\n",
    "            deltas = []\n",
    "            for line in lines[1:]:  # Skip metadata\n",
    "                try:\n",
    "                    timestamp, _, _ = json.loads(line)\n",
    "                except json.JSONDecodeError:\n",
    "                    raise TruncateAsciinemaError(\"Error decoding JSON in input file.\")\n",
    "                delta = timestamp - previous_timestamp\n",
    "                deltas.append(delta)\n",
    "                previous_timestamp = timestamp\n",
    "            deltas.append(0)  # Final delta is 0\n",
    "    except IOError:\n",
    "        raise TruncateAsciinemaError(f\"Error reading input file '{input_file}'.\")\n",
    "\n",
    "    # Filter out timestamp ranges not within input timestamps\n",
    "    valid_timestamp_ranges = []\n",
    "    for start, end in timestamp_ranges:\n",
    "        if any(start <= timestamp <= end for timestamp, _, _ in (json.loads(line) for line in lines[1:])):\n",
    "            valid_timestamp_ranges.append((start, end))\n",
    "    \n",
    "    # Second pass: Write lines, truncating and adjusting as needed\n",
    "    try:\n",
    "        with open(input_file, 'r') as infile, open(output_file, 'w') as outfile:\n",
    "            # Write metadata\n",
    "            metadata = infile.readline()\n",
    "            outfile.write(metadata)\n",
    "            \n",
    "            current_index = 0\n",
    "            last_written_ts = 0\n",
    "            for line in lines[1:]:\n",
    "                try:\n",
    "                    timestamp, second_item, _ = json.loads(line)\n",
    "                except json.JSONDecodeError:\n",
    "                    raise TruncateAsciinemaError(\"Error decoding JSON in input file.\")\n",
    "                in_truncation_range = any(start <= timestamp <= end for start, end in valid_timestamp_ranges)\n",
    "                \n",
    "                if not in_truncation_range:\n",
    "                    # Adjust timestamp\n",
    "                    timestamp = last_written_ts + deltas[current_index]\n",
    "                    outfile.write(json.dumps([timestamp, second_item, _]) + '\\n')\n",
    "                    last_written_ts = timestamp\n",
    "                current_index += 1\n",
    "    except IOError:\n",
    "        raise TruncateAsciinemaError(f\"Error reading/writing files '{input_file}' or '{output_file}'.\")\n",
    "\n",
    "    # Prepare stats\n",
    "    stats.append(\"Starting 2nd pass...\")\n",
    "    stats.append(f\"Total input lines: {len(lines)}\")\n",
    "    stats.append(f\"Maximum input timestamp: {previous_timestamp}\")\n",
    "    try:\n",
    "        with open(output_file, 'r') as f:\n",
    "            output_lines = f.readlines()\n",
    "    except IOError:\n",
    "        raise TruncateAsciinemaError(f\"Error reading output file '{output_file}'.\")\n",
    "    \n",
    "    stats.append(f\"Total output lines: {len(output_lines)}\")\n",
    "    stats.append(f\"Maximum output timestamp: {json.loads(output_lines[-1])[0]}\")\n",
    "    stats.append(f\"Timestamp delta: {previous_timestamp - json.loads(output_lines[-1])[0]}\")\n",
    "    stats.append(\"End processing.\")\n",
    "    \n",
    "    return stats"
   ]
  },
  {
   "cell_type": "markdown",
   "metadata": {},
   "source": [
    "## Mocking Test Data\n"
   ]
  },
  {
   "cell_type": "code",
   "execution_count": 17,
   "metadata": {},
   "outputs": [],
   "source": [
    "def create_mock_input_file(filepath):\n",
    "    with open(filepath, 'w') as f:\n",
    "        f.write('{\"version\": 2, \"width\": 80, \"height\": 24, \"timestamp\": 1625094175, \"env\": {\"SHELL\": \"/bin/zsh\", \"TERM\": \"xterm-256color\"}}\\n')\n",
    "        timestamps = [0, 3, 4, 6, 8, 10, 12, 15, 18, 20, 22, 25, 31, 49, 50]\n",
    "        for i, timestamp in enumerate(timestamps):\n",
    "            f.write(json.dumps([timestamp, 'o', f\"log entry {i} at timestamp {timestamp}\\r\\n\"]) + '\\n')\n",
    "\n"
   ]
  },
  {
   "cell_type": "markdown",
   "metadata": {},
   "source": [
    "## Custom Usage\n"
   ]
  },
  {
   "cell_type": "code",
   "execution_count": 15,
   "metadata": {},
   "outputs": [
    {
     "name": "stdout",
     "output_type": "stream",
     "text": [
      "Starting 2nd pass...\n",
      "Total input lines: 1016\n",
      "Maximum input timestamp: 775.740611\n",
      "Total output lines: 213\n",
      "Maximum output timestamp: 172.2593099999999\n",
      "Timestamp delta: 603.481301\n",
      "End processing.\n"
     ]
    }
   ],
   "source": [
    "# Replace the below paths and ranges with your own to process your asciinema files.\n",
    "input_file_path = \"tmp_o_fqxra-ascii.cast\"\n",
    "output_file_path = \"turingpi_init-nodes-rev5.cast\"\n",
    "ranges_to_truncate = [(30, 630), (770, 775)]  # Replace with your own ranges\n",
    "\n",
    "stats = truncate_asciinema(input_file_path, output_file_path, ranges_to_truncate)\n",
    "for stat in stats:\n",
    "    print(stat)\n"
   ]
  },
  {
   "cell_type": "code",
   "execution_count": null,
   "metadata": {},
   "outputs": [],
   "source": [
    "%%html\n",
    "<script async id=\"asciicast-602865\" src=\"https://asciinema.org/a/602865.js\"></script>"
   ]
  },
  {
   "cell_type": "code",
   "execution_count": null,
   "metadata": {},
   "outputs": [],
   "source": []
  },
  {
   "cell_type": "code",
   "execution_count": 18,
   "metadata": {},
   "outputs": [
    {
     "name": "stdout",
     "output_type": "stream",
     "text": [
      "Starting 2nd pass...\n",
      "Total input lines: 16\n",
      "Maximum input timestamp: 50\n",
      "Total output lines: 10\n",
      "Maximum output timestamp: 32\n",
      "Timestamp delta: 18\n",
      "End processing.\n",
      "Test passed!\n"
     ]
    }
   ],
   "source": [
    "def test_truncate_asciinema():\n",
    "    # 1. Generate the mock input file\n",
    "    input_file_path = 'mock_input.txt'\n",
    "    output_file_path = 'test_output.cast'\n",
    "    create_mock_input_file(input_file_path)\n",
    "    \n",
    "    # 2. Apply the truncate_asciinema function\n",
    "    stats = truncate_asciinema(input_file_path, output_file_path, [(10, 20), (30, 40)])\n",
    "    for stat in stats:\n",
    "        print(stat)\n",
    "    \n",
    "    # 3. Validate the output\n",
    "    with open(output_file_path, 'r') as f:\n",
    "        lines = f.readlines()\n",
    "        # Skipping the metadata line\n",
    "        timestamps = [json.loads(line)[0] for line in lines[1:]]\n",
    "    \n",
    "    expected_timestamps = [0, 3, 4, 6, 8, 10, 13, 31, 32]\n",
    "    \n",
    "    assert timestamps == expected_timestamps, f\"Expected {expected_timestamps}, but got {timestamps}\"\n",
    "    \n",
    "    print(\"Test passed!\")\n",
    "\n",
    "test_truncate_asciinema()\n"
   ]
  }
 ],
 "metadata": {
  "kernelspec": {
   "display_name": "cprima-playground",
   "language": "python",
   "name": "python3"
  },
  "language_info": {
   "codemirror_mode": {
    "name": "ipython",
    "version": 3
   },
   "file_extension": ".py",
   "mimetype": "text/x-python",
   "name": "python",
   "nbconvert_exporter": "python",
   "pygments_lexer": "ipython3",
   "version": "3.11.0"
  },
  "orig_nbformat": 4
 },
 "nbformat": 4,
 "nbformat_minor": 2
}
