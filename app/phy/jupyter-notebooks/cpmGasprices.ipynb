{
 "cells": [
  {
   "cell_type": "code",
   "execution_count": 267,
   "id": "cade33fc",
   "metadata": {},
   "outputs": [],
   "source": [
    "import pandas as pd\n",
    "import glob\n",
    "import matplotlib.pyplot as plt\n",
    "import calendar\n",
    "import datetime\n",
    "import numpy as np\n",
    "import math\n",
    "\n",
    "%matplotlib inline\n",
    "plt.style.use('fivethirtyeight')"
   ]
  },
  {
   "cell_type": "code",
   "execution_count": 2,
   "id": "83edbee1",
   "metadata": {},
   "outputs": [],
   "source": [
    "import seaborn as sns\n",
    "# Use seaborn style defaults and set the default figure size\n",
    "sns.set(rc={'figure.figsize':(11, 4)})"
   ]
  },
  {
   "cell_type": "code",
   "execution_count": 29,
   "id": "7335413c",
   "metadata": {},
   "outputs": [],
   "source": [
    "pathsA = r'S:\\dev.azure.com\\tankerkoenig\\tankerkoenig-data\\prices\\2020*\\*\\202*-prices.csv'\n",
    "pathsB = r'S:\\dev.azure.com\\tankerkoenig\\tankerkoenig-data\\prices\\2021*\\*\\202*-prices.csv'\n",
    "pricespaths = glob.glob(pathsA)\n",
    "pricespaths.extend(glob.glob(pathsB))"
   ]
  },
  {
   "cell_type": "code",
   "execution_count": 32,
   "id": "4dbe9356",
   "metadata": {},
   "outputs": [],
   "source": [
    "path_stationsA = r'S:\\github.com\\cprima\\cprimanet\\dat\\tankerkoenig-stations-wolfs*.csv'\n",
    "path_stationsB = r'S:\\github.com\\cprima\\cprimanet\\dat\\tankerkoenig-stations-dietz*.csv'\n",
    "stationspaths = glob.glob(path_stationsA)\n",
    "stationspaths.extend(glob.glob(path_stationsB))"
   ]
  },
  {
   "cell_type": "code",
   "execution_count": 35,
   "id": "fa8b6fda",
   "metadata": {},
   "outputs": [],
   "source": [
    "#df_prices = pd.concat([pd.read_csv(f) for f in pricespaths], ignore_index = True)\n",
    "df_prices = pd.concat([pd.read_csv(f, parse_dates=['date']) for f in pricespaths], ignore_index = True)\n",
    "df_prices = df_prices.drop(['dieselchange', 'e5change', 'e10change'], axis=1)\n",
    "df_prices['date'] = pd.to_datetime(df_prices['date'], errors='coerce', utc=True)\n",
    "df_prices['weekday'] = df_prices['date'].dt.day_name()\n",
    "df_prices['weekday'] = pd.Series(pd.Categorical(df_prices['date'].dt.day_name(), categories=list(calendar.day_name)))\n",
    "df_prices['quarter'] = df_prices['date'].dt.to_period('Q')"
   ]
  },
  {
   "cell_type": "code",
   "execution_count": 34,
   "id": "49d37120",
   "metadata": {},
   "outputs": [],
   "source": [
    "df_stations = pd.concat([pd.read_csv(f) for f in stationspaths], ignore_index = True)\n",
    "df_stations = df_stations.drop(['dist', 'diesel', 'e5', 'e10', 'isOpen'], axis=1)"
   ]
  },
  {
   "cell_type": "code",
   "execution_count": 36,
   "id": "e1aeea5b",
   "metadata": {
    "scrolled": true
   },
   "outputs": [
    {
     "name": "stderr",
     "output_type": "stream",
     "text": [
      "C:\\ProgramData\\Anaconda3\\lib\\site-packages\\pandas\\core\\arrays\\datetimes.py:1143: UserWarning: Converting to PeriodArray/Index representation will drop timezone information.\n",
      "  warnings.warn(\n"
     ]
    }
   ],
   "source": [
    "df_merged = pd.merge(df_prices, df_stations, left_on='station_uuid',right_on='id',how='inner',suffixes=('_left','_right'))\n",
    "df_merged.index=pd.to_datetime(df_merged['date'], utc=True)\n"
   ]
  },
  {
   "cell_type": "code",
   "execution_count": 182,
   "id": "e62a8d01",
   "metadata": {},
   "outputs": [],
   "source": [
    "# pd.set_option('display.max_rows', None)\n",
    "# pd.set_option('display.max_columns', None)\n",
    "# pd.set_option('display.width', None)\n",
    "# pd.set_option('display.max_colwidth', None)"
   ]
  },
  {
   "cell_type": "code",
   "execution_count": 141,
   "id": "11909c9e",
   "metadata": {},
   "outputs": [],
   "source": [
    "start_date = pd.to_datetime('1/4/2021 0:00', utc= True)\n",
    "end_date = pd.to_datetime('31/5/2021 23:59', utc= True)\n",
    "mask = (df_merged['date'] > start_date) & (df_merged['date'] <= end_date)\n",
    "\n",
    "cols_plot = ['e5', 'diesel']\n",
    "foo = df_merged.loc[mask].query('postCode > 38000 & postCode < 38999').between_time(\"17:00\", \"22:00\").groupby('weekday')[cols_plot].mean()\n",
    "#.plot(subplots=True, linewidth=2.5);\n",
    "#.loc[(df_merged['date'] > start_date) & (df_merged['date'] < end_date)]\n",
    "\n"
   ]
  },
  {
   "cell_type": "code",
   "execution_count": 13,
   "id": "edc12e6e",
   "metadata": {},
   "outputs": [
    {
     "data": {
      "text/html": [
       "<div>\n",
       "<style scoped>\n",
       "    .dataframe tbody tr th:only-of-type {\n",
       "        vertical-align: middle;\n",
       "    }\n",
       "\n",
       "    .dataframe tbody tr th {\n",
       "        vertical-align: top;\n",
       "    }\n",
       "\n",
       "    .dataframe thead th {\n",
       "        text-align: right;\n",
       "    }\n",
       "</style>\n",
       "<table border=\"1\" class=\"dataframe\">\n",
       "  <thead>\n",
       "    <tr style=\"text-align: right;\">\n",
       "      <th></th>\n",
       "      <th>e5</th>\n",
       "      <th>e10</th>\n",
       "      <th>diesel</th>\n",
       "    </tr>\n",
       "    <tr>\n",
       "      <th>weekday</th>\n",
       "      <th></th>\n",
       "      <th></th>\n",
       "      <th></th>\n",
       "    </tr>\n",
       "  </thead>\n",
       "  <tbody>\n",
       "    <tr>\n",
       "      <th>Monday</th>\n",
       "      <td>1.251987</td>\n",
       "      <td>1.215243</td>\n",
       "      <td>1.014367</td>\n",
       "    </tr>\n",
       "    <tr>\n",
       "      <th>Tuesday</th>\n",
       "      <td>1.245073</td>\n",
       "      <td>1.195651</td>\n",
       "      <td>1.017722</td>\n",
       "    </tr>\n",
       "    <tr>\n",
       "      <th>Wednesday</th>\n",
       "      <td>1.245175</td>\n",
       "      <td>1.207180</td>\n",
       "      <td>1.016334</td>\n",
       "    </tr>\n",
       "    <tr>\n",
       "      <th>Thursday</th>\n",
       "      <td>1.247549</td>\n",
       "      <td>1.208789</td>\n",
       "      <td>1.017336</td>\n",
       "    </tr>\n",
       "    <tr>\n",
       "      <th>Friday</th>\n",
       "      <td>1.242571</td>\n",
       "      <td>1.204141</td>\n",
       "      <td>1.012835</td>\n",
       "    </tr>\n",
       "    <tr>\n",
       "      <th>Saturday</th>\n",
       "      <td>1.245303</td>\n",
       "      <td>1.208111</td>\n",
       "      <td>1.007050</td>\n",
       "    </tr>\n",
       "    <tr>\n",
       "      <th>Sunday</th>\n",
       "      <td>1.252516</td>\n",
       "      <td>1.211575</td>\n",
       "      <td>1.010607</td>\n",
       "    </tr>\n",
       "  </tbody>\n",
       "</table>\n",
       "</div>"
      ],
      "text/plain": [
       "                 e5       e10    diesel\n",
       "weekday                                \n",
       "Monday     1.251987  1.215243  1.014367\n",
       "Tuesday    1.245073  1.195651  1.017722\n",
       "Wednesday  1.245175  1.207180  1.016334\n",
       "Thursday   1.247549  1.208789  1.017336\n",
       "Friday     1.242571  1.204141  1.012835\n",
       "Saturday   1.245303  1.208111  1.007050\n",
       "Sunday     1.252516  1.211575  1.010607"
      ]
     },
     "execution_count": 13,
     "metadata": {},
     "output_type": "execute_result"
    }
   ],
   "source": [
    "df_merged.between_time(\"17:00\", \"22:00\").groupby('weekday')[['e5', 'e10', 'diesel']].mean()"
   ]
  },
  {
   "cell_type": "code",
   "execution_count": 139,
   "id": "1cef1223",
   "metadata": {},
   "outputs": [
    {
     "data": {
      "text/plain": [
       "1.049"
      ]
     },
     "execution_count": 139,
     "metadata": {},
     "output_type": "execute_result"
    }
   ],
   "source": [
    "df_merged['e5'][df_merged['e5'] > 0.1].min()\n",
    "#np.nanmin(df_merged[\"e5\"].values)"
   ]
  },
  {
   "cell_type": "code",
   "execution_count": 230,
   "id": "f57d5978",
   "metadata": {},
   "outputs": [
    {
     "data": {
      "text/html": [
       "<div>\n",
       "<style scoped>\n",
       "    .dataframe tbody tr th:only-of-type {\n",
       "        vertical-align: middle;\n",
       "    }\n",
       "\n",
       "    .dataframe tbody tr th {\n",
       "        vertical-align: top;\n",
       "    }\n",
       "\n",
       "    .dataframe thead th {\n",
       "        text-align: right;\n",
       "    }\n",
       "</style>\n",
       "<table border=\"1\" class=\"dataframe\">\n",
       "  <thead>\n",
       "    <tr style=\"text-align: right;\">\n",
       "      <th></th>\n",
       "      <th>date</th>\n",
       "      <th>station_uuid</th>\n",
       "      <th>diesel</th>\n",
       "      <th>e5</th>\n",
       "      <th>e10</th>\n",
       "      <th>weekday</th>\n",
       "      <th>id</th>\n",
       "      <th>name</th>\n",
       "      <th>brand</th>\n",
       "      <th>street</th>\n",
       "      <th>place</th>\n",
       "      <th>lat</th>\n",
       "      <th>lng</th>\n",
       "      <th>houseNumber</th>\n",
       "      <th>postCode</th>\n",
       "      <th>quarter</th>\n",
       "    </tr>\n",
       "    <tr>\n",
       "      <th>date</th>\n",
       "      <th></th>\n",
       "      <th></th>\n",
       "      <th></th>\n",
       "      <th></th>\n",
       "      <th></th>\n",
       "      <th></th>\n",
       "      <th></th>\n",
       "      <th></th>\n",
       "      <th></th>\n",
       "      <th></th>\n",
       "      <th></th>\n",
       "      <th></th>\n",
       "      <th></th>\n",
       "      <th></th>\n",
       "      <th></th>\n",
       "      <th></th>\n",
       "    </tr>\n",
       "  </thead>\n",
       "  <tbody>\n",
       "    <tr>\n",
       "      <th>2020-02-05 10:32:06+00:00</th>\n",
       "      <td>2020-02-05 10:32:06+00:00</td>\n",
       "      <td>0b77096c-801b-4417-ac06-44ec8246b28b</td>\n",
       "      <td>1.289</td>\n",
       "      <td>1.469</td>\n",
       "      <td>1.449</td>\n",
       "      <td>Wednesday</td>\n",
       "      <td>0b77096c-801b-4417-ac06-44ec8246b28b</td>\n",
       "      <td>Shell Wolfsburg Braunschweiger Str. 201-203</td>\n",
       "      <td>Shell</td>\n",
       "      <td>Braunschweiger Str.</td>\n",
       "      <td>Wolfsburg</td>\n",
       "      <td>52.399986</td>\n",
       "      <td>10.754061</td>\n",
       "      <td>201-203</td>\n",
       "      <td>38444</td>\n",
       "      <td>2020Q1</td>\n",
       "    </tr>\n",
       "    <tr>\n",
       "      <th>2020-02-05 10:43:08+00:00</th>\n",
       "      <td>2020-02-05 10:43:08+00:00</td>\n",
       "      <td>0b77096c-801b-4417-ac06-44ec8246b28b</td>\n",
       "      <td>1.279</td>\n",
       "      <td>1.469</td>\n",
       "      <td>1.449</td>\n",
       "      <td>Wednesday</td>\n",
       "      <td>0b77096c-801b-4417-ac06-44ec8246b28b</td>\n",
       "      <td>Shell Wolfsburg Braunschweiger Str. 201-203</td>\n",
       "      <td>Shell</td>\n",
       "      <td>Braunschweiger Str.</td>\n",
       "      <td>Wolfsburg</td>\n",
       "      <td>52.399986</td>\n",
       "      <td>10.754061</td>\n",
       "      <td>201-203</td>\n",
       "      <td>38444</td>\n",
       "      <td>2020Q1</td>\n",
       "    </tr>\n",
       "    <tr>\n",
       "      <th>2020-02-05 10:53:07+00:00</th>\n",
       "      <td>2020-02-05 10:53:07+00:00</td>\n",
       "      <td>51d4b684-a095-1aa0-e100-80009459e03a</td>\n",
       "      <td>1.219</td>\n",
       "      <td>1.429</td>\n",
       "      <td>1.409</td>\n",
       "      <td>Wednesday</td>\n",
       "      <td>51d4b684-a095-1aa0-e100-80009459e03a</td>\n",
       "      <td>Supermarkt-Tankstelle WOLFSBURG HEHLINGER STR. 21</td>\n",
       "      <td>Supermarkt-Tankstelle</td>\n",
       "      <td>HEHLINGER STR.</td>\n",
       "      <td>WOLFSBURG</td>\n",
       "      <td>52.397200</td>\n",
       "      <td>10.837800</td>\n",
       "      <td>21</td>\n",
       "      <td>38446</td>\n",
       "      <td>2020Q1</td>\n",
       "    </tr>\n",
       "    <tr>\n",
       "      <th>2020-02-05 10:07:07+00:00</th>\n",
       "      <td>2020-02-05 10:07:07+00:00</td>\n",
       "      <td>b009c28a-6be3-49a5-8012-3db50637a5a1</td>\n",
       "      <td>1.199</td>\n",
       "      <td>1.409</td>\n",
       "      <td>1.389</td>\n",
       "      <td>Wednesday</td>\n",
       "      <td>b009c28a-6be3-49a5-8012-3db50637a5a1</td>\n",
       "      <td>Shell Dillenburg Frankfurter Str. 175</td>\n",
       "      <td>Shell</td>\n",
       "      <td>Frankfurter Str.</td>\n",
       "      <td>Dillenburg</td>\n",
       "      <td>50.735280</td>\n",
       "      <td>8.290547</td>\n",
       "      <td>175.0</td>\n",
       "      <td>35683</td>\n",
       "      <td>2020Q1</td>\n",
       "    </tr>\n",
       "    <tr>\n",
       "      <th>2020-02-05 10:42:06+00:00</th>\n",
       "      <td>2020-02-05 10:42:06+00:00</td>\n",
       "      <td>b009c28a-6be3-49a5-8012-3db50637a5a1</td>\n",
       "      <td>1.189</td>\n",
       "      <td>1.399</td>\n",
       "      <td>1.379</td>\n",
       "      <td>Wednesday</td>\n",
       "      <td>b009c28a-6be3-49a5-8012-3db50637a5a1</td>\n",
       "      <td>Shell Dillenburg Frankfurter Str. 175</td>\n",
       "      <td>Shell</td>\n",
       "      <td>Frankfurter Str.</td>\n",
       "      <td>Dillenburg</td>\n",
       "      <td>50.735280</td>\n",
       "      <td>8.290547</td>\n",
       "      <td>175.0</td>\n",
       "      <td>35683</td>\n",
       "      <td>2020Q1</td>\n",
       "    </tr>\n",
       "    <tr>\n",
       "      <th>2020-02-05 10:32:06+00:00</th>\n",
       "      <td>2020-02-05 10:32:06+00:00</td>\n",
       "      <td>66f8583b-127a-4298-9782-149a3a87dc30</td>\n",
       "      <td>1.279</td>\n",
       "      <td>1.469</td>\n",
       "      <td>1.449</td>\n",
       "      <td>Wednesday</td>\n",
       "      <td>66f8583b-127a-4298-9782-149a3a87dc30</td>\n",
       "      <td>Shell Wolfsburg Braunschweiger Str. 89</td>\n",
       "      <td>Shell</td>\n",
       "      <td>Braunschweiger Str.</td>\n",
       "      <td>Wolfsburg</td>\n",
       "      <td>52.411998</td>\n",
       "      <td>10.782174</td>\n",
       "      <td>89</td>\n",
       "      <td>38440</td>\n",
       "      <td>2020Q1</td>\n",
       "    </tr>\n",
       "    <tr>\n",
       "      <th>2020-02-05 10:03:08+00:00</th>\n",
       "      <td>2020-02-05 10:03:08+00:00</td>\n",
       "      <td>89540af1-abae-43ab-ab9a-e8151144d08e</td>\n",
       "      <td>1.229</td>\n",
       "      <td>1.449</td>\n",
       "      <td>1.429</td>\n",
       "      <td>Wednesday</td>\n",
       "      <td>89540af1-abae-43ab-ab9a-e8151144d08e</td>\n",
       "      <td>Shell Haiger Bahnhofstr. 42</td>\n",
       "      <td>Shell</td>\n",
       "      <td>Bahnhofstr.</td>\n",
       "      <td>Haiger</td>\n",
       "      <td>50.741260</td>\n",
       "      <td>8.209538</td>\n",
       "      <td>42.0</td>\n",
       "      <td>35708</td>\n",
       "      <td>2020Q1</td>\n",
       "    </tr>\n",
       "    <tr>\n",
       "      <th>2020-02-05 10:25:08+00:00</th>\n",
       "      <td>2020-02-05 10:25:08+00:00</td>\n",
       "      <td>89540af1-abae-43ab-ab9a-e8151144d08e</td>\n",
       "      <td>1.229</td>\n",
       "      <td>1.399</td>\n",
       "      <td>1.379</td>\n",
       "      <td>Wednesday</td>\n",
       "      <td>89540af1-abae-43ab-ab9a-e8151144d08e</td>\n",
       "      <td>Shell Haiger Bahnhofstr. 42</td>\n",
       "      <td>Shell</td>\n",
       "      <td>Bahnhofstr.</td>\n",
       "      <td>Haiger</td>\n",
       "      <td>50.741260</td>\n",
       "      <td>8.209538</td>\n",
       "      <td>42.0</td>\n",
       "      <td>35708</td>\n",
       "      <td>2020Q1</td>\n",
       "    </tr>\n",
       "    <tr>\n",
       "      <th>2020-02-05 10:50:07+00:00</th>\n",
       "      <td>2020-02-05 10:50:07+00:00</td>\n",
       "      <td>89540af1-abae-43ab-ab9a-e8151144d08e</td>\n",
       "      <td>1.199</td>\n",
       "      <td>1.399</td>\n",
       "      <td>1.379</td>\n",
       "      <td>Wednesday</td>\n",
       "      <td>89540af1-abae-43ab-ab9a-e8151144d08e</td>\n",
       "      <td>Shell Haiger Bahnhofstr. 42</td>\n",
       "      <td>Shell</td>\n",
       "      <td>Bahnhofstr.</td>\n",
       "      <td>Haiger</td>\n",
       "      <td>50.741260</td>\n",
       "      <td>8.209538</td>\n",
       "      <td>42.0</td>\n",
       "      <td>35708</td>\n",
       "      <td>2020Q1</td>\n",
       "    </tr>\n",
       "    <tr>\n",
       "      <th>2020-02-05 10:32:06+00:00</th>\n",
       "      <td>2020-02-05 10:32:06+00:00</td>\n",
       "      <td>ad4f2ed6-c44e-4f8f-9ae6-a4ec955dfb60</td>\n",
       "      <td>1.279</td>\n",
       "      <td>1.469</td>\n",
       "      <td>1.449</td>\n",
       "      <td>Wednesday</td>\n",
       "      <td>ad4f2ed6-c44e-4f8f-9ae6-a4ec955dfb60</td>\n",
       "      <td>Shell Wolfsburg Nordsteimker Str. 7-9</td>\n",
       "      <td>Shell</td>\n",
       "      <td>Nordsteimker Str.</td>\n",
       "      <td>Wolfsburg</td>\n",
       "      <td>52.417518</td>\n",
       "      <td>10.805122</td>\n",
       "      <td>7-9</td>\n",
       "      <td>38446</td>\n",
       "      <td>2020Q1</td>\n",
       "    </tr>\n",
       "    <tr>\n",
       "      <th>2020-02-05 10:17:07+00:00</th>\n",
       "      <td>2020-02-05 10:17:07+00:00</td>\n",
       "      <td>51a1160e-0a82-4179-99a7-09cd0d0c20b1</td>\n",
       "      <td>1.289</td>\n",
       "      <td>1.469</td>\n",
       "      <td>1.449</td>\n",
       "      <td>Wednesday</td>\n",
       "      <td>51a1160e-0a82-4179-99a7-09cd0d0c20b1</td>\n",
       "      <td>Shell Wolfsburg Braunschweiger Str. 208</td>\n",
       "      <td>Shell</td>\n",
       "      <td>Braunschweiger Str.</td>\n",
       "      <td>Wolfsburg</td>\n",
       "      <td>52.400652</td>\n",
       "      <td>10.752286</td>\n",
       "      <td>208</td>\n",
       "      <td>38444</td>\n",
       "      <td>2020Q1</td>\n",
       "    </tr>\n",
       "    <tr>\n",
       "      <th>2020-02-05 10:43:08+00:00</th>\n",
       "      <td>2020-02-05 10:43:08+00:00</td>\n",
       "      <td>51a1160e-0a82-4179-99a7-09cd0d0c20b1</td>\n",
       "      <td>1.279</td>\n",
       "      <td>1.469</td>\n",
       "      <td>1.449</td>\n",
       "      <td>Wednesday</td>\n",
       "      <td>51a1160e-0a82-4179-99a7-09cd0d0c20b1</td>\n",
       "      <td>Shell Wolfsburg Braunschweiger Str. 208</td>\n",
       "      <td>Shell</td>\n",
       "      <td>Braunschweiger Str.</td>\n",
       "      <td>Wolfsburg</td>\n",
       "      <td>52.400652</td>\n",
       "      <td>10.752286</td>\n",
       "      <td>208</td>\n",
       "      <td>38444</td>\n",
       "      <td>2020Q1</td>\n",
       "    </tr>\n",
       "    <tr>\n",
       "      <th>2020-02-05 10:40:06+00:00</th>\n",
       "      <td>2020-02-05 10:40:06+00:00</td>\n",
       "      <td>fb48f03e-c16e-435d-a845-6e235612f88f</td>\n",
       "      <td>1.299</td>\n",
       "      <td>1.479</td>\n",
       "      <td>1.459</td>\n",
       "      <td>Wednesday</td>\n",
       "      <td>fb48f03e-c16e-435d-a845-6e235612f88f</td>\n",
       "      <td>Shell Wolfsburg Heinrich-Nordhoff Str. 119-121</td>\n",
       "      <td>Shell</td>\n",
       "      <td>Heinrich-Nordhoff Str.</td>\n",
       "      <td>Wolfsburg</td>\n",
       "      <td>52.426201</td>\n",
       "      <td>10.768519</td>\n",
       "      <td>119-121</td>\n",
       "      <td>38440</td>\n",
       "      <td>2020Q1</td>\n",
       "    </tr>\n",
       "    <tr>\n",
       "      <th>2020-02-05 10:56:07+00:00</th>\n",
       "      <td>2020-02-05 10:56:07+00:00</td>\n",
       "      <td>fb48f03e-c16e-435d-a845-6e235612f88f</td>\n",
       "      <td>1.279</td>\n",
       "      <td>1.469</td>\n",
       "      <td>1.449</td>\n",
       "      <td>Wednesday</td>\n",
       "      <td>fb48f03e-c16e-435d-a845-6e235612f88f</td>\n",
       "      <td>Shell Wolfsburg Heinrich-Nordhoff Str. 119-121</td>\n",
       "      <td>Shell</td>\n",
       "      <td>Heinrich-Nordhoff Str.</td>\n",
       "      <td>Wolfsburg</td>\n",
       "      <td>52.426201</td>\n",
       "      <td>10.768519</td>\n",
       "      <td>119-121</td>\n",
       "      <td>38440</td>\n",
       "      <td>2020Q1</td>\n",
       "    </tr>\n",
       "    <tr>\n",
       "      <th>2020-02-05 10:05:05+00:00</th>\n",
       "      <td>2020-02-05 10:05:05+00:00</td>\n",
       "      <td>c7f10377-ac4b-4a53-8230-ef35a1636d67</td>\n",
       "      <td>1.229</td>\n",
       "      <td>1.449</td>\n",
       "      <td>1.429</td>\n",
       "      <td>Wednesday</td>\n",
       "      <td>c7f10377-ac4b-4a53-8230-ef35a1636d67</td>\n",
       "      <td>Shell Dietzhoelztal Hauptstr. 13</td>\n",
       "      <td>Shell</td>\n",
       "      <td>Hauptstr.</td>\n",
       "      <td>Dietzhoelztal</td>\n",
       "      <td>50.831925</td>\n",
       "      <td>8.320652</td>\n",
       "      <td>13.0</td>\n",
       "      <td>35716</td>\n",
       "      <td>2020Q1</td>\n",
       "    </tr>\n",
       "    <tr>\n",
       "      <th>2020-02-05 10:25:08+00:00</th>\n",
       "      <td>2020-02-05 10:25:08+00:00</td>\n",
       "      <td>c7f10377-ac4b-4a53-8230-ef35a1636d67</td>\n",
       "      <td>1.229</td>\n",
       "      <td>1.399</td>\n",
       "      <td>1.379</td>\n",
       "      <td>Wednesday</td>\n",
       "      <td>c7f10377-ac4b-4a53-8230-ef35a1636d67</td>\n",
       "      <td>Shell Dietzhoelztal Hauptstr. 13</td>\n",
       "      <td>Shell</td>\n",
       "      <td>Hauptstr.</td>\n",
       "      <td>Dietzhoelztal</td>\n",
       "      <td>50.831925</td>\n",
       "      <td>8.320652</td>\n",
       "      <td>13.0</td>\n",
       "      <td>35716</td>\n",
       "      <td>2020Q1</td>\n",
       "    </tr>\n",
       "    <tr>\n",
       "      <th>2020-02-05 10:45:07+00:00</th>\n",
       "      <td>2020-02-05 10:45:07+00:00</td>\n",
       "      <td>c7f10377-ac4b-4a53-8230-ef35a1636d67</td>\n",
       "      <td>1.199</td>\n",
       "      <td>1.399</td>\n",
       "      <td>1.379</td>\n",
       "      <td>Wednesday</td>\n",
       "      <td>c7f10377-ac4b-4a53-8230-ef35a1636d67</td>\n",
       "      <td>Shell Dietzhoelztal Hauptstr. 13</td>\n",
       "      <td>Shell</td>\n",
       "      <td>Hauptstr.</td>\n",
       "      <td>Dietzhoelztal</td>\n",
       "      <td>50.831925</td>\n",
       "      <td>8.320652</td>\n",
       "      <td>13.0</td>\n",
       "      <td>35716</td>\n",
       "      <td>2020Q1</td>\n",
       "    </tr>\n",
       "    <tr>\n",
       "      <th>2020-02-05 10:23:08+00:00</th>\n",
       "      <td>2020-02-05 10:23:08+00:00</td>\n",
       "      <td>720e0a99-fe07-4824-a734-ac40544f633f</td>\n",
       "      <td>1.269</td>\n",
       "      <td>1.459</td>\n",
       "      <td>1.439</td>\n",
       "      <td>Wednesday</td>\n",
       "      <td>720e0a99-fe07-4824-a734-ac40544f633f</td>\n",
       "      <td>Aral Tankstelle</td>\n",
       "      <td>ARAL</td>\n",
       "      <td>Wolfsburger Straße</td>\n",
       "      <td>Weyhausen</td>\n",
       "      <td>52.462612</td>\n",
       "      <td>10.718878</td>\n",
       "      <td>24</td>\n",
       "      <td>38554</td>\n",
       "      <td>2020Q1</td>\n",
       "    </tr>\n",
       "    <tr>\n",
       "      <th>2020-02-05 10:43:08+00:00</th>\n",
       "      <td>2020-02-05 10:43:08+00:00</td>\n",
       "      <td>720e0a99-fe07-4824-a734-ac40544f633f</td>\n",
       "      <td>1.239</td>\n",
       "      <td>1.459</td>\n",
       "      <td>1.439</td>\n",
       "      <td>Wednesday</td>\n",
       "      <td>720e0a99-fe07-4824-a734-ac40544f633f</td>\n",
       "      <td>Aral Tankstelle</td>\n",
       "      <td>ARAL</td>\n",
       "      <td>Wolfsburger Straße</td>\n",
       "      <td>Weyhausen</td>\n",
       "      <td>52.462612</td>\n",
       "      <td>10.718878</td>\n",
       "      <td>24</td>\n",
       "      <td>38554</td>\n",
       "      <td>2020Q1</td>\n",
       "    </tr>\n",
       "    <tr>\n",
       "      <th>2020-02-05 10:24:08+00:00</th>\n",
       "      <td>2020-02-05 10:24:08+00:00</td>\n",
       "      <td>ada9f055-b84a-4873-848c-9f25e084ae93</td>\n",
       "      <td>1.229</td>\n",
       "      <td>1.439</td>\n",
       "      <td>1.419</td>\n",
       "      <td>Wednesday</td>\n",
       "      <td>ada9f055-b84a-4873-848c-9f25e084ae93</td>\n",
       "      <td>Aral Tankstelle</td>\n",
       "      <td>ARAL</td>\n",
       "      <td>Löhrstraße</td>\n",
       "      <td>Haiger</td>\n",
       "      <td>50.741590</td>\n",
       "      <td>8.207649</td>\n",
       "      <td>6.0</td>\n",
       "      <td>35708</td>\n",
       "      <td>2020Q1</td>\n",
       "    </tr>\n",
       "    <tr>\n",
       "      <th>2020-02-05 10:54:07+00:00</th>\n",
       "      <td>2020-02-05 10:54:07+00:00</td>\n",
       "      <td>ada9f055-b84a-4873-848c-9f25e084ae93</td>\n",
       "      <td>1.229</td>\n",
       "      <td>1.399</td>\n",
       "      <td>1.379</td>\n",
       "      <td>Wednesday</td>\n",
       "      <td>ada9f055-b84a-4873-848c-9f25e084ae93</td>\n",
       "      <td>Aral Tankstelle</td>\n",
       "      <td>ARAL</td>\n",
       "      <td>Löhrstraße</td>\n",
       "      <td>Haiger</td>\n",
       "      <td>50.741590</td>\n",
       "      <td>8.207649</td>\n",
       "      <td>6.0</td>\n",
       "      <td>35708</td>\n",
       "      <td>2020Q1</td>\n",
       "    </tr>\n",
       "    <tr>\n",
       "      <th>2020-02-05 10:20:06+00:00</th>\n",
       "      <td>2020-02-05 10:20:06+00:00</td>\n",
       "      <td>551a96b8-9cc1-4726-9279-acfecf1e228b</td>\n",
       "      <td>1.279</td>\n",
       "      <td>1.469</td>\n",
       "      <td>1.449</td>\n",
       "      <td>Wednesday</td>\n",
       "      <td>551a96b8-9cc1-4726-9279-acfecf1e228b</td>\n",
       "      <td>Aral Tankstelle</td>\n",
       "      <td>ARAL</td>\n",
       "      <td>Hinterm Hagen</td>\n",
       "      <td>Wolfsburg</td>\n",
       "      <td>52.419117</td>\n",
       "      <td>10.721299</td>\n",
       "      <td>21</td>\n",
       "      <td>38442</td>\n",
       "      <td>2020Q1</td>\n",
       "    </tr>\n",
       "    <tr>\n",
       "      <th>2020-02-05 10:28:06+00:00</th>\n",
       "      <td>2020-02-05 10:28:06+00:00</td>\n",
       "      <td>551a96b8-9cc1-4726-9279-acfecf1e228b</td>\n",
       "      <td>1.249</td>\n",
       "      <td>1.469</td>\n",
       "      <td>1.449</td>\n",
       "      <td>Wednesday</td>\n",
       "      <td>551a96b8-9cc1-4726-9279-acfecf1e228b</td>\n",
       "      <td>Aral Tankstelle</td>\n",
       "      <td>ARAL</td>\n",
       "      <td>Hinterm Hagen</td>\n",
       "      <td>Wolfsburg</td>\n",
       "      <td>52.419117</td>\n",
       "      <td>10.721299</td>\n",
       "      <td>21</td>\n",
       "      <td>38442</td>\n",
       "      <td>2020Q1</td>\n",
       "    </tr>\n",
       "    <tr>\n",
       "      <th>2020-02-05 10:53:07+00:00</th>\n",
       "      <td>2020-02-05 10:53:07+00:00</td>\n",
       "      <td>551a96b8-9cc1-4726-9279-acfecf1e228b</td>\n",
       "      <td>1.249</td>\n",
       "      <td>1.459</td>\n",
       "      <td>1.439</td>\n",
       "      <td>Wednesday</td>\n",
       "      <td>551a96b8-9cc1-4726-9279-acfecf1e228b</td>\n",
       "      <td>Aral Tankstelle</td>\n",
       "      <td>ARAL</td>\n",
       "      <td>Hinterm Hagen</td>\n",
       "      <td>Wolfsburg</td>\n",
       "      <td>52.419117</td>\n",
       "      <td>10.721299</td>\n",
       "      <td>21</td>\n",
       "      <td>38442</td>\n",
       "      <td>2020Q1</td>\n",
       "    </tr>\n",
       "    <tr>\n",
       "      <th>2020-02-05 10:08:06+00:00</th>\n",
       "      <td>2020-02-05 10:08:06+00:00</td>\n",
       "      <td>a82eaf56-e326-1466-e100-00000630df04</td>\n",
       "      <td>1.259</td>\n",
       "      <td>1.479</td>\n",
       "      <td>1.459</td>\n",
       "      <td>Wednesday</td>\n",
       "      <td>a82eaf56-e326-1466-e100-00000630df04</td>\n",
       "      <td>ENI</td>\n",
       "      <td>Agip</td>\n",
       "      <td>Hohleichenrain</td>\n",
       "      <td>Haiger</td>\n",
       "      <td>50.742459</td>\n",
       "      <td>8.221910</td>\n",
       "      <td>8.0</td>\n",
       "      <td>35708</td>\n",
       "      <td>2020Q1</td>\n",
       "    </tr>\n",
       "    <tr>\n",
       "      <th>2020-02-05 10:17:07+00:00</th>\n",
       "      <td>2020-02-05 10:17:07+00:00</td>\n",
       "      <td>a82eaf56-e326-1466-e100-00000630df04</td>\n",
       "      <td>1.229</td>\n",
       "      <td>1.449</td>\n",
       "      <td>1.429</td>\n",
       "      <td>Wednesday</td>\n",
       "      <td>a82eaf56-e326-1466-e100-00000630df04</td>\n",
       "      <td>ENI</td>\n",
       "      <td>Agip</td>\n",
       "      <td>Hohleichenrain</td>\n",
       "      <td>Haiger</td>\n",
       "      <td>50.742459</td>\n",
       "      <td>8.221910</td>\n",
       "      <td>8.0</td>\n",
       "      <td>35708</td>\n",
       "      <td>2020Q1</td>\n",
       "    </tr>\n",
       "    <tr>\n",
       "      <th>2020-02-05 10:38:06+00:00</th>\n",
       "      <td>2020-02-05 10:38:06+00:00</td>\n",
       "      <td>a82eaf56-e326-1466-e100-00000630df04</td>\n",
       "      <td>1.229</td>\n",
       "      <td>1.399</td>\n",
       "      <td>1.379</td>\n",
       "      <td>Wednesday</td>\n",
       "      <td>a82eaf56-e326-1466-e100-00000630df04</td>\n",
       "      <td>ENI</td>\n",
       "      <td>Agip</td>\n",
       "      <td>Hohleichenrain</td>\n",
       "      <td>Haiger</td>\n",
       "      <td>50.742459</td>\n",
       "      <td>8.221910</td>\n",
       "      <td>8.0</td>\n",
       "      <td>35708</td>\n",
       "      <td>2020Q1</td>\n",
       "    </tr>\n",
       "    <tr>\n",
       "      <th>2020-02-05 10:22:08+00:00</th>\n",
       "      <td>2020-02-05 10:22:08+00:00</td>\n",
       "      <td>42f01e8b-ec07-4844-a39d-8b75a525d90b</td>\n",
       "      <td>1.279</td>\n",
       "      <td>1.469</td>\n",
       "      <td>1.449</td>\n",
       "      <td>Wednesday</td>\n",
       "      <td>42f01e8b-ec07-4844-a39d-8b75a525d90b</td>\n",
       "      <td>Aral Tankstelle</td>\n",
       "      <td>ARAL</td>\n",
       "      <td>Wolfsburger Straße</td>\n",
       "      <td>Wolfsburg</td>\n",
       "      <td>52.438274</td>\n",
       "      <td>10.830319</td>\n",
       "      <td>41</td>\n",
       "      <td>38448</td>\n",
       "      <td>2020Q1</td>\n",
       "    </tr>\n",
       "    <tr>\n",
       "      <th>2020-02-05 10:59:07+00:00</th>\n",
       "      <td>2020-02-05 10:59:07+00:00</td>\n",
       "      <td>42f01e8b-ec07-4844-a39d-8b75a525d90b</td>\n",
       "      <td>1.269</td>\n",
       "      <td>1.459</td>\n",
       "      <td>1.439</td>\n",
       "      <td>Wednesday</td>\n",
       "      <td>42f01e8b-ec07-4844-a39d-8b75a525d90b</td>\n",
       "      <td>Aral Tankstelle</td>\n",
       "      <td>ARAL</td>\n",
       "      <td>Wolfsburger Straße</td>\n",
       "      <td>Wolfsburg</td>\n",
       "      <td>52.438274</td>\n",
       "      <td>10.830319</td>\n",
       "      <td>41</td>\n",
       "      <td>38448</td>\n",
       "      <td>2020Q1</td>\n",
       "    </tr>\n",
       "    <tr>\n",
       "      <th>2020-02-05 10:24:08+00:00</th>\n",
       "      <td>2020-02-05 10:24:08+00:00</td>\n",
       "      <td>014ad61d-37f1-4efc-9e3e-e54c3650ea77</td>\n",
       "      <td>1.299</td>\n",
       "      <td>1.479</td>\n",
       "      <td>1.459</td>\n",
       "      <td>Wednesday</td>\n",
       "      <td>014ad61d-37f1-4efc-9e3e-e54c3650ea77</td>\n",
       "      <td>Aral Tankstelle</td>\n",
       "      <td>ARAL</td>\n",
       "      <td>Heinr.-Nordhoff-Str.</td>\n",
       "      <td>Wolfsburg</td>\n",
       "      <td>52.427197</td>\n",
       "      <td>10.771580</td>\n",
       "      <td>117</td>\n",
       "      <td>38440</td>\n",
       "      <td>2020Q1</td>\n",
       "    </tr>\n",
       "    <tr>\n",
       "      <th>2020-02-05 10:45:07+00:00</th>\n",
       "      <td>2020-02-05 10:45:07+00:00</td>\n",
       "      <td>014ad61d-37f1-4efc-9e3e-e54c3650ea77</td>\n",
       "      <td>1.289</td>\n",
       "      <td>1.469</td>\n",
       "      <td>1.449</td>\n",
       "      <td>Wednesday</td>\n",
       "      <td>014ad61d-37f1-4efc-9e3e-e54c3650ea77</td>\n",
       "      <td>Aral Tankstelle</td>\n",
       "      <td>ARAL</td>\n",
       "      <td>Heinr.-Nordhoff-Str.</td>\n",
       "      <td>Wolfsburg</td>\n",
       "      <td>52.427197</td>\n",
       "      <td>10.771580</td>\n",
       "      <td>117</td>\n",
       "      <td>38440</td>\n",
       "      <td>2020Q1</td>\n",
       "    </tr>\n",
       "    <tr>\n",
       "      <th>2020-02-05 10:24:08+00:00</th>\n",
       "      <td>2020-02-05 10:24:08+00:00</td>\n",
       "      <td>515dcbdd-f9de-48b1-8828-00d64b7a118e</td>\n",
       "      <td>1.199</td>\n",
       "      <td>1.399</td>\n",
       "      <td>1.379</td>\n",
       "      <td>Wednesday</td>\n",
       "      <td>515dcbdd-f9de-48b1-8828-00d64b7a118e</td>\n",
       "      <td>Aral Tankstelle</td>\n",
       "      <td>ARAL</td>\n",
       "      <td>Kasseler Straße</td>\n",
       "      <td>Dillenburg</td>\n",
       "      <td>50.749954</td>\n",
       "      <td>8.276847</td>\n",
       "      <td>32.0</td>\n",
       "      <td>35683</td>\n",
       "      <td>2020Q1</td>\n",
       "    </tr>\n",
       "    <tr>\n",
       "      <th>2020-02-05 10:59:07+00:00</th>\n",
       "      <td>2020-02-05 10:59:07+00:00</td>\n",
       "      <td>515dcbdd-f9de-48b1-8828-00d64b7a118e</td>\n",
       "      <td>1.199</td>\n",
       "      <td>1.389</td>\n",
       "      <td>1.369</td>\n",
       "      <td>Wednesday</td>\n",
       "      <td>515dcbdd-f9de-48b1-8828-00d64b7a118e</td>\n",
       "      <td>Aral Tankstelle</td>\n",
       "      <td>ARAL</td>\n",
       "      <td>Kasseler Straße</td>\n",
       "      <td>Dillenburg</td>\n",
       "      <td>50.749954</td>\n",
       "      <td>8.276847</td>\n",
       "      <td>32.0</td>\n",
       "      <td>35683</td>\n",
       "      <td>2020Q1</td>\n",
       "    </tr>\n",
       "    <tr>\n",
       "      <th>2020-02-05 10:24:08+00:00</th>\n",
       "      <td>2020-02-05 10:24:08+00:00</td>\n",
       "      <td>ce780245-3e31-458f-b8dc-aa87bf67a166</td>\n",
       "      <td>1.299</td>\n",
       "      <td>1.459</td>\n",
       "      <td>1.439</td>\n",
       "      <td>Wednesday</td>\n",
       "      <td>ce780245-3e31-458f-b8dc-aa87bf67a166</td>\n",
       "      <td>Aral Tankstelle</td>\n",
       "      <td>ARAL</td>\n",
       "      <td>Wetzlarer Straße</td>\n",
       "      <td>Netphen</td>\n",
       "      <td>50.862038</td>\n",
       "      <td>8.200172</td>\n",
       "      <td>32.0</td>\n",
       "      <td>57250</td>\n",
       "      <td>2020Q1</td>\n",
       "    </tr>\n",
       "    <tr>\n",
       "      <th>2020-02-05 10:37:05+00:00</th>\n",
       "      <td>2020-02-05 10:37:05+00:00</td>\n",
       "      <td>ce780245-3e31-458f-b8dc-aa87bf67a166</td>\n",
       "      <td>1.209</td>\n",
       "      <td>1.369</td>\n",
       "      <td>1.349</td>\n",
       "      <td>Wednesday</td>\n",
       "      <td>ce780245-3e31-458f-b8dc-aa87bf67a166</td>\n",
       "      <td>Aral Tankstelle</td>\n",
       "      <td>ARAL</td>\n",
       "      <td>Wetzlarer Straße</td>\n",
       "      <td>Netphen</td>\n",
       "      <td>50.862038</td>\n",
       "      <td>8.200172</td>\n",
       "      <td>32.0</td>\n",
       "      <td>57250</td>\n",
       "      <td>2020Q1</td>\n",
       "    </tr>\n",
       "    <tr>\n",
       "      <th>2020-02-05 10:53:07+00:00</th>\n",
       "      <td>2020-02-05 10:53:07+00:00</td>\n",
       "      <td>ce780245-3e31-458f-b8dc-aa87bf67a166</td>\n",
       "      <td>1.189</td>\n",
       "      <td>1.349</td>\n",
       "      <td>1.329</td>\n",
       "      <td>Wednesday</td>\n",
       "      <td>ce780245-3e31-458f-b8dc-aa87bf67a166</td>\n",
       "      <td>Aral Tankstelle</td>\n",
       "      <td>ARAL</td>\n",
       "      <td>Wetzlarer Straße</td>\n",
       "      <td>Netphen</td>\n",
       "      <td>50.862038</td>\n",
       "      <td>8.200172</td>\n",
       "      <td>32.0</td>\n",
       "      <td>57250</td>\n",
       "      <td>2020Q1</td>\n",
       "    </tr>\n",
       "    <tr>\n",
       "      <th>2020-02-05 10:01:05+00:00</th>\n",
       "      <td>2020-02-05 10:01:05+00:00</td>\n",
       "      <td>aa842438-c80d-46c1-828f-2cadb756d016</td>\n",
       "      <td>1.219</td>\n",
       "      <td>1.439</td>\n",
       "      <td>1.419</td>\n",
       "      <td>Wednesday</td>\n",
       "      <td>aa842438-c80d-46c1-828f-2cadb756d016</td>\n",
       "      <td>Tankstelle Ewersbach</td>\n",
       "      <td>Roth- Energie</td>\n",
       "      <td>Hauptstr.</td>\n",
       "      <td>Dietzhölztal</td>\n",
       "      <td>50.835240</td>\n",
       "      <td>8.306400</td>\n",
       "      <td>156.0</td>\n",
       "      <td>35716</td>\n",
       "      <td>2020Q1</td>\n",
       "    </tr>\n",
       "    <tr>\n",
       "      <th>2020-02-05 10:35:07+00:00</th>\n",
       "      <td>2020-02-05 10:35:07+00:00</td>\n",
       "      <td>aa842438-c80d-46c1-828f-2cadb756d016</td>\n",
       "      <td>1.219</td>\n",
       "      <td>1.399</td>\n",
       "      <td>1.379</td>\n",
       "      <td>Wednesday</td>\n",
       "      <td>aa842438-c80d-46c1-828f-2cadb756d016</td>\n",
       "      <td>Tankstelle Ewersbach</td>\n",
       "      <td>Roth- Energie</td>\n",
       "      <td>Hauptstr.</td>\n",
       "      <td>Dietzhölztal</td>\n",
       "      <td>50.835240</td>\n",
       "      <td>8.306400</td>\n",
       "      <td>156.0</td>\n",
       "      <td>35716</td>\n",
       "      <td>2020Q1</td>\n",
       "    </tr>\n",
       "    <tr>\n",
       "      <th>2020-02-05 10:39:07+00:00</th>\n",
       "      <td>2020-02-05 10:39:07+00:00</td>\n",
       "      <td>aa842438-c80d-46c1-828f-2cadb756d016</td>\n",
       "      <td>1.219</td>\n",
       "      <td>1.389</td>\n",
       "      <td>1.369</td>\n",
       "      <td>Wednesday</td>\n",
       "      <td>aa842438-c80d-46c1-828f-2cadb756d016</td>\n",
       "      <td>Tankstelle Ewersbach</td>\n",
       "      <td>Roth- Energie</td>\n",
       "      <td>Hauptstr.</td>\n",
       "      <td>Dietzhölztal</td>\n",
       "      <td>50.835240</td>\n",
       "      <td>8.306400</td>\n",
       "      <td>156.0</td>\n",
       "      <td>35716</td>\n",
       "      <td>2020Q1</td>\n",
       "    </tr>\n",
       "    <tr>\n",
       "      <th>2020-02-05 10:53:07+00:00</th>\n",
       "      <td>2020-02-05 10:53:07+00:00</td>\n",
       "      <td>aa842438-c80d-46c1-828f-2cadb756d016</td>\n",
       "      <td>1.189</td>\n",
       "      <td>1.389</td>\n",
       "      <td>1.369</td>\n",
       "      <td>Wednesday</td>\n",
       "      <td>aa842438-c80d-46c1-828f-2cadb756d016</td>\n",
       "      <td>Tankstelle Ewersbach</td>\n",
       "      <td>Roth- Energie</td>\n",
       "      <td>Hauptstr.</td>\n",
       "      <td>Dietzhölztal</td>\n",
       "      <td>50.835240</td>\n",
       "      <td>8.306400</td>\n",
       "      <td>156.0</td>\n",
       "      <td>35716</td>\n",
       "      <td>2020Q1</td>\n",
       "    </tr>\n",
       "    <tr>\n",
       "      <th>2020-02-05 10:01:05+00:00</th>\n",
       "      <td>2020-02-05 10:01:05+00:00</td>\n",
       "      <td>aa842438-c80d-46c1-828f-2cadb756d015</td>\n",
       "      <td>1.219</td>\n",
       "      <td>1.439</td>\n",
       "      <td>1.419</td>\n",
       "      <td>Wednesday</td>\n",
       "      <td>aa842438-c80d-46c1-828f-2cadb756d015</td>\n",
       "      <td>Tankstelle Eibelshausen</td>\n",
       "      <td>Roth- Energie</td>\n",
       "      <td>Eiershäuser Str.</td>\n",
       "      <td>Eibelshausen</td>\n",
       "      <td>50.807330</td>\n",
       "      <td>8.349060</td>\n",
       "      <td>49.0</td>\n",
       "      <td>35713</td>\n",
       "      <td>2020Q1</td>\n",
       "    </tr>\n",
       "    <tr>\n",
       "      <th>2020-02-05 10:35:07+00:00</th>\n",
       "      <td>2020-02-05 10:35:07+00:00</td>\n",
       "      <td>aa842438-c80d-46c1-828f-2cadb756d015</td>\n",
       "      <td>1.219</td>\n",
       "      <td>1.399</td>\n",
       "      <td>1.379</td>\n",
       "      <td>Wednesday</td>\n",
       "      <td>aa842438-c80d-46c1-828f-2cadb756d015</td>\n",
       "      <td>Tankstelle Eibelshausen</td>\n",
       "      <td>Roth- Energie</td>\n",
       "      <td>Eiershäuser Str.</td>\n",
       "      <td>Eibelshausen</td>\n",
       "      <td>50.807330</td>\n",
       "      <td>8.349060</td>\n",
       "      <td>49.0</td>\n",
       "      <td>35713</td>\n",
       "      <td>2020Q1</td>\n",
       "    </tr>\n",
       "    <tr>\n",
       "      <th>2020-02-05 10:39:07+00:00</th>\n",
       "      <td>2020-02-05 10:39:07+00:00</td>\n",
       "      <td>aa842438-c80d-46c1-828f-2cadb756d015</td>\n",
       "      <td>1.219</td>\n",
       "      <td>1.389</td>\n",
       "      <td>1.369</td>\n",
       "      <td>Wednesday</td>\n",
       "      <td>aa842438-c80d-46c1-828f-2cadb756d015</td>\n",
       "      <td>Tankstelle Eibelshausen</td>\n",
       "      <td>Roth- Energie</td>\n",
       "      <td>Eiershäuser Str.</td>\n",
       "      <td>Eibelshausen</td>\n",
       "      <td>50.807330</td>\n",
       "      <td>8.349060</td>\n",
       "      <td>49.0</td>\n",
       "      <td>35713</td>\n",
       "      <td>2020Q1</td>\n",
       "    </tr>\n",
       "    <tr>\n",
       "      <th>2020-02-05 10:53:07+00:00</th>\n",
       "      <td>2020-02-05 10:53:07+00:00</td>\n",
       "      <td>aa842438-c80d-46c1-828f-2cadb756d015</td>\n",
       "      <td>1.189</td>\n",
       "      <td>1.389</td>\n",
       "      <td>1.369</td>\n",
       "      <td>Wednesday</td>\n",
       "      <td>aa842438-c80d-46c1-828f-2cadb756d015</td>\n",
       "      <td>Tankstelle Eibelshausen</td>\n",
       "      <td>Roth- Energie</td>\n",
       "      <td>Eiershäuser Str.</td>\n",
       "      <td>Eibelshausen</td>\n",
       "      <td>50.807330</td>\n",
       "      <td>8.349060</td>\n",
       "      <td>49.0</td>\n",
       "      <td>35713</td>\n",
       "      <td>2020Q1</td>\n",
       "    </tr>\n",
       "    <tr>\n",
       "      <th>2020-02-05 10:11:07+00:00</th>\n",
       "      <td>2020-02-05 10:11:07+00:00</td>\n",
       "      <td>aa842438-c80d-46c1-828f-2cadb756d017</td>\n",
       "      <td>1.229</td>\n",
       "      <td>1.449</td>\n",
       "      <td>1.429</td>\n",
       "      <td>Wednesday</td>\n",
       "      <td>aa842438-c80d-46c1-828f-2cadb756d017</td>\n",
       "      <td>Tankstelle Haiger</td>\n",
       "      <td>Roth- Energie</td>\n",
       "      <td>Rodenbacher Straße.</td>\n",
       "      <td>Haiger</td>\n",
       "      <td>50.746020</td>\n",
       "      <td>8.202350</td>\n",
       "      <td>19.0</td>\n",
       "      <td>35708</td>\n",
       "      <td>2020Q1</td>\n",
       "    </tr>\n",
       "    <tr>\n",
       "      <th>2020-02-05 10:35:07+00:00</th>\n",
       "      <td>2020-02-05 10:35:07+00:00</td>\n",
       "      <td>aa842438-c80d-46c1-828f-2cadb756d017</td>\n",
       "      <td>1.229</td>\n",
       "      <td>1.399</td>\n",
       "      <td>1.379</td>\n",
       "      <td>Wednesday</td>\n",
       "      <td>aa842438-c80d-46c1-828f-2cadb756d017</td>\n",
       "      <td>Tankstelle Haiger</td>\n",
       "      <td>Roth- Energie</td>\n",
       "      <td>Rodenbacher Straße.</td>\n",
       "      <td>Haiger</td>\n",
       "      <td>50.746020</td>\n",
       "      <td>8.202350</td>\n",
       "      <td>19.0</td>\n",
       "      <td>35708</td>\n",
       "      <td>2020Q1</td>\n",
       "    </tr>\n",
       "    <tr>\n",
       "      <th>2020-02-05 10:59:07+00:00</th>\n",
       "      <td>2020-02-05 10:59:07+00:00</td>\n",
       "      <td>aa842438-c80d-46c1-828f-2cadb756d017</td>\n",
       "      <td>1.199</td>\n",
       "      <td>1.399</td>\n",
       "      <td>1.379</td>\n",
       "      <td>Wednesday</td>\n",
       "      <td>aa842438-c80d-46c1-828f-2cadb756d017</td>\n",
       "      <td>Tankstelle Haiger</td>\n",
       "      <td>Roth- Energie</td>\n",
       "      <td>Rodenbacher Straße.</td>\n",
       "      <td>Haiger</td>\n",
       "      <td>50.746020</td>\n",
       "      <td>8.202350</td>\n",
       "      <td>19.0</td>\n",
       "      <td>35708</td>\n",
       "      <td>2020Q1</td>\n",
       "    </tr>\n",
       "    <tr>\n",
       "      <th>2020-02-05 10:03:08+00:00</th>\n",
       "      <td>2020-02-05 10:03:08+00:00</td>\n",
       "      <td>005056ba-7cb6-1ed2-bceb-678c687b4d1f</td>\n",
       "      <td>1.259</td>\n",
       "      <td>1.449</td>\n",
       "      <td>1.429</td>\n",
       "      <td>Wednesday</td>\n",
       "      <td>005056ba-7cb6-1ed2-bceb-678c687b4d1f</td>\n",
       "      <td>star Tankstelle</td>\n",
       "      <td>STAR</td>\n",
       "      <td>Vorsfelder Straße</td>\n",
       "      <td>Velpke</td>\n",
       "      <td>52.409488</td>\n",
       "      <td>10.932190</td>\n",
       "      <td>9</td>\n",
       "      <td>38458</td>\n",
       "      <td>2020Q1</td>\n",
       "    </tr>\n",
       "    <tr>\n",
       "      <th>2020-02-05 10:53:07+00:00</th>\n",
       "      <td>2020-02-05 10:53:07+00:00</td>\n",
       "      <td>005056ba-7cb6-1ed2-bceb-678c687b4d1f</td>\n",
       "      <td>1.219</td>\n",
       "      <td>1.429</td>\n",
       "      <td>1.409</td>\n",
       "      <td>Wednesday</td>\n",
       "      <td>005056ba-7cb6-1ed2-bceb-678c687b4d1f</td>\n",
       "      <td>star Tankstelle</td>\n",
       "      <td>STAR</td>\n",
       "      <td>Vorsfelder Straße</td>\n",
       "      <td>Velpke</td>\n",
       "      <td>52.409488</td>\n",
       "      <td>10.932190</td>\n",
       "      <td>9</td>\n",
       "      <td>38458</td>\n",
       "      <td>2020Q1</td>\n",
       "    </tr>\n",
       "    <tr>\n",
       "      <th>2020-02-05 10:22:08+00:00</th>\n",
       "      <td>2020-02-05 10:22:08+00:00</td>\n",
       "      <td>a7890dd5-3d45-4d37-823a-e68225308e10</td>\n",
       "      <td>1.279</td>\n",
       "      <td>1.469</td>\n",
       "      <td>1.449</td>\n",
       "      <td>Wednesday</td>\n",
       "      <td>a7890dd5-3d45-4d37-823a-e68225308e10</td>\n",
       "      <td>Esso Tankstelle</td>\n",
       "      <td>ESSO</td>\n",
       "      <td>BERLINER RING 10</td>\n",
       "      <td>WOLFSBURG</td>\n",
       "      <td>52.425840</td>\n",
       "      <td>10.797348</td>\n",
       "      <td>NaN</td>\n",
       "      <td>38440</td>\n",
       "      <td>2020Q1</td>\n",
       "    </tr>\n",
       "    <tr>\n",
       "      <th>2020-02-05 10:39:07+00:00</th>\n",
       "      <td>2020-02-05 10:39:07+00:00</td>\n",
       "      <td>005056ba-7cb6-1ed2-bceb-6e004fe9cd20</td>\n",
       "      <td>1.259</td>\n",
       "      <td>1.449</td>\n",
       "      <td>1.429</td>\n",
       "      <td>Wednesday</td>\n",
       "      <td>005056ba-7cb6-1ed2-bceb-6e004fe9cd20</td>\n",
       "      <td>star Tankstelle</td>\n",
       "      <td>STAR</td>\n",
       "      <td>Viehtrift</td>\n",
       "      <td>Wolfsburg</td>\n",
       "      <td>52.420299</td>\n",
       "      <td>10.711243</td>\n",
       "      <td>18</td>\n",
       "      <td>38442</td>\n",
       "      <td>2020Q1</td>\n",
       "    </tr>\n",
       "    <tr>\n",
       "      <th>2020-02-05 10:43:08+00:00</th>\n",
       "      <td>2020-02-05 10:43:08+00:00</td>\n",
       "      <td>005056ba-7cb6-1ed2-bceb-6e004fe9cd20</td>\n",
       "      <td>1.229</td>\n",
       "      <td>1.449</td>\n",
       "      <td>1.429</td>\n",
       "      <td>Wednesday</td>\n",
       "      <td>005056ba-7cb6-1ed2-bceb-6e004fe9cd20</td>\n",
       "      <td>star Tankstelle</td>\n",
       "      <td>STAR</td>\n",
       "      <td>Viehtrift</td>\n",
       "      <td>Wolfsburg</td>\n",
       "      <td>52.420299</td>\n",
       "      <td>10.711243</td>\n",
       "      <td>18</td>\n",
       "      <td>38442</td>\n",
       "      <td>2020Q1</td>\n",
       "    </tr>\n",
       "    <tr>\n",
       "      <th>2020-02-05 10:05:05+00:00</th>\n",
       "      <td>2020-02-05 10:05:05+00:00</td>\n",
       "      <td>fc549e08-daf7-4dd1-8cf0-49cbf3f0bb92</td>\n",
       "      <td>1.229</td>\n",
       "      <td>1.459</td>\n",
       "      <td>1.439</td>\n",
       "      <td>Wednesday</td>\n",
       "      <td>fc549e08-daf7-4dd1-8cf0-49cbf3f0bb92</td>\n",
       "      <td>Bft Wolfsburg Breslauer Straße 221</td>\n",
       "      <td>bft</td>\n",
       "      <td>Breslauer Straße</td>\n",
       "      <td>Wolfsburg</td>\n",
       "      <td>52.416100</td>\n",
       "      <td>10.751700</td>\n",
       "      <td>221</td>\n",
       "      <td>38440</td>\n",
       "      <td>2020Q1</td>\n",
       "    </tr>\n",
       "    <tr>\n",
       "      <th>2020-02-05 10:36:04+00:00</th>\n",
       "      <td>2020-02-05 10:36:04+00:00</td>\n",
       "      <td>fc549e08-daf7-4dd1-8cf0-49cbf3f0bb92</td>\n",
       "      <td>1.229</td>\n",
       "      <td>1.449</td>\n",
       "      <td>1.429</td>\n",
       "      <td>Wednesday</td>\n",
       "      <td>fc549e08-daf7-4dd1-8cf0-49cbf3f0bb92</td>\n",
       "      <td>Bft Wolfsburg Breslauer Straße 221</td>\n",
       "      <td>bft</td>\n",
       "      <td>Breslauer Straße</td>\n",
       "      <td>Wolfsburg</td>\n",
       "      <td>52.416100</td>\n",
       "      <td>10.751700</td>\n",
       "      <td>221</td>\n",
       "      <td>38440</td>\n",
       "      <td>2020Q1</td>\n",
       "    </tr>\n",
       "    <tr>\n",
       "      <th>2020-02-05 10:18:08+00:00</th>\n",
       "      <td>2020-02-05 10:18:08+00:00</td>\n",
       "      <td>da6eedef-5964-4617-b0e5-4023ef3f2104</td>\n",
       "      <td>1.229</td>\n",
       "      <td>1.459</td>\n",
       "      <td>1.439</td>\n",
       "      <td>Wednesday</td>\n",
       "      <td>da6eedef-5964-4617-b0e5-4023ef3f2104</td>\n",
       "      <td>Sb Wolfsburg Hubertusstr. 8</td>\n",
       "      <td>SB</td>\n",
       "      <td>Hubertusstr.</td>\n",
       "      <td>Wolfsburg</td>\n",
       "      <td>52.451012</td>\n",
       "      <td>10.796250</td>\n",
       "      <td>8</td>\n",
       "      <td>38448</td>\n",
       "      <td>2020Q1</td>\n",
       "    </tr>\n",
       "    <tr>\n",
       "      <th>2020-02-05 10:52:08+00:00</th>\n",
       "      <td>2020-02-05 10:52:08+00:00</td>\n",
       "      <td>6f5f00c9-f3d2-11e9-b0e4-005056a2a083</td>\n",
       "      <td>1.229</td>\n",
       "      <td>1.449</td>\n",
       "      <td>1.429</td>\n",
       "      <td>Wednesday</td>\n",
       "      <td>6f5f00c9-f3d2-11e9-b0e4-005056a2a083</td>\n",
       "      <td>Wolfsburg</td>\n",
       "      <td>CLASSIC</td>\n",
       "      <td>Breslauer Straße</td>\n",
       "      <td>Wolfsburg</td>\n",
       "      <td>52.419180</td>\n",
       "      <td>10.754000</td>\n",
       "      <td>45</td>\n",
       "      <td>38440</td>\n",
       "      <td>2020Q1</td>\n",
       "    </tr>\n",
       "    <tr>\n",
       "      <th>2020-02-05 10:07:07+00:00</th>\n",
       "      <td>2020-02-05 10:07:07+00:00</td>\n",
       "      <td>49e6f3e8-55ce-40b7-8108-add0f2a2b126</td>\n",
       "      <td>1.219</td>\n",
       "      <td>1.389</td>\n",
       "      <td>1.369</td>\n",
       "      <td>Wednesday</td>\n",
       "      <td>49e6f3e8-55ce-40b7-8108-add0f2a2b126</td>\n",
       "      <td>Access Tankstelle Dillenburg</td>\n",
       "      <td>Access</td>\n",
       "      <td>Kasseler Str. B253</td>\n",
       "      <td>Dillenburg</td>\n",
       "      <td>50.749561</td>\n",
       "      <td>8.276969</td>\n",
       "      <td>NaN</td>\n",
       "      <td>35683</td>\n",
       "      <td>2020Q1</td>\n",
       "    </tr>\n",
       "    <tr>\n",
       "      <th>2020-02-05 10:27:05+00:00</th>\n",
       "      <td>2020-02-05 10:27:05+00:00</td>\n",
       "      <td>49e6f3e8-55ce-40b7-8108-add0f2a2b126</td>\n",
       "      <td>1.189</td>\n",
       "      <td>1.389</td>\n",
       "      <td>1.369</td>\n",
       "      <td>Wednesday</td>\n",
       "      <td>49e6f3e8-55ce-40b7-8108-add0f2a2b126</td>\n",
       "      <td>Access Tankstelle Dillenburg</td>\n",
       "      <td>Access</td>\n",
       "      <td>Kasseler Str. B253</td>\n",
       "      <td>Dillenburg</td>\n",
       "      <td>50.749561</td>\n",
       "      <td>8.276969</td>\n",
       "      <td>NaN</td>\n",
       "      <td>35683</td>\n",
       "      <td>2020Q1</td>\n",
       "    </tr>\n",
       "    <tr>\n",
       "      <th>2020-02-05 10:57:07+00:00</th>\n",
       "      <td>2020-02-05 10:57:07+00:00</td>\n",
       "      <td>49e6f3e8-55ce-40b7-8108-add0f2a2b126</td>\n",
       "      <td>1.179</td>\n",
       "      <td>1.389</td>\n",
       "      <td>1.369</td>\n",
       "      <td>Wednesday</td>\n",
       "      <td>49e6f3e8-55ce-40b7-8108-add0f2a2b126</td>\n",
       "      <td>Access Tankstelle Dillenburg</td>\n",
       "      <td>Access</td>\n",
       "      <td>Kasseler Str. B253</td>\n",
       "      <td>Dillenburg</td>\n",
       "      <td>50.749561</td>\n",
       "      <td>8.276969</td>\n",
       "      <td>NaN</td>\n",
       "      <td>35683</td>\n",
       "      <td>2020Q1</td>\n",
       "    </tr>\n",
       "    <tr>\n",
       "      <th>2020-02-05 10:30:06+00:00</th>\n",
       "      <td>2020-02-05 10:30:06+00:00</td>\n",
       "      <td>bd752d39-d09f-4851-b013-1537283ddeee</td>\n",
       "      <td>1.219</td>\n",
       "      <td>1.389</td>\n",
       "      <td>1.369</td>\n",
       "      <td>Wednesday</td>\n",
       "      <td>bd752d39-d09f-4851-b013-1537283ddeee</td>\n",
       "      <td>Wilhelm Claas GmbH</td>\n",
       "      <td>Wilhelm Claas GmbH</td>\n",
       "      <td>Auf der Langaar</td>\n",
       "      <td>Dillenburg</td>\n",
       "      <td>50.768900</td>\n",
       "      <td>8.293000</td>\n",
       "      <td>1.0</td>\n",
       "      <td>35684</td>\n",
       "      <td>2020Q1</td>\n",
       "    </tr>\n",
       "    <tr>\n",
       "      <th>2020-02-05 10:45:07+00:00</th>\n",
       "      <td>2020-02-05 10:45:07+00:00</td>\n",
       "      <td>bd752d39-d09f-4851-b013-1537283ddeee</td>\n",
       "      <td>1.189</td>\n",
       "      <td>1.389</td>\n",
       "      <td>1.369</td>\n",
       "      <td>Wednesday</td>\n",
       "      <td>bd752d39-d09f-4851-b013-1537283ddeee</td>\n",
       "      <td>Wilhelm Claas GmbH</td>\n",
       "      <td>Wilhelm Claas GmbH</td>\n",
       "      <td>Auf der Langaar</td>\n",
       "      <td>Dillenburg</td>\n",
       "      <td>50.768900</td>\n",
       "      <td>8.293000</td>\n",
       "      <td>1.0</td>\n",
       "      <td>35684</td>\n",
       "      <td>2020Q1</td>\n",
       "    </tr>\n",
       "    <tr>\n",
       "      <th>2020-02-05 10:21:05+00:00</th>\n",
       "      <td>2020-02-05 10:21:05+00:00</td>\n",
       "      <td>ad463e44-4c27-4c71-8292-7c70597b90aa</td>\n",
       "      <td>1.229</td>\n",
       "      <td>1.459</td>\n",
       "      <td>1.439</td>\n",
       "      <td>Wednesday</td>\n",
       "      <td>ad463e44-4c27-4c71-8292-7c70597b90aa</td>\n",
       "      <td>Freie Tankstelle Ehmen</td>\n",
       "      <td>Freie Tankstelle</td>\n",
       "      <td>Mörser Straße</td>\n",
       "      <td>Wolfsburg</td>\n",
       "      <td>52.393100</td>\n",
       "      <td>10.712000</td>\n",
       "      <td>82</td>\n",
       "      <td>38442</td>\n",
       "      <td>2020Q1</td>\n",
       "    </tr>\n",
       "    <tr>\n",
       "      <th>2020-02-05 10:51:05+00:00</th>\n",
       "      <td>2020-02-05 10:51:05+00:00</td>\n",
       "      <td>ad463e44-4c27-4c71-8292-7c70597b90aa</td>\n",
       "      <td>1.229</td>\n",
       "      <td>1.449</td>\n",
       "      <td>1.429</td>\n",
       "      <td>Wednesday</td>\n",
       "      <td>ad463e44-4c27-4c71-8292-7c70597b90aa</td>\n",
       "      <td>Freie Tankstelle Ehmen</td>\n",
       "      <td>Freie Tankstelle</td>\n",
       "      <td>Mörser Straße</td>\n",
       "      <td>Wolfsburg</td>\n",
       "      <td>52.393100</td>\n",
       "      <td>10.712000</td>\n",
       "      <td>82</td>\n",
       "      <td>38442</td>\n",
       "      <td>2020Q1</td>\n",
       "    </tr>\n",
       "    <tr>\n",
       "      <th>2020-02-05 10:01:05+00:00</th>\n",
       "      <td>2020-02-05 10:01:05+00:00</td>\n",
       "      <td>aa842438-c80d-46c1-828f-2cadb756d013</td>\n",
       "      <td>1.219</td>\n",
       "      <td>1.439</td>\n",
       "      <td>1.419</td>\n",
       "      <td>Wednesday</td>\n",
       "      <td>aa842438-c80d-46c1-828f-2cadb756d013</td>\n",
       "      <td>Tankstelle Dillenburg</td>\n",
       "      <td>Roth- Energie</td>\n",
       "      <td>Am Güterbahnhof Str.</td>\n",
       "      <td>Dillenburg</td>\n",
       "      <td>50.730980</td>\n",
       "      <td>8.294360</td>\n",
       "      <td>28.0</td>\n",
       "      <td>35683</td>\n",
       "      <td>2020Q1</td>\n",
       "    </tr>\n",
       "    <tr>\n",
       "      <th>2020-02-05 10:15:06+00:00</th>\n",
       "      <td>2020-02-05 10:15:06+00:00</td>\n",
       "      <td>aa842438-c80d-46c1-828f-2cadb756d013</td>\n",
       "      <td>1.219</td>\n",
       "      <td>1.409</td>\n",
       "      <td>1.389</td>\n",
       "      <td>Wednesday</td>\n",
       "      <td>aa842438-c80d-46c1-828f-2cadb756d013</td>\n",
       "      <td>Tankstelle Dillenburg</td>\n",
       "      <td>Roth- Energie</td>\n",
       "      <td>Am Güterbahnhof Str.</td>\n",
       "      <td>Dillenburg</td>\n",
       "      <td>50.730980</td>\n",
       "      <td>8.294360</td>\n",
       "      <td>28.0</td>\n",
       "      <td>35683</td>\n",
       "      <td>2020Q1</td>\n",
       "    </tr>\n",
       "    <tr>\n",
       "      <th>2020-02-05 10:33:07+00:00</th>\n",
       "      <td>2020-02-05 10:33:07+00:00</td>\n",
       "      <td>aa842438-c80d-46c1-828f-2cadb756d013</td>\n",
       "      <td>1.199</td>\n",
       "      <td>1.399</td>\n",
       "      <td>1.379</td>\n",
       "      <td>Wednesday</td>\n",
       "      <td>aa842438-c80d-46c1-828f-2cadb756d013</td>\n",
       "      <td>Tankstelle Dillenburg</td>\n",
       "      <td>Roth- Energie</td>\n",
       "      <td>Am Güterbahnhof Str.</td>\n",
       "      <td>Dillenburg</td>\n",
       "      <td>50.730980</td>\n",
       "      <td>8.294360</td>\n",
       "      <td>28.0</td>\n",
       "      <td>35683</td>\n",
       "      <td>2020Q1</td>\n",
       "    </tr>\n",
       "    <tr>\n",
       "      <th>2020-02-05 10:39:07+00:00</th>\n",
       "      <td>2020-02-05 10:39:07+00:00</td>\n",
       "      <td>aa842438-c80d-46c1-828f-2cadb756d013</td>\n",
       "      <td>1.199</td>\n",
       "      <td>1.389</td>\n",
       "      <td>1.369</td>\n",
       "      <td>Wednesday</td>\n",
       "      <td>aa842438-c80d-46c1-828f-2cadb756d013</td>\n",
       "      <td>Tankstelle Dillenburg</td>\n",
       "      <td>Roth- Energie</td>\n",
       "      <td>Am Güterbahnhof Str.</td>\n",
       "      <td>Dillenburg</td>\n",
       "      <td>50.730980</td>\n",
       "      <td>8.294360</td>\n",
       "      <td>28.0</td>\n",
       "      <td>35683</td>\n",
       "      <td>2020Q1</td>\n",
       "    </tr>\n",
       "    <tr>\n",
       "      <th>2020-02-05 10:53:07+00:00</th>\n",
       "      <td>2020-02-05 10:53:07+00:00</td>\n",
       "      <td>aa842438-c80d-46c1-828f-2cadb756d013</td>\n",
       "      <td>1.189</td>\n",
       "      <td>1.389</td>\n",
       "      <td>1.369</td>\n",
       "      <td>Wednesday</td>\n",
       "      <td>aa842438-c80d-46c1-828f-2cadb756d013</td>\n",
       "      <td>Tankstelle Dillenburg</td>\n",
       "      <td>Roth- Energie</td>\n",
       "      <td>Am Güterbahnhof Str.</td>\n",
       "      <td>Dillenburg</td>\n",
       "      <td>50.730980</td>\n",
       "      <td>8.294360</td>\n",
       "      <td>28.0</td>\n",
       "      <td>35683</td>\n",
       "      <td>2020Q1</td>\n",
       "    </tr>\n",
       "    <tr>\n",
       "      <th>2020-02-05 10:53:07+00:00</th>\n",
       "      <td>2020-02-05 10:53:07+00:00</td>\n",
       "      <td>e1a15081-254a-9107-e040-0b0a3dfe563c</td>\n",
       "      <td>0.000</td>\n",
       "      <td>1.449</td>\n",
       "      <td>1.429</td>\n",
       "      <td>Wednesday</td>\n",
       "      <td>e1a15081-254a-9107-e040-0b0a3dfe563c</td>\n",
       "      <td>Wolfsburg, Grauhorststr. 10</td>\n",
       "      <td>HEM</td>\n",
       "      <td>Grauhorststr.</td>\n",
       "      <td>Wolfsburg</td>\n",
       "      <td>52.423626</td>\n",
       "      <td>10.753604</td>\n",
       "      <td>10</td>\n",
       "      <td>38440</td>\n",
       "      <td>2020Q1</td>\n",
       "    </tr>\n",
       "    <tr>\n",
       "      <th>2020-02-05 10:39:07+00:00</th>\n",
       "      <td>2020-02-05 10:39:07+00:00</td>\n",
       "      <td>7ad1103c-70ad-4e0c-b203-83c89e47449a</td>\n",
       "      <td>1.259</td>\n",
       "      <td>1.449</td>\n",
       "      <td>1.429</td>\n",
       "      <td>Wednesday</td>\n",
       "      <td>7ad1103c-70ad-4e0c-b203-83c89e47449a</td>\n",
       "      <td>Tankstelle Reislingen Herr Rainer Dürkop</td>\n",
       "      <td>NaN</td>\n",
       "      <td>Sandkrugstraße</td>\n",
       "      <td>Wolfsburg</td>\n",
       "      <td>52.418840</td>\n",
       "      <td>10.846630</td>\n",
       "      <td>27</td>\n",
       "      <td>38446</td>\n",
       "      <td>2020Q1</td>\n",
       "    </tr>\n",
       "  </tbody>\n",
       "</table>\n",
       "</div>"
      ],
      "text/plain": [
       "                                               date  \\\n",
       "date                                                  \n",
       "2020-02-05 10:32:06+00:00 2020-02-05 10:32:06+00:00   \n",
       "2020-02-05 10:43:08+00:00 2020-02-05 10:43:08+00:00   \n",
       "2020-02-05 10:53:07+00:00 2020-02-05 10:53:07+00:00   \n",
       "2020-02-05 10:07:07+00:00 2020-02-05 10:07:07+00:00   \n",
       "2020-02-05 10:42:06+00:00 2020-02-05 10:42:06+00:00   \n",
       "2020-02-05 10:32:06+00:00 2020-02-05 10:32:06+00:00   \n",
       "2020-02-05 10:03:08+00:00 2020-02-05 10:03:08+00:00   \n",
       "2020-02-05 10:25:08+00:00 2020-02-05 10:25:08+00:00   \n",
       "2020-02-05 10:50:07+00:00 2020-02-05 10:50:07+00:00   \n",
       "2020-02-05 10:32:06+00:00 2020-02-05 10:32:06+00:00   \n",
       "2020-02-05 10:17:07+00:00 2020-02-05 10:17:07+00:00   \n",
       "2020-02-05 10:43:08+00:00 2020-02-05 10:43:08+00:00   \n",
       "2020-02-05 10:40:06+00:00 2020-02-05 10:40:06+00:00   \n",
       "2020-02-05 10:56:07+00:00 2020-02-05 10:56:07+00:00   \n",
       "2020-02-05 10:05:05+00:00 2020-02-05 10:05:05+00:00   \n",
       "2020-02-05 10:25:08+00:00 2020-02-05 10:25:08+00:00   \n",
       "2020-02-05 10:45:07+00:00 2020-02-05 10:45:07+00:00   \n",
       "2020-02-05 10:23:08+00:00 2020-02-05 10:23:08+00:00   \n",
       "2020-02-05 10:43:08+00:00 2020-02-05 10:43:08+00:00   \n",
       "2020-02-05 10:24:08+00:00 2020-02-05 10:24:08+00:00   \n",
       "2020-02-05 10:54:07+00:00 2020-02-05 10:54:07+00:00   \n",
       "2020-02-05 10:20:06+00:00 2020-02-05 10:20:06+00:00   \n",
       "2020-02-05 10:28:06+00:00 2020-02-05 10:28:06+00:00   \n",
       "2020-02-05 10:53:07+00:00 2020-02-05 10:53:07+00:00   \n",
       "2020-02-05 10:08:06+00:00 2020-02-05 10:08:06+00:00   \n",
       "2020-02-05 10:17:07+00:00 2020-02-05 10:17:07+00:00   \n",
       "2020-02-05 10:38:06+00:00 2020-02-05 10:38:06+00:00   \n",
       "2020-02-05 10:22:08+00:00 2020-02-05 10:22:08+00:00   \n",
       "2020-02-05 10:59:07+00:00 2020-02-05 10:59:07+00:00   \n",
       "2020-02-05 10:24:08+00:00 2020-02-05 10:24:08+00:00   \n",
       "2020-02-05 10:45:07+00:00 2020-02-05 10:45:07+00:00   \n",
       "2020-02-05 10:24:08+00:00 2020-02-05 10:24:08+00:00   \n",
       "2020-02-05 10:59:07+00:00 2020-02-05 10:59:07+00:00   \n",
       "2020-02-05 10:24:08+00:00 2020-02-05 10:24:08+00:00   \n",
       "2020-02-05 10:37:05+00:00 2020-02-05 10:37:05+00:00   \n",
       "2020-02-05 10:53:07+00:00 2020-02-05 10:53:07+00:00   \n",
       "2020-02-05 10:01:05+00:00 2020-02-05 10:01:05+00:00   \n",
       "2020-02-05 10:35:07+00:00 2020-02-05 10:35:07+00:00   \n",
       "2020-02-05 10:39:07+00:00 2020-02-05 10:39:07+00:00   \n",
       "2020-02-05 10:53:07+00:00 2020-02-05 10:53:07+00:00   \n",
       "2020-02-05 10:01:05+00:00 2020-02-05 10:01:05+00:00   \n",
       "2020-02-05 10:35:07+00:00 2020-02-05 10:35:07+00:00   \n",
       "2020-02-05 10:39:07+00:00 2020-02-05 10:39:07+00:00   \n",
       "2020-02-05 10:53:07+00:00 2020-02-05 10:53:07+00:00   \n",
       "2020-02-05 10:11:07+00:00 2020-02-05 10:11:07+00:00   \n",
       "2020-02-05 10:35:07+00:00 2020-02-05 10:35:07+00:00   \n",
       "2020-02-05 10:59:07+00:00 2020-02-05 10:59:07+00:00   \n",
       "2020-02-05 10:03:08+00:00 2020-02-05 10:03:08+00:00   \n",
       "2020-02-05 10:53:07+00:00 2020-02-05 10:53:07+00:00   \n",
       "2020-02-05 10:22:08+00:00 2020-02-05 10:22:08+00:00   \n",
       "2020-02-05 10:39:07+00:00 2020-02-05 10:39:07+00:00   \n",
       "2020-02-05 10:43:08+00:00 2020-02-05 10:43:08+00:00   \n",
       "2020-02-05 10:05:05+00:00 2020-02-05 10:05:05+00:00   \n",
       "2020-02-05 10:36:04+00:00 2020-02-05 10:36:04+00:00   \n",
       "2020-02-05 10:18:08+00:00 2020-02-05 10:18:08+00:00   \n",
       "2020-02-05 10:52:08+00:00 2020-02-05 10:52:08+00:00   \n",
       "2020-02-05 10:07:07+00:00 2020-02-05 10:07:07+00:00   \n",
       "2020-02-05 10:27:05+00:00 2020-02-05 10:27:05+00:00   \n",
       "2020-02-05 10:57:07+00:00 2020-02-05 10:57:07+00:00   \n",
       "2020-02-05 10:30:06+00:00 2020-02-05 10:30:06+00:00   \n",
       "2020-02-05 10:45:07+00:00 2020-02-05 10:45:07+00:00   \n",
       "2020-02-05 10:21:05+00:00 2020-02-05 10:21:05+00:00   \n",
       "2020-02-05 10:51:05+00:00 2020-02-05 10:51:05+00:00   \n",
       "2020-02-05 10:01:05+00:00 2020-02-05 10:01:05+00:00   \n",
       "2020-02-05 10:15:06+00:00 2020-02-05 10:15:06+00:00   \n",
       "2020-02-05 10:33:07+00:00 2020-02-05 10:33:07+00:00   \n",
       "2020-02-05 10:39:07+00:00 2020-02-05 10:39:07+00:00   \n",
       "2020-02-05 10:53:07+00:00 2020-02-05 10:53:07+00:00   \n",
       "2020-02-05 10:53:07+00:00 2020-02-05 10:53:07+00:00   \n",
       "2020-02-05 10:39:07+00:00 2020-02-05 10:39:07+00:00   \n",
       "\n",
       "                                                   station_uuid  diesel  \\\n",
       "date                                                                      \n",
       "2020-02-05 10:32:06+00:00  0b77096c-801b-4417-ac06-44ec8246b28b   1.289   \n",
       "2020-02-05 10:43:08+00:00  0b77096c-801b-4417-ac06-44ec8246b28b   1.279   \n",
       "2020-02-05 10:53:07+00:00  51d4b684-a095-1aa0-e100-80009459e03a   1.219   \n",
       "2020-02-05 10:07:07+00:00  b009c28a-6be3-49a5-8012-3db50637a5a1   1.199   \n",
       "2020-02-05 10:42:06+00:00  b009c28a-6be3-49a5-8012-3db50637a5a1   1.189   \n",
       "2020-02-05 10:32:06+00:00  66f8583b-127a-4298-9782-149a3a87dc30   1.279   \n",
       "2020-02-05 10:03:08+00:00  89540af1-abae-43ab-ab9a-e8151144d08e   1.229   \n",
       "2020-02-05 10:25:08+00:00  89540af1-abae-43ab-ab9a-e8151144d08e   1.229   \n",
       "2020-02-05 10:50:07+00:00  89540af1-abae-43ab-ab9a-e8151144d08e   1.199   \n",
       "2020-02-05 10:32:06+00:00  ad4f2ed6-c44e-4f8f-9ae6-a4ec955dfb60   1.279   \n",
       "2020-02-05 10:17:07+00:00  51a1160e-0a82-4179-99a7-09cd0d0c20b1   1.289   \n",
       "2020-02-05 10:43:08+00:00  51a1160e-0a82-4179-99a7-09cd0d0c20b1   1.279   \n",
       "2020-02-05 10:40:06+00:00  fb48f03e-c16e-435d-a845-6e235612f88f   1.299   \n",
       "2020-02-05 10:56:07+00:00  fb48f03e-c16e-435d-a845-6e235612f88f   1.279   \n",
       "2020-02-05 10:05:05+00:00  c7f10377-ac4b-4a53-8230-ef35a1636d67   1.229   \n",
       "2020-02-05 10:25:08+00:00  c7f10377-ac4b-4a53-8230-ef35a1636d67   1.229   \n",
       "2020-02-05 10:45:07+00:00  c7f10377-ac4b-4a53-8230-ef35a1636d67   1.199   \n",
       "2020-02-05 10:23:08+00:00  720e0a99-fe07-4824-a734-ac40544f633f   1.269   \n",
       "2020-02-05 10:43:08+00:00  720e0a99-fe07-4824-a734-ac40544f633f   1.239   \n",
       "2020-02-05 10:24:08+00:00  ada9f055-b84a-4873-848c-9f25e084ae93   1.229   \n",
       "2020-02-05 10:54:07+00:00  ada9f055-b84a-4873-848c-9f25e084ae93   1.229   \n",
       "2020-02-05 10:20:06+00:00  551a96b8-9cc1-4726-9279-acfecf1e228b   1.279   \n",
       "2020-02-05 10:28:06+00:00  551a96b8-9cc1-4726-9279-acfecf1e228b   1.249   \n",
       "2020-02-05 10:53:07+00:00  551a96b8-9cc1-4726-9279-acfecf1e228b   1.249   \n",
       "2020-02-05 10:08:06+00:00  a82eaf56-e326-1466-e100-00000630df04   1.259   \n",
       "2020-02-05 10:17:07+00:00  a82eaf56-e326-1466-e100-00000630df04   1.229   \n",
       "2020-02-05 10:38:06+00:00  a82eaf56-e326-1466-e100-00000630df04   1.229   \n",
       "2020-02-05 10:22:08+00:00  42f01e8b-ec07-4844-a39d-8b75a525d90b   1.279   \n",
       "2020-02-05 10:59:07+00:00  42f01e8b-ec07-4844-a39d-8b75a525d90b   1.269   \n",
       "2020-02-05 10:24:08+00:00  014ad61d-37f1-4efc-9e3e-e54c3650ea77   1.299   \n",
       "2020-02-05 10:45:07+00:00  014ad61d-37f1-4efc-9e3e-e54c3650ea77   1.289   \n",
       "2020-02-05 10:24:08+00:00  515dcbdd-f9de-48b1-8828-00d64b7a118e   1.199   \n",
       "2020-02-05 10:59:07+00:00  515dcbdd-f9de-48b1-8828-00d64b7a118e   1.199   \n",
       "2020-02-05 10:24:08+00:00  ce780245-3e31-458f-b8dc-aa87bf67a166   1.299   \n",
       "2020-02-05 10:37:05+00:00  ce780245-3e31-458f-b8dc-aa87bf67a166   1.209   \n",
       "2020-02-05 10:53:07+00:00  ce780245-3e31-458f-b8dc-aa87bf67a166   1.189   \n",
       "2020-02-05 10:01:05+00:00  aa842438-c80d-46c1-828f-2cadb756d016   1.219   \n",
       "2020-02-05 10:35:07+00:00  aa842438-c80d-46c1-828f-2cadb756d016   1.219   \n",
       "2020-02-05 10:39:07+00:00  aa842438-c80d-46c1-828f-2cadb756d016   1.219   \n",
       "2020-02-05 10:53:07+00:00  aa842438-c80d-46c1-828f-2cadb756d016   1.189   \n",
       "2020-02-05 10:01:05+00:00  aa842438-c80d-46c1-828f-2cadb756d015   1.219   \n",
       "2020-02-05 10:35:07+00:00  aa842438-c80d-46c1-828f-2cadb756d015   1.219   \n",
       "2020-02-05 10:39:07+00:00  aa842438-c80d-46c1-828f-2cadb756d015   1.219   \n",
       "2020-02-05 10:53:07+00:00  aa842438-c80d-46c1-828f-2cadb756d015   1.189   \n",
       "2020-02-05 10:11:07+00:00  aa842438-c80d-46c1-828f-2cadb756d017   1.229   \n",
       "2020-02-05 10:35:07+00:00  aa842438-c80d-46c1-828f-2cadb756d017   1.229   \n",
       "2020-02-05 10:59:07+00:00  aa842438-c80d-46c1-828f-2cadb756d017   1.199   \n",
       "2020-02-05 10:03:08+00:00  005056ba-7cb6-1ed2-bceb-678c687b4d1f   1.259   \n",
       "2020-02-05 10:53:07+00:00  005056ba-7cb6-1ed2-bceb-678c687b4d1f   1.219   \n",
       "2020-02-05 10:22:08+00:00  a7890dd5-3d45-4d37-823a-e68225308e10   1.279   \n",
       "2020-02-05 10:39:07+00:00  005056ba-7cb6-1ed2-bceb-6e004fe9cd20   1.259   \n",
       "2020-02-05 10:43:08+00:00  005056ba-7cb6-1ed2-bceb-6e004fe9cd20   1.229   \n",
       "2020-02-05 10:05:05+00:00  fc549e08-daf7-4dd1-8cf0-49cbf3f0bb92   1.229   \n",
       "2020-02-05 10:36:04+00:00  fc549e08-daf7-4dd1-8cf0-49cbf3f0bb92   1.229   \n",
       "2020-02-05 10:18:08+00:00  da6eedef-5964-4617-b0e5-4023ef3f2104   1.229   \n",
       "2020-02-05 10:52:08+00:00  6f5f00c9-f3d2-11e9-b0e4-005056a2a083   1.229   \n",
       "2020-02-05 10:07:07+00:00  49e6f3e8-55ce-40b7-8108-add0f2a2b126   1.219   \n",
       "2020-02-05 10:27:05+00:00  49e6f3e8-55ce-40b7-8108-add0f2a2b126   1.189   \n",
       "2020-02-05 10:57:07+00:00  49e6f3e8-55ce-40b7-8108-add0f2a2b126   1.179   \n",
       "2020-02-05 10:30:06+00:00  bd752d39-d09f-4851-b013-1537283ddeee   1.219   \n",
       "2020-02-05 10:45:07+00:00  bd752d39-d09f-4851-b013-1537283ddeee   1.189   \n",
       "2020-02-05 10:21:05+00:00  ad463e44-4c27-4c71-8292-7c70597b90aa   1.229   \n",
       "2020-02-05 10:51:05+00:00  ad463e44-4c27-4c71-8292-7c70597b90aa   1.229   \n",
       "2020-02-05 10:01:05+00:00  aa842438-c80d-46c1-828f-2cadb756d013   1.219   \n",
       "2020-02-05 10:15:06+00:00  aa842438-c80d-46c1-828f-2cadb756d013   1.219   \n",
       "2020-02-05 10:33:07+00:00  aa842438-c80d-46c1-828f-2cadb756d013   1.199   \n",
       "2020-02-05 10:39:07+00:00  aa842438-c80d-46c1-828f-2cadb756d013   1.199   \n",
       "2020-02-05 10:53:07+00:00  aa842438-c80d-46c1-828f-2cadb756d013   1.189   \n",
       "2020-02-05 10:53:07+00:00  e1a15081-254a-9107-e040-0b0a3dfe563c   0.000   \n",
       "2020-02-05 10:39:07+00:00  7ad1103c-70ad-4e0c-b203-83c89e47449a   1.259   \n",
       "\n",
       "                              e5    e10    weekday  \\\n",
       "date                                                 \n",
       "2020-02-05 10:32:06+00:00  1.469  1.449  Wednesday   \n",
       "2020-02-05 10:43:08+00:00  1.469  1.449  Wednesday   \n",
       "2020-02-05 10:53:07+00:00  1.429  1.409  Wednesday   \n",
       "2020-02-05 10:07:07+00:00  1.409  1.389  Wednesday   \n",
       "2020-02-05 10:42:06+00:00  1.399  1.379  Wednesday   \n",
       "2020-02-05 10:32:06+00:00  1.469  1.449  Wednesday   \n",
       "2020-02-05 10:03:08+00:00  1.449  1.429  Wednesday   \n",
       "2020-02-05 10:25:08+00:00  1.399  1.379  Wednesday   \n",
       "2020-02-05 10:50:07+00:00  1.399  1.379  Wednesday   \n",
       "2020-02-05 10:32:06+00:00  1.469  1.449  Wednesday   \n",
       "2020-02-05 10:17:07+00:00  1.469  1.449  Wednesday   \n",
       "2020-02-05 10:43:08+00:00  1.469  1.449  Wednesday   \n",
       "2020-02-05 10:40:06+00:00  1.479  1.459  Wednesday   \n",
       "2020-02-05 10:56:07+00:00  1.469  1.449  Wednesday   \n",
       "2020-02-05 10:05:05+00:00  1.449  1.429  Wednesday   \n",
       "2020-02-05 10:25:08+00:00  1.399  1.379  Wednesday   \n",
       "2020-02-05 10:45:07+00:00  1.399  1.379  Wednesday   \n",
       "2020-02-05 10:23:08+00:00  1.459  1.439  Wednesday   \n",
       "2020-02-05 10:43:08+00:00  1.459  1.439  Wednesday   \n",
       "2020-02-05 10:24:08+00:00  1.439  1.419  Wednesday   \n",
       "2020-02-05 10:54:07+00:00  1.399  1.379  Wednesday   \n",
       "2020-02-05 10:20:06+00:00  1.469  1.449  Wednesday   \n",
       "2020-02-05 10:28:06+00:00  1.469  1.449  Wednesday   \n",
       "2020-02-05 10:53:07+00:00  1.459  1.439  Wednesday   \n",
       "2020-02-05 10:08:06+00:00  1.479  1.459  Wednesday   \n",
       "2020-02-05 10:17:07+00:00  1.449  1.429  Wednesday   \n",
       "2020-02-05 10:38:06+00:00  1.399  1.379  Wednesday   \n",
       "2020-02-05 10:22:08+00:00  1.469  1.449  Wednesday   \n",
       "2020-02-05 10:59:07+00:00  1.459  1.439  Wednesday   \n",
       "2020-02-05 10:24:08+00:00  1.479  1.459  Wednesday   \n",
       "2020-02-05 10:45:07+00:00  1.469  1.449  Wednesday   \n",
       "2020-02-05 10:24:08+00:00  1.399  1.379  Wednesday   \n",
       "2020-02-05 10:59:07+00:00  1.389  1.369  Wednesday   \n",
       "2020-02-05 10:24:08+00:00  1.459  1.439  Wednesday   \n",
       "2020-02-05 10:37:05+00:00  1.369  1.349  Wednesday   \n",
       "2020-02-05 10:53:07+00:00  1.349  1.329  Wednesday   \n",
       "2020-02-05 10:01:05+00:00  1.439  1.419  Wednesday   \n",
       "2020-02-05 10:35:07+00:00  1.399  1.379  Wednesday   \n",
       "2020-02-05 10:39:07+00:00  1.389  1.369  Wednesday   \n",
       "2020-02-05 10:53:07+00:00  1.389  1.369  Wednesday   \n",
       "2020-02-05 10:01:05+00:00  1.439  1.419  Wednesday   \n",
       "2020-02-05 10:35:07+00:00  1.399  1.379  Wednesday   \n",
       "2020-02-05 10:39:07+00:00  1.389  1.369  Wednesday   \n",
       "2020-02-05 10:53:07+00:00  1.389  1.369  Wednesday   \n",
       "2020-02-05 10:11:07+00:00  1.449  1.429  Wednesday   \n",
       "2020-02-05 10:35:07+00:00  1.399  1.379  Wednesday   \n",
       "2020-02-05 10:59:07+00:00  1.399  1.379  Wednesday   \n",
       "2020-02-05 10:03:08+00:00  1.449  1.429  Wednesday   \n",
       "2020-02-05 10:53:07+00:00  1.429  1.409  Wednesday   \n",
       "2020-02-05 10:22:08+00:00  1.469  1.449  Wednesday   \n",
       "2020-02-05 10:39:07+00:00  1.449  1.429  Wednesday   \n",
       "2020-02-05 10:43:08+00:00  1.449  1.429  Wednesday   \n",
       "2020-02-05 10:05:05+00:00  1.459  1.439  Wednesday   \n",
       "2020-02-05 10:36:04+00:00  1.449  1.429  Wednesday   \n",
       "2020-02-05 10:18:08+00:00  1.459  1.439  Wednesday   \n",
       "2020-02-05 10:52:08+00:00  1.449  1.429  Wednesday   \n",
       "2020-02-05 10:07:07+00:00  1.389  1.369  Wednesday   \n",
       "2020-02-05 10:27:05+00:00  1.389  1.369  Wednesday   \n",
       "2020-02-05 10:57:07+00:00  1.389  1.369  Wednesday   \n",
       "2020-02-05 10:30:06+00:00  1.389  1.369  Wednesday   \n",
       "2020-02-05 10:45:07+00:00  1.389  1.369  Wednesday   \n",
       "2020-02-05 10:21:05+00:00  1.459  1.439  Wednesday   \n",
       "2020-02-05 10:51:05+00:00  1.449  1.429  Wednesday   \n",
       "2020-02-05 10:01:05+00:00  1.439  1.419  Wednesday   \n",
       "2020-02-05 10:15:06+00:00  1.409  1.389  Wednesday   \n",
       "2020-02-05 10:33:07+00:00  1.399  1.379  Wednesday   \n",
       "2020-02-05 10:39:07+00:00  1.389  1.369  Wednesday   \n",
       "2020-02-05 10:53:07+00:00  1.389  1.369  Wednesday   \n",
       "2020-02-05 10:53:07+00:00  1.449  1.429  Wednesday   \n",
       "2020-02-05 10:39:07+00:00  1.449  1.429  Wednesday   \n",
       "\n",
       "                                                             id  \\\n",
       "date                                                              \n",
       "2020-02-05 10:32:06+00:00  0b77096c-801b-4417-ac06-44ec8246b28b   \n",
       "2020-02-05 10:43:08+00:00  0b77096c-801b-4417-ac06-44ec8246b28b   \n",
       "2020-02-05 10:53:07+00:00  51d4b684-a095-1aa0-e100-80009459e03a   \n",
       "2020-02-05 10:07:07+00:00  b009c28a-6be3-49a5-8012-3db50637a5a1   \n",
       "2020-02-05 10:42:06+00:00  b009c28a-6be3-49a5-8012-3db50637a5a1   \n",
       "2020-02-05 10:32:06+00:00  66f8583b-127a-4298-9782-149a3a87dc30   \n",
       "2020-02-05 10:03:08+00:00  89540af1-abae-43ab-ab9a-e8151144d08e   \n",
       "2020-02-05 10:25:08+00:00  89540af1-abae-43ab-ab9a-e8151144d08e   \n",
       "2020-02-05 10:50:07+00:00  89540af1-abae-43ab-ab9a-e8151144d08e   \n",
       "2020-02-05 10:32:06+00:00  ad4f2ed6-c44e-4f8f-9ae6-a4ec955dfb60   \n",
       "2020-02-05 10:17:07+00:00  51a1160e-0a82-4179-99a7-09cd0d0c20b1   \n",
       "2020-02-05 10:43:08+00:00  51a1160e-0a82-4179-99a7-09cd0d0c20b1   \n",
       "2020-02-05 10:40:06+00:00  fb48f03e-c16e-435d-a845-6e235612f88f   \n",
       "2020-02-05 10:56:07+00:00  fb48f03e-c16e-435d-a845-6e235612f88f   \n",
       "2020-02-05 10:05:05+00:00  c7f10377-ac4b-4a53-8230-ef35a1636d67   \n",
       "2020-02-05 10:25:08+00:00  c7f10377-ac4b-4a53-8230-ef35a1636d67   \n",
       "2020-02-05 10:45:07+00:00  c7f10377-ac4b-4a53-8230-ef35a1636d67   \n",
       "2020-02-05 10:23:08+00:00  720e0a99-fe07-4824-a734-ac40544f633f   \n",
       "2020-02-05 10:43:08+00:00  720e0a99-fe07-4824-a734-ac40544f633f   \n",
       "2020-02-05 10:24:08+00:00  ada9f055-b84a-4873-848c-9f25e084ae93   \n",
       "2020-02-05 10:54:07+00:00  ada9f055-b84a-4873-848c-9f25e084ae93   \n",
       "2020-02-05 10:20:06+00:00  551a96b8-9cc1-4726-9279-acfecf1e228b   \n",
       "2020-02-05 10:28:06+00:00  551a96b8-9cc1-4726-9279-acfecf1e228b   \n",
       "2020-02-05 10:53:07+00:00  551a96b8-9cc1-4726-9279-acfecf1e228b   \n",
       "2020-02-05 10:08:06+00:00  a82eaf56-e326-1466-e100-00000630df04   \n",
       "2020-02-05 10:17:07+00:00  a82eaf56-e326-1466-e100-00000630df04   \n",
       "2020-02-05 10:38:06+00:00  a82eaf56-e326-1466-e100-00000630df04   \n",
       "2020-02-05 10:22:08+00:00  42f01e8b-ec07-4844-a39d-8b75a525d90b   \n",
       "2020-02-05 10:59:07+00:00  42f01e8b-ec07-4844-a39d-8b75a525d90b   \n",
       "2020-02-05 10:24:08+00:00  014ad61d-37f1-4efc-9e3e-e54c3650ea77   \n",
       "2020-02-05 10:45:07+00:00  014ad61d-37f1-4efc-9e3e-e54c3650ea77   \n",
       "2020-02-05 10:24:08+00:00  515dcbdd-f9de-48b1-8828-00d64b7a118e   \n",
       "2020-02-05 10:59:07+00:00  515dcbdd-f9de-48b1-8828-00d64b7a118e   \n",
       "2020-02-05 10:24:08+00:00  ce780245-3e31-458f-b8dc-aa87bf67a166   \n",
       "2020-02-05 10:37:05+00:00  ce780245-3e31-458f-b8dc-aa87bf67a166   \n",
       "2020-02-05 10:53:07+00:00  ce780245-3e31-458f-b8dc-aa87bf67a166   \n",
       "2020-02-05 10:01:05+00:00  aa842438-c80d-46c1-828f-2cadb756d016   \n",
       "2020-02-05 10:35:07+00:00  aa842438-c80d-46c1-828f-2cadb756d016   \n",
       "2020-02-05 10:39:07+00:00  aa842438-c80d-46c1-828f-2cadb756d016   \n",
       "2020-02-05 10:53:07+00:00  aa842438-c80d-46c1-828f-2cadb756d016   \n",
       "2020-02-05 10:01:05+00:00  aa842438-c80d-46c1-828f-2cadb756d015   \n",
       "2020-02-05 10:35:07+00:00  aa842438-c80d-46c1-828f-2cadb756d015   \n",
       "2020-02-05 10:39:07+00:00  aa842438-c80d-46c1-828f-2cadb756d015   \n",
       "2020-02-05 10:53:07+00:00  aa842438-c80d-46c1-828f-2cadb756d015   \n",
       "2020-02-05 10:11:07+00:00  aa842438-c80d-46c1-828f-2cadb756d017   \n",
       "2020-02-05 10:35:07+00:00  aa842438-c80d-46c1-828f-2cadb756d017   \n",
       "2020-02-05 10:59:07+00:00  aa842438-c80d-46c1-828f-2cadb756d017   \n",
       "2020-02-05 10:03:08+00:00  005056ba-7cb6-1ed2-bceb-678c687b4d1f   \n",
       "2020-02-05 10:53:07+00:00  005056ba-7cb6-1ed2-bceb-678c687b4d1f   \n",
       "2020-02-05 10:22:08+00:00  a7890dd5-3d45-4d37-823a-e68225308e10   \n",
       "2020-02-05 10:39:07+00:00  005056ba-7cb6-1ed2-bceb-6e004fe9cd20   \n",
       "2020-02-05 10:43:08+00:00  005056ba-7cb6-1ed2-bceb-6e004fe9cd20   \n",
       "2020-02-05 10:05:05+00:00  fc549e08-daf7-4dd1-8cf0-49cbf3f0bb92   \n",
       "2020-02-05 10:36:04+00:00  fc549e08-daf7-4dd1-8cf0-49cbf3f0bb92   \n",
       "2020-02-05 10:18:08+00:00  da6eedef-5964-4617-b0e5-4023ef3f2104   \n",
       "2020-02-05 10:52:08+00:00  6f5f00c9-f3d2-11e9-b0e4-005056a2a083   \n",
       "2020-02-05 10:07:07+00:00  49e6f3e8-55ce-40b7-8108-add0f2a2b126   \n",
       "2020-02-05 10:27:05+00:00  49e6f3e8-55ce-40b7-8108-add0f2a2b126   \n",
       "2020-02-05 10:57:07+00:00  49e6f3e8-55ce-40b7-8108-add0f2a2b126   \n",
       "2020-02-05 10:30:06+00:00  bd752d39-d09f-4851-b013-1537283ddeee   \n",
       "2020-02-05 10:45:07+00:00  bd752d39-d09f-4851-b013-1537283ddeee   \n",
       "2020-02-05 10:21:05+00:00  ad463e44-4c27-4c71-8292-7c70597b90aa   \n",
       "2020-02-05 10:51:05+00:00  ad463e44-4c27-4c71-8292-7c70597b90aa   \n",
       "2020-02-05 10:01:05+00:00  aa842438-c80d-46c1-828f-2cadb756d013   \n",
       "2020-02-05 10:15:06+00:00  aa842438-c80d-46c1-828f-2cadb756d013   \n",
       "2020-02-05 10:33:07+00:00  aa842438-c80d-46c1-828f-2cadb756d013   \n",
       "2020-02-05 10:39:07+00:00  aa842438-c80d-46c1-828f-2cadb756d013   \n",
       "2020-02-05 10:53:07+00:00  aa842438-c80d-46c1-828f-2cadb756d013   \n",
       "2020-02-05 10:53:07+00:00  e1a15081-254a-9107-e040-0b0a3dfe563c   \n",
       "2020-02-05 10:39:07+00:00  7ad1103c-70ad-4e0c-b203-83c89e47449a   \n",
       "\n",
       "                                                                        name  \\\n",
       "date                                                                           \n",
       "2020-02-05 10:32:06+00:00        Shell Wolfsburg Braunschweiger Str. 201-203   \n",
       "2020-02-05 10:43:08+00:00        Shell Wolfsburg Braunschweiger Str. 201-203   \n",
       "2020-02-05 10:53:07+00:00  Supermarkt-Tankstelle WOLFSBURG HEHLINGER STR. 21   \n",
       "2020-02-05 10:07:07+00:00              Shell Dillenburg Frankfurter Str. 175   \n",
       "2020-02-05 10:42:06+00:00              Shell Dillenburg Frankfurter Str. 175   \n",
       "2020-02-05 10:32:06+00:00             Shell Wolfsburg Braunschweiger Str. 89   \n",
       "2020-02-05 10:03:08+00:00                        Shell Haiger Bahnhofstr. 42   \n",
       "2020-02-05 10:25:08+00:00                        Shell Haiger Bahnhofstr. 42   \n",
       "2020-02-05 10:50:07+00:00                        Shell Haiger Bahnhofstr. 42   \n",
       "2020-02-05 10:32:06+00:00              Shell Wolfsburg Nordsteimker Str. 7-9   \n",
       "2020-02-05 10:17:07+00:00            Shell Wolfsburg Braunschweiger Str. 208   \n",
       "2020-02-05 10:43:08+00:00            Shell Wolfsburg Braunschweiger Str. 208   \n",
       "2020-02-05 10:40:06+00:00     Shell Wolfsburg Heinrich-Nordhoff Str. 119-121   \n",
       "2020-02-05 10:56:07+00:00     Shell Wolfsburg Heinrich-Nordhoff Str. 119-121   \n",
       "2020-02-05 10:05:05+00:00                   Shell Dietzhoelztal Hauptstr. 13   \n",
       "2020-02-05 10:25:08+00:00                   Shell Dietzhoelztal Hauptstr. 13   \n",
       "2020-02-05 10:45:07+00:00                   Shell Dietzhoelztal Hauptstr. 13   \n",
       "2020-02-05 10:23:08+00:00                                    Aral Tankstelle   \n",
       "2020-02-05 10:43:08+00:00                                    Aral Tankstelle   \n",
       "2020-02-05 10:24:08+00:00                                    Aral Tankstelle   \n",
       "2020-02-05 10:54:07+00:00                                    Aral Tankstelle   \n",
       "2020-02-05 10:20:06+00:00                                    Aral Tankstelle   \n",
       "2020-02-05 10:28:06+00:00                                    Aral Tankstelle   \n",
       "2020-02-05 10:53:07+00:00                                    Aral Tankstelle   \n",
       "2020-02-05 10:08:06+00:00                                                ENI   \n",
       "2020-02-05 10:17:07+00:00                                                ENI   \n",
       "2020-02-05 10:38:06+00:00                                                ENI   \n",
       "2020-02-05 10:22:08+00:00                                    Aral Tankstelle   \n",
       "2020-02-05 10:59:07+00:00                                    Aral Tankstelle   \n",
       "2020-02-05 10:24:08+00:00                                    Aral Tankstelle   \n",
       "2020-02-05 10:45:07+00:00                                    Aral Tankstelle   \n",
       "2020-02-05 10:24:08+00:00                                    Aral Tankstelle   \n",
       "2020-02-05 10:59:07+00:00                                    Aral Tankstelle   \n",
       "2020-02-05 10:24:08+00:00                                    Aral Tankstelle   \n",
       "2020-02-05 10:37:05+00:00                                    Aral Tankstelle   \n",
       "2020-02-05 10:53:07+00:00                                    Aral Tankstelle   \n",
       "2020-02-05 10:01:05+00:00                               Tankstelle Ewersbach   \n",
       "2020-02-05 10:35:07+00:00                               Tankstelle Ewersbach   \n",
       "2020-02-05 10:39:07+00:00                               Tankstelle Ewersbach   \n",
       "2020-02-05 10:53:07+00:00                               Tankstelle Ewersbach   \n",
       "2020-02-05 10:01:05+00:00                            Tankstelle Eibelshausen   \n",
       "2020-02-05 10:35:07+00:00                            Tankstelle Eibelshausen   \n",
       "2020-02-05 10:39:07+00:00                            Tankstelle Eibelshausen   \n",
       "2020-02-05 10:53:07+00:00                            Tankstelle Eibelshausen   \n",
       "2020-02-05 10:11:07+00:00                                  Tankstelle Haiger   \n",
       "2020-02-05 10:35:07+00:00                                  Tankstelle Haiger   \n",
       "2020-02-05 10:59:07+00:00                                  Tankstelle Haiger   \n",
       "2020-02-05 10:03:08+00:00                                    star Tankstelle   \n",
       "2020-02-05 10:53:07+00:00                                    star Tankstelle   \n",
       "2020-02-05 10:22:08+00:00                                    Esso Tankstelle   \n",
       "2020-02-05 10:39:07+00:00                                    star Tankstelle   \n",
       "2020-02-05 10:43:08+00:00                                    star Tankstelle   \n",
       "2020-02-05 10:05:05+00:00                 Bft Wolfsburg Breslauer Straße 221   \n",
       "2020-02-05 10:36:04+00:00                 Bft Wolfsburg Breslauer Straße 221   \n",
       "2020-02-05 10:18:08+00:00                        Sb Wolfsburg Hubertusstr. 8   \n",
       "2020-02-05 10:52:08+00:00                                          Wolfsburg   \n",
       "2020-02-05 10:07:07+00:00                       Access Tankstelle Dillenburg   \n",
       "2020-02-05 10:27:05+00:00                       Access Tankstelle Dillenburg   \n",
       "2020-02-05 10:57:07+00:00                       Access Tankstelle Dillenburg   \n",
       "2020-02-05 10:30:06+00:00                                 Wilhelm Claas GmbH   \n",
       "2020-02-05 10:45:07+00:00                                 Wilhelm Claas GmbH   \n",
       "2020-02-05 10:21:05+00:00                             Freie Tankstelle Ehmen   \n",
       "2020-02-05 10:51:05+00:00                             Freie Tankstelle Ehmen   \n",
       "2020-02-05 10:01:05+00:00                              Tankstelle Dillenburg   \n",
       "2020-02-05 10:15:06+00:00                              Tankstelle Dillenburg   \n",
       "2020-02-05 10:33:07+00:00                              Tankstelle Dillenburg   \n",
       "2020-02-05 10:39:07+00:00                              Tankstelle Dillenburg   \n",
       "2020-02-05 10:53:07+00:00                              Tankstelle Dillenburg   \n",
       "2020-02-05 10:53:07+00:00                        Wolfsburg, Grauhorststr. 10   \n",
       "2020-02-05 10:39:07+00:00           Tankstelle Reislingen Herr Rainer Dürkop   \n",
       "\n",
       "                                           brand                  street  \\\n",
       "date                                                                       \n",
       "2020-02-05 10:32:06+00:00                  Shell     Braunschweiger Str.   \n",
       "2020-02-05 10:43:08+00:00                  Shell     Braunschweiger Str.   \n",
       "2020-02-05 10:53:07+00:00  Supermarkt-Tankstelle          HEHLINGER STR.   \n",
       "2020-02-05 10:07:07+00:00                  Shell        Frankfurter Str.   \n",
       "2020-02-05 10:42:06+00:00                  Shell        Frankfurter Str.   \n",
       "2020-02-05 10:32:06+00:00                  Shell     Braunschweiger Str.   \n",
       "2020-02-05 10:03:08+00:00                  Shell             Bahnhofstr.   \n",
       "2020-02-05 10:25:08+00:00                  Shell             Bahnhofstr.   \n",
       "2020-02-05 10:50:07+00:00                  Shell             Bahnhofstr.   \n",
       "2020-02-05 10:32:06+00:00                  Shell       Nordsteimker Str.   \n",
       "2020-02-05 10:17:07+00:00                  Shell     Braunschweiger Str.   \n",
       "2020-02-05 10:43:08+00:00                  Shell     Braunschweiger Str.   \n",
       "2020-02-05 10:40:06+00:00                  Shell  Heinrich-Nordhoff Str.   \n",
       "2020-02-05 10:56:07+00:00                  Shell  Heinrich-Nordhoff Str.   \n",
       "2020-02-05 10:05:05+00:00                  Shell               Hauptstr.   \n",
       "2020-02-05 10:25:08+00:00                  Shell               Hauptstr.   \n",
       "2020-02-05 10:45:07+00:00                  Shell               Hauptstr.   \n",
       "2020-02-05 10:23:08+00:00                   ARAL      Wolfsburger Straße   \n",
       "2020-02-05 10:43:08+00:00                   ARAL      Wolfsburger Straße   \n",
       "2020-02-05 10:24:08+00:00                   ARAL              Löhrstraße   \n",
       "2020-02-05 10:54:07+00:00                   ARAL              Löhrstraße   \n",
       "2020-02-05 10:20:06+00:00                   ARAL           Hinterm Hagen   \n",
       "2020-02-05 10:28:06+00:00                   ARAL           Hinterm Hagen   \n",
       "2020-02-05 10:53:07+00:00                   ARAL           Hinterm Hagen   \n",
       "2020-02-05 10:08:06+00:00                   Agip          Hohleichenrain   \n",
       "2020-02-05 10:17:07+00:00                   Agip          Hohleichenrain   \n",
       "2020-02-05 10:38:06+00:00                   Agip          Hohleichenrain   \n",
       "2020-02-05 10:22:08+00:00                   ARAL      Wolfsburger Straße   \n",
       "2020-02-05 10:59:07+00:00                   ARAL      Wolfsburger Straße   \n",
       "2020-02-05 10:24:08+00:00                   ARAL    Heinr.-Nordhoff-Str.   \n",
       "2020-02-05 10:45:07+00:00                   ARAL    Heinr.-Nordhoff-Str.   \n",
       "2020-02-05 10:24:08+00:00                   ARAL         Kasseler Straße   \n",
       "2020-02-05 10:59:07+00:00                   ARAL         Kasseler Straße   \n",
       "2020-02-05 10:24:08+00:00                   ARAL        Wetzlarer Straße   \n",
       "2020-02-05 10:37:05+00:00                   ARAL        Wetzlarer Straße   \n",
       "2020-02-05 10:53:07+00:00                   ARAL        Wetzlarer Straße   \n",
       "2020-02-05 10:01:05+00:00          Roth- Energie               Hauptstr.   \n",
       "2020-02-05 10:35:07+00:00          Roth- Energie               Hauptstr.   \n",
       "2020-02-05 10:39:07+00:00          Roth- Energie               Hauptstr.   \n",
       "2020-02-05 10:53:07+00:00          Roth- Energie               Hauptstr.   \n",
       "2020-02-05 10:01:05+00:00          Roth- Energie        Eiershäuser Str.   \n",
       "2020-02-05 10:35:07+00:00          Roth- Energie        Eiershäuser Str.   \n",
       "2020-02-05 10:39:07+00:00          Roth- Energie        Eiershäuser Str.   \n",
       "2020-02-05 10:53:07+00:00          Roth- Energie        Eiershäuser Str.   \n",
       "2020-02-05 10:11:07+00:00          Roth- Energie     Rodenbacher Straße.   \n",
       "2020-02-05 10:35:07+00:00          Roth- Energie     Rodenbacher Straße.   \n",
       "2020-02-05 10:59:07+00:00          Roth- Energie     Rodenbacher Straße.   \n",
       "2020-02-05 10:03:08+00:00                   STAR       Vorsfelder Straße   \n",
       "2020-02-05 10:53:07+00:00                   STAR       Vorsfelder Straße   \n",
       "2020-02-05 10:22:08+00:00                   ESSO        BERLINER RING 10   \n",
       "2020-02-05 10:39:07+00:00                   STAR               Viehtrift   \n",
       "2020-02-05 10:43:08+00:00                   STAR               Viehtrift   \n",
       "2020-02-05 10:05:05+00:00                    bft        Breslauer Straße   \n",
       "2020-02-05 10:36:04+00:00                    bft        Breslauer Straße   \n",
       "2020-02-05 10:18:08+00:00                     SB            Hubertusstr.   \n",
       "2020-02-05 10:52:08+00:00                CLASSIC        Breslauer Straße   \n",
       "2020-02-05 10:07:07+00:00                 Access      Kasseler Str. B253   \n",
       "2020-02-05 10:27:05+00:00                 Access      Kasseler Str. B253   \n",
       "2020-02-05 10:57:07+00:00                 Access      Kasseler Str. B253   \n",
       "2020-02-05 10:30:06+00:00     Wilhelm Claas GmbH         Auf der Langaar   \n",
       "2020-02-05 10:45:07+00:00     Wilhelm Claas GmbH         Auf der Langaar   \n",
       "2020-02-05 10:21:05+00:00       Freie Tankstelle           Mörser Straße   \n",
       "2020-02-05 10:51:05+00:00       Freie Tankstelle           Mörser Straße   \n",
       "2020-02-05 10:01:05+00:00          Roth- Energie    Am Güterbahnhof Str.   \n",
       "2020-02-05 10:15:06+00:00          Roth- Energie    Am Güterbahnhof Str.   \n",
       "2020-02-05 10:33:07+00:00          Roth- Energie    Am Güterbahnhof Str.   \n",
       "2020-02-05 10:39:07+00:00          Roth- Energie    Am Güterbahnhof Str.   \n",
       "2020-02-05 10:53:07+00:00          Roth- Energie    Am Güterbahnhof Str.   \n",
       "2020-02-05 10:53:07+00:00                    HEM           Grauhorststr.   \n",
       "2020-02-05 10:39:07+00:00                    NaN          Sandkrugstraße   \n",
       "\n",
       "                                   place        lat        lng houseNumber  \\\n",
       "date                                                                         \n",
       "2020-02-05 10:32:06+00:00      Wolfsburg  52.399986  10.754061     201-203   \n",
       "2020-02-05 10:43:08+00:00      Wolfsburg  52.399986  10.754061     201-203   \n",
       "2020-02-05 10:53:07+00:00      WOLFSBURG  52.397200  10.837800          21   \n",
       "2020-02-05 10:07:07+00:00     Dillenburg  50.735280   8.290547       175.0   \n",
       "2020-02-05 10:42:06+00:00     Dillenburg  50.735280   8.290547       175.0   \n",
       "2020-02-05 10:32:06+00:00      Wolfsburg  52.411998  10.782174          89   \n",
       "2020-02-05 10:03:08+00:00         Haiger  50.741260   8.209538        42.0   \n",
       "2020-02-05 10:25:08+00:00         Haiger  50.741260   8.209538        42.0   \n",
       "2020-02-05 10:50:07+00:00         Haiger  50.741260   8.209538        42.0   \n",
       "2020-02-05 10:32:06+00:00      Wolfsburg  52.417518  10.805122         7-9   \n",
       "2020-02-05 10:17:07+00:00      Wolfsburg  52.400652  10.752286         208   \n",
       "2020-02-05 10:43:08+00:00      Wolfsburg  52.400652  10.752286         208   \n",
       "2020-02-05 10:40:06+00:00      Wolfsburg  52.426201  10.768519     119-121   \n",
       "2020-02-05 10:56:07+00:00      Wolfsburg  52.426201  10.768519     119-121   \n",
       "2020-02-05 10:05:05+00:00  Dietzhoelztal  50.831925   8.320652        13.0   \n",
       "2020-02-05 10:25:08+00:00  Dietzhoelztal  50.831925   8.320652        13.0   \n",
       "2020-02-05 10:45:07+00:00  Dietzhoelztal  50.831925   8.320652        13.0   \n",
       "2020-02-05 10:23:08+00:00      Weyhausen  52.462612  10.718878          24   \n",
       "2020-02-05 10:43:08+00:00      Weyhausen  52.462612  10.718878          24   \n",
       "2020-02-05 10:24:08+00:00         Haiger  50.741590   8.207649         6.0   \n",
       "2020-02-05 10:54:07+00:00         Haiger  50.741590   8.207649         6.0   \n",
       "2020-02-05 10:20:06+00:00      Wolfsburg  52.419117  10.721299          21   \n",
       "2020-02-05 10:28:06+00:00      Wolfsburg  52.419117  10.721299          21   \n",
       "2020-02-05 10:53:07+00:00      Wolfsburg  52.419117  10.721299          21   \n",
       "2020-02-05 10:08:06+00:00         Haiger  50.742459   8.221910         8.0   \n",
       "2020-02-05 10:17:07+00:00         Haiger  50.742459   8.221910         8.0   \n",
       "2020-02-05 10:38:06+00:00         Haiger  50.742459   8.221910         8.0   \n",
       "2020-02-05 10:22:08+00:00      Wolfsburg  52.438274  10.830319          41   \n",
       "2020-02-05 10:59:07+00:00      Wolfsburg  52.438274  10.830319          41   \n",
       "2020-02-05 10:24:08+00:00      Wolfsburg  52.427197  10.771580         117   \n",
       "2020-02-05 10:45:07+00:00      Wolfsburg  52.427197  10.771580         117   \n",
       "2020-02-05 10:24:08+00:00     Dillenburg  50.749954   8.276847        32.0   \n",
       "2020-02-05 10:59:07+00:00     Dillenburg  50.749954   8.276847        32.0   \n",
       "2020-02-05 10:24:08+00:00        Netphen  50.862038   8.200172        32.0   \n",
       "2020-02-05 10:37:05+00:00        Netphen  50.862038   8.200172        32.0   \n",
       "2020-02-05 10:53:07+00:00        Netphen  50.862038   8.200172        32.0   \n",
       "2020-02-05 10:01:05+00:00   Dietzhölztal  50.835240   8.306400       156.0   \n",
       "2020-02-05 10:35:07+00:00   Dietzhölztal  50.835240   8.306400       156.0   \n",
       "2020-02-05 10:39:07+00:00   Dietzhölztal  50.835240   8.306400       156.0   \n",
       "2020-02-05 10:53:07+00:00   Dietzhölztal  50.835240   8.306400       156.0   \n",
       "2020-02-05 10:01:05+00:00   Eibelshausen  50.807330   8.349060        49.0   \n",
       "2020-02-05 10:35:07+00:00   Eibelshausen  50.807330   8.349060        49.0   \n",
       "2020-02-05 10:39:07+00:00   Eibelshausen  50.807330   8.349060        49.0   \n",
       "2020-02-05 10:53:07+00:00   Eibelshausen  50.807330   8.349060        49.0   \n",
       "2020-02-05 10:11:07+00:00         Haiger  50.746020   8.202350        19.0   \n",
       "2020-02-05 10:35:07+00:00         Haiger  50.746020   8.202350        19.0   \n",
       "2020-02-05 10:59:07+00:00         Haiger  50.746020   8.202350        19.0   \n",
       "2020-02-05 10:03:08+00:00         Velpke  52.409488  10.932190           9   \n",
       "2020-02-05 10:53:07+00:00         Velpke  52.409488  10.932190           9   \n",
       "2020-02-05 10:22:08+00:00      WOLFSBURG  52.425840  10.797348         NaN   \n",
       "2020-02-05 10:39:07+00:00      Wolfsburg  52.420299  10.711243          18   \n",
       "2020-02-05 10:43:08+00:00      Wolfsburg  52.420299  10.711243          18   \n",
       "2020-02-05 10:05:05+00:00      Wolfsburg  52.416100  10.751700         221   \n",
       "2020-02-05 10:36:04+00:00      Wolfsburg  52.416100  10.751700         221   \n",
       "2020-02-05 10:18:08+00:00      Wolfsburg  52.451012  10.796250           8   \n",
       "2020-02-05 10:52:08+00:00      Wolfsburg  52.419180  10.754000          45   \n",
       "2020-02-05 10:07:07+00:00     Dillenburg  50.749561   8.276969         NaN   \n",
       "2020-02-05 10:27:05+00:00     Dillenburg  50.749561   8.276969         NaN   \n",
       "2020-02-05 10:57:07+00:00     Dillenburg  50.749561   8.276969         NaN   \n",
       "2020-02-05 10:30:06+00:00     Dillenburg  50.768900   8.293000         1.0   \n",
       "2020-02-05 10:45:07+00:00     Dillenburg  50.768900   8.293000         1.0   \n",
       "2020-02-05 10:21:05+00:00      Wolfsburg  52.393100  10.712000          82   \n",
       "2020-02-05 10:51:05+00:00      Wolfsburg  52.393100  10.712000          82   \n",
       "2020-02-05 10:01:05+00:00     Dillenburg  50.730980   8.294360        28.0   \n",
       "2020-02-05 10:15:06+00:00     Dillenburg  50.730980   8.294360        28.0   \n",
       "2020-02-05 10:33:07+00:00     Dillenburg  50.730980   8.294360        28.0   \n",
       "2020-02-05 10:39:07+00:00     Dillenburg  50.730980   8.294360        28.0   \n",
       "2020-02-05 10:53:07+00:00     Dillenburg  50.730980   8.294360        28.0   \n",
       "2020-02-05 10:53:07+00:00      Wolfsburg  52.423626  10.753604          10   \n",
       "2020-02-05 10:39:07+00:00      Wolfsburg  52.418840  10.846630          27   \n",
       "\n",
       "                           postCode quarter  \n",
       "date                                         \n",
       "2020-02-05 10:32:06+00:00     38444  2020Q1  \n",
       "2020-02-05 10:43:08+00:00     38444  2020Q1  \n",
       "2020-02-05 10:53:07+00:00     38446  2020Q1  \n",
       "2020-02-05 10:07:07+00:00     35683  2020Q1  \n",
       "2020-02-05 10:42:06+00:00     35683  2020Q1  \n",
       "2020-02-05 10:32:06+00:00     38440  2020Q1  \n",
       "2020-02-05 10:03:08+00:00     35708  2020Q1  \n",
       "2020-02-05 10:25:08+00:00     35708  2020Q1  \n",
       "2020-02-05 10:50:07+00:00     35708  2020Q1  \n",
       "2020-02-05 10:32:06+00:00     38446  2020Q1  \n",
       "2020-02-05 10:17:07+00:00     38444  2020Q1  \n",
       "2020-02-05 10:43:08+00:00     38444  2020Q1  \n",
       "2020-02-05 10:40:06+00:00     38440  2020Q1  \n",
       "2020-02-05 10:56:07+00:00     38440  2020Q1  \n",
       "2020-02-05 10:05:05+00:00     35716  2020Q1  \n",
       "2020-02-05 10:25:08+00:00     35716  2020Q1  \n",
       "2020-02-05 10:45:07+00:00     35716  2020Q1  \n",
       "2020-02-05 10:23:08+00:00     38554  2020Q1  \n",
       "2020-02-05 10:43:08+00:00     38554  2020Q1  \n",
       "2020-02-05 10:24:08+00:00     35708  2020Q1  \n",
       "2020-02-05 10:54:07+00:00     35708  2020Q1  \n",
       "2020-02-05 10:20:06+00:00     38442  2020Q1  \n",
       "2020-02-05 10:28:06+00:00     38442  2020Q1  \n",
       "2020-02-05 10:53:07+00:00     38442  2020Q1  \n",
       "2020-02-05 10:08:06+00:00     35708  2020Q1  \n",
       "2020-02-05 10:17:07+00:00     35708  2020Q1  \n",
       "2020-02-05 10:38:06+00:00     35708  2020Q1  \n",
       "2020-02-05 10:22:08+00:00     38448  2020Q1  \n",
       "2020-02-05 10:59:07+00:00     38448  2020Q1  \n",
       "2020-02-05 10:24:08+00:00     38440  2020Q1  \n",
       "2020-02-05 10:45:07+00:00     38440  2020Q1  \n",
       "2020-02-05 10:24:08+00:00     35683  2020Q1  \n",
       "2020-02-05 10:59:07+00:00     35683  2020Q1  \n",
       "2020-02-05 10:24:08+00:00     57250  2020Q1  \n",
       "2020-02-05 10:37:05+00:00     57250  2020Q1  \n",
       "2020-02-05 10:53:07+00:00     57250  2020Q1  \n",
       "2020-02-05 10:01:05+00:00     35716  2020Q1  \n",
       "2020-02-05 10:35:07+00:00     35716  2020Q1  \n",
       "2020-02-05 10:39:07+00:00     35716  2020Q1  \n",
       "2020-02-05 10:53:07+00:00     35716  2020Q1  \n",
       "2020-02-05 10:01:05+00:00     35713  2020Q1  \n",
       "2020-02-05 10:35:07+00:00     35713  2020Q1  \n",
       "2020-02-05 10:39:07+00:00     35713  2020Q1  \n",
       "2020-02-05 10:53:07+00:00     35713  2020Q1  \n",
       "2020-02-05 10:11:07+00:00     35708  2020Q1  \n",
       "2020-02-05 10:35:07+00:00     35708  2020Q1  \n",
       "2020-02-05 10:59:07+00:00     35708  2020Q1  \n",
       "2020-02-05 10:03:08+00:00     38458  2020Q1  \n",
       "2020-02-05 10:53:07+00:00     38458  2020Q1  \n",
       "2020-02-05 10:22:08+00:00     38440  2020Q1  \n",
       "2020-02-05 10:39:07+00:00     38442  2020Q1  \n",
       "2020-02-05 10:43:08+00:00     38442  2020Q1  \n",
       "2020-02-05 10:05:05+00:00     38440  2020Q1  \n",
       "2020-02-05 10:36:04+00:00     38440  2020Q1  \n",
       "2020-02-05 10:18:08+00:00     38448  2020Q1  \n",
       "2020-02-05 10:52:08+00:00     38440  2020Q1  \n",
       "2020-02-05 10:07:07+00:00     35683  2020Q1  \n",
       "2020-02-05 10:27:05+00:00     35683  2020Q1  \n",
       "2020-02-05 10:57:07+00:00     35683  2020Q1  \n",
       "2020-02-05 10:30:06+00:00     35684  2020Q1  \n",
       "2020-02-05 10:45:07+00:00     35684  2020Q1  \n",
       "2020-02-05 10:21:05+00:00     38442  2020Q1  \n",
       "2020-02-05 10:51:05+00:00     38442  2020Q1  \n",
       "2020-02-05 10:01:05+00:00     35683  2020Q1  \n",
       "2020-02-05 10:15:06+00:00     35683  2020Q1  \n",
       "2020-02-05 10:33:07+00:00     35683  2020Q1  \n",
       "2020-02-05 10:39:07+00:00     35683  2020Q1  \n",
       "2020-02-05 10:53:07+00:00     35683  2020Q1  \n",
       "2020-02-05 10:53:07+00:00     38440  2020Q1  \n",
       "2020-02-05 10:39:07+00:00     38446  2020Q1  "
      ]
     },
     "execution_count": 230,
     "metadata": {},
     "output_type": "execute_result"
    }
   ],
   "source": [
    "startstring = '2020-02-05 10:00:00'\n",
    "end_string = '2020-02-05 11:00:00'\n",
    "\n",
    "start_date = pd.to_datetime(startstring, utc= True)\n",
    "end_date = pd.to_datetime(end_string, utc= True)\n",
    "mask = (df_merged['date'] > start_date) & (df_merged['date'] <= end_date)\n",
    "\n",
    "\n",
    "#df_merged.loc['2021-10-27 10:00:00' : '2021-10-27 11:00:00']\n",
    "\n",
    "#df_merged[(df_merged['date'] > startstring) & (df_merged['date'] < end_string)]\n",
    "df_merged[mask]"
   ]
  },
  {
   "cell_type": "code",
   "execution_count": 144,
   "id": "3396de96",
   "metadata": {},
   "outputs": [
    {
     "data": {
      "image/png": "[encoded data removed]",
      "text/plain": [
       "<Figure size 432x288 with 2 Axes>"
      ]
     },
     "metadata": {},
     "output_type": "display_data"
    }
   ],
   "source": [
    "fig, (ax1, ax2) = plt.subplots(nrows=2, ncols=1, sharex=True)\n",
    "\n",
    "ax1.plot(foo.e5, label='e5')\n",
    "ax1.set_title(start_date.strftime('%d-%m-%Y'))\n",
    "ax1.legend()\n",
    "ax1.ymin = df_merged['e5'][df_merged['e5'] > 0.1].min()\n",
    "ax1.ymax = df_merged['e5'][df_merged['e5'] > 0.1].max()\n",
    "\n",
    "ax2.plot(foo.diesel, label='diesel')\n",
    "ax2.legend()\n",
    "\n",
    "plt.tight_layout()\n",
    "plt.show()"
   ]
  },
  {
   "cell_type": "code",
   "execution_count": 52,
   "id": "3fcd4fe1",
   "metadata": {},
   "outputs": [],
   "source": [
    "foo = df_merged.loc[mask]"
   ]
  },
  {
   "cell_type": "code",
   "execution_count": 28,
   "id": "aa8cea25",
   "metadata": {},
   "outputs": [
    {
     "data": {
      "image/png": "[encoded data removed]",
      "text/plain": [
       "<Figure size 792x288 with 2 Axes>"
      ]
     },
     "metadata": {},
     "output_type": "display_data"
    }
   ],
   "source": [
    "cols_plot = ['e5', 'diesel']\n",
    "df_merged.between_time(\"17:00\", \"22:00\").groupby('weekday')[cols_plot].mean().plot(subplots=True, linewidth=2.5);\n",
    "\n"
   ]
  },
  {
   "cell_type": "code",
   "execution_count": null,
   "id": "1860fecc",
   "metadata": {},
   "outputs": [],
   "source": []
  },
  {
   "cell_type": "code",
   "execution_count": 150,
   "id": "09d496c7",
   "metadata": {},
   "outputs": [
    {
     "data": {
      "application/vnd.jupyter.widget-view+json": {
       "model_id": "3d32a9ebe6a34742a1b5da226dceee66",
       "version_major": 2,
       "version_minor": 0
      },
      "text/plain": [
       "TimePicker(value=None, step=60.0)"
      ]
     },
     "metadata": {},
     "output_type": "display_data"
    }
   ],
   "source": [
    "import ipydatetime\n",
    "import ipywidgets\n",
    "time_picker = ipydatetime.TimePicker()\n",
    "time_picker"
   ]
  },
  {
   "cell_type": "code",
   "execution_count": 191,
   "id": "0eec7c5a",
   "metadata": {},
   "outputs": [],
   "source": [
    "df_merged.to_csv('test.csv', encoding = 'utf-8')"
   ]
  },
  {
   "cell_type": "code",
   "execution_count": 223,
   "id": "44ef6673",
   "metadata": {},
   "outputs": [
    {
     "data": {
      "text/plain": [
       "False    621390\n",
       "Name: date, dtype: int64"
      ]
     },
     "execution_count": 223,
     "metadata": {},
     "output_type": "execute_result"
    }
   ],
   "source": [
    "startstring = '2020-01-27 00:00:00'\n",
    "end_string = '2020-01-03 23:59:59'\n",
    "\n",
    "start_date = pd.to_datetime(startstring, utc= True)\n",
    "end_date = pd.to_datetime(end_string, utc= True)\n",
    "\n",
    "mask = (df_merged['date'] > start_date) & (df_merged['date'] <= end_date)\n",
    "mask.value_counts()\n",
    "#df_merged.loc[mask]\n"
   ]
  },
  {
   "cell_type": "code",
   "execution_count": 308,
   "id": "3ac82220",
   "metadata": {
    "scrolled": false
   },
   "outputs": [
    {
     "name": "stdout",
     "output_type": "stream",
     "text": [
      "2019-12-30 2020-01-05\n",
      "2020-01-06 2020-01-12\n",
      "2020-01-13 2020-01-19\n",
      "2020-01-20 2020-01-26\n",
      "2020-01-27 2020-02-02\n",
      "2020-01-27 2020-02-02\n",
      "2020-02-03 2020-02-09\n",
      "2020-02-10 2020-02-16\n",
      "2020-02-17 2020-02-23\n",
      "2020-02-24 2020-03-01\n",
      "2020-02-24 2020-03-01\n",
      "2020-03-02 2020-03-08\n",
      "2020-03-09 2020-03-15\n",
      "2020-03-16 2020-03-22\n",
      "2020-03-23 2020-03-29\n",
      "2020-03-30 2020-04-05\n",
      "2020-03-30 2020-04-05\n",
      "2020-04-06 2020-04-12\n",
      "2020-04-13 2020-04-19\n",
      "2020-04-20 2020-04-26\n",
      "2020-04-27 2020-05-03\n",
      "2020-04-27 2020-05-03\n",
      "2020-05-04 2020-05-10\n",
      "2020-05-11 2020-05-17\n",
      "2020-05-18 2020-05-24\n",
      "2020-05-25 2020-05-31\n",
      "2020-06-01 2020-06-07\n",
      "2020-06-08 2020-06-14\n",
      "2020-06-15 2020-06-21\n",
      "2020-06-22 2020-06-28\n",
      "2020-06-29 2020-07-05\n",
      "2020-06-29 2020-07-05\n",
      "2020-07-06 2020-07-12\n",
      "2020-07-13 2020-07-19\n",
      "2020-07-20 2020-07-26\n",
      "2020-07-27 2020-08-02\n",
      "2020-07-27 2020-08-02\n",
      "2020-08-03 2020-08-09\n",
      "2020-08-10 2020-08-16\n",
      "2020-08-17 2020-08-23\n",
      "2020-08-24 2020-08-30\n",
      "2020-08-31 2020-09-06\n",
      "2020-08-31 2020-09-06\n",
      "2020-09-07 2020-09-13\n",
      "2020-09-14 2020-09-20\n",
      "2020-09-21 2020-09-27\n",
      "2020-09-28 2020-10-04\n",
      "2020-09-28 2020-10-04\n",
      "2020-10-05 2020-10-11\n",
      "2020-10-12 2020-10-18\n",
      "2020-10-19 2020-10-25\n",
      "2020-10-26 2020-11-01\n",
      "2020-10-26 2020-11-01\n",
      "2020-11-02 2020-11-08\n",
      "2020-11-09 2020-11-15\n",
      "2020-11-16 2020-11-22\n",
      "2020-11-23 2020-11-29\n",
      "2020-11-30 2020-12-06\n",
      "2020-11-30 2020-12-06\n",
      "2020-12-07 2020-12-13\n",
      "2020-12-14 2020-12-20\n",
      "2020-12-21 2020-12-27\n",
      "2020-12-28 2021-01-03\n",
      "2020-12-28 2021-01-03\n",
      "2021-01-04 2021-01-10\n",
      "2021-01-11 2021-01-17\n",
      "2021-01-18 2021-01-24\n",
      "2021-01-25 2021-01-31\n",
      "2021-02-01 2021-02-07\n",
      "2021-02-08 2021-02-14\n",
      "2021-02-15 2021-02-21\n",
      "2021-02-22 2021-02-28\n",
      "2021-03-01 2021-03-07\n",
      "2021-03-08 2021-03-14\n",
      "2021-03-15 2021-03-21\n",
      "2021-03-22 2021-03-28\n",
      "2021-03-29 2021-04-04\n",
      "2021-03-29 2021-04-04\n",
      "2021-04-05 2021-04-11\n",
      "2021-04-12 2021-04-18\n",
      "2021-04-19 2021-04-25\n",
      "2021-04-26 2021-05-02\n",
      "2021-04-26 2021-05-02\n",
      "2021-05-03 2021-05-09\n",
      "2021-05-10 2021-05-16\n",
      "2021-05-17 2021-05-23\n",
      "2021-05-24 2021-05-30\n",
      "2021-05-31 2021-06-06\n",
      "2021-05-31 2021-06-06\n",
      "2021-06-07 2021-06-13\n",
      "2021-06-14 2021-06-20\n",
      "2021-06-21 2021-06-27\n",
      "2021-06-28 2021-07-04\n",
      "2021-06-28 2021-07-04\n",
      "2021-07-05 2021-07-11\n",
      "2021-07-12 2021-07-18\n",
      "2021-07-19 2021-07-25\n",
      "2021-07-26 2021-08-01\n",
      "2021-07-26 2021-08-01\n",
      "2021-08-02 2021-08-08\n",
      "2021-08-09 2021-08-15\n",
      "2021-08-16 2021-08-22\n",
      "2021-08-23 2021-08-29\n",
      "2021-08-30 2021-09-05\n",
      "2021-08-30 2021-09-05\n",
      "2021-09-06 2021-09-12\n",
      "2021-09-13 2021-09-19\n",
      "2021-09-20 2021-09-26\n",
      "2021-09-27 2021-10-03\n",
      "2021-09-27 2021-10-03\n",
      "2021-10-04 2021-10-10\n",
      "2021-10-11 2021-10-17\n",
      "2021-10-18 2021-10-24\n",
      "2021-10-25 2021-10-31\n",
      "2021-10-25\n",
      "2021-11-01 2021-11-07\n",
      "2021-11-29 2021-12-05\n"
     ]
    }
   ],
   "source": [
    "from pprint import pprint\n",
    "\n",
    "cal = calendar.Calendar(firstweekday=0)\n",
    "dates = cal.yeardatescalendar(datetime.date.today().year-1, width=1)\n",
    "dates.extend(cal.yeardatescalendar(datetime.date.today().year, width=1))\n",
    "\n",
    "for month in dates:\n",
    "    for weeks in month:\n",
    "        #print(weeks[0][0], weeks[-1][6])for week in weeks:\n",
    "        #pprint(week)\n",
    "        for week in weeks:\n",
    "            print(week[0], week[-1])\n",
    "            if (week[0] < date.today() and week[-1] < date.today()):\n",
    "                pass\n",
    "            elif (week[0] < date.today() and week[-1] > date.today()):\n",
    "                print(week[0])\n",
    "            else:\n",
    "                break"
   ]
  },
  {
   "cell_type": "code",
   "execution_count": 316,
   "id": "d89e547a",
   "metadata": {},
   "outputs": [
    {
     "data": {
      "text/plain": [
       "38999"
      ]
     },
     "execution_count": 316,
     "metadata": {},
     "output_type": "execute_result"
    }
   ],
   "source": [
    "myConfig= {'Wolfsburg': {'name':'Wolfsburg', 'postCodeMin' : 38000, 'postCodeMax'  : 38999},\n",
    "           'Dietzhoelztal': {'name': 'Dillkreis (Nord)', 'postCodeMin' : 35700, 'postCodeMax' : 35799}}\n",
    "\n",
    "\n",
    "currentOrt = myConfig['Wolfsburg']\n",
    "\n",
    "currentOrt['postCodeMax']"
   ]
  },
  {
   "cell_type": "code",
   "execution_count": 321,
   "id": "4e100520",
   "metadata": {},
   "outputs": [
    {
     "name": "stdout",
     "output_type": "stream",
     "text": [
      "2019-12-30\n",
      "2019-12-30 00:00:00+00:00 2020-02-02 23:59:59+00:00\n",
      "1.39 1.43\n"
     ]
    },
    {
     "data": {
      "text/plain": [
       "Text(0.5, 0.98, 'Benzinpreise in Wolfsburg')"
      ]
     },
     "execution_count": 321,
     "metadata": {},
     "output_type": "execute_result"
    },
    {
     "name": "stderr",
     "output_type": "stream",
     "text": [
      "C:\\ProgramData\\Anaconda3\\lib\\site-packages\\matplotlib\\axes\\_base.py:507: FutureWarning: Support for multi-dimensional indexing (e.g. `obj[:, None]`) is deprecated and will be removed in a future version.  Convert to a numpy array before indexing instead.\n",
      "  x = x[:, np.newaxis]\n"
     ]
    },
    {
     "data": {
      "text/plain": [
       "[<matplotlib.lines.Line2D at 0x259090b6250>]"
      ]
     },
     "execution_count": 321,
     "metadata": {},
     "output_type": "execute_result"
    },
    {
     "data": {
      "text/plain": [
       "Text(0.5, 1.0, '30-12-2019 bis 02-02-2020, zwischen 18:00 und 22:00')"
      ]
     },
     "execution_count": 321,
     "metadata": {},
     "output_type": "execute_result"
    },
    {
     "data": {
      "text/plain": [
       "<matplotlib.legend.Legend at 0x259077d4460>"
      ]
     },
     "execution_count": 321,
     "metadata": {},
     "output_type": "execute_result"
    },
    {
     "data": {
      "text/plain": [
       "(1.39, 1.43)"
      ]
     },
     "execution_count": 321,
     "metadata": {},
     "output_type": "execute_result"
    },
    {
     "data": {
      "text/plain": [
       "[<matplotlib.lines.Line2D at 0x259077ea640>]"
      ]
     },
     "execution_count": 321,
     "metadata": {},
     "output_type": "execute_result"
    },
    {
     "data": {
      "text/plain": [
       "<matplotlib.legend.Legend at 0x259077d4310>"
      ]
     },
     "execution_count": 321,
     "metadata": {},
     "output_type": "execute_result"
    },
    {
     "name": "stdout",
     "output_type": "stream",
     "text": [
      "2020-01-06\n",
      "2019-12-30 00:00:00+00:00 2020-02-02 23:59:59+00:00\n",
      "1.39 1.43\n"
     ]
    },
    {
     "data": {
      "text/plain": [
       "Text(0.5, 0.98, 'Benzinpreise in Wolfsburg')"
      ]
     },
     "execution_count": 321,
     "metadata": {},
     "output_type": "execute_result"
    },
    {
     "name": "stderr",
     "output_type": "stream",
     "text": [
      "C:\\ProgramData\\Anaconda3\\lib\\site-packages\\matplotlib\\axes\\_base.py:507: FutureWarning: Support for multi-dimensional indexing (e.g. `obj[:, None]`) is deprecated and will be removed in a future version.  Convert to a numpy array before indexing instead.\n",
      "  x = x[:, np.newaxis]\n"
     ]
    },
    {
     "data": {
      "text/plain": [
       "[<matplotlib.lines.Line2D at 0x2595cd2a4c0>]"
      ]
     },
     "execution_count": 321,
     "metadata": {},
     "output_type": "execute_result"
    },
    {
     "data": {
      "text/plain": [
       "Text(0.5, 1.0, '30-12-2019 bis 02-02-2020, zwischen 18:00 und 22:00')"
      ]
     },
     "execution_count": 321,
     "metadata": {},
     "output_type": "execute_result"
    },
    {
     "data": {
      "text/plain": [
       "<matplotlib.legend.Legend at 0x25939e0e7f0>"
      ]
     },
     "execution_count": 321,
     "metadata": {},
     "output_type": "execute_result"
    },
    {
     "data": {
      "text/plain": [
       "(1.39, 1.43)"
      ]
     },
     "execution_count": 321,
     "metadata": {},
     "output_type": "execute_result"
    },
    {
     "data": {
      "text/plain": [
       "[<matplotlib.lines.Line2D at 0x2592fab4bb0>]"
      ]
     },
     "execution_count": 321,
     "metadata": {},
     "output_type": "execute_result"
    },
    {
     "data": {
      "text/plain": [
       "<matplotlib.legend.Legend at 0x2595cd2a7f0>"
      ]
     },
     "execution_count": 321,
     "metadata": {},
     "output_type": "execute_result"
    },
    {
     "name": "stdout",
     "output_type": "stream",
     "text": [
      "2020-01-13\n",
      "2019-12-30 00:00:00+00:00 2020-02-02 23:59:59+00:00\n",
      "1.39 1.43\n"
     ]
    },
    {
     "data": {
      "text/plain": [
       "Text(0.5, 0.98, 'Benzinpreise in Wolfsburg')"
      ]
     },
     "execution_count": 321,
     "metadata": {},
     "output_type": "execute_result"
    },
    {
     "name": "stderr",
     "output_type": "stream",
     "text": [
      "C:\\ProgramData\\Anaconda3\\lib\\site-packages\\matplotlib\\axes\\_base.py:507: FutureWarning: Support for multi-dimensional indexing (e.g. `obj[:, None]`) is deprecated and will be removed in a future version.  Convert to a numpy array before indexing instead.\n",
      "  x = x[:, np.newaxis]\n"
     ]
    },
    {
     "data": {
      "text/plain": [
       "[<matplotlib.lines.Line2D at 0x2594b0fc220>]"
      ]
     },
     "execution_count": 321,
     "metadata": {},
     "output_type": "execute_result"
    },
    {
     "data": {
      "text/plain": [
       "Text(0.5, 1.0, '30-12-2019 bis 02-02-2020, zwischen 18:00 und 22:00')"
      ]
     },
     "execution_count": 321,
     "metadata": {},
     "output_type": "execute_result"
    },
    {
     "data": {
      "text/plain": [
       "<matplotlib.legend.Legend at 0x259392a27f0>"
      ]
     },
     "execution_count": 321,
     "metadata": {},
     "output_type": "execute_result"
    },
    {
     "data": {
      "text/plain": [
       "(1.39, 1.43)"
      ]
     },
     "execution_count": 321,
     "metadata": {},
     "output_type": "execute_result"
    },
    {
     "data": {
      "text/plain": [
       "[<matplotlib.lines.Line2D at 0x25a151a0670>]"
      ]
     },
     "execution_count": 321,
     "metadata": {},
     "output_type": "execute_result"
    },
    {
     "data": {
      "text/plain": [
       "<matplotlib.legend.Legend at 0x2594b0fc730>"
      ]
     },
     "execution_count": 321,
     "metadata": {},
     "output_type": "execute_result"
    },
    {
     "name": "stdout",
     "output_type": "stream",
     "text": [
      "2020-01-20\n",
      "2019-12-30 00:00:00+00:00 2020-02-02 23:59:59+00:00\n",
      "1.39 1.43\n"
     ]
    },
    {
     "data": {
      "text/plain": [
       "Text(0.5, 0.98, 'Benzinpreise in Wolfsburg')"
      ]
     },
     "execution_count": 321,
     "metadata": {},
     "output_type": "execute_result"
    },
    {
     "name": "stderr",
     "output_type": "stream",
     "text": [
      "C:\\ProgramData\\Anaconda3\\lib\\site-packages\\matplotlib\\axes\\_base.py:507: FutureWarning: Support for multi-dimensional indexing (e.g. `obj[:, None]`) is deprecated and will be removed in a future version.  Convert to a numpy array before indexing instead.\n",
      "  x = x[:, np.newaxis]\n"
     ]
    },
    {
     "data": {
      "text/plain": [
       "[<matplotlib.lines.Line2D at 0x259288a7580>]"
      ]
     },
     "execution_count": 321,
     "metadata": {},
     "output_type": "execute_result"
    },
    {
     "data": {
      "text/plain": [
       "Text(0.5, 1.0, '30-12-2019 bis 02-02-2020, zwischen 18:00 und 22:00')"
      ]
     },
     "execution_count": 321,
     "metadata": {},
     "output_type": "execute_result"
    },
    {
     "data": {
      "text/plain": [
       "<matplotlib.legend.Legend at 0x259099f5c40>"
      ]
     },
     "execution_count": 321,
     "metadata": {},
     "output_type": "execute_result"
    },
    {
     "data": {
      "text/plain": [
       "(1.39, 1.43)"
      ]
     },
     "execution_count": 321,
     "metadata": {},
     "output_type": "execute_result"
    },
    {
     "data": {
      "text/plain": [
       "[<matplotlib.lines.Line2D at 0x2595ce30670>]"
      ]
     },
     "execution_count": 321,
     "metadata": {},
     "output_type": "execute_result"
    },
    {
     "data": {
      "text/plain": [
       "<matplotlib.legend.Legend at 0x259288a78e0>"
      ]
     },
     "execution_count": 321,
     "metadata": {},
     "output_type": "execute_result"
    },
    {
     "name": "stdout",
     "output_type": "stream",
     "text": [
      "2020-01-27\n",
      "2019-12-30 00:00:00+00:00 2020-02-02 23:59:59+00:00\n",
      "1.39 1.43\n"
     ]
    },
    {
     "data": {
      "text/plain": [
       "Text(0.5, 0.98, 'Benzinpreise in Wolfsburg')"
      ]
     },
     "execution_count": 321,
     "metadata": {},
     "output_type": "execute_result"
    },
    {
     "name": "stderr",
     "output_type": "stream",
     "text": [
      "C:\\ProgramData\\Anaconda3\\lib\\site-packages\\matplotlib\\axes\\_base.py:507: FutureWarning: Support for multi-dimensional indexing (e.g. `obj[:, None]`) is deprecated and will be removed in a future version.  Convert to a numpy array before indexing instead.\n",
      "  x = x[:, np.newaxis]\n"
     ]
    },
    {
     "data": {
      "text/plain": [
       "[<matplotlib.lines.Line2D at 0x25907e9c3a0>]"
      ]
     },
     "execution_count": 321,
     "metadata": {},
     "output_type": "execute_result"
    },
    {
     "data": {
      "text/plain": [
       "Text(0.5, 1.0, '30-12-2019 bis 02-02-2020, zwischen 18:00 und 22:00')"
      ]
     },
     "execution_count": 321,
     "metadata": {},
     "output_type": "execute_result"
    },
    {
     "data": {
      "text/plain": [
       "<matplotlib.legend.Legend at 0x259310f3760>"
      ]
     },
     "execution_count": 321,
     "metadata": {},
     "output_type": "execute_result"
    },
    {
     "data": {
      "text/plain": [
       "(1.39, 1.43)"
      ]
     },
     "execution_count": 321,
     "metadata": {},
     "output_type": "execute_result"
    },
    {
     "data": {
      "text/plain": [
       "[<matplotlib.lines.Line2D at 0x25907e9c430>]"
      ]
     },
     "execution_count": 321,
     "metadata": {},
     "output_type": "execute_result"
    },
    {
     "data": {
      "text/plain": [
       "<matplotlib.legend.Legend at 0x25907e9c4f0>"
      ]
     },
     "execution_count": 321,
     "metadata": {},
     "output_type": "execute_result"
    },
    {
     "name": "stdout",
     "output_type": "stream",
     "text": [
      "2020-01-27\n",
      "2020-01-27 00:00:00+00:00 2020-03-01 23:59:59+00:00\n",
      "1.38 1.42\n"
     ]
    },
    {
     "data": {
      "text/plain": [
       "Text(0.5, 0.98, 'Benzinpreise in Wolfsburg')"
      ]
     },
     "execution_count": 321,
     "metadata": {},
     "output_type": "execute_result"
    },
    {
     "name": "stderr",
     "output_type": "stream",
     "text": [
      "C:\\ProgramData\\Anaconda3\\lib\\site-packages\\matplotlib\\axes\\_base.py:507: FutureWarning: Support for multi-dimensional indexing (e.g. `obj[:, None]`) is deprecated and will be removed in a future version.  Convert to a numpy array before indexing instead.\n",
      "  x = x[:, np.newaxis]\n"
     ]
    },
    {
     "data": {
      "text/plain": [
       "[<matplotlib.lines.Line2D at 0x259286a0490>]"
      ]
     },
     "execution_count": 321,
     "metadata": {},
     "output_type": "execute_result"
    },
    {
     "data": {
      "text/plain": [
       "Text(0.5, 1.0, '27-01-2020 bis 01-03-2020, zwischen 18:00 und 22:00')"
      ]
     },
     "execution_count": 321,
     "metadata": {},
     "output_type": "execute_result"
    },
    {
     "data": {
      "text/plain": [
       "<matplotlib.legend.Legend at 0x259261546a0>"
      ]
     },
     "execution_count": 321,
     "metadata": {},
     "output_type": "execute_result"
    },
    {
     "data": {
      "text/plain": [
       "(1.38, 1.42)"
      ]
     },
     "execution_count": 321,
     "metadata": {},
     "output_type": "execute_result"
    },
    {
     "data": {
      "text/plain": [
       "[<matplotlib.lines.Line2D at 0x2592617d820>]"
      ]
     },
     "execution_count": 321,
     "metadata": {},
     "output_type": "execute_result"
    },
    {
     "data": {
      "text/plain": [
       "<matplotlib.legend.Legend at 0x259261548e0>"
      ]
     },
     "execution_count": 321,
     "metadata": {},
     "output_type": "execute_result"
    },
    {
     "name": "stdout",
     "output_type": "stream",
     "text": [
      "2020-02-03\n",
      "2020-01-27 00:00:00+00:00 2020-03-01 23:59:59+00:00\n",
      "1.38 1.42\n"
     ]
    },
    {
     "data": {
      "text/plain": [
       "Text(0.5, 0.98, 'Benzinpreise in Wolfsburg')"
      ]
     },
     "execution_count": 321,
     "metadata": {},
     "output_type": "execute_result"
    },
    {
     "name": "stderr",
     "output_type": "stream",
     "text": [
      "C:\\ProgramData\\Anaconda3\\lib\\site-packages\\matplotlib\\axes\\_base.py:507: FutureWarning: Support for multi-dimensional indexing (e.g. `obj[:, None]`) is deprecated and will be removed in a future version.  Convert to a numpy array before indexing instead.\n",
      "  x = x[:, np.newaxis]\n"
     ]
    },
    {
     "data": {
      "text/plain": [
       "[<matplotlib.lines.Line2D at 0x25907898ac0>]"
      ]
     },
     "execution_count": 321,
     "metadata": {},
     "output_type": "execute_result"
    },
    {
     "data": {
      "text/plain": [
       "Text(0.5, 1.0, '27-01-2020 bis 01-03-2020, zwischen 18:00 und 22:00')"
      ]
     },
     "execution_count": 321,
     "metadata": {},
     "output_type": "execute_result"
    },
    {
     "data": {
      "text/plain": [
       "<matplotlib.legend.Legend at 0x25965aa0cd0>"
      ]
     },
     "execution_count": 321,
     "metadata": {},
     "output_type": "execute_result"
    },
    {
     "data": {
      "text/plain": [
       "(1.38, 1.42)"
      ]
     },
     "execution_count": 321,
     "metadata": {},
     "output_type": "execute_result"
    },
    {
     "data": {
      "text/plain": [
       "[<matplotlib.lines.Line2D at 0x25929726ca0>]"
      ]
     },
     "execution_count": 321,
     "metadata": {},
     "output_type": "execute_result"
    },
    {
     "data": {
      "text/plain": [
       "<matplotlib.legend.Legend at 0x25907898f40>"
      ]
     },
     "execution_count": 321,
     "metadata": {},
     "output_type": "execute_result"
    },
    {
     "name": "stdout",
     "output_type": "stream",
     "text": [
      "2020-02-10\n",
      "2020-01-27 00:00:00+00:00 2020-03-01 23:59:59+00:00\n",
      "1.38 1.42\n"
     ]
    },
    {
     "data": {
      "text/plain": [
       "Text(0.5, 0.98, 'Benzinpreise in Wolfsburg')"
      ]
     },
     "execution_count": 321,
     "metadata": {},
     "output_type": "execute_result"
    },
    {
     "name": "stderr",
     "output_type": "stream",
     "text": [
      "C:\\ProgramData\\Anaconda3\\lib\\site-packages\\matplotlib\\axes\\_base.py:507: FutureWarning: Support for multi-dimensional indexing (e.g. `obj[:, None]`) is deprecated and will be removed in a future version.  Convert to a numpy array before indexing instead.\n",
      "  x = x[:, np.newaxis]\n"
     ]
    },
    {
     "data": {
      "text/plain": [
       "[<matplotlib.lines.Line2D at 0x25926ec6190>]"
      ]
     },
     "execution_count": 321,
     "metadata": {},
     "output_type": "execute_result"
    },
    {
     "data": {
      "text/plain": [
       "Text(0.5, 1.0, '27-01-2020 bis 01-03-2020, zwischen 18:00 und 22:00')"
      ]
     },
     "execution_count": 321,
     "metadata": {},
     "output_type": "execute_result"
    },
    {
     "data": {
      "text/plain": [
       "<matplotlib.legend.Legend at 0x25929109490>"
      ]
     },
     "execution_count": 321,
     "metadata": {},
     "output_type": "execute_result"
    },
    {
     "data": {
      "text/plain": [
       "(1.38, 1.42)"
      ]
     },
     "execution_count": 321,
     "metadata": {},
     "output_type": "execute_result"
    },
    {
     "data": {
      "text/plain": [
       "[<matplotlib.lines.Line2D at 0x25926ecbfd0>]"
      ]
     },
     "execution_count": 321,
     "metadata": {},
     "output_type": "execute_result"
    },
    {
     "data": {
      "text/plain": [
       "<matplotlib.legend.Legend at 0x25926ecb040>"
      ]
     },
     "execution_count": 321,
     "metadata": {},
     "output_type": "execute_result"
    },
    {
     "name": "stdout",
     "output_type": "stream",
     "text": [
      "2020-02-17\n",
      "2020-01-27 00:00:00+00:00 2020-03-01 23:59:59+00:00\n",
      "1.38 1.42\n"
     ]
    },
    {
     "data": {
      "text/plain": [
       "Text(0.5, 0.98, 'Benzinpreise in Wolfsburg')"
      ]
     },
     "execution_count": 321,
     "metadata": {},
     "output_type": "execute_result"
    },
    {
     "name": "stderr",
     "output_type": "stream",
     "text": [
      "C:\\ProgramData\\Anaconda3\\lib\\site-packages\\matplotlib\\axes\\_base.py:507: FutureWarning: Support for multi-dimensional indexing (e.g. `obj[:, None]`) is deprecated and will be removed in a future version.  Convert to a numpy array before indexing instead.\n",
      "  x = x[:, np.newaxis]\n"
     ]
    },
    {
     "data": {
      "text/plain": [
       "[<matplotlib.lines.Line2D at 0x259af53d850>]"
      ]
     },
     "execution_count": 321,
     "metadata": {},
     "output_type": "execute_result"
    },
    {
     "data": {
      "text/plain": [
       "Text(0.5, 1.0, '27-01-2020 bis 01-03-2020, zwischen 18:00 und 22:00')"
      ]
     },
     "execution_count": 321,
     "metadata": {},
     "output_type": "execute_result"
    },
    {
     "data": {
      "text/plain": [
       "<matplotlib.legend.Legend at 0x2593ea39970>"
      ]
     },
     "execution_count": 321,
     "metadata": {},
     "output_type": "execute_result"
    },
    {
     "data": {
      "text/plain": [
       "(1.38, 1.42)"
      ]
     },
     "execution_count": 321,
     "metadata": {},
     "output_type": "execute_result"
    },
    {
     "data": {
      "text/plain": [
       "[<matplotlib.lines.Line2D at 0x2593ea2e7f0>]"
      ]
     },
     "execution_count": 321,
     "metadata": {},
     "output_type": "execute_result"
    },
    {
     "data": {
      "text/plain": [
       "<matplotlib.legend.Legend at 0x2594b021190>"
      ]
     },
     "execution_count": 321,
     "metadata": {},
     "output_type": "execute_result"
    },
    {
     "name": "stdout",
     "output_type": "stream",
     "text": [
      "2020-02-24\n",
      "2020-01-27 00:00:00+00:00 2020-03-01 23:59:59+00:00\n",
      "1.38 1.42\n"
     ]
    },
    {
     "data": {
      "text/plain": [
       "Text(0.5, 0.98, 'Benzinpreise in Wolfsburg')"
      ]
     },
     "execution_count": 321,
     "metadata": {},
     "output_type": "execute_result"
    },
    {
     "name": "stderr",
     "output_type": "stream",
     "text": [
      "C:\\ProgramData\\Anaconda3\\lib\\site-packages\\matplotlib\\axes\\_base.py:507: FutureWarning: Support for multi-dimensional indexing (e.g. `obj[:, None]`) is deprecated and will be removed in a future version.  Convert to a numpy array before indexing instead.\n",
      "  x = x[:, np.newaxis]\n"
     ]
    },
    {
     "data": {
      "text/plain": [
       "[<matplotlib.lines.Line2D at 0x25901338ca0>]"
      ]
     },
     "execution_count": 321,
     "metadata": {},
     "output_type": "execute_result"
    },
    {
     "data": {
      "text/plain": [
       "Text(0.5, 1.0, '27-01-2020 bis 01-03-2020, zwischen 18:00 und 22:00')"
      ]
     },
     "execution_count": 321,
     "metadata": {},
     "output_type": "execute_result"
    },
    {
     "data": {
      "text/plain": [
       "<matplotlib.legend.Legend at 0x25933b8a370>"
      ]
     },
     "execution_count": 321,
     "metadata": {},
     "output_type": "execute_result"
    },
    {
     "data": {
      "text/plain": [
       "(1.38, 1.42)"
      ]
     },
     "execution_count": 321,
     "metadata": {},
     "output_type": "execute_result"
    },
    {
     "data": {
      "text/plain": [
       "[<matplotlib.lines.Line2D at 0x25933b85e50>]"
      ]
     },
     "execution_count": 321,
     "metadata": {},
     "output_type": "execute_result"
    },
    {
     "data": {
      "text/plain": [
       "<matplotlib.legend.Legend at 0x25901338d30>"
      ]
     },
     "execution_count": 321,
     "metadata": {},
     "output_type": "execute_result"
    },
    {
     "name": "stdout",
     "output_type": "stream",
     "text": [
      "2020-02-24\n",
      "2020-02-24 00:00:00+00:00 2020-04-05 23:59:59+00:00\n",
      "1.24 1.31\n"
     ]
    },
    {
     "data": {
      "text/plain": [
       "Text(0.5, 0.98, 'Benzinpreise in Wolfsburg')"
      ]
     },
     "execution_count": 321,
     "metadata": {},
     "output_type": "execute_result"
    },
    {
     "name": "stderr",
     "output_type": "stream",
     "text": [
      "C:\\ProgramData\\Anaconda3\\lib\\site-packages\\matplotlib\\axes\\_base.py:507: FutureWarning: Support for multi-dimensional indexing (e.g. `obj[:, None]`) is deprecated and will be removed in a future version.  Convert to a numpy array before indexing instead.\n",
      "  x = x[:, np.newaxis]\n"
     ]
    },
    {
     "data": {
      "text/plain": [
       "[<matplotlib.lines.Line2D at 0x25933c572e0>]"
      ]
     },
     "execution_count": 321,
     "metadata": {},
     "output_type": "execute_result"
    },
    {
     "data": {
      "text/plain": [
       "Text(0.5, 1.0, '24-02-2020 bis 05-04-2020, zwischen 18:00 und 22:00')"
      ]
     },
     "execution_count": 321,
     "metadata": {},
     "output_type": "execute_result"
    },
    {
     "data": {
      "text/plain": [
       "<matplotlib.legend.Legend at 0x25936aad730>"
      ]
     },
     "execution_count": 321,
     "metadata": {},
     "output_type": "execute_result"
    },
    {
     "data": {
      "text/plain": [
       "(1.24, 1.31)"
      ]
     },
     "execution_count": 321,
     "metadata": {},
     "output_type": "execute_result"
    },
    {
     "data": {
      "text/plain": [
       "[<matplotlib.lines.Line2D at 0x25902a51a90>]"
      ]
     },
     "execution_count": 321,
     "metadata": {},
     "output_type": "execute_result"
    },
    {
     "data": {
      "text/plain": [
       "<matplotlib.legend.Legend at 0x25936ab4a30>"
      ]
     },
     "execution_count": 321,
     "metadata": {},
     "output_type": "execute_result"
    },
    {
     "name": "stdout",
     "output_type": "stream",
     "text": [
      "2020-03-02\n",
      "2020-02-24 00:00:00+00:00 2020-04-05 23:59:59+00:00\n",
      "1.24 1.31\n"
     ]
    },
    {
     "data": {
      "text/plain": [
       "Text(0.5, 0.98, 'Benzinpreise in Wolfsburg')"
      ]
     },
     "execution_count": 321,
     "metadata": {},
     "output_type": "execute_result"
    },
    {
     "name": "stderr",
     "output_type": "stream",
     "text": [
      "C:\\ProgramData\\Anaconda3\\lib\\site-packages\\matplotlib\\axes\\_base.py:507: FutureWarning: Support for multi-dimensional indexing (e.g. `obj[:, None]`) is deprecated and will be removed in a future version.  Convert to a numpy array before indexing instead.\n",
      "  x = x[:, np.newaxis]\n"
     ]
    },
    {
     "data": {
      "text/plain": [
       "[<matplotlib.lines.Line2D at 0x259296b0f70>]"
      ]
     },
     "execution_count": 321,
     "metadata": {},
     "output_type": "execute_result"
    },
    {
     "data": {
      "text/plain": [
       "Text(0.5, 1.0, '24-02-2020 bis 05-04-2020, zwischen 18:00 und 22:00')"
      ]
     },
     "execution_count": 321,
     "metadata": {},
     "output_type": "execute_result"
    },
    {
     "data": {
      "text/plain": [
       "<matplotlib.legend.Legend at 0x25921550ca0>"
      ]
     },
     "execution_count": 321,
     "metadata": {},
     "output_type": "execute_result"
    },
    {
     "data": {
      "text/plain": [
       "(1.24, 1.31)"
      ]
     },
     "execution_count": 321,
     "metadata": {},
     "output_type": "execute_result"
    },
    {
     "data": {
      "text/plain": [
       "[<matplotlib.lines.Line2D at 0x259fa9170d0>]"
      ]
     },
     "execution_count": 321,
     "metadata": {},
     "output_type": "execute_result"
    },
    {
     "data": {
      "text/plain": [
       "<matplotlib.legend.Legend at 0x259296b0df0>"
      ]
     },
     "execution_count": 321,
     "metadata": {},
     "output_type": "execute_result"
    },
    {
     "name": "stdout",
     "output_type": "stream",
     "text": [
      "2020-03-09\n",
      "2020-02-24 00:00:00+00:00 2020-04-05 23:59:59+00:00\n",
      "1.24 1.31\n"
     ]
    },
    {
     "data": {
      "text/plain": [
       "Text(0.5, 0.98, 'Benzinpreise in Wolfsburg')"
      ]
     },
     "execution_count": 321,
     "metadata": {},
     "output_type": "execute_result"
    },
    {
     "name": "stderr",
     "output_type": "stream",
     "text": [
      "C:\\ProgramData\\Anaconda3\\lib\\site-packages\\matplotlib\\axes\\_base.py:507: FutureWarning: Support for multi-dimensional indexing (e.g. `obj[:, None]`) is deprecated and will be removed in a future version.  Convert to a numpy array before indexing instead.\n",
      "  x = x[:, np.newaxis]\n"
     ]
    },
    {
     "data": {
      "text/plain": [
       "[<matplotlib.lines.Line2D at 0x25913a3b7c0>]"
      ]
     },
     "execution_count": 321,
     "metadata": {},
     "output_type": "execute_result"
    },
    {
     "data": {
      "text/plain": [
       "Text(0.5, 1.0, '24-02-2020 bis 05-04-2020, zwischen 18:00 und 22:00')"
      ]
     },
     "execution_count": 321,
     "metadata": {},
     "output_type": "execute_result"
    },
    {
     "data": {
      "text/plain": [
       "<matplotlib.legend.Legend at 0x2593caffdf0>"
      ]
     },
     "execution_count": 321,
     "metadata": {},
     "output_type": "execute_result"
    },
    {
     "data": {
      "text/plain": [
       "(1.24, 1.31)"
      ]
     },
     "execution_count": 321,
     "metadata": {},
     "output_type": "execute_result"
    },
    {
     "data": {
      "text/plain": [
       "[<matplotlib.lines.Line2D at 0x2593caddc70>]"
      ]
     },
     "execution_count": 321,
     "metadata": {},
     "output_type": "execute_result"
    },
    {
     "data": {
      "text/plain": [
       "<matplotlib.legend.Legend at 0x25913a3bcd0>"
      ]
     },
     "execution_count": 321,
     "metadata": {},
     "output_type": "execute_result"
    },
    {
     "name": "stdout",
     "output_type": "stream",
     "text": [
      "2020-03-16\n",
      "2020-02-24 00:00:00+00:00 2020-04-05 23:59:59+00:00\n",
      "1.24 1.31\n"
     ]
    },
    {
     "data": {
      "text/plain": [
       "Text(0.5, 0.98, 'Benzinpreise in Wolfsburg')"
      ]
     },
     "execution_count": 321,
     "metadata": {},
     "output_type": "execute_result"
    },
    {
     "name": "stderr",
     "output_type": "stream",
     "text": [
      "C:\\ProgramData\\Anaconda3\\lib\\site-packages\\matplotlib\\axes\\_base.py:507: FutureWarning: Support for multi-dimensional indexing (e.g. `obj[:, None]`) is deprecated and will be removed in a future version.  Convert to a numpy array before indexing instead.\n",
      "  x = x[:, np.newaxis]\n"
     ]
    },
    {
     "data": {
      "text/plain": [
       "[<matplotlib.lines.Line2D at 0x259415eb700>]"
      ]
     },
     "execution_count": 321,
     "metadata": {},
     "output_type": "execute_result"
    },
    {
     "data": {
      "text/plain": [
       "Text(0.5, 1.0, '24-02-2020 bis 05-04-2020, zwischen 18:00 und 22:00')"
      ]
     },
     "execution_count": 321,
     "metadata": {},
     "output_type": "execute_result"
    },
    {
     "data": {
      "text/plain": [
       "<matplotlib.legend.Legend at 0x2595ce03820>"
      ]
     },
     "execution_count": 321,
     "metadata": {},
     "output_type": "execute_result"
    },
    {
     "data": {
      "text/plain": [
       "(1.24, 1.31)"
      ]
     },
     "execution_count": 321,
     "metadata": {},
     "output_type": "execute_result"
    },
    {
     "data": {
      "text/plain": [
       "[<matplotlib.lines.Line2D at 0x259015267f0>]"
      ]
     },
     "execution_count": 321,
     "metadata": {},
     "output_type": "execute_result"
    },
    {
     "data": {
      "text/plain": [
       "<matplotlib.legend.Legend at 0x259415ebf10>"
      ]
     },
     "execution_count": 321,
     "metadata": {},
     "output_type": "execute_result"
    },
    {
     "name": "stdout",
     "output_type": "stream",
     "text": [
      "2020-03-23\n",
      "2020-02-24 00:00:00+00:00 2020-04-05 23:59:59+00:00\n",
      "1.24 1.31\n"
     ]
    },
    {
     "data": {
      "text/plain": [
       "Text(0.5, 0.98, 'Benzinpreise in Wolfsburg')"
      ]
     },
     "execution_count": 321,
     "metadata": {},
     "output_type": "execute_result"
    },
    {
     "name": "stderr",
     "output_type": "stream",
     "text": [
      "C:\\ProgramData\\Anaconda3\\lib\\site-packages\\matplotlib\\axes\\_base.py:507: FutureWarning: Support for multi-dimensional indexing (e.g. `obj[:, None]`) is deprecated and will be removed in a future version.  Convert to a numpy array before indexing instead.\n",
      "  x = x[:, np.newaxis]\n"
     ]
    },
    {
     "data": {
      "text/plain": [
       "[<matplotlib.lines.Line2D at 0x259a6ee50d0>]"
      ]
     },
     "execution_count": 321,
     "metadata": {},
     "output_type": "execute_result"
    },
    {
     "data": {
      "text/plain": [
       "Text(0.5, 1.0, '24-02-2020 bis 05-04-2020, zwischen 18:00 und 22:00')"
      ]
     },
     "execution_count": 321,
     "metadata": {},
     "output_type": "execute_result"
    },
    {
     "data": {
      "text/plain": [
       "<matplotlib.legend.Legend at 0x25905500760>"
      ]
     },
     "execution_count": 321,
     "metadata": {},
     "output_type": "execute_result"
    },
    {
     "data": {
      "text/plain": [
       "(1.24, 1.31)"
      ]
     },
     "execution_count": 321,
     "metadata": {},
     "output_type": "execute_result"
    },
    {
     "data": {
      "text/plain": [
       "[<matplotlib.lines.Line2D at 0x259a6ee5160>]"
      ]
     },
     "execution_count": 321,
     "metadata": {},
     "output_type": "execute_result"
    },
    {
     "data": {
      "text/plain": [
       "<matplotlib.legend.Legend at 0x259095950a0>"
      ]
     },
     "execution_count": 321,
     "metadata": {},
     "output_type": "execute_result"
    },
    {
     "name": "stdout",
     "output_type": "stream",
     "text": [
      "2020-03-30\n",
      "2020-02-24 00:00:00+00:00 2020-04-05 23:59:59+00:00\n",
      "1.24 1.31\n"
     ]
    },
    {
     "data": {
      "text/plain": [
       "Text(0.5, 0.98, 'Benzinpreise in Wolfsburg')"
      ]
     },
     "execution_count": 321,
     "metadata": {},
     "output_type": "execute_result"
    },
    {
     "name": "stderr",
     "output_type": "stream",
     "text": [
      "C:\\ProgramData\\Anaconda3\\lib\\site-packages\\matplotlib\\axes\\_base.py:507: FutureWarning: Support for multi-dimensional indexing (e.g. `obj[:, None]`) is deprecated and will be removed in a future version.  Convert to a numpy array before indexing instead.\n",
      "  x = x[:, np.newaxis]\n"
     ]
    },
    {
     "data": {
      "text/plain": [
       "[<matplotlib.lines.Line2D at 0x2593b47abe0>]"
      ]
     },
     "execution_count": 321,
     "metadata": {},
     "output_type": "execute_result"
    },
    {
     "data": {
      "text/plain": [
       "Text(0.5, 1.0, '24-02-2020 bis 05-04-2020, zwischen 18:00 und 22:00')"
      ]
     },
     "execution_count": 321,
     "metadata": {},
     "output_type": "execute_result"
    },
    {
     "data": {
      "text/plain": [
       "<matplotlib.legend.Legend at 0x259023950a0>"
      ]
     },
     "execution_count": 321,
     "metadata": {},
     "output_type": "execute_result"
    },
    {
     "data": {
      "text/plain": [
       "(1.24, 1.31)"
      ]
     },
     "execution_count": 321,
     "metadata": {},
     "output_type": "execute_result"
    },
    {
     "data": {
      "text/plain": [
       "[<matplotlib.lines.Line2D at 0x2593cb00bb0>]"
      ]
     },
     "execution_count": 321,
     "metadata": {},
     "output_type": "execute_result"
    },
    {
     "data": {
      "text/plain": [
       "<matplotlib.legend.Legend at 0x2593b47ae50>"
      ]
     },
     "execution_count": 321,
     "metadata": {},
     "output_type": "execute_result"
    },
    {
     "name": "stdout",
     "output_type": "stream",
     "text": [
      "2020-03-30\n",
      "2020-03-30 00:00:00+00:00 2020-05-03 23:59:59+00:00\n",
      "1.13 1.21\n"
     ]
    },
    {
     "data": {
      "text/plain": [
       "Text(0.5, 0.98, 'Benzinpreise in Wolfsburg')"
      ]
     },
     "execution_count": 321,
     "metadata": {},
     "output_type": "execute_result"
    },
    {
     "name": "stderr",
     "output_type": "stream",
     "text": [
      "C:\\ProgramData\\Anaconda3\\lib\\site-packages\\matplotlib\\axes\\_base.py:507: FutureWarning: Support for multi-dimensional indexing (e.g. `obj[:, None]`) is deprecated and will be removed in a future version.  Convert to a numpy array before indexing instead.\n",
      "  x = x[:, np.newaxis]\n"
     ]
    },
    {
     "data": {
      "text/plain": [
       "[<matplotlib.lines.Line2D at 0x25927764760>]"
      ]
     },
     "execution_count": 321,
     "metadata": {},
     "output_type": "execute_result"
    },
    {
     "data": {
      "text/plain": [
       "Text(0.5, 1.0, '30-03-2020 bis 03-05-2020, zwischen 18:00 und 22:00')"
      ]
     },
     "execution_count": 321,
     "metadata": {},
     "output_type": "execute_result"
    },
    {
     "data": {
      "text/plain": [
       "<matplotlib.legend.Legend at 0x2590194dbb0>"
      ]
     },
     "execution_count": 321,
     "metadata": {},
     "output_type": "execute_result"
    },
    {
     "data": {
      "text/plain": [
       "(1.13, 1.21)"
      ]
     },
     "execution_count": 321,
     "metadata": {},
     "output_type": "execute_result"
    },
    {
     "data": {
      "text/plain": [
       "[<matplotlib.lines.Line2D at 0x259277647f0>]"
      ]
     },
     "execution_count": 321,
     "metadata": {},
     "output_type": "execute_result"
    },
    {
     "data": {
      "text/plain": [
       "<matplotlib.legend.Legend at 0x259277648b0>"
      ]
     },
     "execution_count": 321,
     "metadata": {},
     "output_type": "execute_result"
    },
    {
     "name": "stdout",
     "output_type": "stream",
     "text": [
      "2020-04-06\n",
      "2020-03-30 00:00:00+00:00 2020-05-03 23:59:59+00:00\n",
      "1.13 1.21\n"
     ]
    },
    {
     "data": {
      "text/plain": [
       "Text(0.5, 0.98, 'Benzinpreise in Wolfsburg')"
      ]
     },
     "execution_count": 321,
     "metadata": {},
     "output_type": "execute_result"
    },
    {
     "name": "stderr",
     "output_type": "stream",
     "text": [
      "C:\\ProgramData\\Anaconda3\\lib\\site-packages\\matplotlib\\axes\\_base.py:507: FutureWarning: Support for multi-dimensional indexing (e.g. `obj[:, None]`) is deprecated and will be removed in a future version.  Convert to a numpy array before indexing instead.\n",
      "  x = x[:, np.newaxis]\n"
     ]
    },
    {
     "data": {
      "text/plain": [
       "[<matplotlib.lines.Line2D at 0x259eff37f10>]"
      ]
     },
     "execution_count": 321,
     "metadata": {},
     "output_type": "execute_result"
    },
    {
     "data": {
      "text/plain": [
       "Text(0.5, 1.0, '30-03-2020 bis 03-05-2020, zwischen 18:00 und 22:00')"
      ]
     },
     "execution_count": 321,
     "metadata": {},
     "output_type": "execute_result"
    },
    {
     "data": {
      "text/plain": [
       "<matplotlib.legend.Legend at 0x25a04218340>"
      ]
     },
     "execution_count": 321,
     "metadata": {},
     "output_type": "execute_result"
    },
    {
     "data": {
      "text/plain": [
       "(1.13, 1.21)"
      ]
     },
     "execution_count": 321,
     "metadata": {},
     "output_type": "execute_result"
    },
    {
     "data": {
      "text/plain": [
       "[<matplotlib.lines.Line2D at 0x259eff37fa0>]"
      ]
     },
     "execution_count": 321,
     "metadata": {},
     "output_type": "execute_result"
    },
    {
     "data": {
      "text/plain": [
       "<matplotlib.legend.Legend at 0x25916ded880>"
      ]
     },
     "execution_count": 321,
     "metadata": {},
     "output_type": "execute_result"
    },
    {
     "name": "stdout",
     "output_type": "stream",
     "text": [
      "2020-04-13\n",
      "2020-03-30 00:00:00+00:00 2020-05-03 23:59:59+00:00\n",
      "1.13 1.21\n"
     ]
    },
    {
     "data": {
      "text/plain": [
       "Text(0.5, 0.98, 'Benzinpreise in Wolfsburg')"
      ]
     },
     "execution_count": 321,
     "metadata": {},
     "output_type": "execute_result"
    },
    {
     "name": "stderr",
     "output_type": "stream",
     "text": [
      "C:\\ProgramData\\Anaconda3\\lib\\site-packages\\matplotlib\\axes\\_base.py:507: FutureWarning: Support for multi-dimensional indexing (e.g. `obj[:, None]`) is deprecated and will be removed in a future version.  Convert to a numpy array before indexing instead.\n",
      "  x = x[:, np.newaxis]\n"
     ]
    },
    {
     "data": {
      "text/plain": [
       "[<matplotlib.lines.Line2D at 0x2596f8546a0>]"
      ]
     },
     "execution_count": 321,
     "metadata": {},
     "output_type": "execute_result"
    },
    {
     "data": {
      "text/plain": [
       "Text(0.5, 1.0, '30-03-2020 bis 03-05-2020, zwischen 18:00 und 22:00')"
      ]
     },
     "execution_count": 321,
     "metadata": {},
     "output_type": "execute_result"
    },
    {
     "data": {
      "text/plain": [
       "<matplotlib.legend.Legend at 0x259022cca90>"
      ]
     },
     "execution_count": 321,
     "metadata": {},
     "output_type": "execute_result"
    },
    {
     "data": {
      "text/plain": [
       "(1.13, 1.21)"
      ]
     },
     "execution_count": 321,
     "metadata": {},
     "output_type": "execute_result"
    },
    {
     "data": {
      "text/plain": [
       "[<matplotlib.lines.Line2D at 0x259022cd910>]"
      ]
     },
     "execution_count": 321,
     "metadata": {},
     "output_type": "execute_result"
    },
    {
     "data": {
      "text/plain": [
       "<matplotlib.legend.Legend at 0x2596f854d90>"
      ]
     },
     "execution_count": 321,
     "metadata": {},
     "output_type": "execute_result"
    },
    {
     "name": "stdout",
     "output_type": "stream",
     "text": [
      "2020-04-20\n",
      "2020-03-30 00:00:00+00:00 2020-05-03 23:59:59+00:00\n",
      "1.13 1.21\n"
     ]
    },
    {
     "data": {
      "text/plain": [
       "Text(0.5, 0.98, 'Benzinpreise in Wolfsburg')"
      ]
     },
     "execution_count": 321,
     "metadata": {},
     "output_type": "execute_result"
    },
    {
     "name": "stderr",
     "output_type": "stream",
     "text": [
      "C:\\ProgramData\\Anaconda3\\lib\\site-packages\\matplotlib\\axes\\_base.py:507: FutureWarning: Support for multi-dimensional indexing (e.g. `obj[:, None]`) is deprecated and will be removed in a future version.  Convert to a numpy array before indexing instead.\n",
      "  x = x[:, np.newaxis]\n"
     ]
    },
    {
     "data": {
      "text/plain": [
       "[<matplotlib.lines.Line2D at 0x259270ccb20>]"
      ]
     },
     "execution_count": 321,
     "metadata": {},
     "output_type": "execute_result"
    },
    {
     "data": {
      "text/plain": [
       "Text(0.5, 1.0, '30-03-2020 bis 03-05-2020, zwischen 18:00 und 22:00')"
      ]
     },
     "execution_count": 321,
     "metadata": {},
     "output_type": "execute_result"
    },
    {
     "data": {
      "text/plain": [
       "<matplotlib.legend.Legend at 0x25907c2c250>"
      ]
     },
     "execution_count": 321,
     "metadata": {},
     "output_type": "execute_result"
    },
    {
     "data": {
      "text/plain": [
       "(1.13, 1.21)"
      ]
     },
     "execution_count": 321,
     "metadata": {},
     "output_type": "execute_result"
    },
    {
     "data": {
      "text/plain": [
       "[<matplotlib.lines.Line2D at 0x25941632f70>]"
      ]
     },
     "execution_count": 321,
     "metadata": {},
     "output_type": "execute_result"
    },
    {
     "data": {
      "text/plain": [
       "<matplotlib.legend.Legend at 0x259270ccf40>"
      ]
     },
     "execution_count": 321,
     "metadata": {},
     "output_type": "execute_result"
    },
    {
     "name": "stdout",
     "output_type": "stream",
     "text": [
      "2020-04-27\n",
      "2020-03-30 00:00:00+00:00 2020-05-03 23:59:59+00:00\n",
      "1.13 1.21\n"
     ]
    },
    {
     "data": {
      "text/plain": [
       "Text(0.5, 0.98, 'Benzinpreise in Wolfsburg')"
      ]
     },
     "execution_count": 321,
     "metadata": {},
     "output_type": "execute_result"
    },
    {
     "name": "stderr",
     "output_type": "stream",
     "text": [
      "C:\\ProgramData\\Anaconda3\\lib\\site-packages\\matplotlib\\axes\\_base.py:507: FutureWarning: Support for multi-dimensional indexing (e.g. `obj[:, None]`) is deprecated and will be removed in a future version.  Convert to a numpy array before indexing instead.\n",
      "  x = x[:, np.newaxis]\n"
     ]
    },
    {
     "data": {
      "text/plain": [
       "[<matplotlib.lines.Line2D at 0x25946e6fca0>]"
      ]
     },
     "execution_count": 321,
     "metadata": {},
     "output_type": "execute_result"
    },
    {
     "data": {
      "text/plain": [
       "Text(0.5, 1.0, '30-03-2020 bis 03-05-2020, zwischen 18:00 und 22:00')"
      ]
     },
     "execution_count": 321,
     "metadata": {},
     "output_type": "execute_result"
    },
    {
     "data": {
      "text/plain": [
       "<matplotlib.legend.Legend at 0x259a6f55820>"
      ]
     },
     "execution_count": 321,
     "metadata": {},
     "output_type": "execute_result"
    },
    {
     "data": {
      "text/plain": [
       "(1.13, 1.21)"
      ]
     },
     "execution_count": 321,
     "metadata": {},
     "output_type": "execute_result"
    },
    {
     "data": {
      "text/plain": [
       "[<matplotlib.lines.Line2D at 0x2593a2147f0>]"
      ]
     },
     "execution_count": 321,
     "metadata": {},
     "output_type": "execute_result"
    },
    {
     "data": {
      "text/plain": [
       "<matplotlib.legend.Legend at 0x25946e6f760>"
      ]
     },
     "execution_count": 321,
     "metadata": {},
     "output_type": "execute_result"
    },
    {
     "name": "stdout",
     "output_type": "stream",
     "text": [
      "2020-04-27\n",
      "2020-04-27 00:00:00+00:00 2020-05-31 23:59:59+00:00\n",
      "1.17 1.2\n"
     ]
    },
    {
     "data": {
      "text/plain": [
       "Text(0.5, 0.98, 'Benzinpreise in Wolfsburg')"
      ]
     },
     "execution_count": 321,
     "metadata": {},
     "output_type": "execute_result"
    },
    {
     "name": "stderr",
     "output_type": "stream",
     "text": [
      "C:\\ProgramData\\Anaconda3\\lib\\site-packages\\matplotlib\\axes\\_base.py:507: FutureWarning: Support for multi-dimensional indexing (e.g. `obj[:, None]`) is deprecated and will be removed in a future version.  Convert to a numpy array before indexing instead.\n",
      "  x = x[:, np.newaxis]\n"
     ]
    },
    {
     "data": {
      "text/plain": [
       "[<matplotlib.lines.Line2D at 0x25913030d00>]"
      ]
     },
     "execution_count": 321,
     "metadata": {},
     "output_type": "execute_result"
    },
    {
     "data": {
      "text/plain": [
       "Text(0.5, 1.0, '27-04-2020 bis 31-05-2020, zwischen 18:00 und 22:00')"
      ]
     },
     "execution_count": 321,
     "metadata": {},
     "output_type": "execute_result"
    },
    {
     "data": {
      "text/plain": [
       "<matplotlib.legend.Legend at 0x259ef8fdfa0>"
      ]
     },
     "execution_count": 321,
     "metadata": {},
     "output_type": "execute_result"
    },
    {
     "data": {
      "text/plain": [
       "(1.17, 1.2)"
      ]
     },
     "execution_count": 321,
     "metadata": {},
     "output_type": "execute_result"
    },
    {
     "data": {
      "text/plain": [
       "[<matplotlib.lines.Line2D at 0x2594012fe50>]"
      ]
     },
     "execution_count": 321,
     "metadata": {},
     "output_type": "execute_result"
    },
    {
     "data": {
      "text/plain": [
       "<matplotlib.legend.Legend at 0x25913030e20>"
      ]
     },
     "execution_count": 321,
     "metadata": {},
     "output_type": "execute_result"
    },
    {
     "name": "stdout",
     "output_type": "stream",
     "text": [
      "2020-05-04\n",
      "2020-04-27 00:00:00+00:00 2020-05-31 23:59:59+00:00\n",
      "1.17 1.2\n"
     ]
    },
    {
     "data": {
      "text/plain": [
       "Text(0.5, 0.98, 'Benzinpreise in Wolfsburg')"
      ]
     },
     "execution_count": 321,
     "metadata": {},
     "output_type": "execute_result"
    },
    {
     "name": "stderr",
     "output_type": "stream",
     "text": [
      "C:\\ProgramData\\Anaconda3\\lib\\site-packages\\matplotlib\\axes\\_base.py:507: FutureWarning: Support for multi-dimensional indexing (e.g. `obj[:, None]`) is deprecated and will be removed in a future version.  Convert to a numpy array before indexing instead.\n",
      "  x = x[:, np.newaxis]\n"
     ]
    },
    {
     "data": {
      "text/plain": [
       "[<matplotlib.lines.Line2D at 0x25926fc1820>]"
      ]
     },
     "execution_count": 321,
     "metadata": {},
     "output_type": "execute_result"
    },
    {
     "data": {
      "text/plain": [
       "Text(0.5, 1.0, '27-04-2020 bis 31-05-2020, zwischen 18:00 und 22:00')"
      ]
     },
     "execution_count": 321,
     "metadata": {},
     "output_type": "execute_result"
    },
    {
     "data": {
      "text/plain": [
       "<matplotlib.legend.Legend at 0x259023c9b80>"
      ]
     },
     "execution_count": 321,
     "metadata": {},
     "output_type": "execute_result"
    },
    {
     "data": {
      "text/plain": [
       "(1.17, 1.2)"
      ]
     },
     "execution_count": 321,
     "metadata": {},
     "output_type": "execute_result"
    },
    {
     "data": {
      "text/plain": [
       "[<matplotlib.lines.Line2D at 0x259023eaa00>]"
      ]
     },
     "execution_count": 321,
     "metadata": {},
     "output_type": "execute_result"
    },
    {
     "data": {
      "text/plain": [
       "<matplotlib.legend.Legend at 0x25929579c40>"
      ]
     },
     "execution_count": 321,
     "metadata": {},
     "output_type": "execute_result"
    },
    {
     "name": "stdout",
     "output_type": "stream",
     "text": [
      "2020-05-11\n",
      "2020-04-27 00:00:00+00:00 2020-05-31 23:59:59+00:00\n",
      "1.17 1.2\n"
     ]
    },
    {
     "data": {
      "text/plain": [
       "Text(0.5, 0.98, 'Benzinpreise in Wolfsburg')"
      ]
     },
     "execution_count": 321,
     "metadata": {},
     "output_type": "execute_result"
    },
    {
     "name": "stderr",
     "output_type": "stream",
     "text": [
      "C:\\ProgramData\\Anaconda3\\lib\\site-packages\\matplotlib\\axes\\_base.py:507: FutureWarning: Support for multi-dimensional indexing (e.g. `obj[:, None]`) is deprecated and will be removed in a future version.  Convert to a numpy array before indexing instead.\n",
      "  x = x[:, np.newaxis]\n"
     ]
    },
    {
     "data": {
      "text/plain": [
       "[<matplotlib.lines.Line2D at 0x2596f6f3490>]"
      ]
     },
     "execution_count": 321,
     "metadata": {},
     "output_type": "execute_result"
    },
    {
     "data": {
      "text/plain": [
       "Text(0.5, 1.0, '27-04-2020 bis 31-05-2020, zwischen 18:00 und 22:00')"
      ]
     },
     "execution_count": 321,
     "metadata": {},
     "output_type": "execute_result"
    },
    {
     "data": {
      "text/plain": [
       "<matplotlib.legend.Legend at 0x259af207910>"
      ]
     },
     "execution_count": 321,
     "metadata": {},
     "output_type": "execute_result"
    },
    {
     "data": {
      "text/plain": [
       "(1.17, 1.2)"
      ]
     },
     "execution_count": 321,
     "metadata": {},
     "output_type": "execute_result"
    },
    {
     "data": {
      "text/plain": [
       "[<matplotlib.lines.Line2D at 0x259af209790>]"
      ]
     },
     "execution_count": 321,
     "metadata": {},
     "output_type": "execute_result"
    },
    {
     "data": {
      "text/plain": [
       "<matplotlib.legend.Legend at 0x2596f7074c0>"
      ]
     },
     "execution_count": 321,
     "metadata": {},
     "output_type": "execute_result"
    },
    {
     "name": "stdout",
     "output_type": "stream",
     "text": [
      "2020-05-18\n",
      "2020-04-27 00:00:00+00:00 2020-05-31 23:59:59+00:00\n",
      "1.17 1.2\n"
     ]
    },
    {
     "data": {
      "text/plain": [
       "Text(0.5, 0.98, 'Benzinpreise in Wolfsburg')"
      ]
     },
     "execution_count": 321,
     "metadata": {},
     "output_type": "execute_result"
    },
    {
     "name": "stderr",
     "output_type": "stream",
     "text": [
      "C:\\ProgramData\\Anaconda3\\lib\\site-packages\\matplotlib\\axes\\_base.py:507: FutureWarning: Support for multi-dimensional indexing (e.g. `obj[:, None]`) is deprecated and will be removed in a future version.  Convert to a numpy array before indexing instead.\n",
      "  x = x[:, np.newaxis]\n"
     ]
    },
    {
     "data": {
      "text/plain": [
       "[<matplotlib.lines.Line2D at 0x2593b324e20>]"
      ]
     },
     "execution_count": 321,
     "metadata": {},
     "output_type": "execute_result"
    },
    {
     "data": {
      "text/plain": [
       "Text(0.5, 1.0, '27-04-2020 bis 31-05-2020, zwischen 18:00 und 22:00')"
      ]
     },
     "execution_count": 321,
     "metadata": {},
     "output_type": "execute_result"
    },
    {
     "data": {
      "text/plain": [
       "<matplotlib.legend.Legend at 0x25965a22520>"
      ]
     },
     "execution_count": 321,
     "metadata": {},
     "output_type": "execute_result"
    },
    {
     "data": {
      "text/plain": [
       "(1.17, 1.2)"
      ]
     },
     "execution_count": 321,
     "metadata": {},
     "output_type": "execute_result"
    },
    {
     "data": {
      "text/plain": [
       "[<matplotlib.lines.Line2D at 0x25a14f71880>]"
      ]
     },
     "execution_count": 321,
     "metadata": {},
     "output_type": "execute_result"
    },
    {
     "data": {
      "text/plain": [
       "<matplotlib.legend.Legend at 0x2593b3240a0>"
      ]
     },
     "execution_count": 321,
     "metadata": {},
     "output_type": "execute_result"
    },
    {
     "name": "stdout",
     "output_type": "stream",
     "text": [
      "2020-05-25\n",
      "2020-04-27 00:00:00+00:00 2020-05-31 23:59:59+00:00\n",
      "1.17 1.2\n"
     ]
    },
    {
     "data": {
      "text/plain": [
       "Text(0.5, 0.98, 'Benzinpreise in Wolfsburg')"
      ]
     },
     "execution_count": 321,
     "metadata": {},
     "output_type": "execute_result"
    },
    {
     "name": "stderr",
     "output_type": "stream",
     "text": [
      "C:\\ProgramData\\Anaconda3\\lib\\site-packages\\matplotlib\\axes\\_base.py:507: FutureWarning: Support for multi-dimensional indexing (e.g. `obj[:, None]`) is deprecated and will be removed in a future version.  Convert to a numpy array before indexing instead.\n",
      "  x = x[:, np.newaxis]\n"
     ]
    },
    {
     "data": {
      "text/plain": [
       "[<matplotlib.lines.Line2D at 0x25a1503ed90>]"
      ]
     },
     "execution_count": 321,
     "metadata": {},
     "output_type": "execute_result"
    },
    {
     "data": {
      "text/plain": [
       "Text(0.5, 1.0, '27-04-2020 bis 31-05-2020, zwischen 18:00 und 22:00')"
      ]
     },
     "execution_count": 321,
     "metadata": {},
     "output_type": "execute_result"
    },
    {
     "data": {
      "text/plain": [
       "<matplotlib.legend.Legend at 0x259e7b46e50>"
      ]
     },
     "execution_count": 321,
     "metadata": {},
     "output_type": "execute_result"
    },
    {
     "data": {
      "text/plain": [
       "(1.17, 1.2)"
      ]
     },
     "execution_count": 321,
     "metadata": {},
     "output_type": "execute_result"
    },
    {
     "data": {
      "text/plain": [
       "[<matplotlib.lines.Line2D at 0x259e7b61e50>]"
      ]
     },
     "execution_count": 321,
     "metadata": {},
     "output_type": "execute_result"
    },
    {
     "data": {
      "text/plain": [
       "<matplotlib.legend.Legend at 0x25a1504a250>"
      ]
     },
     "execution_count": 321,
     "metadata": {},
     "output_type": "execute_result"
    },
    {
     "name": "stdout",
     "output_type": "stream",
     "text": [
      "2020-06-01\n",
      "2020-06-01 00:00:00+00:00 2020-07-05 23:59:59+00:00\n",
      "1.26 1.3\n"
     ]
    },
    {
     "data": {
      "text/plain": [
       "Text(0.5, 0.98, 'Benzinpreise in Wolfsburg')"
      ]
     },
     "execution_count": 321,
     "metadata": {},
     "output_type": "execute_result"
    },
    {
     "name": "stderr",
     "output_type": "stream",
     "text": [
      "C:\\ProgramData\\Anaconda3\\lib\\site-packages\\matplotlib\\axes\\_base.py:507: FutureWarning: Support for multi-dimensional indexing (e.g. `obj[:, None]`) is deprecated and will be removed in a future version.  Convert to a numpy array before indexing instead.\n",
      "  x = x[:, np.newaxis]\n"
     ]
    },
    {
     "data": {
      "text/plain": [
       "[<matplotlib.lines.Line2D at 0x25965ae5970>]"
      ]
     },
     "execution_count": 321,
     "metadata": {},
     "output_type": "execute_result"
    },
    {
     "data": {
      "text/plain": [
       "Text(0.5, 1.0, '01-06-2020 bis 05-07-2020, zwischen 18:00 und 22:00')"
      ]
     },
     "execution_count": 321,
     "metadata": {},
     "output_type": "execute_result"
    },
    {
     "data": {
      "text/plain": [
       "<matplotlib.legend.Legend at 0x2592c725d00>"
      ]
     },
     "execution_count": 321,
     "metadata": {},
     "output_type": "execute_result"
    },
    {
     "data": {
      "text/plain": [
       "(1.26, 1.3)"
      ]
     },
     "execution_count": 321,
     "metadata": {},
     "output_type": "execute_result"
    },
    {
     "data": {
      "text/plain": [
       "[<matplotlib.lines.Line2D at 0x259af2b6b80>]"
      ]
     },
     "execution_count": 321,
     "metadata": {},
     "output_type": "execute_result"
    },
    {
     "data": {
      "text/plain": [
       "<matplotlib.legend.Legend at 0x25965ae5bb0>"
      ]
     },
     "execution_count": 321,
     "metadata": {},
     "output_type": "execute_result"
    },
    {
     "name": "stdout",
     "output_type": "stream",
     "text": [
      "2020-06-08\n",
      "2020-06-01 00:00:00+00:00 2020-07-05 23:59:59+00:00\n",
      "1.26 1.3\n"
     ]
    },
    {
     "data": {
      "text/plain": [
       "Text(0.5, 0.98, 'Benzinpreise in Wolfsburg')"
      ]
     },
     "execution_count": 321,
     "metadata": {},
     "output_type": "execute_result"
    },
    {
     "name": "stderr",
     "output_type": "stream",
     "text": [
      "C:\\ProgramData\\Anaconda3\\lib\\site-packages\\matplotlib\\axes\\_base.py:507: FutureWarning: Support for multi-dimensional indexing (e.g. `obj[:, None]`) is deprecated and will be removed in a future version.  Convert to a numpy array before indexing instead.\n",
      "  x = x[:, np.newaxis]\n"
     ]
    },
    {
     "data": {
      "text/plain": [
       "[<matplotlib.lines.Line2D at 0x2596d29a490>]"
      ]
     },
     "execution_count": 321,
     "metadata": {},
     "output_type": "execute_result"
    },
    {
     "data": {
      "text/plain": [
       "Text(0.5, 1.0, '01-06-2020 bis 05-07-2020, zwischen 18:00 und 22:00')"
      ]
     },
     "execution_count": 321,
     "metadata": {},
     "output_type": "execute_result"
    },
    {
     "data": {
      "text/plain": [
       "<matplotlib.legend.Legend at 0x25a0daeb670>"
      ]
     },
     "execution_count": 321,
     "metadata": {},
     "output_type": "execute_result"
    },
    {
     "data": {
      "text/plain": [
       "(1.26, 1.3)"
      ]
     },
     "execution_count": 321,
     "metadata": {},
     "output_type": "execute_result"
    },
    {
     "data": {
      "text/plain": [
       "[<matplotlib.lines.Line2D at 0x25a0daff640>]"
      ]
     },
     "execution_count": 321,
     "metadata": {},
     "output_type": "execute_result"
    },
    {
     "data": {
      "text/plain": [
       "<matplotlib.legend.Legend at 0x2596d29a310>"
      ]
     },
     "execution_count": 321,
     "metadata": {},
     "output_type": "execute_result"
    },
    {
     "name": "stdout",
     "output_type": "stream",
     "text": [
      "2020-06-15\n",
      "2020-06-01 00:00:00+00:00 2020-07-05 23:59:59+00:00\n",
      "1.26 1.3\n"
     ]
    },
    {
     "data": {
      "text/plain": [
       "Text(0.5, 0.98, 'Benzinpreise in Wolfsburg')"
      ]
     },
     "execution_count": 321,
     "metadata": {},
     "output_type": "execute_result"
    },
    {
     "name": "stderr",
     "output_type": "stream",
     "text": [
      "C:\\ProgramData\\Anaconda3\\lib\\site-packages\\matplotlib\\axes\\_base.py:507: FutureWarning: Support for multi-dimensional indexing (e.g. `obj[:, None]`) is deprecated and will be removed in a future version.  Convert to a numpy array before indexing instead.\n",
      "  x = x[:, np.newaxis]\n"
     ]
    },
    {
     "data": {
      "text/plain": [
       "[<matplotlib.lines.Line2D at 0x25913e13f70>]"
      ]
     },
     "execution_count": 321,
     "metadata": {},
     "output_type": "execute_result"
    },
    {
     "data": {
      "text/plain": [
       "Text(0.5, 1.0, '01-06-2020 bis 05-07-2020, zwischen 18:00 und 22:00')"
      ]
     },
     "execution_count": 321,
     "metadata": {},
     "output_type": "execute_result"
    },
    {
     "data": {
      "text/plain": [
       "<matplotlib.legend.Legend at 0x259c25ed520>"
      ]
     },
     "execution_count": 321,
     "metadata": {},
     "output_type": "execute_result"
    },
    {
     "data": {
      "text/plain": [
       "(1.26, 1.3)"
      ]
     },
     "execution_count": 321,
     "metadata": {},
     "output_type": "execute_result"
    },
    {
     "data": {
      "text/plain": [
       "[<matplotlib.lines.Line2D at 0x2596047ce50>]"
      ]
     },
     "execution_count": 321,
     "metadata": {},
     "output_type": "execute_result"
    },
    {
     "data": {
      "text/plain": [
       "<matplotlib.legend.Legend at 0x25913e13ca0>"
      ]
     },
     "execution_count": 321,
     "metadata": {},
     "output_type": "execute_result"
    },
    {
     "name": "stdout",
     "output_type": "stream",
     "text": [
      "2020-06-22\n",
      "2020-06-01 00:00:00+00:00 2020-07-05 23:59:59+00:00\n",
      "1.26 1.3\n"
     ]
    },
    {
     "data": {
      "text/plain": [
       "Text(0.5, 0.98, 'Benzinpreise in Wolfsburg')"
      ]
     },
     "execution_count": 321,
     "metadata": {},
     "output_type": "execute_result"
    },
    {
     "name": "stderr",
     "output_type": "stream",
     "text": [
      "C:\\ProgramData\\Anaconda3\\lib\\site-packages\\matplotlib\\axes\\_base.py:507: FutureWarning: Support for multi-dimensional indexing (e.g. `obj[:, None]`) is deprecated and will be removed in a future version.  Convert to a numpy array before indexing instead.\n",
      "  x = x[:, np.newaxis]\n"
     ]
    },
    {
     "data": {
      "text/plain": [
       "[<matplotlib.lines.Line2D at 0x2592e4686a0>]"
      ]
     },
     "execution_count": 321,
     "metadata": {},
     "output_type": "execute_result"
    },
    {
     "data": {
      "text/plain": [
       "Text(0.5, 1.0, '01-06-2020 bis 05-07-2020, zwischen 18:00 und 22:00')"
      ]
     },
     "execution_count": 321,
     "metadata": {},
     "output_type": "execute_result"
    },
    {
     "data": {
      "text/plain": [
       "<matplotlib.legend.Legend at 0x25960ae8c40>"
      ]
     },
     "execution_count": 321,
     "metadata": {},
     "output_type": "execute_result"
    },
    {
     "data": {
      "text/plain": [
       "(1.26, 1.3)"
      ]
     },
     "execution_count": 321,
     "metadata": {},
     "output_type": "execute_result"
    },
    {
     "data": {
      "text/plain": [
       "[<matplotlib.lines.Line2D at 0x25960b19c10>]"
      ]
     },
     "execution_count": 321,
     "metadata": {},
     "output_type": "execute_result"
    },
    {
     "data": {
      "text/plain": [
       "<matplotlib.legend.Legend at 0x25960ae8e80>"
      ]
     },
     "execution_count": 321,
     "metadata": {},
     "output_type": "execute_result"
    },
    {
     "name": "stdout",
     "output_type": "stream",
     "text": [
      "2020-06-29\n",
      "2020-06-01 00:00:00+00:00 2020-07-05 23:59:59+00:00\n",
      "1.26 1.3\n"
     ]
    },
    {
     "data": {
      "text/plain": [
       "Text(0.5, 0.98, 'Benzinpreise in Wolfsburg')"
      ]
     },
     "execution_count": 321,
     "metadata": {},
     "output_type": "execute_result"
    },
    {
     "name": "stderr",
     "output_type": "stream",
     "text": [
      "C:\\ProgramData\\Anaconda3\\lib\\site-packages\\matplotlib\\axes\\_base.py:507: FutureWarning: Support for multi-dimensional indexing (e.g. `obj[:, None]`) is deprecated and will be removed in a future version.  Convert to a numpy array before indexing instead.\n",
      "  x = x[:, np.newaxis]\n"
     ]
    },
    {
     "data": {
      "text/plain": [
       "[<matplotlib.lines.Line2D at 0x25901c81430>]"
      ]
     },
     "execution_count": 321,
     "metadata": {},
     "output_type": "execute_result"
    },
    {
     "data": {
      "text/plain": [
       "Text(0.5, 1.0, '01-06-2020 bis 05-07-2020, zwischen 18:00 und 22:00')"
      ]
     },
     "execution_count": 321,
     "metadata": {},
     "output_type": "execute_result"
    },
    {
     "data": {
      "text/plain": [
       "<matplotlib.legend.Legend at 0x25930d48730>"
      ]
     },
     "execution_count": 321,
     "metadata": {},
     "output_type": "execute_result"
    },
    {
     "data": {
      "text/plain": [
       "(1.26, 1.3)"
      ]
     },
     "execution_count": 321,
     "metadata": {},
     "output_type": "execute_result"
    },
    {
     "data": {
      "text/plain": [
       "[<matplotlib.lines.Line2D at 0x25901c814c0>]"
      ]
     },
     "execution_count": 321,
     "metadata": {},
     "output_type": "execute_result"
    },
    {
     "data": {
      "text/plain": [
       "<matplotlib.legend.Legend at 0x25901c817f0>"
      ]
     },
     "execution_count": 321,
     "metadata": {},
     "output_type": "execute_result"
    },
    {
     "name": "stdout",
     "output_type": "stream",
     "text": [
      "2020-06-29\n",
      "2020-06-29 00:00:00+00:00 2020-08-02 23:59:59+00:00\n",
      "1.25 1.29\n"
     ]
    },
    {
     "data": {
      "text/plain": [
       "Text(0.5, 0.98, 'Benzinpreise in Wolfsburg')"
      ]
     },
     "execution_count": 321,
     "metadata": {},
     "output_type": "execute_result"
    },
    {
     "name": "stderr",
     "output_type": "stream",
     "text": [
      "C:\\ProgramData\\Anaconda3\\lib\\site-packages\\matplotlib\\axes\\_base.py:507: FutureWarning: Support for multi-dimensional indexing (e.g. `obj[:, None]`) is deprecated and will be removed in a future version.  Convert to a numpy array before indexing instead.\n",
      "  x = x[:, np.newaxis]\n"
     ]
    },
    {
     "data": {
      "text/plain": [
       "[<matplotlib.lines.Line2D at 0x259368d6040>]"
      ]
     },
     "execution_count": 321,
     "metadata": {},
     "output_type": "execute_result"
    },
    {
     "data": {
      "text/plain": [
       "Text(0.5, 1.0, '29-06-2020 bis 02-08-2020, zwischen 18:00 und 22:00')"
      ]
     },
     "execution_count": 321,
     "metadata": {},
     "output_type": "execute_result"
    },
    {
     "data": {
      "text/plain": [
       "<matplotlib.legend.Legend at 0x259368e9c10>"
      ]
     },
     "execution_count": 321,
     "metadata": {},
     "output_type": "execute_result"
    },
    {
     "data": {
      "text/plain": [
       "(1.25, 1.29)"
      ]
     },
     "execution_count": 321,
     "metadata": {},
     "output_type": "execute_result"
    },
    {
     "data": {
      "text/plain": [
       "[<matplotlib.lines.Line2D at 0x259368e9f40>]"
      ]
     },
     "execution_count": 321,
     "metadata": {},
     "output_type": "execute_result"
    },
    {
     "data": {
      "text/plain": [
       "<matplotlib.legend.Legend at 0x259368d68b0>"
      ]
     },
     "execution_count": 321,
     "metadata": {},
     "output_type": "execute_result"
    },
    {
     "name": "stdout",
     "output_type": "stream",
     "text": [
      "2020-07-06\n",
      "2020-06-29 00:00:00+00:00 2020-08-02 23:59:59+00:00\n",
      "1.25 1.29\n"
     ]
    },
    {
     "data": {
      "text/plain": [
       "Text(0.5, 0.98, 'Benzinpreise in Wolfsburg')"
      ]
     },
     "execution_count": 321,
     "metadata": {},
     "output_type": "execute_result"
    },
    {
     "name": "stderr",
     "output_type": "stream",
     "text": [
      "C:\\ProgramData\\Anaconda3\\lib\\site-packages\\matplotlib\\axes\\_base.py:507: FutureWarning: Support for multi-dimensional indexing (e.g. `obj[:, None]`) is deprecated and will be removed in a future version.  Convert to a numpy array before indexing instead.\n",
      "  x = x[:, np.newaxis]\n"
     ]
    },
    {
     "data": {
      "text/plain": [
       "[<matplotlib.lines.Line2D at 0x259413d0a30>]"
      ]
     },
     "execution_count": 321,
     "metadata": {},
     "output_type": "execute_result"
    },
    {
     "data": {
      "text/plain": [
       "Text(0.5, 1.0, '29-06-2020 bis 02-08-2020, zwischen 18:00 und 22:00')"
      ]
     },
     "execution_count": 321,
     "metadata": {},
     "output_type": "execute_result"
    },
    {
     "data": {
      "text/plain": [
       "<matplotlib.legend.Legend at 0x25905378d60>"
      ]
     },
     "execution_count": 321,
     "metadata": {},
     "output_type": "execute_result"
    },
    {
     "data": {
      "text/plain": [
       "(1.25, 1.29)"
      ]
     },
     "execution_count": 321,
     "metadata": {},
     "output_type": "execute_result"
    },
    {
     "data": {
      "text/plain": [
       "[<matplotlib.lines.Line2D at 0x259e7a07be0>]"
      ]
     },
     "execution_count": 321,
     "metadata": {},
     "output_type": "execute_result"
    },
    {
     "data": {
      "text/plain": [
       "<matplotlib.legend.Legend at 0x259413d0e20>"
      ]
     },
     "execution_count": 321,
     "metadata": {},
     "output_type": "execute_result"
    },
    {
     "name": "stdout",
     "output_type": "stream",
     "text": [
      "2020-07-13\n",
      "2020-06-29 00:00:00+00:00 2020-08-02 23:59:59+00:00\n",
      "1.25 1.29\n"
     ]
    },
    {
     "data": {
      "text/plain": [
       "Text(0.5, 0.98, 'Benzinpreise in Wolfsburg')"
      ]
     },
     "execution_count": 321,
     "metadata": {},
     "output_type": "execute_result"
    },
    {
     "name": "stderr",
     "output_type": "stream",
     "text": [
      "C:\\ProgramData\\Anaconda3\\lib\\site-packages\\matplotlib\\axes\\_base.py:507: FutureWarning: Support for multi-dimensional indexing (e.g. `obj[:, None]`) is deprecated and will be removed in a future version.  Convert to a numpy array before indexing instead.\n",
      "  x = x[:, np.newaxis]\n"
     ]
    },
    {
     "data": {
      "text/plain": [
       "[<matplotlib.lines.Line2D at 0x25939ba03a0>]"
      ]
     },
     "execution_count": 321,
     "metadata": {},
     "output_type": "execute_result"
    },
    {
     "data": {
      "text/plain": [
       "Text(0.5, 1.0, '29-06-2020 bis 02-08-2020, zwischen 18:00 und 22:00')"
      ]
     },
     "execution_count": 321,
     "metadata": {},
     "output_type": "execute_result"
    },
    {
     "data": {
      "text/plain": [
       "<matplotlib.legend.Legend at 0x259a6d557f0>"
      ]
     },
     "execution_count": 321,
     "metadata": {},
     "output_type": "execute_result"
    },
    {
     "data": {
      "text/plain": [
       "(1.25, 1.29)"
      ]
     },
     "execution_count": 321,
     "metadata": {},
     "output_type": "execute_result"
    },
    {
     "data": {
      "text/plain": [
       "[<matplotlib.lines.Line2D at 0x259a6d47670>]"
      ]
     },
     "execution_count": 321,
     "metadata": {},
     "output_type": "execute_result"
    },
    {
     "data": {
      "text/plain": [
       "<matplotlib.legend.Legend at 0x25939ba23a0>"
      ]
     },
     "execution_count": 321,
     "metadata": {},
     "output_type": "execute_result"
    },
    {
     "name": "stdout",
     "output_type": "stream",
     "text": [
      "2020-07-20\n",
      "2020-06-29 00:00:00+00:00 2020-08-02 23:59:59+00:00\n",
      "1.25 1.29\n"
     ]
    },
    {
     "data": {
      "text/plain": [
       "Text(0.5, 0.98, 'Benzinpreise in Wolfsburg')"
      ]
     },
     "execution_count": 321,
     "metadata": {},
     "output_type": "execute_result"
    },
    {
     "name": "stderr",
     "output_type": "stream",
     "text": [
      "C:\\ProgramData\\Anaconda3\\lib\\site-packages\\matplotlib\\axes\\_base.py:507: FutureWarning: Support for multi-dimensional indexing (e.g. `obj[:, None]`) is deprecated and will be removed in a future version.  Convert to a numpy array before indexing instead.\n",
      "  x = x[:, np.newaxis]\n"
     ]
    },
    {
     "data": {
      "text/plain": [
       "[<matplotlib.lines.Line2D at 0x2599ed31d90>]"
      ]
     },
     "execution_count": 321,
     "metadata": {},
     "output_type": "execute_result"
    },
    {
     "data": {
      "text/plain": [
       "Text(0.5, 1.0, '29-06-2020 bis 02-08-2020, zwischen 18:00 und 22:00')"
      ]
     },
     "execution_count": 321,
     "metadata": {},
     "output_type": "execute_result"
    },
    {
     "data": {
      "text/plain": [
       "<matplotlib.legend.Legend at 0x25909646220>"
      ]
     },
     "execution_count": 321,
     "metadata": {},
     "output_type": "execute_result"
    },
    {
     "data": {
      "text/plain": [
       "(1.25, 1.29)"
      ]
     },
     "execution_count": 321,
     "metadata": {},
     "output_type": "execute_result"
    },
    {
     "data": {
      "text/plain": [
       "[<matplotlib.lines.Line2D at 0x259010e7f40>]"
      ]
     },
     "execution_count": 321,
     "metadata": {},
     "output_type": "execute_result"
    },
    {
     "data": {
      "text/plain": [
       "<matplotlib.legend.Legend at 0x2599ed4fd60>"
      ]
     },
     "execution_count": 321,
     "metadata": {},
     "output_type": "execute_result"
    },
    {
     "name": "stdout",
     "output_type": "stream",
     "text": [
      "2020-07-27\n",
      "2020-06-29 00:00:00+00:00 2020-08-02 23:59:59+00:00\n",
      "1.25 1.29\n"
     ]
    },
    {
     "data": {
      "text/plain": [
       "Text(0.5, 0.98, 'Benzinpreise in Wolfsburg')"
      ]
     },
     "execution_count": 321,
     "metadata": {},
     "output_type": "execute_result"
    },
    {
     "name": "stderr",
     "output_type": "stream",
     "text": [
      "C:\\ProgramData\\Anaconda3\\lib\\site-packages\\matplotlib\\axes\\_base.py:507: FutureWarning: Support for multi-dimensional indexing (e.g. `obj[:, None]`) is deprecated and will be removed in a future version.  Convert to a numpy array before indexing instead.\n",
      "  x = x[:, np.newaxis]\n"
     ]
    },
    {
     "data": {
      "text/plain": [
       "[<matplotlib.lines.Line2D at 0x2590274d580>]"
      ]
     },
     "execution_count": 321,
     "metadata": {},
     "output_type": "execute_result"
    },
    {
     "data": {
      "text/plain": [
       "Text(0.5, 1.0, '29-06-2020 bis 02-08-2020, zwischen 18:00 und 22:00')"
      ]
     },
     "execution_count": 321,
     "metadata": {},
     "output_type": "execute_result"
    },
    {
     "data": {
      "text/plain": [
       "<matplotlib.legend.Legend at 0x25939550c70>"
      ]
     },
     "execution_count": 321,
     "metadata": {},
     "output_type": "execute_result"
    },
    {
     "data": {
      "text/plain": [
       "(1.25, 1.29)"
      ]
     },
     "execution_count": 321,
     "metadata": {},
     "output_type": "execute_result"
    },
    {
     "data": {
      "text/plain": [
       "[<matplotlib.lines.Line2D at 0x25939551af0>]"
      ]
     },
     "execution_count": 321,
     "metadata": {},
     "output_type": "execute_result"
    },
    {
     "data": {
      "text/plain": [
       "<matplotlib.legend.Legend at 0x2590274dc40>"
      ]
     },
     "execution_count": 321,
     "metadata": {},
     "output_type": "execute_result"
    },
    {
     "name": "stdout",
     "output_type": "stream",
     "text": [
      "2020-07-27\n",
      "2020-07-27 00:00:00+00:00 2020-09-06 23:59:59+00:00\n",
      "1.22 1.24\n"
     ]
    },
    {
     "data": {
      "text/plain": [
       "Text(0.5, 0.98, 'Benzinpreise in Wolfsburg')"
      ]
     },
     "execution_count": 321,
     "metadata": {},
     "output_type": "execute_result"
    },
    {
     "name": "stderr",
     "output_type": "stream",
     "text": [
      "C:\\ProgramData\\Anaconda3\\lib\\site-packages\\matplotlib\\axes\\_base.py:507: FutureWarning: Support for multi-dimensional indexing (e.g. `obj[:, None]`) is deprecated and will be removed in a future version.  Convert to a numpy array before indexing instead.\n",
      "  x = x[:, np.newaxis]\n"
     ]
    },
    {
     "data": {
      "text/plain": [
       "[<matplotlib.lines.Line2D at 0x2592c8dd370>]"
      ]
     },
     "execution_count": 321,
     "metadata": {},
     "output_type": "execute_result"
    },
    {
     "data": {
      "text/plain": [
       "Text(0.5, 1.0, '27-07-2020 bis 06-09-2020, zwischen 18:00 und 22:00')"
      ]
     },
     "execution_count": 321,
     "metadata": {},
     "output_type": "execute_result"
    },
    {
     "data": {
      "text/plain": [
       "<matplotlib.legend.Legend at 0x2591d2f46a0>"
      ]
     },
     "execution_count": 321,
     "metadata": {},
     "output_type": "execute_result"
    },
    {
     "data": {
      "text/plain": [
       "(1.22, 1.24)"
      ]
     },
     "execution_count": 321,
     "metadata": {},
     "output_type": "execute_result"
    },
    {
     "data": {
      "text/plain": [
       "[<matplotlib.lines.Line2D at 0x2590ed63a00>]"
      ]
     },
     "execution_count": 321,
     "metadata": {},
     "output_type": "execute_result"
    },
    {
     "data": {
      "text/plain": [
       "<matplotlib.legend.Legend at 0x2592c8ddaf0>"
      ]
     },
     "execution_count": 321,
     "metadata": {},
     "output_type": "execute_result"
    },
    {
     "name": "stdout",
     "output_type": "stream",
     "text": [
      "2020-08-03\n",
      "2020-07-27 00:00:00+00:00 2020-09-06 23:59:59+00:00\n",
      "1.22 1.24\n"
     ]
    },
    {
     "data": {
      "text/plain": [
       "Text(0.5, 0.98, 'Benzinpreise in Wolfsburg')"
      ]
     },
     "execution_count": 321,
     "metadata": {},
     "output_type": "execute_result"
    },
    {
     "name": "stderr",
     "output_type": "stream",
     "text": [
      "C:\\ProgramData\\Anaconda3\\lib\\site-packages\\matplotlib\\axes\\_base.py:507: FutureWarning: Support for multi-dimensional indexing (e.g. `obj[:, None]`) is deprecated and will be removed in a future version.  Convert to a numpy array before indexing instead.\n",
      "  x = x[:, np.newaxis]\n"
     ]
    },
    {
     "data": {
      "text/plain": [
       "[<matplotlib.lines.Line2D at 0x25a14f2a310>]"
      ]
     },
     "execution_count": 321,
     "metadata": {},
     "output_type": "execute_result"
    },
    {
     "data": {
      "text/plain": [
       "Text(0.5, 1.0, '27-07-2020 bis 06-09-2020, zwischen 18:00 und 22:00')"
      ]
     },
     "execution_count": 321,
     "metadata": {},
     "output_type": "execute_result"
    },
    {
     "data": {
      "text/plain": [
       "<matplotlib.legend.Legend at 0x2599eb6a760>"
      ]
     },
     "execution_count": 321,
     "metadata": {},
     "output_type": "execute_result"
    },
    {
     "data": {
      "text/plain": [
       "(1.22, 1.24)"
      ]
     },
     "execution_count": 321,
     "metadata": {},
     "output_type": "execute_result"
    },
    {
     "data": {
      "text/plain": [
       "[<matplotlib.lines.Line2D at 0x25a14f2a3a0>]"
      ]
     },
     "execution_count": 321,
     "metadata": {},
     "output_type": "execute_result"
    },
    {
     "data": {
      "text/plain": [
       "<matplotlib.legend.Legend at 0x2599eb5c5e0>"
      ]
     },
     "execution_count": 321,
     "metadata": {},
     "output_type": "execute_result"
    },
    {
     "name": "stdout",
     "output_type": "stream",
     "text": [
      "2020-08-10\n",
      "2020-07-27 00:00:00+00:00 2020-09-06 23:59:59+00:00\n",
      "1.22 1.24\n"
     ]
    },
    {
     "data": {
      "text/plain": [
       "Text(0.5, 0.98, 'Benzinpreise in Wolfsburg')"
      ]
     },
     "execution_count": 321,
     "metadata": {},
     "output_type": "execute_result"
    },
    {
     "name": "stderr",
     "output_type": "stream",
     "text": [
      "C:\\ProgramData\\Anaconda3\\lib\\site-packages\\matplotlib\\axes\\_base.py:507: FutureWarning: Support for multi-dimensional indexing (e.g. `obj[:, None]`) is deprecated and will be removed in a future version.  Convert to a numpy array before indexing instead.\n",
      "  x = x[:, np.newaxis]\n"
     ]
    },
    {
     "data": {
      "text/plain": [
       "[<matplotlib.lines.Line2D at 0x2592c7914c0>]"
      ]
     },
     "execution_count": 321,
     "metadata": {},
     "output_type": "execute_result"
    },
    {
     "data": {
      "text/plain": [
       "Text(0.5, 1.0, '27-07-2020 bis 06-09-2020, zwischen 18:00 und 22:00')"
      ]
     },
     "execution_count": 321,
     "metadata": {},
     "output_type": "execute_result"
    },
    {
     "data": {
      "text/plain": [
       "<matplotlib.legend.Legend at 0x2593e7a37f0>"
      ]
     },
     "execution_count": 321,
     "metadata": {},
     "output_type": "execute_result"
    },
    {
     "data": {
      "text/plain": [
       "(1.22, 1.24)"
      ]
     },
     "execution_count": 321,
     "metadata": {},
     "output_type": "execute_result"
    },
    {
     "data": {
      "text/plain": [
       "[<matplotlib.lines.Line2D at 0x2593e7b8670>]"
      ]
     },
     "execution_count": 321,
     "metadata": {},
     "output_type": "execute_result"
    },
    {
     "data": {
      "text/plain": [
       "<matplotlib.legend.Legend at 0x2592c791730>"
      ]
     },
     "execution_count": 321,
     "metadata": {},
     "output_type": "execute_result"
    },
    {
     "name": "stdout",
     "output_type": "stream",
     "text": [
      "2020-08-17\n",
      "2020-07-27 00:00:00+00:00 2020-09-06 23:59:59+00:00\n",
      "1.22 1.24\n"
     ]
    },
    {
     "data": {
      "text/plain": [
       "Text(0.5, 0.98, 'Benzinpreise in Wolfsburg')"
      ]
     },
     "execution_count": 321,
     "metadata": {},
     "output_type": "execute_result"
    },
    {
     "name": "stderr",
     "output_type": "stream",
     "text": [
      "C:\\ProgramData\\Anaconda3\\lib\\site-packages\\matplotlib\\axes\\_base.py:507: FutureWarning: Support for multi-dimensional indexing (e.g. `obj[:, None]`) is deprecated and will be removed in a future version.  Convert to a numpy array before indexing instead.\n",
      "  x = x[:, np.newaxis]\n"
     ]
    },
    {
     "data": {
      "text/plain": [
       "[<matplotlib.lines.Line2D at 0x2592362d4c0>]"
      ]
     },
     "execution_count": 321,
     "metadata": {},
     "output_type": "execute_result"
    },
    {
     "data": {
      "text/plain": [
       "Text(0.5, 1.0, '27-07-2020 bis 06-09-2020, zwischen 18:00 und 22:00')"
      ]
     },
     "execution_count": 321,
     "metadata": {},
     "output_type": "execute_result"
    },
    {
     "data": {
      "text/plain": [
       "<matplotlib.legend.Legend at 0x2593e5826d0>"
      ]
     },
     "execution_count": 321,
     "metadata": {},
     "output_type": "execute_result"
    },
    {
     "data": {
      "text/plain": [
       "(1.22, 1.24)"
      ]
     },
     "execution_count": 321,
     "metadata": {},
     "output_type": "execute_result"
    },
    {
     "data": {
      "text/plain": [
       "[<matplotlib.lines.Line2D at 0x2592362d550>]"
      ]
     },
     "execution_count": 321,
     "metadata": {},
     "output_type": "execute_result"
    },
    {
     "data": {
      "text/plain": [
       "<matplotlib.legend.Legend at 0x2592362d220>"
      ]
     },
     "execution_count": 321,
     "metadata": {},
     "output_type": "execute_result"
    },
    {
     "name": "stdout",
     "output_type": "stream",
     "text": [
      "2020-08-24\n",
      "2020-07-27 00:00:00+00:00 2020-09-06 23:59:59+00:00\n",
      "1.22 1.24\n"
     ]
    },
    {
     "data": {
      "text/plain": [
       "Text(0.5, 0.98, 'Benzinpreise in Wolfsburg')"
      ]
     },
     "execution_count": 321,
     "metadata": {},
     "output_type": "execute_result"
    },
    {
     "name": "stderr",
     "output_type": "stream",
     "text": [
      "C:\\ProgramData\\Anaconda3\\lib\\site-packages\\matplotlib\\axes\\_base.py:507: FutureWarning: Support for multi-dimensional indexing (e.g. `obj[:, None]`) is deprecated and will be removed in a future version.  Convert to a numpy array before indexing instead.\n",
      "  x = x[:, np.newaxis]\n"
     ]
    },
    {
     "data": {
      "text/plain": [
       "[<matplotlib.lines.Line2D at 0x259fa957850>]"
      ]
     },
     "execution_count": 321,
     "metadata": {},
     "output_type": "execute_result"
    },
    {
     "data": {
      "text/plain": [
       "Text(0.5, 1.0, '27-07-2020 bis 06-09-2020, zwischen 18:00 und 22:00')"
      ]
     },
     "execution_count": 321,
     "metadata": {},
     "output_type": "execute_result"
    },
    {
     "data": {
      "text/plain": [
       "<matplotlib.legend.Legend at 0x2596f1097c0>"
      ]
     },
     "execution_count": 321,
     "metadata": {},
     "output_type": "execute_result"
    },
    {
     "data": {
      "text/plain": [
       "(1.22, 1.24)"
      ]
     },
     "execution_count": 321,
     "metadata": {},
     "output_type": "execute_result"
    },
    {
     "data": {
      "text/plain": [
       "[<matplotlib.lines.Line2D at 0x259b88b7790>]"
      ]
     },
     "execution_count": 321,
     "metadata": {},
     "output_type": "execute_result"
    },
    {
     "data": {
      "text/plain": [
       "<matplotlib.legend.Legend at 0x259fa957d90>"
      ]
     },
     "execution_count": 321,
     "metadata": {},
     "output_type": "execute_result"
    },
    {
     "name": "stdout",
     "output_type": "stream",
     "text": [
      "2020-08-31\n",
      "2020-07-27 00:00:00+00:00 2020-09-06 23:59:59+00:00\n",
      "1.22 1.24\n"
     ]
    },
    {
     "data": {
      "text/plain": [
       "Text(0.5, 0.98, 'Benzinpreise in Wolfsburg')"
      ]
     },
     "execution_count": 321,
     "metadata": {},
     "output_type": "execute_result"
    },
    {
     "name": "stderr",
     "output_type": "stream",
     "text": [
      "C:\\ProgramData\\Anaconda3\\lib\\site-packages\\matplotlib\\axes\\_base.py:507: FutureWarning: Support for multi-dimensional indexing (e.g. `obj[:, None]`) is deprecated and will be removed in a future version.  Convert to a numpy array before indexing instead.\n",
      "  x = x[:, np.newaxis]\n"
     ]
    },
    {
     "data": {
      "text/plain": [
       "[<matplotlib.lines.Line2D at 0x25a0d599700>]"
      ]
     },
     "execution_count": 321,
     "metadata": {},
     "output_type": "execute_result"
    },
    {
     "data": {
      "text/plain": [
       "Text(0.5, 1.0, '27-07-2020 bis 06-09-2020, zwischen 18:00 und 22:00')"
      ]
     },
     "execution_count": 321,
     "metadata": {},
     "output_type": "execute_result"
    },
    {
     "data": {
      "text/plain": [
       "<matplotlib.legend.Legend at 0x25968bd7850>"
      ]
     },
     "execution_count": 321,
     "metadata": {},
     "output_type": "execute_result"
    },
    {
     "data": {
      "text/plain": [
       "(1.22, 1.24)"
      ]
     },
     "execution_count": 321,
     "metadata": {},
     "output_type": "execute_result"
    },
    {
     "data": {
      "text/plain": [
       "[<matplotlib.lines.Line2D at 0x25a0d5996d0>]"
      ]
     },
     "execution_count": 321,
     "metadata": {},
     "output_type": "execute_result"
    },
    {
     "data": {
      "text/plain": [
       "<matplotlib.legend.Legend at 0x25a0d5b55b0>"
      ]
     },
     "execution_count": 321,
     "metadata": {},
     "output_type": "execute_result"
    },
    {
     "name": "stdout",
     "output_type": "stream",
     "text": [
      "2020-08-31\n",
      "2020-08-31 00:00:00+00:00 2020-10-04 23:59:59+00:00\n",
      "1.23 1.25\n"
     ]
    },
    {
     "data": {
      "text/plain": [
       "Text(0.5, 0.98, 'Benzinpreise in Wolfsburg')"
      ]
     },
     "execution_count": 321,
     "metadata": {},
     "output_type": "execute_result"
    },
    {
     "name": "stderr",
     "output_type": "stream",
     "text": [
      "C:\\ProgramData\\Anaconda3\\lib\\site-packages\\matplotlib\\axes\\_base.py:507: FutureWarning: Support for multi-dimensional indexing (e.g. `obj[:, None]`) is deprecated and will be removed in a future version.  Convert to a numpy array before indexing instead.\n",
      "  x = x[:, np.newaxis]\n"
     ]
    },
    {
     "data": {
      "text/plain": [
       "[<matplotlib.lines.Line2D at 0x259171fb670>]"
      ]
     },
     "execution_count": 321,
     "metadata": {},
     "output_type": "execute_result"
    },
    {
     "data": {
      "text/plain": [
       "Text(0.5, 1.0, '31-08-2020 bis 04-10-2020, zwischen 18:00 und 22:00')"
      ]
     },
     "execution_count": 321,
     "metadata": {},
     "output_type": "execute_result"
    },
    {
     "data": {
      "text/plain": [
       "<matplotlib.legend.Legend at 0x25900c8da30>"
      ]
     },
     "execution_count": 321,
     "metadata": {},
     "output_type": "execute_result"
    },
    {
     "data": {
      "text/plain": [
       "(1.23, 1.25)"
      ]
     },
     "execution_count": 321,
     "metadata": {},
     "output_type": "execute_result"
    },
    {
     "data": {
      "text/plain": [
       "[<matplotlib.lines.Line2D at 0x259171fb640>]"
      ]
     },
     "execution_count": 321,
     "metadata": {},
     "output_type": "execute_result"
    },
    {
     "data": {
      "text/plain": [
       "<matplotlib.legend.Legend at 0x25900c508b0>"
      ]
     },
     "execution_count": 321,
     "metadata": {},
     "output_type": "execute_result"
    },
    {
     "name": "stdout",
     "output_type": "stream",
     "text": [
      "2020-09-07\n",
      "2020-08-31 00:00:00+00:00 2020-10-04 23:59:59+00:00\n",
      "1.23 1.25\n"
     ]
    },
    {
     "data": {
      "text/plain": [
       "Text(0.5, 0.98, 'Benzinpreise in Wolfsburg')"
      ]
     },
     "execution_count": 321,
     "metadata": {},
     "output_type": "execute_result"
    },
    {
     "name": "stderr",
     "output_type": "stream",
     "text": [
      "C:\\ProgramData\\Anaconda3\\lib\\site-packages\\matplotlib\\axes\\_base.py:507: FutureWarning: Support for multi-dimensional indexing (e.g. `obj[:, None]`) is deprecated and will be removed in a future version.  Convert to a numpy array before indexing instead.\n",
      "  x = x[:, np.newaxis]\n"
     ]
    },
    {
     "data": {
      "text/plain": [
       "[<matplotlib.lines.Line2D at 0x2593b015be0>]"
      ]
     },
     "execution_count": 321,
     "metadata": {},
     "output_type": "execute_result"
    },
    {
     "data": {
      "text/plain": [
       "Text(0.5, 1.0, '31-08-2020 bis 04-10-2020, zwischen 18:00 und 22:00')"
      ]
     },
     "execution_count": 321,
     "metadata": {},
     "output_type": "execute_result"
    },
    {
     "data": {
      "text/plain": [
       "<matplotlib.legend.Legend at 0x259382fe0a0>"
      ]
     },
     "execution_count": 321,
     "metadata": {},
     "output_type": "execute_result"
    },
    {
     "data": {
      "text/plain": [
       "(1.23, 1.25)"
      ]
     },
     "execution_count": 321,
     "metadata": {},
     "output_type": "execute_result"
    },
    {
     "data": {
      "text/plain": [
       "[<matplotlib.lines.Line2D at 0x2593b359dc0>]"
      ]
     },
     "execution_count": 321,
     "metadata": {},
     "output_type": "execute_result"
    },
    {
     "data": {
      "text/plain": [
       "<matplotlib.legend.Legend at 0x2593b046c10>"
      ]
     },
     "execution_count": 321,
     "metadata": {},
     "output_type": "execute_result"
    },
    {
     "name": "stdout",
     "output_type": "stream",
     "text": [
      "2020-09-14\n",
      "2020-08-31 00:00:00+00:00 2020-10-04 23:59:59+00:00\n",
      "1.23 1.25\n"
     ]
    },
    {
     "data": {
      "text/plain": [
       "Text(0.5, 0.98, 'Benzinpreise in Wolfsburg')"
      ]
     },
     "execution_count": 321,
     "metadata": {},
     "output_type": "execute_result"
    },
    {
     "name": "stderr",
     "output_type": "stream",
     "text": [
      "C:\\ProgramData\\Anaconda3\\lib\\site-packages\\matplotlib\\axes\\_base.py:507: FutureWarning: Support for multi-dimensional indexing (e.g. `obj[:, None]`) is deprecated and will be removed in a future version.  Convert to a numpy array before indexing instead.\n",
      "  x = x[:, np.newaxis]\n"
     ]
    },
    {
     "data": {
      "text/plain": [
       "[<matplotlib.lines.Line2D at 0x2593ff2e2b0>]"
      ]
     },
     "execution_count": 321,
     "metadata": {},
     "output_type": "execute_result"
    },
    {
     "data": {
      "text/plain": [
       "Text(0.5, 1.0, '31-08-2020 bis 04-10-2020, zwischen 18:00 und 22:00')"
      ]
     },
     "execution_count": 321,
     "metadata": {},
     "output_type": "execute_result"
    },
    {
     "data": {
      "text/plain": [
       "<matplotlib.legend.Legend at 0x2595cacc6d0>"
      ]
     },
     "execution_count": 321,
     "metadata": {},
     "output_type": "execute_result"
    },
    {
     "data": {
      "text/plain": [
       "(1.23, 1.25)"
      ]
     },
     "execution_count": 321,
     "metadata": {},
     "output_type": "execute_result"
    },
    {
     "data": {
      "text/plain": [
       "[<matplotlib.lines.Line2D at 0x25932534a30>]"
      ]
     },
     "execution_count": 321,
     "metadata": {},
     "output_type": "execute_result"
    },
    {
     "data": {
      "text/plain": [
       "<matplotlib.legend.Legend at 0x25932534700>"
      ]
     },
     "execution_count": 321,
     "metadata": {},
     "output_type": "execute_result"
    },
    {
     "name": "stdout",
     "output_type": "stream",
     "text": [
      "2020-09-21\n",
      "2020-08-31 00:00:00+00:00 2020-10-04 23:59:59+00:00\n",
      "1.23 1.25\n"
     ]
    },
    {
     "data": {
      "text/plain": [
       "Text(0.5, 0.98, 'Benzinpreise in Wolfsburg')"
      ]
     },
     "execution_count": 321,
     "metadata": {},
     "output_type": "execute_result"
    },
    {
     "name": "stderr",
     "output_type": "stream",
     "text": [
      "C:\\ProgramData\\Anaconda3\\lib\\site-packages\\matplotlib\\axes\\_base.py:507: FutureWarning: Support for multi-dimensional indexing (e.g. `obj[:, None]`) is deprecated and will be removed in a future version.  Convert to a numpy array before indexing instead.\n",
      "  x = x[:, np.newaxis]\n"
     ]
    },
    {
     "data": {
      "text/plain": [
       "[<matplotlib.lines.Line2D at 0x25a0da68850>]"
      ]
     },
     "execution_count": 321,
     "metadata": {},
     "output_type": "execute_result"
    },
    {
     "data": {
      "text/plain": [
       "Text(0.5, 1.0, '31-08-2020 bis 04-10-2020, zwischen 18:00 und 22:00')"
      ]
     },
     "execution_count": 321,
     "metadata": {},
     "output_type": "execute_result"
    },
    {
     "data": {
      "text/plain": [
       "<matplotlib.legend.Legend at 0x25a041cdcd0>"
      ]
     },
     "execution_count": 321,
     "metadata": {},
     "output_type": "execute_result"
    },
    {
     "data": {
      "text/plain": [
       "(1.23, 1.25)"
      ]
     },
     "execution_count": 321,
     "metadata": {},
     "output_type": "execute_result"
    },
    {
     "data": {
      "text/plain": [
       "[<matplotlib.lines.Line2D at 0x25a041eeb50>]"
      ]
     },
     "execution_count": 321,
     "metadata": {},
     "output_type": "execute_result"
    },
    {
     "data": {
      "text/plain": [
       "<matplotlib.legend.Legend at 0x25a0da91850>"
      ]
     },
     "execution_count": 321,
     "metadata": {},
     "output_type": "execute_result"
    },
    {
     "name": "stdout",
     "output_type": "stream",
     "text": [
      "2020-09-28\n",
      "2020-08-31 00:00:00+00:00 2020-10-04 23:59:59+00:00\n",
      "1.23 1.25\n"
     ]
    },
    {
     "data": {
      "text/plain": [
       "Text(0.5, 0.98, 'Benzinpreise in Wolfsburg')"
      ]
     },
     "execution_count": 321,
     "metadata": {},
     "output_type": "execute_result"
    },
    {
     "name": "stderr",
     "output_type": "stream",
     "text": [
      "C:\\ProgramData\\Anaconda3\\lib\\site-packages\\matplotlib\\axes\\_base.py:507: FutureWarning: Support for multi-dimensional indexing (e.g. `obj[:, None]`) is deprecated and will be removed in a future version.  Convert to a numpy array before indexing instead.\n",
      "  x = x[:, np.newaxis]\n"
     ]
    },
    {
     "data": {
      "text/plain": [
       "[<matplotlib.lines.Line2D at 0x25902bd1f10>]"
      ]
     },
     "execution_count": 321,
     "metadata": {},
     "output_type": "execute_result"
    },
    {
     "data": {
      "text/plain": [
       "Text(0.5, 1.0, '31-08-2020 bis 04-10-2020, zwischen 18:00 und 22:00')"
      ]
     },
     "execution_count": 321,
     "metadata": {},
     "output_type": "execute_result"
    },
    {
     "data": {
      "text/plain": [
       "<matplotlib.legend.Legend at 0x259091c1880>"
      ]
     },
     "execution_count": 321,
     "metadata": {},
     "output_type": "execute_result"
    },
    {
     "data": {
      "text/plain": [
       "(1.23, 1.25)"
      ]
     },
     "execution_count": 321,
     "metadata": {},
     "output_type": "execute_result"
    },
    {
     "data": {
      "text/plain": [
       "[<matplotlib.lines.Line2D at 0x25902bd1f40>]"
      ]
     },
     "execution_count": 321,
     "metadata": {},
     "output_type": "execute_result"
    },
    {
     "data": {
      "text/plain": [
       "<matplotlib.legend.Legend at 0x25902bcb880>"
      ]
     },
     "execution_count": 321,
     "metadata": {},
     "output_type": "execute_result"
    },
    {
     "name": "stdout",
     "output_type": "stream",
     "text": [
      "2020-09-28\n",
      "2020-09-28 00:00:00+00:00 2020-11-01 23:59:59+00:00\n",
      "1.21 1.24\n"
     ]
    },
    {
     "data": {
      "text/plain": [
       "Text(0.5, 0.98, 'Benzinpreise in Wolfsburg')"
      ]
     },
     "execution_count": 321,
     "metadata": {},
     "output_type": "execute_result"
    },
    {
     "name": "stderr",
     "output_type": "stream",
     "text": [
      "C:\\ProgramData\\Anaconda3\\lib\\site-packages\\matplotlib\\axes\\_base.py:507: FutureWarning: Support for multi-dimensional indexing (e.g. `obj[:, None]`) is deprecated and will be removed in a future version.  Convert to a numpy array before indexing instead.\n",
      "  x = x[:, np.newaxis]\n"
     ]
    },
    {
     "data": {
      "text/plain": [
       "[<matplotlib.lines.Line2D at 0x259310946d0>]"
      ]
     },
     "execution_count": 321,
     "metadata": {},
     "output_type": "execute_result"
    },
    {
     "data": {
      "text/plain": [
       "Text(0.5, 1.0, '28-09-2020 bis 01-11-2020, zwischen 18:00 und 22:00')"
      ]
     },
     "execution_count": 321,
     "metadata": {},
     "output_type": "execute_result"
    },
    {
     "data": {
      "text/plain": [
       "<matplotlib.legend.Legend at 0x2592ae867f0>"
      ]
     },
     "execution_count": 321,
     "metadata": {},
     "output_type": "execute_result"
    },
    {
     "data": {
      "text/plain": [
       "(1.21, 1.24)"
      ]
     },
     "execution_count": 321,
     "metadata": {},
     "output_type": "execute_result"
    },
    {
     "data": {
      "text/plain": [
       "[<matplotlib.lines.Line2D at 0x2592ae8be20>]"
      ]
     },
     "execution_count": 321,
     "metadata": {},
     "output_type": "execute_result"
    },
    {
     "data": {
      "text/plain": [
       "<matplotlib.legend.Legend at 0x2592ae86b50>"
      ]
     },
     "execution_count": 321,
     "metadata": {},
     "output_type": "execute_result"
    },
    {
     "name": "stdout",
     "output_type": "stream",
     "text": [
      "2020-10-05\n",
      "2020-09-28 00:00:00+00:00 2020-11-01 23:59:59+00:00\n",
      "1.21 1.24\n"
     ]
    },
    {
     "data": {
      "text/plain": [
       "Text(0.5, 0.98, 'Benzinpreise in Wolfsburg')"
      ]
     },
     "execution_count": 321,
     "metadata": {},
     "output_type": "execute_result"
    },
    {
     "name": "stderr",
     "output_type": "stream",
     "text": [
      "C:\\ProgramData\\Anaconda3\\lib\\site-packages\\matplotlib\\axes\\_base.py:507: FutureWarning: Support for multi-dimensional indexing (e.g. `obj[:, None]`) is deprecated and will be removed in a future version.  Convert to a numpy array before indexing instead.\n",
      "  x = x[:, np.newaxis]\n"
     ]
    },
    {
     "data": {
      "text/plain": [
       "[<matplotlib.lines.Line2D at 0x259619ddc70>]"
      ]
     },
     "execution_count": 321,
     "metadata": {},
     "output_type": "execute_result"
    },
    {
     "data": {
      "text/plain": [
       "Text(0.5, 1.0, '28-09-2020 bis 01-11-2020, zwischen 18:00 und 22:00')"
      ]
     },
     "execution_count": 321,
     "metadata": {},
     "output_type": "execute_result"
    },
    {
     "data": {
      "text/plain": [
       "<matplotlib.legend.Legend at 0x25907e5fee0>"
      ]
     },
     "execution_count": 321,
     "metadata": {},
     "output_type": "execute_result"
    },
    {
     "data": {
      "text/plain": [
       "(1.21, 1.24)"
      ]
     },
     "execution_count": 321,
     "metadata": {},
     "output_type": "execute_result"
    },
    {
     "data": {
      "text/plain": [
       "[<matplotlib.lines.Line2D at 0x259400a9130>]"
      ]
     },
     "execution_count": 321,
     "metadata": {},
     "output_type": "execute_result"
    },
    {
     "data": {
      "text/plain": [
       "<matplotlib.legend.Legend at 0x25940296f40>"
      ]
     },
     "execution_count": 321,
     "metadata": {},
     "output_type": "execute_result"
    },
    {
     "name": "stdout",
     "output_type": "stream",
     "text": [
      "2020-10-12\n",
      "2020-09-28 00:00:00+00:00 2020-11-01 23:59:59+00:00\n",
      "1.21 1.24\n"
     ]
    },
    {
     "data": {
      "text/plain": [
       "Text(0.5, 0.98, 'Benzinpreise in Wolfsburg')"
      ]
     },
     "execution_count": 321,
     "metadata": {},
     "output_type": "execute_result"
    },
    {
     "name": "stderr",
     "output_type": "stream",
     "text": [
      "C:\\ProgramData\\Anaconda3\\lib\\site-packages\\matplotlib\\axes\\_base.py:507: FutureWarning: Support for multi-dimensional indexing (e.g. `obj[:, None]`) is deprecated and will be removed in a future version.  Convert to a numpy array before indexing instead.\n",
      "  x = x[:, np.newaxis]\n"
     ]
    },
    {
     "data": {
      "text/plain": [
       "[<matplotlib.lines.Line2D at 0x259276fca30>]"
      ]
     },
     "execution_count": 321,
     "metadata": {},
     "output_type": "execute_result"
    },
    {
     "data": {
      "text/plain": [
       "Text(0.5, 1.0, '28-09-2020 bis 01-11-2020, zwischen 18:00 und 22:00')"
      ]
     },
     "execution_count": 321,
     "metadata": {},
     "output_type": "execute_result"
    },
    {
     "data": {
      "text/plain": [
       "<matplotlib.legend.Legend at 0x2592896d160>"
      ]
     },
     "execution_count": 321,
     "metadata": {},
     "output_type": "execute_result"
    },
    {
     "data": {
      "text/plain": [
       "(1.21, 1.24)"
      ]
     },
     "execution_count": 321,
     "metadata": {},
     "output_type": "execute_result"
    },
    {
     "data": {
      "text/plain": [
       "[<matplotlib.lines.Line2D at 0x259276fc7f0>]"
      ]
     },
     "execution_count": 321,
     "metadata": {},
     "output_type": "execute_result"
    },
    {
     "data": {
      "text/plain": [
       "<matplotlib.legend.Legend at 0x2593cba9bb0>"
      ]
     },
     "execution_count": 321,
     "metadata": {},
     "output_type": "execute_result"
    },
    {
     "name": "stdout",
     "output_type": "stream",
     "text": [
      "2020-10-19\n",
      "2020-09-28 00:00:00+00:00 2020-11-01 23:59:59+00:00\n",
      "1.21 1.24\n"
     ]
    },
    {
     "data": {
      "text/plain": [
       "Text(0.5, 0.98, 'Benzinpreise in Wolfsburg')"
      ]
     },
     "execution_count": 321,
     "metadata": {},
     "output_type": "execute_result"
    },
    {
     "name": "stderr",
     "output_type": "stream",
     "text": [
      "C:\\ProgramData\\Anaconda3\\lib\\site-packages\\matplotlib\\axes\\_base.py:507: FutureWarning: Support for multi-dimensional indexing (e.g. `obj[:, None]`) is deprecated and will be removed in a future version.  Convert to a numpy array before indexing instead.\n",
      "  x = x[:, np.newaxis]\n"
     ]
    },
    {
     "data": {
      "text/plain": [
       "[<matplotlib.lines.Line2D at 0x259015ddca0>]"
      ]
     },
     "execution_count": 321,
     "metadata": {},
     "output_type": "execute_result"
    },
    {
     "data": {
      "text/plain": [
       "Text(0.5, 1.0, '28-09-2020 bis 01-11-2020, zwischen 18:00 und 22:00')"
      ]
     },
     "execution_count": 321,
     "metadata": {},
     "output_type": "execute_result"
    },
    {
     "data": {
      "text/plain": [
       "<matplotlib.legend.Legend at 0x259015dd610>"
      ]
     },
     "execution_count": 321,
     "metadata": {},
     "output_type": "execute_result"
    },
    {
     "data": {
      "text/plain": [
       "(1.21, 1.24)"
      ]
     },
     "execution_count": 321,
     "metadata": {},
     "output_type": "execute_result"
    },
    {
     "data": {
      "text/plain": [
       "[<matplotlib.lines.Line2D at 0x259120f9d00>]"
      ]
     },
     "execution_count": 321,
     "metadata": {},
     "output_type": "execute_result"
    },
    {
     "data": {
      "text/plain": [
       "<matplotlib.legend.Legend at 0x259383f8640>"
      ]
     },
     "execution_count": 321,
     "metadata": {},
     "output_type": "execute_result"
    },
    {
     "name": "stdout",
     "output_type": "stream",
     "text": [
      "2020-10-26\n",
      "2020-09-28 00:00:00+00:00 2020-11-01 23:59:59+00:00\n",
      "1.21 1.24\n"
     ]
    },
    {
     "data": {
      "text/plain": [
       "Text(0.5, 0.98, 'Benzinpreise in Wolfsburg')"
      ]
     },
     "execution_count": 321,
     "metadata": {},
     "output_type": "execute_result"
    },
    {
     "name": "stderr",
     "output_type": "stream",
     "text": [
      "C:\\ProgramData\\Anaconda3\\lib\\site-packages\\matplotlib\\axes\\_base.py:507: FutureWarning: Support for multi-dimensional indexing (e.g. `obj[:, None]`) is deprecated and will be removed in a future version.  Convert to a numpy array before indexing instead.\n",
      "  x = x[:, np.newaxis]\n"
     ]
    },
    {
     "data": {
      "text/plain": [
       "[<matplotlib.lines.Line2D at 0x25939d24730>]"
      ]
     },
     "execution_count": 321,
     "metadata": {},
     "output_type": "execute_result"
    },
    {
     "data": {
      "text/plain": [
       "Text(0.5, 1.0, '28-09-2020 bis 01-11-2020, zwischen 18:00 und 22:00')"
      ]
     },
     "execution_count": 321,
     "metadata": {},
     "output_type": "execute_result"
    },
    {
     "data": {
      "text/plain": [
       "<matplotlib.legend.Legend at 0x259a70687f0>"
      ]
     },
     "execution_count": 321,
     "metadata": {},
     "output_type": "execute_result"
    },
    {
     "data": {
      "text/plain": [
       "(1.21, 1.24)"
      ]
     },
     "execution_count": 321,
     "metadata": {},
     "output_type": "execute_result"
    },
    {
     "data": {
      "text/plain": [
       "[<matplotlib.lines.Line2D at 0x25a05584670>]"
      ]
     },
     "execution_count": 321,
     "metadata": {},
     "output_type": "execute_result"
    },
    {
     "data": {
      "text/plain": [
       "<matplotlib.legend.Legend at 0x25939d248e0>"
      ]
     },
     "execution_count": 321,
     "metadata": {},
     "output_type": "execute_result"
    },
    {
     "name": "stdout",
     "output_type": "stream",
     "text": [
      "2020-10-26\n",
      "2020-10-26 00:00:00+00:00 2020-12-06 23:59:59+00:00\n",
      "1.2 1.22\n"
     ]
    },
    {
     "data": {
      "text/plain": [
       "Text(0.5, 0.98, 'Benzinpreise in Wolfsburg')"
      ]
     },
     "execution_count": 321,
     "metadata": {},
     "output_type": "execute_result"
    },
    {
     "name": "stderr",
     "output_type": "stream",
     "text": [
      "C:\\ProgramData\\Anaconda3\\lib\\site-packages\\matplotlib\\axes\\_base.py:507: FutureWarning: Support for multi-dimensional indexing (e.g. `obj[:, None]`) is deprecated and will be removed in a future version.  Convert to a numpy array before indexing instead.\n",
      "  x = x[:, np.newaxis]\n"
     ]
    },
    {
     "data": {
      "text/plain": [
       "[<matplotlib.lines.Line2D at 0x2593826be50>]"
      ]
     },
     "execution_count": 321,
     "metadata": {},
     "output_type": "execute_result"
    },
    {
     "data": {
      "text/plain": [
       "Text(0.5, 1.0, '26-10-2020 bis 06-12-2020, zwischen 18:00 und 22:00')"
      ]
     },
     "execution_count": 321,
     "metadata": {},
     "output_type": "execute_result"
    },
    {
     "data": {
      "text/plain": [
       "<matplotlib.legend.Legend at 0x259a6f9a3d0>"
      ]
     },
     "execution_count": 321,
     "metadata": {},
     "output_type": "execute_result"
    },
    {
     "data": {
      "text/plain": [
       "(1.2, 1.22)"
      ]
     },
     "execution_count": 321,
     "metadata": {},
     "output_type": "execute_result"
    },
    {
     "data": {
      "text/plain": [
       "[<matplotlib.lines.Line2D at 0x2593e3c3f10>]"
      ]
     },
     "execution_count": 321,
     "metadata": {},
     "output_type": "execute_result"
    },
    {
     "data": {
      "text/plain": [
       "<matplotlib.legend.Legend at 0x2593826bb20>"
      ]
     },
     "execution_count": 321,
     "metadata": {},
     "output_type": "execute_result"
    },
    {
     "name": "stdout",
     "output_type": "stream",
     "text": [
      "2020-11-02\n",
      "2020-10-26 00:00:00+00:00 2020-12-06 23:59:59+00:00\n",
      "1.2 1.22\n"
     ]
    },
    {
     "data": {
      "text/plain": [
       "Text(0.5, 0.98, 'Benzinpreise in Wolfsburg')"
      ]
     },
     "execution_count": 321,
     "metadata": {},
     "output_type": "execute_result"
    },
    {
     "name": "stderr",
     "output_type": "stream",
     "text": [
      "C:\\ProgramData\\Anaconda3\\lib\\site-packages\\matplotlib\\axes\\_base.py:507: FutureWarning: Support for multi-dimensional indexing (e.g. `obj[:, None]`) is deprecated and will be removed in a future version.  Convert to a numpy array before indexing instead.\n",
      "  x = x[:, np.newaxis]\n"
     ]
    },
    {
     "data": {
      "text/plain": [
       "[<matplotlib.lines.Line2D at 0x25907228be0>]"
      ]
     },
     "execution_count": 321,
     "metadata": {},
     "output_type": "execute_result"
    },
    {
     "data": {
      "text/plain": [
       "Text(0.5, 1.0, '26-10-2020 bis 06-12-2020, zwischen 18:00 und 22:00')"
      ]
     },
     "execution_count": 321,
     "metadata": {},
     "output_type": "execute_result"
    },
    {
     "data": {
      "text/plain": [
       "<matplotlib.legend.Legend at 0x2592a273e50>"
      ]
     },
     "execution_count": 321,
     "metadata": {},
     "output_type": "execute_result"
    },
    {
     "data": {
      "text/plain": [
       "(1.2, 1.22)"
      ]
     },
     "execution_count": 321,
     "metadata": {},
     "output_type": "execute_result"
    },
    {
     "data": {
      "text/plain": [
       "[<matplotlib.lines.Line2D at 0x259415c9190>]"
      ]
     },
     "execution_count": 321,
     "metadata": {},
     "output_type": "execute_result"
    },
    {
     "data": {
      "text/plain": [
       "<matplotlib.legend.Legend at 0x25931238d30>"
      ]
     },
     "execution_count": 321,
     "metadata": {},
     "output_type": "execute_result"
    },
    {
     "name": "stdout",
     "output_type": "stream",
     "text": [
      "2020-11-09\n",
      "2020-10-26 00:00:00+00:00 2020-12-06 23:59:59+00:00\n",
      "1.2 1.22\n"
     ]
    },
    {
     "data": {
      "text/plain": [
       "Text(0.5, 0.98, 'Benzinpreise in Wolfsburg')"
      ]
     },
     "execution_count": 321,
     "metadata": {},
     "output_type": "execute_result"
    },
    {
     "name": "stderr",
     "output_type": "stream",
     "text": [
      "C:\\ProgramData\\Anaconda3\\lib\\site-packages\\matplotlib\\axes\\_base.py:507: FutureWarning: Support for multi-dimensional indexing (e.g. `obj[:, None]`) is deprecated and will be removed in a future version.  Convert to a numpy array before indexing instead.\n",
      "  x = x[:, np.newaxis]\n"
     ]
    },
    {
     "data": {
      "text/plain": [
       "[<matplotlib.lines.Line2D at 0x259171f41f0>]"
      ]
     },
     "execution_count": 321,
     "metadata": {},
     "output_type": "execute_result"
    },
    {
     "data": {
      "text/plain": [
       "Text(0.5, 1.0, '26-10-2020 bis 06-12-2020, zwischen 18:00 und 22:00')"
      ]
     },
     "execution_count": 321,
     "metadata": {},
     "output_type": "execute_result"
    },
    {
     "data": {
      "text/plain": [
       "<matplotlib.legend.Legend at 0x25928532910>"
      ]
     },
     "execution_count": 321,
     "metadata": {},
     "output_type": "execute_result"
    },
    {
     "data": {
      "text/plain": [
       "(1.2, 1.22)"
      ]
     },
     "execution_count": 321,
     "metadata": {},
     "output_type": "execute_result"
    },
    {
     "data": {
      "text/plain": [
       "[<matplotlib.lines.Line2D at 0x259285328e0>]"
      ]
     },
     "execution_count": 321,
     "metadata": {},
     "output_type": "execute_result"
    },
    {
     "data": {
      "text/plain": [
       "<matplotlib.legend.Legend at 0x2594b0e7eb0>"
      ]
     },
     "execution_count": 321,
     "metadata": {},
     "output_type": "execute_result"
    },
    {
     "name": "stdout",
     "output_type": "stream",
     "text": [
      "2020-11-16\n",
      "2020-10-26 00:00:00+00:00 2020-12-06 23:59:59+00:00\n",
      "1.2 1.22\n"
     ]
    },
    {
     "data": {
      "text/plain": [
       "Text(0.5, 0.98, 'Benzinpreise in Wolfsburg')"
      ]
     },
     "execution_count": 321,
     "metadata": {},
     "output_type": "execute_result"
    },
    {
     "name": "stderr",
     "output_type": "stream",
     "text": [
      "C:\\ProgramData\\Anaconda3\\lib\\site-packages\\matplotlib\\axes\\_base.py:507: FutureWarning: Support for multi-dimensional indexing (e.g. `obj[:, None]`) is deprecated and will be removed in a future version.  Convert to a numpy array before indexing instead.\n",
      "  x = x[:, np.newaxis]\n"
     ]
    },
    {
     "data": {
      "text/plain": [
       "[<matplotlib.lines.Line2D at 0x2596abf52e0>]"
      ]
     },
     "execution_count": 321,
     "metadata": {},
     "output_type": "execute_result"
    },
    {
     "data": {
      "text/plain": [
       "Text(0.5, 1.0, '26-10-2020 bis 06-12-2020, zwischen 18:00 und 22:00')"
      ]
     },
     "execution_count": 321,
     "metadata": {},
     "output_type": "execute_result"
    },
    {
     "data": {
      "text/plain": [
       "<matplotlib.legend.Legend at 0x259faa4ce20>"
      ]
     },
     "execution_count": 321,
     "metadata": {},
     "output_type": "execute_result"
    },
    {
     "data": {
      "text/plain": [
       "(1.2, 1.22)"
      ]
     },
     "execution_count": 321,
     "metadata": {},
     "output_type": "execute_result"
    },
    {
     "data": {
      "text/plain": [
       "[<matplotlib.lines.Line2D at 0x25928781910>]"
      ]
     },
     "execution_count": 321,
     "metadata": {},
     "output_type": "execute_result"
    },
    {
     "data": {
      "text/plain": [
       "<matplotlib.legend.Legend at 0x2596abf5730>"
      ]
     },
     "execution_count": 321,
     "metadata": {},
     "output_type": "execute_result"
    },
    {
     "name": "stdout",
     "output_type": "stream",
     "text": [
      "2020-11-23\n",
      "2020-10-26 00:00:00+00:00 2020-12-06 23:59:59+00:00\n",
      "1.2 1.22\n"
     ]
    },
    {
     "data": {
      "text/plain": [
       "Text(0.5, 0.98, 'Benzinpreise in Wolfsburg')"
      ]
     },
     "execution_count": 321,
     "metadata": {},
     "output_type": "execute_result"
    },
    {
     "name": "stderr",
     "output_type": "stream",
     "text": [
      "C:\\ProgramData\\Anaconda3\\lib\\site-packages\\matplotlib\\axes\\_base.py:507: FutureWarning: Support for multi-dimensional indexing (e.g. `obj[:, None]`) is deprecated and will be removed in a future version.  Convert to a numpy array before indexing instead.\n",
      "  x = x[:, np.newaxis]\n"
     ]
    },
    {
     "data": {
      "text/plain": [
       "[<matplotlib.lines.Line2D at 0x25938063f40>]"
      ]
     },
     "execution_count": 321,
     "metadata": {},
     "output_type": "execute_result"
    },
    {
     "data": {
      "text/plain": [
       "Text(0.5, 1.0, '26-10-2020 bis 06-12-2020, zwischen 18:00 und 22:00')"
      ]
     },
     "execution_count": 321,
     "metadata": {},
     "output_type": "execute_result"
    },
    {
     "data": {
      "text/plain": [
       "<matplotlib.legend.Legend at 0x259c27652b0>"
      ]
     },
     "execution_count": 321,
     "metadata": {},
     "output_type": "execute_result"
    },
    {
     "data": {
      "text/plain": [
       "(1.2, 1.22)"
      ]
     },
     "execution_count": 321,
     "metadata": {},
     "output_type": "execute_result"
    },
    {
     "data": {
      "text/plain": [
       "[<matplotlib.lines.Line2D at 0x259418820a0>]"
      ]
     },
     "execution_count": 321,
     "metadata": {},
     "output_type": "execute_result"
    },
    {
     "data": {
      "text/plain": [
       "<matplotlib.legend.Legend at 0x259380634c0>"
      ]
     },
     "execution_count": 321,
     "metadata": {},
     "output_type": "execute_result"
    },
    {
     "name": "stdout",
     "output_type": "stream",
     "text": [
      "2020-11-30\n",
      "2020-10-26 00:00:00+00:00 2020-12-06 23:59:59+00:00\n",
      "1.2 1.22\n"
     ]
    },
    {
     "data": {
      "text/plain": [
       "Text(0.5, 0.98, 'Benzinpreise in Wolfsburg')"
      ]
     },
     "execution_count": 321,
     "metadata": {},
     "output_type": "execute_result"
    },
    {
     "name": "stderr",
     "output_type": "stream",
     "text": [
      "C:\\ProgramData\\Anaconda3\\lib\\site-packages\\matplotlib\\axes\\_base.py:507: FutureWarning: Support for multi-dimensional indexing (e.g. `obj[:, None]`) is deprecated and will be removed in a future version.  Convert to a numpy array before indexing instead.\n",
      "  x = x[:, np.newaxis]\n"
     ]
    },
    {
     "data": {
      "text/plain": [
       "[<matplotlib.lines.Line2D at 0x2592771e700>]"
      ]
     },
     "execution_count": 321,
     "metadata": {},
     "output_type": "execute_result"
    },
    {
     "data": {
      "text/plain": [
       "Text(0.5, 1.0, '26-10-2020 bis 06-12-2020, zwischen 18:00 und 22:00')"
      ]
     },
     "execution_count": 321,
     "metadata": {},
     "output_type": "execute_result"
    },
    {
     "data": {
      "text/plain": [
       "<matplotlib.legend.Legend at 0x259659b0d90>"
      ]
     },
     "execution_count": 321,
     "metadata": {},
     "output_type": "execute_result"
    },
    {
     "data": {
      "text/plain": [
       "(1.2, 1.22)"
      ]
     },
     "execution_count": 321,
     "metadata": {},
     "output_type": "execute_result"
    },
    {
     "data": {
      "text/plain": [
       "[<matplotlib.lines.Line2D at 0x259eff984f0>]"
      ]
     },
     "execution_count": 321,
     "metadata": {},
     "output_type": "execute_result"
    },
    {
     "data": {
      "text/plain": [
       "<matplotlib.legend.Legend at 0x25909db0730>"
      ]
     },
     "execution_count": 321,
     "metadata": {},
     "output_type": "execute_result"
    },
    {
     "name": "stdout",
     "output_type": "stream",
     "text": [
      "2020-11-30\n",
      "2020-11-30 00:00:00+00:00 2021-01-03 23:59:59+00:00\n",
      "1.24 1.32\n"
     ]
    },
    {
     "data": {
      "text/plain": [
       "Text(0.5, 0.98, 'Benzinpreise in Wolfsburg')"
      ]
     },
     "execution_count": 321,
     "metadata": {},
     "output_type": "execute_result"
    },
    {
     "name": "stderr",
     "output_type": "stream",
     "text": [
      "C:\\ProgramData\\Anaconda3\\lib\\site-packages\\matplotlib\\axes\\_base.py:507: FutureWarning: Support for multi-dimensional indexing (e.g. `obj[:, None]`) is deprecated and will be removed in a future version.  Convert to a numpy array before indexing instead.\n",
      "  x = x[:, np.newaxis]\n"
     ]
    },
    {
     "data": {
      "text/plain": [
       "[<matplotlib.lines.Line2D at 0x259071f4940>]"
      ]
     },
     "execution_count": 321,
     "metadata": {},
     "output_type": "execute_result"
    },
    {
     "data": {
      "text/plain": [
       "Text(0.5, 1.0, '30-11-2020 bis 03-01-2021, zwischen 18:00 und 22:00')"
      ]
     },
     "execution_count": 321,
     "metadata": {},
     "output_type": "execute_result"
    },
    {
     "data": {
      "text/plain": [
       "<matplotlib.legend.Legend at 0x25907b74fd0>"
      ]
     },
     "execution_count": 321,
     "metadata": {},
     "output_type": "execute_result"
    },
    {
     "data": {
      "text/plain": [
       "(1.24, 1.32)"
      ]
     },
     "execution_count": 321,
     "metadata": {},
     "output_type": "execute_result"
    },
    {
     "data": {
      "text/plain": [
       "[<matplotlib.lines.Line2D at 0x25966021130>]"
      ]
     },
     "execution_count": 321,
     "metadata": {},
     "output_type": "execute_result"
    },
    {
     "data": {
      "text/plain": [
       "<matplotlib.legend.Legend at 0x2592cb1c280>"
      ]
     },
     "execution_count": 321,
     "metadata": {},
     "output_type": "execute_result"
    },
    {
     "name": "stdout",
     "output_type": "stream",
     "text": [
      "2020-12-07\n",
      "2020-11-30 00:00:00+00:00 2021-01-03 23:59:59+00:00\n",
      "1.24 1.32\n"
     ]
    },
    {
     "data": {
      "text/plain": [
       "Text(0.5, 0.98, 'Benzinpreise in Wolfsburg')"
      ]
     },
     "execution_count": 321,
     "metadata": {},
     "output_type": "execute_result"
    },
    {
     "name": "stderr",
     "output_type": "stream",
     "text": [
      "C:\\ProgramData\\Anaconda3\\lib\\site-packages\\matplotlib\\axes\\_base.py:507: FutureWarning: Support for multi-dimensional indexing (e.g. `obj[:, None]`) is deprecated and will be removed in a future version.  Convert to a numpy array before indexing instead.\n",
      "  x = x[:, np.newaxis]\n"
     ]
    },
    {
     "data": {
      "text/plain": [
       "[<matplotlib.lines.Line2D at 0x259a7057d00>]"
      ]
     },
     "execution_count": 321,
     "metadata": {},
     "output_type": "execute_result"
    },
    {
     "data": {
      "text/plain": [
       "Text(0.5, 1.0, '30-11-2020 bis 03-01-2021, zwischen 18:00 und 22:00')"
      ]
     },
     "execution_count": 321,
     "metadata": {},
     "output_type": "execute_result"
    },
    {
     "data": {
      "text/plain": [
       "<matplotlib.legend.Legend at 0x2596608c250>"
      ]
     },
     "execution_count": 321,
     "metadata": {},
     "output_type": "execute_result"
    },
    {
     "data": {
      "text/plain": [
       "(1.24, 1.32)"
      ]
     },
     "execution_count": 321,
     "metadata": {},
     "output_type": "execute_result"
    },
    {
     "data": {
      "text/plain": [
       "[<matplotlib.lines.Line2D at 0x259c2880220>]"
      ]
     },
     "execution_count": 321,
     "metadata": {},
     "output_type": "execute_result"
    },
    {
     "data": {
      "text/plain": [
       "<matplotlib.legend.Legend at 0x2595c9c1fd0>"
      ]
     },
     "execution_count": 321,
     "metadata": {},
     "output_type": "execute_result"
    },
    {
     "name": "stdout",
     "output_type": "stream",
     "text": [
      "2020-12-14\n",
      "2020-11-30 00:00:00+00:00 2021-01-03 23:59:59+00:00\n",
      "1.24 1.32\n"
     ]
    },
    {
     "data": {
      "text/plain": [
       "Text(0.5, 0.98, 'Benzinpreise in Wolfsburg')"
      ]
     },
     "execution_count": 321,
     "metadata": {},
     "output_type": "execute_result"
    },
    {
     "name": "stderr",
     "output_type": "stream",
     "text": [
      "C:\\ProgramData\\Anaconda3\\lib\\site-packages\\matplotlib\\axes\\_base.py:507: FutureWarning: Support for multi-dimensional indexing (e.g. `obj[:, None]`) is deprecated and will be removed in a future version.  Convert to a numpy array before indexing instead.\n",
      "  x = x[:, np.newaxis]\n"
     ]
    },
    {
     "data": {
      "text/plain": [
       "[<matplotlib.lines.Line2D at 0x2590a216190>]"
      ]
     },
     "execution_count": 321,
     "metadata": {},
     "output_type": "execute_result"
    },
    {
     "data": {
      "text/plain": [
       "Text(0.5, 1.0, '30-11-2020 bis 03-01-2021, zwischen 18:00 und 22:00')"
      ]
     },
     "execution_count": 321,
     "metadata": {},
     "output_type": "execute_result"
    },
    {
     "data": {
      "text/plain": [
       "<matplotlib.legend.Legend at 0x2592959f970>"
      ]
     },
     "execution_count": 321,
     "metadata": {},
     "output_type": "execute_result"
    },
    {
     "data": {
      "text/plain": [
       "(1.24, 1.32)"
      ]
     },
     "execution_count": 321,
     "metadata": {},
     "output_type": "execute_result"
    },
    {
     "data": {
      "text/plain": [
       "[<matplotlib.lines.Line2D at 0x25971efc220>]"
      ]
     },
     "execution_count": 321,
     "metadata": {},
     "output_type": "execute_result"
    },
    {
     "data": {
      "text/plain": [
       "<matplotlib.legend.Legend at 0x25905133c70>"
      ]
     },
     "execution_count": 321,
     "metadata": {},
     "output_type": "execute_result"
    },
    {
     "name": "stdout",
     "output_type": "stream",
     "text": [
      "2020-12-21\n",
      "2020-11-30 00:00:00+00:00 2021-01-03 23:59:59+00:00\n",
      "1.24 1.32\n"
     ]
    },
    {
     "data": {
      "text/plain": [
       "Text(0.5, 0.98, 'Benzinpreise in Wolfsburg')"
      ]
     },
     "execution_count": 321,
     "metadata": {},
     "output_type": "execute_result"
    },
    {
     "name": "stderr",
     "output_type": "stream",
     "text": [
      "C:\\ProgramData\\Anaconda3\\lib\\site-packages\\matplotlib\\axes\\_base.py:507: FutureWarning: Support for multi-dimensional indexing (e.g. `obj[:, None]`) is deprecated and will be removed in a future version.  Convert to a numpy array before indexing instead.\n",
      "  x = x[:, np.newaxis]\n"
     ]
    },
    {
     "data": {
      "text/plain": [
       "[<matplotlib.lines.Line2D at 0x25965b641f0>]"
      ]
     },
     "execution_count": 321,
     "metadata": {},
     "output_type": "execute_result"
    },
    {
     "data": {
      "text/plain": [
       "Text(0.5, 1.0, '30-11-2020 bis 03-01-2021, zwischen 18:00 und 22:00')"
      ]
     },
     "execution_count": 321,
     "metadata": {},
     "output_type": "execute_result"
    },
    {
     "data": {
      "text/plain": [
       "<matplotlib.legend.Legend at 0x259effa17f0>"
      ]
     },
     "execution_count": 321,
     "metadata": {},
     "output_type": "execute_result"
    },
    {
     "data": {
      "text/plain": [
       "(1.24, 1.32)"
      ]
     },
     "execution_count": 321,
     "metadata": {},
     "output_type": "execute_result"
    },
    {
     "data": {
      "text/plain": [
       "[<matplotlib.lines.Line2D at 0x25926120250>]"
      ]
     },
     "execution_count": 321,
     "metadata": {},
     "output_type": "execute_result"
    },
    {
     "data": {
      "text/plain": [
       "<matplotlib.legend.Legend at 0x25965b64100>"
      ]
     },
     "execution_count": 321,
     "metadata": {},
     "output_type": "execute_result"
    },
    {
     "name": "stdout",
     "output_type": "stream",
     "text": [
      "2020-12-28\n",
      "2020-11-30 00:00:00+00:00 2021-01-03 23:59:59+00:00\n",
      "1.24 1.32\n"
     ]
    },
    {
     "data": {
      "text/plain": [
       "Text(0.5, 0.98, 'Benzinpreise in Wolfsburg')"
      ]
     },
     "execution_count": 321,
     "metadata": {},
     "output_type": "execute_result"
    },
    {
     "name": "stderr",
     "output_type": "stream",
     "text": [
      "C:\\ProgramData\\Anaconda3\\lib\\site-packages\\matplotlib\\axes\\_base.py:507: FutureWarning: Support for multi-dimensional indexing (e.g. `obj[:, None]`) is deprecated and will be removed in a future version.  Convert to a numpy array before indexing instead.\n",
      "  x = x[:, np.newaxis]\n"
     ]
    },
    {
     "data": {
      "text/plain": [
       "[<matplotlib.lines.Line2D at 0x2595ce55160>]"
      ]
     },
     "execution_count": 321,
     "metadata": {},
     "output_type": "execute_result"
    },
    {
     "data": {
      "text/plain": [
       "Text(0.5, 1.0, '30-11-2020 bis 03-01-2021, zwischen 18:00 und 22:00')"
      ]
     },
     "execution_count": 321,
     "metadata": {},
     "output_type": "execute_result"
    },
    {
     "data": {
      "text/plain": [
       "<matplotlib.legend.Legend at 0x2599ef18760>"
      ]
     },
     "execution_count": 321,
     "metadata": {},
     "output_type": "execute_result"
    },
    {
     "data": {
      "text/plain": [
       "(1.24, 1.32)"
      ]
     },
     "execution_count": 321,
     "metadata": {},
     "output_type": "execute_result"
    },
    {
     "data": {
      "text/plain": [
       "[<matplotlib.lines.Line2D at 0x2595ce55cd0>]"
      ]
     },
     "execution_count": 321,
     "metadata": {},
     "output_type": "execute_result"
    },
    {
     "data": {
      "text/plain": [
       "<matplotlib.legend.Legend at 0x2595ce55be0>"
      ]
     },
     "execution_count": 321,
     "metadata": {},
     "output_type": "execute_result"
    },
    {
     "name": "stdout",
     "output_type": "stream",
     "text": [
      "2020-12-28\n",
      "2020-12-28 00:00:00+00:00 2021-01-31 23:59:59+00:00\n",
      "1.34 1.42\n"
     ]
    },
    {
     "data": {
      "text/plain": [
       "Text(0.5, 0.98, 'Benzinpreise in Wolfsburg')"
      ]
     },
     "execution_count": 321,
     "metadata": {},
     "output_type": "execute_result"
    },
    {
     "name": "stderr",
     "output_type": "stream",
     "text": [
      "C:\\ProgramData\\Anaconda3\\lib\\site-packages\\matplotlib\\axes\\_base.py:507: FutureWarning: Support for multi-dimensional indexing (e.g. `obj[:, None]`) is deprecated and will be removed in a future version.  Convert to a numpy array before indexing instead.\n",
      "  x = x[:, np.newaxis]\n"
     ]
    },
    {
     "data": {
      "text/plain": [
       "[<matplotlib.lines.Line2D at 0x25909b6dc10>]"
      ]
     },
     "execution_count": 321,
     "metadata": {},
     "output_type": "execute_result"
    },
    {
     "data": {
      "text/plain": [
       "Text(0.5, 1.0, '28-12-2020 bis 31-01-2021, zwischen 18:00 und 22:00')"
      ]
     },
     "execution_count": 321,
     "metadata": {},
     "output_type": "execute_result"
    },
    {
     "data": {
      "text/plain": [
       "<matplotlib.legend.Legend at 0x259fa1c61f0>"
      ]
     },
     "execution_count": 321,
     "metadata": {},
     "output_type": "execute_result"
    },
    {
     "data": {
      "text/plain": [
       "(1.34, 1.42)"
      ]
     },
     "execution_count": 321,
     "metadata": {},
     "output_type": "execute_result"
    },
    {
     "data": {
      "text/plain": [
       "[<matplotlib.lines.Line2D at 0x25909b6d850>]"
      ]
     },
     "execution_count": 321,
     "metadata": {},
     "output_type": "execute_result"
    },
    {
     "data": {
      "text/plain": [
       "<matplotlib.legend.Legend at 0x25a151b9b50>"
      ]
     },
     "execution_count": 321,
     "metadata": {},
     "output_type": "execute_result"
    },
    {
     "name": "stdout",
     "output_type": "stream",
     "text": [
      "2021-01-04\n",
      "2020-12-28 00:00:00+00:00 2021-01-31 23:59:59+00:00\n",
      "1.34 1.42\n"
     ]
    },
    {
     "data": {
      "text/plain": [
       "Text(0.5, 0.98, 'Benzinpreise in Wolfsburg')"
      ]
     },
     "execution_count": 321,
     "metadata": {},
     "output_type": "execute_result"
    },
    {
     "name": "stderr",
     "output_type": "stream",
     "text": [
      "C:\\ProgramData\\Anaconda3\\lib\\site-packages\\matplotlib\\axes\\_base.py:507: FutureWarning: Support for multi-dimensional indexing (e.g. `obj[:, None]`) is deprecated and will be removed in a future version.  Convert to a numpy array before indexing instead.\n",
      "  x = x[:, np.newaxis]\n"
     ]
    },
    {
     "data": {
      "text/plain": [
       "[<matplotlib.lines.Line2D at 0x25a0381d8b0>]"
      ]
     },
     "execution_count": 321,
     "metadata": {},
     "output_type": "execute_result"
    },
    {
     "data": {
      "text/plain": [
       "Text(0.5, 1.0, '28-12-2020 bis 31-01-2021, zwischen 18:00 und 22:00')"
      ]
     },
     "execution_count": 321,
     "metadata": {},
     "output_type": "execute_result"
    },
    {
     "data": {
      "text/plain": [
       "<matplotlib.legend.Legend at 0x25927719f40>"
      ]
     },
     "execution_count": 321,
     "metadata": {},
     "output_type": "execute_result"
    },
    {
     "data": {
      "text/plain": [
       "(1.34, 1.42)"
      ]
     },
     "execution_count": 321,
     "metadata": {},
     "output_type": "execute_result"
    },
    {
     "data": {
      "text/plain": [
       "[<matplotlib.lines.Line2D at 0x25927719280>]"
      ]
     },
     "execution_count": 321,
     "metadata": {},
     "output_type": "execute_result"
    },
    {
     "data": {
      "text/plain": [
       "<matplotlib.legend.Legend at 0x259faa61370>"
      ]
     },
     "execution_count": 321,
     "metadata": {},
     "output_type": "execute_result"
    },
    {
     "name": "stdout",
     "output_type": "stream",
     "text": [
      "2021-01-11\n",
      "2020-12-28 00:00:00+00:00 2021-01-31 23:59:59+00:00\n",
      "1.34 1.42\n"
     ]
    },
    {
     "data": {
      "text/plain": [
       "Text(0.5, 0.98, 'Benzinpreise in Wolfsburg')"
      ]
     },
     "execution_count": 321,
     "metadata": {},
     "output_type": "execute_result"
    },
    {
     "name": "stderr",
     "output_type": "stream",
     "text": [
      "C:\\ProgramData\\Anaconda3\\lib\\site-packages\\matplotlib\\axes\\_base.py:507: FutureWarning: Support for multi-dimensional indexing (e.g. `obj[:, None]`) is deprecated and will be removed in a future version.  Convert to a numpy array before indexing instead.\n",
      "  x = x[:, np.newaxis]\n"
     ]
    },
    {
     "data": {
      "text/plain": [
       "[<matplotlib.lines.Line2D at 0x25901ef1e50>]"
      ]
     },
     "execution_count": 321,
     "metadata": {},
     "output_type": "execute_result"
    },
    {
     "data": {
      "text/plain": [
       "Text(0.5, 1.0, '28-12-2020 bis 31-01-2021, zwischen 18:00 und 22:00')"
      ]
     },
     "execution_count": 321,
     "metadata": {},
     "output_type": "execute_result"
    },
    {
     "data": {
      "text/plain": [
       "<matplotlib.legend.Legend at 0x259291f3640>"
      ]
     },
     "execution_count": 321,
     "metadata": {},
     "output_type": "execute_result"
    },
    {
     "data": {
      "text/plain": [
       "(1.34, 1.42)"
      ]
     },
     "execution_count": 321,
     "metadata": {},
     "output_type": "execute_result"
    },
    {
     "data": {
      "text/plain": [
       "[<matplotlib.lines.Line2D at 0x2590b0d6610>]"
      ]
     },
     "execution_count": 321,
     "metadata": {},
     "output_type": "execute_result"
    },
    {
     "data": {
      "text/plain": [
       "<matplotlib.legend.Legend at 0x25901ef1d90>"
      ]
     },
     "execution_count": 321,
     "metadata": {},
     "output_type": "execute_result"
    },
    {
     "name": "stdout",
     "output_type": "stream",
     "text": [
      "2021-01-18\n",
      "2020-12-28 00:00:00+00:00 2021-01-31 23:59:59+00:00\n",
      "1.34 1.42\n"
     ]
    },
    {
     "data": {
      "text/plain": [
       "Text(0.5, 0.98, 'Benzinpreise in Wolfsburg')"
      ]
     },
     "execution_count": 321,
     "metadata": {},
     "output_type": "execute_result"
    },
    {
     "name": "stderr",
     "output_type": "stream",
     "text": [
      "C:\\ProgramData\\Anaconda3\\lib\\site-packages\\matplotlib\\axes\\_base.py:507: FutureWarning: Support for multi-dimensional indexing (e.g. `obj[:, None]`) is deprecated and will be removed in a future version.  Convert to a numpy array before indexing instead.\n",
      "  x = x[:, np.newaxis]\n"
     ]
    },
    {
     "data": {
      "text/plain": [
       "[<matplotlib.lines.Line2D at 0x259a6d53af0>]"
      ]
     },
     "execution_count": 321,
     "metadata": {},
     "output_type": "execute_result"
    },
    {
     "data": {
      "text/plain": [
       "Text(0.5, 1.0, '28-12-2020 bis 31-01-2021, zwischen 18:00 und 22:00')"
      ]
     },
     "execution_count": 321,
     "metadata": {},
     "output_type": "execute_result"
    },
    {
     "data": {
      "text/plain": [
       "<matplotlib.legend.Legend at 0x259402808e0>"
      ]
     },
     "execution_count": 321,
     "metadata": {},
     "output_type": "execute_result"
    },
    {
     "data": {
      "text/plain": [
       "(1.34, 1.42)"
      ]
     },
     "execution_count": 321,
     "metadata": {},
     "output_type": "execute_result"
    },
    {
     "data": {
      "text/plain": [
       "[<matplotlib.lines.Line2D at 0x259b8aad7f0>]"
      ]
     },
     "execution_count": 321,
     "metadata": {},
     "output_type": "execute_result"
    },
    {
     "data": {
      "text/plain": [
       "<matplotlib.legend.Legend at 0x2599ece42e0>"
      ]
     },
     "execution_count": 321,
     "metadata": {},
     "output_type": "execute_result"
    },
    {
     "name": "stdout",
     "output_type": "stream",
     "text": [
      "2021-01-25\n",
      "2020-12-28 00:00:00+00:00 2021-01-31 23:59:59+00:00\n",
      "1.34 1.42\n"
     ]
    },
    {
     "data": {
      "text/plain": [
       "Text(0.5, 0.98, 'Benzinpreise in Wolfsburg')"
      ]
     },
     "execution_count": 321,
     "metadata": {},
     "output_type": "execute_result"
    },
    {
     "name": "stderr",
     "output_type": "stream",
     "text": [
      "C:\\ProgramData\\Anaconda3\\lib\\site-packages\\matplotlib\\axes\\_base.py:507: FutureWarning: Support for multi-dimensional indexing (e.g. `obj[:, None]`) is deprecated and will be removed in a future version.  Convert to a numpy array before indexing instead.\n",
      "  x = x[:, np.newaxis]\n"
     ]
    },
    {
     "data": {
      "text/plain": [
       "[<matplotlib.lines.Line2D at 0x2593cd9b940>]"
      ]
     },
     "execution_count": 321,
     "metadata": {},
     "output_type": "execute_result"
    },
    {
     "data": {
      "text/plain": [
       "Text(0.5, 1.0, '28-12-2020 bis 31-01-2021, zwischen 18:00 und 22:00')"
      ]
     },
     "execution_count": 321,
     "metadata": {},
     "output_type": "execute_result"
    },
    {
     "data": {
      "text/plain": [
       "<matplotlib.legend.Legend at 0x2592e665c70>"
      ]
     },
     "execution_count": 321,
     "metadata": {},
     "output_type": "execute_result"
    },
    {
     "data": {
      "text/plain": [
       "(1.34, 1.42)"
      ]
     },
     "execution_count": 321,
     "metadata": {},
     "output_type": "execute_result"
    },
    {
     "data": {
      "text/plain": [
       "[<matplotlib.lines.Line2D at 0x25a0559b6a0>]"
      ]
     },
     "execution_count": 321,
     "metadata": {},
     "output_type": "execute_result"
    },
    {
     "data": {
      "text/plain": [
       "<matplotlib.legend.Legend at 0x2593cd9bf10>"
      ]
     },
     "execution_count": 321,
     "metadata": {},
     "output_type": "execute_result"
    },
    {
     "name": "stdout",
     "output_type": "stream",
     "text": [
      "2021-02-01\n",
      "2021-02-01 00:00:00+00:00 2021-02-28 23:59:59+00:00\n",
      "1.41 1.48\n"
     ]
    },
    {
     "data": {
      "text/plain": [
       "Text(0.5, 0.98, 'Benzinpreise in Wolfsburg')"
      ]
     },
     "execution_count": 321,
     "metadata": {},
     "output_type": "execute_result"
    },
    {
     "name": "stderr",
     "output_type": "stream",
     "text": [
      "C:\\ProgramData\\Anaconda3\\lib\\site-packages\\matplotlib\\axes\\_base.py:507: FutureWarning: Support for multi-dimensional indexing (e.g. `obj[:, None]`) is deprecated and will be removed in a future version.  Convert to a numpy array before indexing instead.\n",
      "  x = x[:, np.newaxis]\n"
     ]
    },
    {
     "data": {
      "text/plain": [
       "[<matplotlib.lines.Line2D at 0x2590794f280>]"
      ]
     },
     "execution_count": 321,
     "metadata": {},
     "output_type": "execute_result"
    },
    {
     "data": {
      "text/plain": [
       "Text(0.5, 1.0, '01-02-2021 bis 28-02-2021, zwischen 18:00 und 22:00')"
      ]
     },
     "execution_count": 321,
     "metadata": {},
     "output_type": "execute_result"
    },
    {
     "data": {
      "text/plain": [
       "<matplotlib.legend.Legend at 0x25934722970>"
      ]
     },
     "execution_count": 321,
     "metadata": {},
     "output_type": "execute_result"
    },
    {
     "data": {
      "text/plain": [
       "(1.41, 1.48)"
      ]
     },
     "execution_count": 321,
     "metadata": {},
     "output_type": "execute_result"
    },
    {
     "data": {
      "text/plain": [
       "[<matplotlib.lines.Line2D at 0x259115f5730>]"
      ]
     },
     "execution_count": 321,
     "metadata": {},
     "output_type": "execute_result"
    },
    {
     "data": {
      "text/plain": [
       "<matplotlib.legend.Legend at 0x2590794f130>"
      ]
     },
     "execution_count": 321,
     "metadata": {},
     "output_type": "execute_result"
    },
    {
     "name": "stdout",
     "output_type": "stream",
     "text": [
      "2021-02-08\n",
      "2021-02-01 00:00:00+00:00 2021-02-28 23:59:59+00:00\n",
      "1.41 1.48\n"
     ]
    },
    {
     "data": {
      "text/plain": [
       "Text(0.5, 0.98, 'Benzinpreise in Wolfsburg')"
      ]
     },
     "execution_count": 321,
     "metadata": {},
     "output_type": "execute_result"
    },
    {
     "name": "stderr",
     "output_type": "stream",
     "text": [
      "C:\\ProgramData\\Anaconda3\\lib\\site-packages\\matplotlib\\axes\\_base.py:507: FutureWarning: Support for multi-dimensional indexing (e.g. `obj[:, None]`) is deprecated and will be removed in a future version.  Convert to a numpy array before indexing instead.\n",
      "  x = x[:, np.newaxis]\n"
     ]
    },
    {
     "data": {
      "text/plain": [
       "[<matplotlib.lines.Line2D at 0x2590757b7f0>]"
      ]
     },
     "execution_count": 321,
     "metadata": {},
     "output_type": "execute_result"
    },
    {
     "data": {
      "text/plain": [
       "Text(0.5, 1.0, '01-02-2021 bis 28-02-2021, zwischen 18:00 und 22:00')"
      ]
     },
     "execution_count": 321,
     "metadata": {},
     "output_type": "execute_result"
    },
    {
     "data": {
      "text/plain": [
       "<matplotlib.legend.Legend at 0x25908f231f0>"
      ]
     },
     "execution_count": 321,
     "metadata": {},
     "output_type": "execute_result"
    },
    {
     "data": {
      "text/plain": [
       "(1.41, 1.48)"
      ]
     },
     "execution_count": 321,
     "metadata": {},
     "output_type": "execute_result"
    },
    {
     "data": {
      "text/plain": [
       "[<matplotlib.lines.Line2D at 0x25929147f70>]"
      ]
     },
     "execution_count": 321,
     "metadata": {},
     "output_type": "execute_result"
    },
    {
     "data": {
      "text/plain": [
       "<matplotlib.legend.Legend at 0x2590757b6d0>"
      ]
     },
     "execution_count": 321,
     "metadata": {},
     "output_type": "execute_result"
    },
    {
     "name": "stdout",
     "output_type": "stream",
     "text": [
      "2021-02-15\n",
      "2021-02-01 00:00:00+00:00 2021-02-28 23:59:59+00:00\n",
      "1.41 1.48\n"
     ]
    },
    {
     "data": {
      "text/plain": [
       "Text(0.5, 0.98, 'Benzinpreise in Wolfsburg')"
      ]
     },
     "execution_count": 321,
     "metadata": {},
     "output_type": "execute_result"
    },
    {
     "name": "stderr",
     "output_type": "stream",
     "text": [
      "C:\\ProgramData\\Anaconda3\\lib\\site-packages\\matplotlib\\axes\\_base.py:507: FutureWarning: Support for multi-dimensional indexing (e.g. `obj[:, None]`) is deprecated and will be removed in a future version.  Convert to a numpy array before indexing instead.\n",
      "  x = x[:, np.newaxis]\n"
     ]
    },
    {
     "data": {
      "text/plain": [
       "[<matplotlib.lines.Line2D at 0x25965fdbee0>]"
      ]
     },
     "execution_count": 321,
     "metadata": {},
     "output_type": "execute_result"
    },
    {
     "data": {
      "text/plain": [
       "Text(0.5, 1.0, '01-02-2021 bis 28-02-2021, zwischen 18:00 und 22:00')"
      ]
     },
     "execution_count": 321,
     "metadata": {},
     "output_type": "execute_result"
    },
    {
     "data": {
      "text/plain": [
       "<matplotlib.legend.Legend at 0x259076664c0>"
      ]
     },
     "execution_count": 321,
     "metadata": {},
     "output_type": "execute_result"
    },
    {
     "data": {
      "text/plain": [
       "(1.41, 1.48)"
      ]
     },
     "execution_count": 321,
     "metadata": {},
     "output_type": "execute_result"
    },
    {
     "data": {
      "text/plain": [
       "[<matplotlib.lines.Line2D at 0x25909547550>]"
      ]
     },
     "execution_count": 321,
     "metadata": {},
     "output_type": "execute_result"
    },
    {
     "data": {
      "text/plain": [
       "<matplotlib.legend.Legend at 0x25965fdbbe0>"
      ]
     },
     "execution_count": 321,
     "metadata": {},
     "output_type": "execute_result"
    },
    {
     "name": "stdout",
     "output_type": "stream",
     "text": [
      "2021-02-22\n",
      "2021-02-01 00:00:00+00:00 2021-02-28 23:59:59+00:00\n",
      "1.41 1.48\n"
     ]
    },
    {
     "data": {
      "text/plain": [
       "Text(0.5, 0.98, 'Benzinpreise in Wolfsburg')"
      ]
     },
     "execution_count": 321,
     "metadata": {},
     "output_type": "execute_result"
    },
    {
     "name": "stderr",
     "output_type": "stream",
     "text": [
      "C:\\ProgramData\\Anaconda3\\lib\\site-packages\\matplotlib\\axes\\_base.py:507: FutureWarning: Support for multi-dimensional indexing (e.g. `obj[:, None]`) is deprecated and will be removed in a future version.  Convert to a numpy array before indexing instead.\n",
      "  x = x[:, np.newaxis]\n"
     ]
    },
    {
     "data": {
      "text/plain": [
       "[<matplotlib.lines.Line2D at 0x259415b2760>]"
      ]
     },
     "execution_count": 321,
     "metadata": {},
     "output_type": "execute_result"
    },
    {
     "data": {
      "text/plain": [
       "Text(0.5, 1.0, '01-02-2021 bis 28-02-2021, zwischen 18:00 und 22:00')"
      ]
     },
     "execution_count": 321,
     "metadata": {},
     "output_type": "execute_result"
    },
    {
     "data": {
      "text/plain": [
       "<matplotlib.legend.Legend at 0x259288fddc0>"
      ]
     },
     "execution_count": 321,
     "metadata": {},
     "output_type": "execute_result"
    },
    {
     "data": {
      "text/plain": [
       "(1.41, 1.48)"
      ]
     },
     "execution_count": 321,
     "metadata": {},
     "output_type": "execute_result"
    },
    {
     "data": {
      "text/plain": [
       "[<matplotlib.lines.Line2D at 0x2592857e250>]"
      ]
     },
     "execution_count": 321,
     "metadata": {},
     "output_type": "execute_result"
    },
    {
     "data": {
      "text/plain": [
       "<matplotlib.legend.Legend at 0x259415b2a30>"
      ]
     },
     "execution_count": 321,
     "metadata": {},
     "output_type": "execute_result"
    },
    {
     "name": "stdout",
     "output_type": "stream",
     "text": [
      "2021-03-01\n",
      "2021-03-01 00:00:00+00:00 2021-04-04 23:59:59+00:00\n",
      "1.45 1.51\n"
     ]
    },
    {
     "data": {
      "text/plain": [
       "Text(0.5, 0.98, 'Benzinpreise in Wolfsburg')"
      ]
     },
     "execution_count": 321,
     "metadata": {},
     "output_type": "execute_result"
    },
    {
     "name": "stderr",
     "output_type": "stream",
     "text": [
      "C:\\ProgramData\\Anaconda3\\lib\\site-packages\\matplotlib\\axes\\_base.py:507: FutureWarning: Support for multi-dimensional indexing (e.g. `obj[:, None]`) is deprecated and will be removed in a future version.  Convert to a numpy array before indexing instead.\n",
      "  x = x[:, np.newaxis]\n"
     ]
    },
    {
     "data": {
      "text/plain": [
       "[<matplotlib.lines.Line2D at 0x25916c91ee0>]"
      ]
     },
     "execution_count": 321,
     "metadata": {},
     "output_type": "execute_result"
    },
    {
     "data": {
      "text/plain": [
       "Text(0.5, 1.0, '01-03-2021 bis 04-04-2021, zwischen 18:00 und 22:00')"
      ]
     },
     "execution_count": 321,
     "metadata": {},
     "output_type": "execute_result"
    },
    {
     "data": {
      "text/plain": [
       "<matplotlib.legend.Legend at 0x2592741c580>"
      ]
     },
     "execution_count": 321,
     "metadata": {},
     "output_type": "execute_result"
    },
    {
     "data": {
      "text/plain": [
       "(1.45, 1.51)"
      ]
     },
     "execution_count": 321,
     "metadata": {},
     "output_type": "execute_result"
    },
    {
     "data": {
      "text/plain": [
       "[<matplotlib.lines.Line2D at 0x25916c91a00>]"
      ]
     },
     "execution_count": 321,
     "metadata": {},
     "output_type": "execute_result"
    },
    {
     "data": {
      "text/plain": [
       "<matplotlib.legend.Legend at 0x2592741caf0>"
      ]
     },
     "execution_count": 321,
     "metadata": {},
     "output_type": "execute_result"
    },
    {
     "name": "stdout",
     "output_type": "stream",
     "text": [
      "2021-03-08\n",
      "2021-03-01 00:00:00+00:00 2021-04-04 23:59:59+00:00\n",
      "1.45 1.51\n"
     ]
    },
    {
     "data": {
      "text/plain": [
       "Text(0.5, 0.98, 'Benzinpreise in Wolfsburg')"
      ]
     },
     "execution_count": 321,
     "metadata": {},
     "output_type": "execute_result"
    },
    {
     "name": "stderr",
     "output_type": "stream",
     "text": [
      "C:\\ProgramData\\Anaconda3\\lib\\site-packages\\matplotlib\\axes\\_base.py:507: FutureWarning: Support for multi-dimensional indexing (e.g. `obj[:, None]`) is deprecated and will be removed in a future version.  Convert to a numpy array before indexing instead.\n",
      "  x = x[:, np.newaxis]\n"
     ]
    },
    {
     "data": {
      "text/plain": [
       "[<matplotlib.lines.Line2D at 0x259392c4ac0>]"
      ]
     },
     "execution_count": 321,
     "metadata": {},
     "output_type": "execute_result"
    },
    {
     "data": {
      "text/plain": [
       "Text(0.5, 1.0, '01-03-2021 bis 04-04-2021, zwischen 18:00 und 22:00')"
      ]
     },
     "execution_count": 321,
     "metadata": {},
     "output_type": "execute_result"
    },
    {
     "data": {
      "text/plain": [
       "<matplotlib.legend.Legend at 0x25939ef6550>"
      ]
     },
     "execution_count": 321,
     "metadata": {},
     "output_type": "execute_result"
    },
    {
     "data": {
      "text/plain": [
       "(1.45, 1.51)"
      ]
     },
     "execution_count": 321,
     "metadata": {},
     "output_type": "execute_result"
    },
    {
     "data": {
      "text/plain": [
       "[<matplotlib.lines.Line2D at 0x25909a1a880>]"
      ]
     },
     "execution_count": 321,
     "metadata": {},
     "output_type": "execute_result"
    },
    {
     "data": {
      "text/plain": [
       "<matplotlib.legend.Legend at 0x25907a693a0>"
      ]
     },
     "execution_count": 321,
     "metadata": {},
     "output_type": "execute_result"
    },
    {
     "name": "stdout",
     "output_type": "stream",
     "text": [
      "2021-03-15\n",
      "2021-03-01 00:00:00+00:00 2021-04-04 23:59:59+00:00\n",
      "1.45 1.51\n"
     ]
    },
    {
     "data": {
      "text/plain": [
       "Text(0.5, 0.98, 'Benzinpreise in Wolfsburg')"
      ]
     },
     "execution_count": 321,
     "metadata": {},
     "output_type": "execute_result"
    },
    {
     "name": "stderr",
     "output_type": "stream",
     "text": [
      "C:\\ProgramData\\Anaconda3\\lib\\site-packages\\matplotlib\\axes\\_base.py:507: FutureWarning: Support for multi-dimensional indexing (e.g. `obj[:, None]`) is deprecated and will be removed in a future version.  Convert to a numpy array before indexing instead.\n",
      "  x = x[:, np.newaxis]\n"
     ]
    },
    {
     "data": {
      "text/plain": [
       "[<matplotlib.lines.Line2D at 0x25916c90e80>]"
      ]
     },
     "execution_count": 321,
     "metadata": {},
     "output_type": "execute_result"
    },
    {
     "data": {
      "text/plain": [
       "Text(0.5, 1.0, '01-03-2021 bis 04-04-2021, zwischen 18:00 und 22:00')"
      ]
     },
     "execution_count": 321,
     "metadata": {},
     "output_type": "execute_result"
    },
    {
     "data": {
      "text/plain": [
       "<matplotlib.legend.Legend at 0x2593686bf70>"
      ]
     },
     "execution_count": 321,
     "metadata": {},
     "output_type": "execute_result"
    },
    {
     "data": {
      "text/plain": [
       "(1.45, 1.51)"
      ]
     },
     "execution_count": 321,
     "metadata": {},
     "output_type": "execute_result"
    },
    {
     "data": {
      "text/plain": [
       "[<matplotlib.lines.Line2D at 0x25916c994f0>]"
      ]
     },
     "execution_count": 321,
     "metadata": {},
     "output_type": "execute_result"
    },
    {
     "data": {
      "text/plain": [
       "<matplotlib.legend.Legend at 0x25916c99460>"
      ]
     },
     "execution_count": 321,
     "metadata": {},
     "output_type": "execute_result"
    },
    {
     "name": "stdout",
     "output_type": "stream",
     "text": [
      "2021-03-22\n",
      "2021-03-01 00:00:00+00:00 2021-04-04 23:59:59+00:00\n",
      "1.45 1.51\n"
     ]
    },
    {
     "data": {
      "text/plain": [
       "Text(0.5, 0.98, 'Benzinpreise in Wolfsburg')"
      ]
     },
     "execution_count": 321,
     "metadata": {},
     "output_type": "execute_result"
    },
    {
     "name": "stderr",
     "output_type": "stream",
     "text": [
      "C:\\ProgramData\\Anaconda3\\lib\\site-packages\\matplotlib\\axes\\_base.py:507: FutureWarning: Support for multi-dimensional indexing (e.g. `obj[:, None]`) is deprecated and will be removed in a future version.  Convert to a numpy array before indexing instead.\n",
      "  x = x[:, np.newaxis]\n"
     ]
    },
    {
     "data": {
      "text/plain": [
       "[<matplotlib.lines.Line2D at 0x2592fb54bb0>]"
      ]
     },
     "execution_count": 321,
     "metadata": {},
     "output_type": "execute_result"
    },
    {
     "data": {
      "text/plain": [
       "Text(0.5, 1.0, '01-03-2021 bis 04-04-2021, zwischen 18:00 und 22:00')"
      ]
     },
     "execution_count": 321,
     "metadata": {},
     "output_type": "execute_result"
    },
    {
     "data": {
      "text/plain": [
       "<matplotlib.legend.Legend at 0x259c2652160>"
      ]
     },
     "execution_count": 321,
     "metadata": {},
     "output_type": "execute_result"
    },
    {
     "data": {
      "text/plain": [
       "(1.45, 1.51)"
      ]
     },
     "execution_count": 321,
     "metadata": {},
     "output_type": "execute_result"
    },
    {
     "data": {
      "text/plain": [
       "[<matplotlib.lines.Line2D at 0x2592f933ca0>]"
      ]
     },
     "execution_count": 321,
     "metadata": {},
     "output_type": "execute_result"
    },
    {
     "data": {
      "text/plain": [
       "<matplotlib.legend.Legend at 0x25939e61280>"
      ]
     },
     "execution_count": 321,
     "metadata": {},
     "output_type": "execute_result"
    },
    {
     "name": "stdout",
     "output_type": "stream",
     "text": [
      "2021-03-29\n",
      "2021-03-01 00:00:00+00:00 2021-04-04 23:59:59+00:00\n",
      "1.45 1.51\n"
     ]
    },
    {
     "data": {
      "text/plain": [
       "Text(0.5, 0.98, 'Benzinpreise in Wolfsburg')"
      ]
     },
     "execution_count": 321,
     "metadata": {},
     "output_type": "execute_result"
    },
    {
     "name": "stderr",
     "output_type": "stream",
     "text": [
      "C:\\ProgramData\\Anaconda3\\lib\\site-packages\\matplotlib\\axes\\_base.py:507: FutureWarning: Support for multi-dimensional indexing (e.g. `obj[:, None]`) is deprecated and will be removed in a future version.  Convert to a numpy array before indexing instead.\n",
      "  x = x[:, np.newaxis]\n"
     ]
    },
    {
     "data": {
      "text/plain": [
       "[<matplotlib.lines.Line2D at 0x25928859250>]"
      ]
     },
     "execution_count": 321,
     "metadata": {},
     "output_type": "execute_result"
    },
    {
     "data": {
      "text/plain": [
       "Text(0.5, 1.0, '01-03-2021 bis 04-04-2021, zwischen 18:00 und 22:00')"
      ]
     },
     "execution_count": 321,
     "metadata": {},
     "output_type": "execute_result"
    },
    {
     "data": {
      "text/plain": [
       "<matplotlib.legend.Legend at 0x2593554b400>"
      ]
     },
     "execution_count": 321,
     "metadata": {},
     "output_type": "execute_result"
    },
    {
     "data": {
      "text/plain": [
       "(1.45, 1.51)"
      ]
     },
     "execution_count": 321,
     "metadata": {},
     "output_type": "execute_result"
    },
    {
     "data": {
      "text/plain": [
       "[<matplotlib.lines.Line2D at 0x25928859640>]"
      ]
     },
     "execution_count": 321,
     "metadata": {},
     "output_type": "execute_result"
    },
    {
     "data": {
      "text/plain": [
       "<matplotlib.legend.Legend at 0x25928859a30>"
      ]
     },
     "execution_count": 321,
     "metadata": {},
     "output_type": "execute_result"
    },
    {
     "name": "stdout",
     "output_type": "stream",
     "text": [
      "2021-03-29\n",
      "2021-03-29 00:00:00+00:00 2021-05-02 23:59:59+00:00\n",
      "1.48 1.5\n"
     ]
    },
    {
     "data": {
      "text/plain": [
       "Text(0.5, 0.98, 'Benzinpreise in Wolfsburg')"
      ]
     },
     "execution_count": 321,
     "metadata": {},
     "output_type": "execute_result"
    },
    {
     "name": "stderr",
     "output_type": "stream",
     "text": [
      "C:\\ProgramData\\Anaconda3\\lib\\site-packages\\matplotlib\\axes\\_base.py:507: FutureWarning: Support for multi-dimensional indexing (e.g. `obj[:, None]`) is deprecated and will be removed in a future version.  Convert to a numpy array before indexing instead.\n",
      "  x = x[:, np.newaxis]\n"
     ]
    },
    {
     "data": {
      "text/plain": [
       "[<matplotlib.lines.Line2D at 0x25933cb9b50>]"
      ]
     },
     "execution_count": 321,
     "metadata": {},
     "output_type": "execute_result"
    },
    {
     "data": {
      "text/plain": [
       "Text(0.5, 1.0, '29-03-2021 bis 02-05-2021, zwischen 18:00 und 22:00')"
      ]
     },
     "execution_count": 321,
     "metadata": {},
     "output_type": "execute_result"
    },
    {
     "data": {
      "text/plain": [
       "<matplotlib.legend.Legend at 0x25940226970>"
      ]
     },
     "execution_count": 321,
     "metadata": {},
     "output_type": "execute_result"
    },
    {
     "data": {
      "text/plain": [
       "(1.48, 1.5)"
      ]
     },
     "execution_count": 321,
     "metadata": {},
     "output_type": "execute_result"
    },
    {
     "data": {
      "text/plain": [
       "[<matplotlib.lines.Line2D at 0x25a151877f0>]"
      ]
     },
     "execution_count": 321,
     "metadata": {},
     "output_type": "execute_result"
    },
    {
     "data": {
      "text/plain": [
       "<matplotlib.legend.Legend at 0x2595c099400>"
      ]
     },
     "execution_count": 321,
     "metadata": {},
     "output_type": "execute_result"
    },
    {
     "name": "stdout",
     "output_type": "stream",
     "text": [
      "2021-04-05\n",
      "2021-03-29 00:00:00+00:00 2021-05-02 23:59:59+00:00\n",
      "1.48 1.5\n"
     ]
    },
    {
     "data": {
      "text/plain": [
       "Text(0.5, 0.98, 'Benzinpreise in Wolfsburg')"
      ]
     },
     "execution_count": 321,
     "metadata": {},
     "output_type": "execute_result"
    },
    {
     "name": "stderr",
     "output_type": "stream",
     "text": [
      "C:\\ProgramData\\Anaconda3\\lib\\site-packages\\matplotlib\\axes\\_base.py:507: FutureWarning: Support for multi-dimensional indexing (e.g. `obj[:, None]`) is deprecated and will be removed in a future version.  Convert to a numpy array before indexing instead.\n",
      "  x = x[:, np.newaxis]\n"
     ]
    },
    {
     "data": {
      "text/plain": [
       "[<matplotlib.lines.Line2D at 0x259270abd00>]"
      ]
     },
     "execution_count": 321,
     "metadata": {},
     "output_type": "execute_result"
    },
    {
     "data": {
      "text/plain": [
       "Text(0.5, 1.0, '29-03-2021 bis 02-05-2021, zwischen 18:00 und 22:00')"
      ]
     },
     "execution_count": 321,
     "metadata": {},
     "output_type": "execute_result"
    },
    {
     "data": {
      "text/plain": [
       "<matplotlib.legend.Legend at 0x259076a3c70>"
      ]
     },
     "execution_count": 321,
     "metadata": {},
     "output_type": "execute_result"
    },
    {
     "data": {
      "text/plain": [
       "(1.48, 1.5)"
      ]
     },
     "execution_count": 321,
     "metadata": {},
     "output_type": "execute_result"
    },
    {
     "data": {
      "text/plain": [
       "[<matplotlib.lines.Line2D at 0x259270abf70>]"
      ]
     },
     "execution_count": 321,
     "metadata": {},
     "output_type": "execute_result"
    },
    {
     "data": {
      "text/plain": [
       "<matplotlib.legend.Legend at 0x259215618b0>"
      ]
     },
     "execution_count": 321,
     "metadata": {},
     "output_type": "execute_result"
    },
    {
     "name": "stdout",
     "output_type": "stream",
     "text": [
      "2021-04-12\n",
      "2021-03-29 00:00:00+00:00 2021-05-02 23:59:59+00:00\n",
      "1.48 1.5\n"
     ]
    },
    {
     "data": {
      "text/plain": [
       "Text(0.5, 0.98, 'Benzinpreise in Wolfsburg')"
      ]
     },
     "execution_count": 321,
     "metadata": {},
     "output_type": "execute_result"
    },
    {
     "name": "stderr",
     "output_type": "stream",
     "text": [
      "C:\\ProgramData\\Anaconda3\\lib\\site-packages\\matplotlib\\axes\\_base.py:507: FutureWarning: Support for multi-dimensional indexing (e.g. `obj[:, None]`) is deprecated and will be removed in a future version.  Convert to a numpy array before indexing instead.\n",
      "  x = x[:, np.newaxis]\n"
     ]
    },
    {
     "data": {
      "text/plain": [
       "[<matplotlib.lines.Line2D at 0x25965b6f430>]"
      ]
     },
     "execution_count": 321,
     "metadata": {},
     "output_type": "execute_result"
    },
    {
     "data": {
      "text/plain": [
       "Text(0.5, 1.0, '29-03-2021 bis 02-05-2021, zwischen 18:00 und 22:00')"
      ]
     },
     "execution_count": 321,
     "metadata": {},
     "output_type": "execute_result"
    },
    {
     "data": {
      "text/plain": [
       "<matplotlib.legend.Legend at 0x2599ee78df0>"
      ]
     },
     "execution_count": 321,
     "metadata": {},
     "output_type": "execute_result"
    },
    {
     "data": {
      "text/plain": [
       "(1.48, 1.5)"
      ]
     },
     "execution_count": 321,
     "metadata": {},
     "output_type": "execute_result"
    },
    {
     "data": {
      "text/plain": [
       "[<matplotlib.lines.Line2D at 0x2592fb31640>]"
      ]
     },
     "execution_count": 321,
     "metadata": {},
     "output_type": "execute_result"
    },
    {
     "data": {
      "text/plain": [
       "<matplotlib.legend.Legend at 0x25965b6f520>"
      ]
     },
     "execution_count": 321,
     "metadata": {},
     "output_type": "execute_result"
    },
    {
     "name": "stdout",
     "output_type": "stream",
     "text": [
      "2021-04-19\n",
      "2021-03-29 00:00:00+00:00 2021-05-02 23:59:59+00:00\n",
      "1.48 1.5\n"
     ]
    },
    {
     "data": {
      "text/plain": [
       "Text(0.5, 0.98, 'Benzinpreise in Wolfsburg')"
      ]
     },
     "execution_count": 321,
     "metadata": {},
     "output_type": "execute_result"
    },
    {
     "name": "stderr",
     "output_type": "stream",
     "text": [
      "C:\\ProgramData\\Anaconda3\\lib\\site-packages\\matplotlib\\axes\\_base.py:507: FutureWarning: Support for multi-dimensional indexing (e.g. `obj[:, None]`) is deprecated and will be removed in a future version.  Convert to a numpy array before indexing instead.\n",
      "  x = x[:, np.newaxis]\n"
     ]
    },
    {
     "data": {
      "text/plain": [
       "[<matplotlib.lines.Line2D at 0x259fa8c8d00>]"
      ]
     },
     "execution_count": 321,
     "metadata": {},
     "output_type": "execute_result"
    },
    {
     "data": {
      "text/plain": [
       "Text(0.5, 1.0, '29-03-2021 bis 02-05-2021, zwischen 18:00 und 22:00')"
      ]
     },
     "execution_count": 321,
     "metadata": {},
     "output_type": "execute_result"
    },
    {
     "data": {
      "text/plain": [
       "<matplotlib.legend.Legend at 0x25900f6d490>"
      ]
     },
     "execution_count": 321,
     "metadata": {},
     "output_type": "execute_result"
    },
    {
     "data": {
      "text/plain": [
       "(1.48, 1.5)"
      ]
     },
     "execution_count": 321,
     "metadata": {},
     "output_type": "execute_result"
    },
    {
     "data": {
      "text/plain": [
       "[<matplotlib.lines.Line2D at 0x259ef9b62e0>]"
      ]
     },
     "execution_count": 321,
     "metadata": {},
     "output_type": "execute_result"
    },
    {
     "data": {
      "text/plain": [
       "<matplotlib.legend.Legend at 0x2592e6b7160>"
      ]
     },
     "execution_count": 321,
     "metadata": {},
     "output_type": "execute_result"
    },
    {
     "name": "stdout",
     "output_type": "stream",
     "text": [
      "2021-04-26\n",
      "2021-03-29 00:00:00+00:00 2021-05-02 23:59:59+00:00\n",
      "1.48 1.5\n"
     ]
    },
    {
     "data": {
      "text/plain": [
       "Text(0.5, 0.98, 'Benzinpreise in Wolfsburg')"
      ]
     },
     "execution_count": 321,
     "metadata": {},
     "output_type": "execute_result"
    },
    {
     "name": "stderr",
     "output_type": "stream",
     "text": [
      "C:\\ProgramData\\Anaconda3\\lib\\site-packages\\matplotlib\\axes\\_base.py:507: FutureWarning: Support for multi-dimensional indexing (e.g. `obj[:, None]`) is deprecated and will be removed in a future version.  Convert to a numpy array before indexing instead.\n",
      "  x = x[:, np.newaxis]\n"
     ]
    },
    {
     "data": {
      "text/plain": [
       "[<matplotlib.lines.Line2D at 0x2592e568160>]"
      ]
     },
     "execution_count": 321,
     "metadata": {},
     "output_type": "execute_result"
    },
    {
     "data": {
      "text/plain": [
       "Text(0.5, 1.0, '29-03-2021 bis 02-05-2021, zwischen 18:00 und 22:00')"
      ]
     },
     "execution_count": 321,
     "metadata": {},
     "output_type": "execute_result"
    },
    {
     "data": {
      "text/plain": [
       "<matplotlib.legend.Legend at 0x25918584700>"
      ]
     },
     "execution_count": 321,
     "metadata": {},
     "output_type": "execute_result"
    },
    {
     "data": {
      "text/plain": [
       "(1.48, 1.5)"
      ]
     },
     "execution_count": 321,
     "metadata": {},
     "output_type": "execute_result"
    },
    {
     "data": {
      "text/plain": [
       "[<matplotlib.lines.Line2D at 0x259262c4b50>]"
      ]
     },
     "execution_count": 321,
     "metadata": {},
     "output_type": "execute_result"
    },
    {
     "data": {
      "text/plain": [
       "<matplotlib.legend.Legend at 0x25938408f10>"
      ]
     },
     "execution_count": 321,
     "metadata": {},
     "output_type": "execute_result"
    },
    {
     "name": "stdout",
     "output_type": "stream",
     "text": [
      "2021-04-26\n",
      "2021-04-26 00:00:00+00:00 2021-06-06 23:59:59+00:00\n",
      "1.49 1.51\n"
     ]
    },
    {
     "data": {
      "text/plain": [
       "Text(0.5, 0.98, 'Benzinpreise in Wolfsburg')"
      ]
     },
     "execution_count": 321,
     "metadata": {},
     "output_type": "execute_result"
    },
    {
     "name": "stderr",
     "output_type": "stream",
     "text": [
      "C:\\ProgramData\\Anaconda3\\lib\\site-packages\\matplotlib\\axes\\_base.py:507: FutureWarning: Support for multi-dimensional indexing (e.g. `obj[:, None]`) is deprecated and will be removed in a future version.  Convert to a numpy array before indexing instead.\n",
      "  x = x[:, np.newaxis]\n"
     ]
    },
    {
     "data": {
      "text/plain": [
       "[<matplotlib.lines.Line2D at 0x2593219b670>]"
      ]
     },
     "execution_count": 321,
     "metadata": {},
     "output_type": "execute_result"
    },
    {
     "data": {
      "text/plain": [
       "Text(0.5, 1.0, '26-04-2021 bis 06-06-2021, zwischen 18:00 und 22:00')"
      ]
     },
     "execution_count": 321,
     "metadata": {},
     "output_type": "execute_result"
    },
    {
     "data": {
      "text/plain": [
       "<matplotlib.legend.Legend at 0x25940223700>"
      ]
     },
     "execution_count": 321,
     "metadata": {},
     "output_type": "execute_result"
    },
    {
     "data": {
      "text/plain": [
       "(1.49, 1.51)"
      ]
     },
     "execution_count": 321,
     "metadata": {},
     "output_type": "execute_result"
    },
    {
     "data": {
      "text/plain": [
       "[<matplotlib.lines.Line2D at 0x25907b919a0>]"
      ]
     },
     "execution_count": 321,
     "metadata": {},
     "output_type": "execute_result"
    },
    {
     "data": {
      "text/plain": [
       "<matplotlib.legend.Legend at 0x2593219bcd0>"
      ]
     },
     "execution_count": 321,
     "metadata": {},
     "output_type": "execute_result"
    },
    {
     "name": "stdout",
     "output_type": "stream",
     "text": [
      "2021-05-03\n",
      "2021-04-26 00:00:00+00:00 2021-06-06 23:59:59+00:00\n",
      "1.49 1.51\n"
     ]
    },
    {
     "data": {
      "text/plain": [
       "Text(0.5, 0.98, 'Benzinpreise in Wolfsburg')"
      ]
     },
     "execution_count": 321,
     "metadata": {},
     "output_type": "execute_result"
    },
    {
     "name": "stderr",
     "output_type": "stream",
     "text": [
      "C:\\ProgramData\\Anaconda3\\lib\\site-packages\\matplotlib\\axes\\_base.py:507: FutureWarning: Support for multi-dimensional indexing (e.g. `obj[:, None]`) is deprecated and will be removed in a future version.  Convert to a numpy array before indexing instead.\n",
      "  x = x[:, np.newaxis]\n"
     ]
    },
    {
     "data": {
      "text/plain": [
       "[<matplotlib.lines.Line2D at 0x25a036dcbe0>]"
      ]
     },
     "execution_count": 321,
     "metadata": {},
     "output_type": "execute_result"
    },
    {
     "data": {
      "text/plain": [
       "Text(0.5, 1.0, '26-04-2021 bis 06-06-2021, zwischen 18:00 und 22:00')"
      ]
     },
     "execution_count": 321,
     "metadata": {},
     "output_type": "execute_result"
    },
    {
     "data": {
      "text/plain": [
       "<matplotlib.legend.Legend at 0x259082875b0>"
      ]
     },
     "execution_count": 321,
     "metadata": {},
     "output_type": "execute_result"
    },
    {
     "data": {
      "text/plain": [
       "(1.49, 1.51)"
      ]
     },
     "execution_count": 321,
     "metadata": {},
     "output_type": "execute_result"
    },
    {
     "data": {
      "text/plain": [
       "[<matplotlib.lines.Line2D at 0x25a036dc880>]"
      ]
     },
     "execution_count": 321,
     "metadata": {},
     "output_type": "execute_result"
    },
    {
     "data": {
      "text/plain": [
       "<matplotlib.legend.Legend at 0x25908287e80>"
      ]
     },
     "execution_count": 321,
     "metadata": {},
     "output_type": "execute_result"
    },
    {
     "name": "stdout",
     "output_type": "stream",
     "text": [
      "2021-05-10\n",
      "2021-04-26 00:00:00+00:00 2021-06-06 23:59:59+00:00\n",
      "1.49 1.51\n"
     ]
    },
    {
     "data": {
      "text/plain": [
       "Text(0.5, 0.98, 'Benzinpreise in Wolfsburg')"
      ]
     },
     "execution_count": 321,
     "metadata": {},
     "output_type": "execute_result"
    },
    {
     "name": "stderr",
     "output_type": "stream",
     "text": [
      "C:\\ProgramData\\Anaconda3\\lib\\site-packages\\matplotlib\\axes\\_base.py:507: FutureWarning: Support for multi-dimensional indexing (e.g. `obj[:, None]`) is deprecated and will be removed in a future version.  Convert to a numpy array before indexing instead.\n",
      "  x = x[:, np.newaxis]\n"
     ]
    },
    {
     "data": {
      "text/plain": [
       "[<matplotlib.lines.Line2D at 0x2590d472910>]"
      ]
     },
     "execution_count": 321,
     "metadata": {},
     "output_type": "execute_result"
    },
    {
     "data": {
      "text/plain": [
       "Text(0.5, 1.0, '26-04-2021 bis 06-06-2021, zwischen 18:00 und 22:00')"
      ]
     },
     "execution_count": 321,
     "metadata": {},
     "output_type": "execute_result"
    },
    {
     "data": {
      "text/plain": [
       "<matplotlib.legend.Legend at 0x259ef3e42b0>"
      ]
     },
     "execution_count": 321,
     "metadata": {},
     "output_type": "execute_result"
    },
    {
     "data": {
      "text/plain": [
       "(1.49, 1.51)"
      ]
     },
     "execution_count": 321,
     "metadata": {},
     "output_type": "execute_result"
    },
    {
     "data": {
      "text/plain": [
       "[<matplotlib.lines.Line2D at 0x2592854b730>]"
      ]
     },
     "execution_count": 321,
     "metadata": {},
     "output_type": "execute_result"
    },
    {
     "data": {
      "text/plain": [
       "<matplotlib.legend.Legend at 0x259ef3e46a0>"
      ]
     },
     "execution_count": 321,
     "metadata": {},
     "output_type": "execute_result"
    },
    {
     "name": "stdout",
     "output_type": "stream",
     "text": [
      "2021-05-17\n",
      "2021-04-26 00:00:00+00:00 2021-06-06 23:59:59+00:00\n",
      "1.49 1.51\n"
     ]
    },
    {
     "data": {
      "text/plain": [
       "Text(0.5, 0.98, 'Benzinpreise in Wolfsburg')"
      ]
     },
     "execution_count": 321,
     "metadata": {},
     "output_type": "execute_result"
    },
    {
     "name": "stderr",
     "output_type": "stream",
     "text": [
      "C:\\ProgramData\\Anaconda3\\lib\\site-packages\\matplotlib\\axes\\_base.py:507: FutureWarning: Support for multi-dimensional indexing (e.g. `obj[:, None]`) is deprecated and will be removed in a future version.  Convert to a numpy array before indexing instead.\n",
      "  x = x[:, np.newaxis]\n"
     ]
    },
    {
     "data": {
      "text/plain": [
       "[<matplotlib.lines.Line2D at 0x25907bc8c70>]"
      ]
     },
     "execution_count": 321,
     "metadata": {},
     "output_type": "execute_result"
    },
    {
     "data": {
      "text/plain": [
       "Text(0.5, 1.0, '26-04-2021 bis 06-06-2021, zwischen 18:00 und 22:00')"
      ]
     },
     "execution_count": 321,
     "metadata": {},
     "output_type": "execute_result"
    },
    {
     "data": {
      "text/plain": [
       "<matplotlib.legend.Legend at 0x25907bc8640>"
      ]
     },
     "execution_count": 321,
     "metadata": {},
     "output_type": "execute_result"
    },
    {
     "data": {
      "text/plain": [
       "(1.49, 1.51)"
      ]
     },
     "execution_count": 321,
     "metadata": {},
     "output_type": "execute_result"
    },
    {
     "data": {
      "text/plain": [
       "[<matplotlib.lines.Line2D at 0x25907bc8df0>]"
      ]
     },
     "execution_count": 321,
     "metadata": {},
     "output_type": "execute_result"
    },
    {
     "data": {
      "text/plain": [
       "<matplotlib.legend.Legend at 0x25926e8e730>"
      ]
     },
     "execution_count": 321,
     "metadata": {},
     "output_type": "execute_result"
    },
    {
     "name": "stdout",
     "output_type": "stream",
     "text": [
      "2021-05-24\n",
      "2021-04-26 00:00:00+00:00 2021-06-06 23:59:59+00:00\n",
      "1.49 1.51\n"
     ]
    },
    {
     "data": {
      "text/plain": [
       "Text(0.5, 0.98, 'Benzinpreise in Wolfsburg')"
      ]
     },
     "execution_count": 321,
     "metadata": {},
     "output_type": "execute_result"
    },
    {
     "name": "stderr",
     "output_type": "stream",
     "text": [
      "C:\\ProgramData\\Anaconda3\\lib\\site-packages\\matplotlib\\axes\\_base.py:507: FutureWarning: Support for multi-dimensional indexing (e.g. `obj[:, None]`) is deprecated and will be removed in a future version.  Convert to a numpy array before indexing instead.\n",
      "  x = x[:, np.newaxis]\n"
     ]
    },
    {
     "data": {
      "text/plain": [
       "[<matplotlib.lines.Line2D at 0x25a0dfafb80>]"
      ]
     },
     "execution_count": 321,
     "metadata": {},
     "output_type": "execute_result"
    },
    {
     "data": {
      "text/plain": [
       "Text(0.5, 1.0, '26-04-2021 bis 06-06-2021, zwischen 18:00 und 22:00')"
      ]
     },
     "execution_count": 321,
     "metadata": {},
     "output_type": "execute_result"
    },
    {
     "data": {
      "text/plain": [
       "<matplotlib.legend.Legend at 0x25934684820>"
      ]
     },
     "execution_count": 321,
     "metadata": {},
     "output_type": "execute_result"
    },
    {
     "data": {
      "text/plain": [
       "(1.49, 1.51)"
      ]
     },
     "execution_count": 321,
     "metadata": {},
     "output_type": "execute_result"
    },
    {
     "data": {
      "text/plain": [
       "[<matplotlib.lines.Line2D at 0x2590a3f1880>]"
      ]
     },
     "execution_count": 321,
     "metadata": {},
     "output_type": "execute_result"
    },
    {
     "data": {
      "text/plain": [
       "<matplotlib.legend.Legend at 0x25a0dfafb50>"
      ]
     },
     "execution_count": 321,
     "metadata": {},
     "output_type": "execute_result"
    },
    {
     "name": "stdout",
     "output_type": "stream",
     "text": [
      "2021-05-31\n",
      "2021-04-26 00:00:00+00:00 2021-06-06 23:59:59+00:00\n",
      "1.49 1.51\n"
     ]
    },
    {
     "data": {
      "text/plain": [
       "Text(0.5, 0.98, 'Benzinpreise in Wolfsburg')"
      ]
     },
     "execution_count": 321,
     "metadata": {},
     "output_type": "execute_result"
    },
    {
     "name": "stderr",
     "output_type": "stream",
     "text": [
      "C:\\ProgramData\\Anaconda3\\lib\\site-packages\\matplotlib\\axes\\_base.py:507: FutureWarning: Support for multi-dimensional indexing (e.g. `obj[:, None]`) is deprecated and will be removed in a future version.  Convert to a numpy array before indexing instead.\n",
      "  x = x[:, np.newaxis]\n"
     ]
    },
    {
     "data": {
      "text/plain": [
       "[<matplotlib.lines.Line2D at 0x259078e1310>]"
      ]
     },
     "execution_count": 321,
     "metadata": {},
     "output_type": "execute_result"
    },
    {
     "data": {
      "text/plain": [
       "Text(0.5, 1.0, '26-04-2021 bis 06-06-2021, zwischen 18:00 und 22:00')"
      ]
     },
     "execution_count": 321,
     "metadata": {},
     "output_type": "execute_result"
    },
    {
     "data": {
      "text/plain": [
       "<matplotlib.legend.Legend at 0x25939dafc10>"
      ]
     },
     "execution_count": 321,
     "metadata": {},
     "output_type": "execute_result"
    },
    {
     "data": {
      "text/plain": [
       "(1.49, 1.51)"
      ]
     },
     "execution_count": 321,
     "metadata": {},
     "output_type": "execute_result"
    },
    {
     "data": {
      "text/plain": [
       "[<matplotlib.lines.Line2D at 0x259078e1700>]"
      ]
     },
     "execution_count": 321,
     "metadata": {},
     "output_type": "execute_result"
    },
    {
     "data": {
      "text/plain": [
       "<matplotlib.legend.Legend at 0x25928689b50>"
      ]
     },
     "execution_count": 321,
     "metadata": {},
     "output_type": "execute_result"
    },
    {
     "name": "stdout",
     "output_type": "stream",
     "text": [
      "2021-05-31\n",
      "2021-05-31 00:00:00+00:00 2021-07-04 23:59:59+00:00\n",
      "1.51 1.56\n"
     ]
    },
    {
     "data": {
      "text/plain": [
       "Text(0.5, 0.98, 'Benzinpreise in Wolfsburg')"
      ]
     },
     "execution_count": 321,
     "metadata": {},
     "output_type": "execute_result"
    },
    {
     "name": "stderr",
     "output_type": "stream",
     "text": [
      "C:\\ProgramData\\Anaconda3\\lib\\site-packages\\matplotlib\\axes\\_base.py:507: FutureWarning: Support for multi-dimensional indexing (e.g. `obj[:, None]`) is deprecated and will be removed in a future version.  Convert to a numpy array before indexing instead.\n",
      "  x = x[:, np.newaxis]\n"
     ]
    },
    {
     "data": {
      "text/plain": [
       "[<matplotlib.lines.Line2D at 0x2592faf7df0>]"
      ]
     },
     "execution_count": 321,
     "metadata": {},
     "output_type": "execute_result"
    },
    {
     "data": {
      "text/plain": [
       "Text(0.5, 1.0, '31-05-2021 bis 04-07-2021, zwischen 18:00 und 22:00')"
      ]
     },
     "execution_count": 321,
     "metadata": {},
     "output_type": "execute_result"
    },
    {
     "data": {
      "text/plain": [
       "<matplotlib.legend.Legend at 0x25926dd38e0>"
      ]
     },
     "execution_count": 321,
     "metadata": {},
     "output_type": "execute_result"
    },
    {
     "data": {
      "text/plain": [
       "(1.51, 1.56)"
      ]
     },
     "execution_count": 321,
     "metadata": {},
     "output_type": "execute_result"
    },
    {
     "data": {
      "text/plain": [
       "[<matplotlib.lines.Line2D at 0x25926308af0>]"
      ]
     },
     "execution_count": 321,
     "metadata": {},
     "output_type": "execute_result"
    },
    {
     "data": {
      "text/plain": [
       "<matplotlib.legend.Legend at 0x2592faf7b50>"
      ]
     },
     "execution_count": 321,
     "metadata": {},
     "output_type": "execute_result"
    },
    {
     "name": "stdout",
     "output_type": "stream",
     "text": [
      "2021-06-07\n",
      "2021-05-31 00:00:00+00:00 2021-07-04 23:59:59+00:00\n",
      "1.51 1.56\n"
     ]
    },
    {
     "data": {
      "text/plain": [
       "Text(0.5, 0.98, 'Benzinpreise in Wolfsburg')"
      ]
     },
     "execution_count": 321,
     "metadata": {},
     "output_type": "execute_result"
    },
    {
     "name": "stderr",
     "output_type": "stream",
     "text": [
      "C:\\ProgramData\\Anaconda3\\lib\\site-packages\\matplotlib\\axes\\_base.py:507: FutureWarning: Support for multi-dimensional indexing (e.g. `obj[:, None]`) is deprecated and will be removed in a future version.  Convert to a numpy array before indexing instead.\n",
      "  x = x[:, np.newaxis]\n"
     ]
    },
    {
     "data": {
      "text/plain": [
       "[<matplotlib.lines.Line2D at 0x2590713d700>]"
      ]
     },
     "execution_count": 321,
     "metadata": {},
     "output_type": "execute_result"
    },
    {
     "data": {
      "text/plain": [
       "Text(0.5, 1.0, '31-05-2021 bis 04-07-2021, zwischen 18:00 und 22:00')"
      ]
     },
     "execution_count": 321,
     "metadata": {},
     "output_type": "execute_result"
    },
    {
     "data": {
      "text/plain": [
       "<matplotlib.legend.Legend at 0x25909d82460>"
      ]
     },
     "execution_count": 321,
     "metadata": {},
     "output_type": "execute_result"
    },
    {
     "data": {
      "text/plain": [
       "(1.51, 1.56)"
      ]
     },
     "execution_count": 321,
     "metadata": {},
     "output_type": "execute_result"
    },
    {
     "data": {
      "text/plain": [
       "[<matplotlib.lines.Line2D at 0x259af3ba640>]"
      ]
     },
     "execution_count": 321,
     "metadata": {},
     "output_type": "execute_result"
    },
    {
     "data": {
      "text/plain": [
       "<matplotlib.legend.Legend at 0x25938ab2d90>"
      ]
     },
     "execution_count": 321,
     "metadata": {},
     "output_type": "execute_result"
    },
    {
     "name": "stdout",
     "output_type": "stream",
     "text": [
      "2021-06-14\n",
      "2021-05-31 00:00:00+00:00 2021-07-04 23:59:59+00:00\n",
      "1.51 1.56\n"
     ]
    },
    {
     "data": {
      "text/plain": [
       "Text(0.5, 0.98, 'Benzinpreise in Wolfsburg')"
      ]
     },
     "execution_count": 321,
     "metadata": {},
     "output_type": "execute_result"
    },
    {
     "name": "stderr",
     "output_type": "stream",
     "text": [
      "C:\\ProgramData\\Anaconda3\\lib\\site-packages\\matplotlib\\axes\\_base.py:507: FutureWarning: Support for multi-dimensional indexing (e.g. `obj[:, None]`) is deprecated and will be removed in a future version.  Convert to a numpy array before indexing instead.\n",
      "  x = x[:, np.newaxis]\n"
     ]
    },
    {
     "data": {
      "text/plain": [
       "[<matplotlib.lines.Line2D at 0x259312625b0>]"
      ]
     },
     "execution_count": 321,
     "metadata": {},
     "output_type": "execute_result"
    },
    {
     "data": {
      "text/plain": [
       "Text(0.5, 1.0, '31-05-2021 bis 04-07-2021, zwischen 18:00 und 22:00')"
      ]
     },
     "execution_count": 321,
     "metadata": {},
     "output_type": "execute_result"
    },
    {
     "data": {
      "text/plain": [
       "<matplotlib.legend.Legend at 0x2590416cd00>"
      ]
     },
     "execution_count": 321,
     "metadata": {},
     "output_type": "execute_result"
    },
    {
     "data": {
      "text/plain": [
       "(1.51, 1.56)"
      ]
     },
     "execution_count": 321,
     "metadata": {},
     "output_type": "execute_result"
    },
    {
     "data": {
      "text/plain": [
       "[<matplotlib.lines.Line2D at 0x2590416c5e0>]"
      ]
     },
     "execution_count": 321,
     "metadata": {},
     "output_type": "execute_result"
    },
    {
     "data": {
      "text/plain": [
       "<matplotlib.legend.Legend at 0x259a70ab130>"
      ]
     },
     "execution_count": 321,
     "metadata": {},
     "output_type": "execute_result"
    },
    {
     "name": "stdout",
     "output_type": "stream",
     "text": [
      "2021-06-21\n",
      "2021-05-31 00:00:00+00:00 2021-07-04 23:59:59+00:00\n",
      "1.51 1.56\n"
     ]
    },
    {
     "data": {
      "text/plain": [
       "Text(0.5, 0.98, 'Benzinpreise in Wolfsburg')"
      ]
     },
     "execution_count": 321,
     "metadata": {},
     "output_type": "execute_result"
    },
    {
     "name": "stderr",
     "output_type": "stream",
     "text": [
      "C:\\ProgramData\\Anaconda3\\lib\\site-packages\\matplotlib\\axes\\_base.py:507: FutureWarning: Support for multi-dimensional indexing (e.g. `obj[:, None]`) is deprecated and will be removed in a future version.  Convert to a numpy array before indexing instead.\n",
      "  x = x[:, np.newaxis]\n"
     ]
    },
    {
     "data": {
      "text/plain": [
       "[<matplotlib.lines.Line2D at 0x259fa9fd730>]"
      ]
     },
     "execution_count": 321,
     "metadata": {},
     "output_type": "execute_result"
    },
    {
     "data": {
      "text/plain": [
       "Text(0.5, 1.0, '31-05-2021 bis 04-07-2021, zwischen 18:00 und 22:00')"
      ]
     },
     "execution_count": 321,
     "metadata": {},
     "output_type": "execute_result"
    },
    {
     "data": {
      "text/plain": [
       "<matplotlib.legend.Legend at 0x25933ca3340>"
      ]
     },
     "execution_count": 321,
     "metadata": {},
     "output_type": "execute_result"
    },
    {
     "data": {
      "text/plain": [
       "(1.51, 1.56)"
      ]
     },
     "execution_count": 321,
     "metadata": {},
     "output_type": "execute_result"
    },
    {
     "data": {
      "text/plain": [
       "[<matplotlib.lines.Line2D at 0x25909331880>]"
      ]
     },
     "execution_count": 321,
     "metadata": {},
     "output_type": "execute_result"
    },
    {
     "data": {
      "text/plain": [
       "<matplotlib.legend.Legend at 0x25a0dfcee20>"
      ]
     },
     "execution_count": 321,
     "metadata": {},
     "output_type": "execute_result"
    },
    {
     "name": "stdout",
     "output_type": "stream",
     "text": [
      "2021-06-28\n",
      "2021-05-31 00:00:00+00:00 2021-07-04 23:59:59+00:00\n",
      "1.51 1.56\n"
     ]
    },
    {
     "data": {
      "text/plain": [
       "Text(0.5, 0.98, 'Benzinpreise in Wolfsburg')"
      ]
     },
     "execution_count": 321,
     "metadata": {},
     "output_type": "execute_result"
    },
    {
     "name": "stderr",
     "output_type": "stream",
     "text": [
      "C:\\ProgramData\\Anaconda3\\lib\\site-packages\\matplotlib\\axes\\_base.py:507: FutureWarning: Support for multi-dimensional indexing (e.g. `obj[:, None]`) is deprecated and will be removed in a future version.  Convert to a numpy array before indexing instead.\n",
      "  x = x[:, np.newaxis]\n"
     ]
    },
    {
     "data": {
      "text/plain": [
       "[<matplotlib.lines.Line2D at 0x25906a2ff70>]"
      ]
     },
     "execution_count": 321,
     "metadata": {},
     "output_type": "execute_result"
    },
    {
     "data": {
      "text/plain": [
       "Text(0.5, 1.0, '31-05-2021 bis 04-07-2021, zwischen 18:00 und 22:00')"
      ]
     },
     "execution_count": 321,
     "metadata": {},
     "output_type": "execute_result"
    },
    {
     "data": {
      "text/plain": [
       "<matplotlib.legend.Legend at 0x2597206cac0>"
      ]
     },
     "execution_count": 321,
     "metadata": {},
     "output_type": "execute_result"
    },
    {
     "data": {
      "text/plain": [
       "(1.51, 1.56)"
      ]
     },
     "execution_count": 321,
     "metadata": {},
     "output_type": "execute_result"
    },
    {
     "data": {
      "text/plain": [
       "[<matplotlib.lines.Line2D at 0x2593e95dbe0>]"
      ]
     },
     "execution_count": 321,
     "metadata": {},
     "output_type": "execute_result"
    },
    {
     "data": {
      "text/plain": [
       "<matplotlib.legend.Legend at 0x25a0df966a0>"
      ]
     },
     "execution_count": 321,
     "metadata": {},
     "output_type": "execute_result"
    },
    {
     "name": "stdout",
     "output_type": "stream",
     "text": [
      "2021-06-28\n",
      "2021-06-28 00:00:00+00:00 2021-08-01 23:59:59+00:00\n",
      "1.54 1.59\n"
     ]
    },
    {
     "data": {
      "text/plain": [
       "Text(0.5, 0.98, 'Benzinpreise in Wolfsburg')"
      ]
     },
     "execution_count": 321,
     "metadata": {},
     "output_type": "execute_result"
    },
    {
     "name": "stderr",
     "output_type": "stream",
     "text": [
      "C:\\ProgramData\\Anaconda3\\lib\\site-packages\\matplotlib\\axes\\_base.py:507: FutureWarning: Support for multi-dimensional indexing (e.g. `obj[:, None]`) is deprecated and will be removed in a future version.  Convert to a numpy array before indexing instead.\n",
      "  x = x[:, np.newaxis]\n"
     ]
    },
    {
     "data": {
      "text/plain": [
       "[<matplotlib.lines.Line2D at 0x2596606c730>]"
      ]
     },
     "execution_count": 321,
     "metadata": {},
     "output_type": "execute_result"
    },
    {
     "data": {
      "text/plain": [
       "Text(0.5, 1.0, '28-06-2021 bis 01-08-2021, zwischen 18:00 und 22:00')"
      ]
     },
     "execution_count": 321,
     "metadata": {},
     "output_type": "execute_result"
    },
    {
     "data": {
      "text/plain": [
       "<matplotlib.legend.Legend at 0x25918c62b80>"
      ]
     },
     "execution_count": 321,
     "metadata": {},
     "output_type": "execute_result"
    },
    {
     "data": {
      "text/plain": [
       "(1.54, 1.59)"
      ]
     },
     "execution_count": 321,
     "metadata": {},
     "output_type": "execute_result"
    },
    {
     "data": {
      "text/plain": [
       "[<matplotlib.lines.Line2D at 0x2596ae79dc0>]"
      ]
     },
     "execution_count": 321,
     "metadata": {},
     "output_type": "execute_result"
    },
    {
     "data": {
      "text/plain": [
       "<matplotlib.legend.Legend at 0x259075634f0>"
      ]
     },
     "execution_count": 321,
     "metadata": {},
     "output_type": "execute_result"
    },
    {
     "name": "stdout",
     "output_type": "stream",
     "text": [
      "2021-07-05\n",
      "2021-06-28 00:00:00+00:00 2021-08-01 23:59:59+00:00\n",
      "1.54 1.59\n"
     ]
    },
    {
     "data": {
      "text/plain": [
       "Text(0.5, 0.98, 'Benzinpreise in Wolfsburg')"
      ]
     },
     "execution_count": 321,
     "metadata": {},
     "output_type": "execute_result"
    },
    {
     "name": "stderr",
     "output_type": "stream",
     "text": [
      "C:\\ProgramData\\Anaconda3\\lib\\site-packages\\matplotlib\\axes\\_base.py:507: FutureWarning: Support for multi-dimensional indexing (e.g. `obj[:, None]`) is deprecated and will be removed in a future version.  Convert to a numpy array before indexing instead.\n",
      "  x = x[:, np.newaxis]\n"
     ]
    },
    {
     "data": {
      "text/plain": [
       "[<matplotlib.lines.Line2D at 0x259a6f7d7f0>]"
      ]
     },
     "execution_count": 321,
     "metadata": {},
     "output_type": "execute_result"
    },
    {
     "data": {
      "text/plain": [
       "Text(0.5, 1.0, '28-06-2021 bis 01-08-2021, zwischen 18:00 und 22:00')"
      ]
     },
     "execution_count": 321,
     "metadata": {},
     "output_type": "execute_result"
    },
    {
     "data": {
      "text/plain": [
       "<matplotlib.legend.Legend at 0x25931f8e610>"
      ]
     },
     "execution_count": 321,
     "metadata": {},
     "output_type": "execute_result"
    },
    {
     "data": {
      "text/plain": [
       "(1.54, 1.59)"
      ]
     },
     "execution_count": 321,
     "metadata": {},
     "output_type": "execute_result"
    },
    {
     "data": {
      "text/plain": [
       "[<matplotlib.lines.Line2D at 0x259a6f7d370>]"
      ]
     },
     "execution_count": 321,
     "metadata": {},
     "output_type": "execute_result"
    },
    {
     "data": {
      "text/plain": [
       "<matplotlib.legend.Legend at 0x259a6f7d730>"
      ]
     },
     "execution_count": 321,
     "metadata": {},
     "output_type": "execute_result"
    },
    {
     "name": "stdout",
     "output_type": "stream",
     "text": [
      "2021-07-12\n",
      "2021-06-28 00:00:00+00:00 2021-08-01 23:59:59+00:00\n",
      "1.54 1.59\n"
     ]
    },
    {
     "data": {
      "text/plain": [
       "Text(0.5, 0.98, 'Benzinpreise in Wolfsburg')"
      ]
     },
     "execution_count": 321,
     "metadata": {},
     "output_type": "execute_result"
    },
    {
     "name": "stderr",
     "output_type": "stream",
     "text": [
      "C:\\ProgramData\\Anaconda3\\lib\\site-packages\\matplotlib\\axes\\_base.py:507: FutureWarning: Support for multi-dimensional indexing (e.g. `obj[:, None]`) is deprecated and will be removed in a future version.  Convert to a numpy array before indexing instead.\n",
      "  x = x[:, np.newaxis]\n"
     ]
    },
    {
     "data": {
      "text/plain": [
       "[<matplotlib.lines.Line2D at 0x2596f896490>]"
      ]
     },
     "execution_count": 321,
     "metadata": {},
     "output_type": "execute_result"
    },
    {
     "data": {
      "text/plain": [
       "Text(0.5, 1.0, '28-06-2021 bis 01-08-2021, zwischen 18:00 und 22:00')"
      ]
     },
     "execution_count": 321,
     "metadata": {},
     "output_type": "execute_result"
    },
    {
     "data": {
      "text/plain": [
       "<matplotlib.legend.Legend at 0x2592613ad30>"
      ]
     },
     "execution_count": 321,
     "metadata": {},
     "output_type": "execute_result"
    },
    {
     "data": {
      "text/plain": [
       "(1.54, 1.59)"
      ]
     },
     "execution_count": 321,
     "metadata": {},
     "output_type": "execute_result"
    },
    {
     "data": {
      "text/plain": [
       "[<matplotlib.lines.Line2D at 0x2595cd0e8b0>]"
      ]
     },
     "execution_count": 321,
     "metadata": {},
     "output_type": "execute_result"
    },
    {
     "data": {
      "text/plain": [
       "<matplotlib.legend.Legend at 0x2596f896af0>"
      ]
     },
     "execution_count": 321,
     "metadata": {},
     "output_type": "execute_result"
    },
    {
     "name": "stdout",
     "output_type": "stream",
     "text": [
      "2021-07-19\n",
      "2021-06-28 00:00:00+00:00 2021-08-01 23:59:59+00:00\n",
      "1.54 1.59\n"
     ]
    },
    {
     "data": {
      "text/plain": [
       "Text(0.5, 0.98, 'Benzinpreise in Wolfsburg')"
      ]
     },
     "execution_count": 321,
     "metadata": {},
     "output_type": "execute_result"
    },
    {
     "name": "stderr",
     "output_type": "stream",
     "text": [
      "C:\\ProgramData\\Anaconda3\\lib\\site-packages\\matplotlib\\axes\\_base.py:507: FutureWarning: Support for multi-dimensional indexing (e.g. `obj[:, None]`) is deprecated and will be removed in a future version.  Convert to a numpy array before indexing instead.\n",
      "  x = x[:, np.newaxis]\n"
     ]
    },
    {
     "data": {
      "text/plain": [
       "[<matplotlib.lines.Line2D at 0x25926db20d0>]"
      ]
     },
     "execution_count": 321,
     "metadata": {},
     "output_type": "execute_result"
    },
    {
     "data": {
      "text/plain": [
       "Text(0.5, 1.0, '28-06-2021 bis 01-08-2021, zwischen 18:00 und 22:00')"
      ]
     },
     "execution_count": 321,
     "metadata": {},
     "output_type": "execute_result"
    },
    {
     "data": {
      "text/plain": [
       "<matplotlib.legend.Legend at 0x25926db26d0>"
      ]
     },
     "execution_count": 321,
     "metadata": {},
     "output_type": "execute_result"
    },
    {
     "data": {
      "text/plain": [
       "(1.54, 1.59)"
      ]
     },
     "execution_count": 321,
     "metadata": {},
     "output_type": "execute_result"
    },
    {
     "data": {
      "text/plain": [
       "[<matplotlib.lines.Line2D at 0x25926db2d90>]"
      ]
     },
     "execution_count": 321,
     "metadata": {},
     "output_type": "execute_result"
    },
    {
     "data": {
      "text/plain": [
       "<matplotlib.legend.Legend at 0x25931240580>"
      ]
     },
     "execution_count": 321,
     "metadata": {},
     "output_type": "execute_result"
    },
    {
     "name": "stdout",
     "output_type": "stream",
     "text": [
      "2021-07-26\n",
      "2021-06-28 00:00:00+00:00 2021-08-01 23:59:59+00:00\n",
      "1.54 1.59\n"
     ]
    },
    {
     "data": {
      "text/plain": [
       "Text(0.5, 0.98, 'Benzinpreise in Wolfsburg')"
      ]
     },
     "execution_count": 321,
     "metadata": {},
     "output_type": "execute_result"
    },
    {
     "name": "stderr",
     "output_type": "stream",
     "text": [
      "C:\\ProgramData\\Anaconda3\\lib\\site-packages\\matplotlib\\axes\\_base.py:507: FutureWarning: Support for multi-dimensional indexing (e.g. `obj[:, None]`) is deprecated and will be removed in a future version.  Convert to a numpy array before indexing instead.\n",
      "  x = x[:, np.newaxis]\n"
     ]
    },
    {
     "data": {
      "text/plain": [
       "[<matplotlib.lines.Line2D at 0x259c26eaf40>]"
      ]
     },
     "execution_count": 321,
     "metadata": {},
     "output_type": "execute_result"
    },
    {
     "data": {
      "text/plain": [
       "Text(0.5, 1.0, '28-06-2021 bis 01-08-2021, zwischen 18:00 und 22:00')"
      ]
     },
     "execution_count": 321,
     "metadata": {},
     "output_type": "execute_result"
    },
    {
     "data": {
      "text/plain": [
       "<matplotlib.legend.Legend at 0x2590a0a9cd0>"
      ]
     },
     "execution_count": 321,
     "metadata": {},
     "output_type": "execute_result"
    },
    {
     "data": {
      "text/plain": [
       "(1.54, 1.59)"
      ]
     },
     "execution_count": 321,
     "metadata": {},
     "output_type": "execute_result"
    },
    {
     "data": {
      "text/plain": [
       "[<matplotlib.lines.Line2D at 0x259720461f0>]"
      ]
     },
     "execution_count": 321,
     "metadata": {},
     "output_type": "execute_result"
    },
    {
     "data": {
      "text/plain": [
       "<matplotlib.legend.Legend at 0x259c26eadf0>"
      ]
     },
     "execution_count": 321,
     "metadata": {},
     "output_type": "execute_result"
    },
    {
     "name": "stdout",
     "output_type": "stream",
     "text": [
      "2021-07-26\n",
      "2021-07-26 00:00:00+00:00 2021-09-05 23:59:59+00:00\n",
      "1.56 1.62\n"
     ]
    },
    {
     "data": {
      "text/plain": [
       "Text(0.5, 0.98, 'Benzinpreise in Wolfsburg')"
      ]
     },
     "execution_count": 321,
     "metadata": {},
     "output_type": "execute_result"
    },
    {
     "name": "stderr",
     "output_type": "stream",
     "text": [
      "C:\\ProgramData\\Anaconda3\\lib\\site-packages\\matplotlib\\axes\\_base.py:507: FutureWarning: Support for multi-dimensional indexing (e.g. `obj[:, None]`) is deprecated and will be removed in a future version.  Convert to a numpy array before indexing instead.\n",
      "  x = x[:, np.newaxis]\n"
     ]
    },
    {
     "data": {
      "text/plain": [
       "[<matplotlib.lines.Line2D at 0x259e7a42f70>]"
      ]
     },
     "execution_count": 321,
     "metadata": {},
     "output_type": "execute_result"
    },
    {
     "data": {
      "text/plain": [
       "Text(0.5, 1.0, '26-07-2021 bis 05-09-2021, zwischen 18:00 und 22:00')"
      ]
     },
     "execution_count": 321,
     "metadata": {},
     "output_type": "execute_result"
    },
    {
     "data": {
      "text/plain": [
       "<matplotlib.legend.Legend at 0x2592f9fbaf0>"
      ]
     },
     "execution_count": 321,
     "metadata": {},
     "output_type": "execute_result"
    },
    {
     "data": {
      "text/plain": [
       "(1.56, 1.62)"
      ]
     },
     "execution_count": 321,
     "metadata": {},
     "output_type": "execute_result"
    },
    {
     "data": {
      "text/plain": [
       "[<matplotlib.lines.Line2D at 0x259b89cc580>]"
      ]
     },
     "execution_count": 321,
     "metadata": {},
     "output_type": "execute_result"
    },
    {
     "data": {
      "text/plain": [
       "<matplotlib.legend.Legend at 0x259ef9ca3d0>"
      ]
     },
     "execution_count": 321,
     "metadata": {},
     "output_type": "execute_result"
    },
    {
     "name": "stdout",
     "output_type": "stream",
     "text": [
      "2021-08-02\n",
      "2021-07-26 00:00:00+00:00 2021-09-05 23:59:59+00:00\n",
      "1.56 1.62\n"
     ]
    },
    {
     "data": {
      "text/plain": [
       "Text(0.5, 0.98, 'Benzinpreise in Wolfsburg')"
      ]
     },
     "execution_count": 321,
     "metadata": {},
     "output_type": "execute_result"
    },
    {
     "name": "stderr",
     "output_type": "stream",
     "text": [
      "C:\\ProgramData\\Anaconda3\\lib\\site-packages\\matplotlib\\axes\\_base.py:507: FutureWarning: Support for multi-dimensional indexing (e.g. `obj[:, None]`) is deprecated and will be removed in a future version.  Convert to a numpy array before indexing instead.\n",
      "  x = x[:, np.newaxis]\n"
     ]
    },
    {
     "data": {
      "text/plain": [
       "[<matplotlib.lines.Line2D at 0x259295c6040>]"
      ]
     },
     "execution_count": 321,
     "metadata": {},
     "output_type": "execute_result"
    },
    {
     "data": {
      "text/plain": [
       "Text(0.5, 1.0, '26-07-2021 bis 05-09-2021, zwischen 18:00 und 22:00')"
      ]
     },
     "execution_count": 321,
     "metadata": {},
     "output_type": "execute_result"
    },
    {
     "data": {
      "text/plain": [
       "<matplotlib.legend.Legend at 0x259a7008310>"
      ]
     },
     "execution_count": 321,
     "metadata": {},
     "output_type": "execute_result"
    },
    {
     "data": {
      "text/plain": [
       "(1.56, 1.62)"
      ]
     },
     "execution_count": 321,
     "metadata": {},
     "output_type": "execute_result"
    },
    {
     "data": {
      "text/plain": [
       "[<matplotlib.lines.Line2D at 0x259295c6f40>]"
      ]
     },
     "execution_count": 321,
     "metadata": {},
     "output_type": "execute_result"
    },
    {
     "data": {
      "text/plain": [
       "<matplotlib.legend.Legend at 0x259286973d0>"
      ]
     },
     "execution_count": 321,
     "metadata": {},
     "output_type": "execute_result"
    },
    {
     "name": "stdout",
     "output_type": "stream",
     "text": [
      "2021-08-09\n",
      "2021-07-26 00:00:00+00:00 2021-09-05 23:59:59+00:00\n",
      "1.56 1.62\n"
     ]
    },
    {
     "data": {
      "text/plain": [
       "Text(0.5, 0.98, 'Benzinpreise in Wolfsburg')"
      ]
     },
     "execution_count": 321,
     "metadata": {},
     "output_type": "execute_result"
    },
    {
     "name": "stderr",
     "output_type": "stream",
     "text": [
      "C:\\ProgramData\\Anaconda3\\lib\\site-packages\\matplotlib\\axes\\_base.py:507: FutureWarning: Support for multi-dimensional indexing (e.g. `obj[:, None]`) is deprecated and will be removed in a future version.  Convert to a numpy array before indexing instead.\n",
      "  x = x[:, np.newaxis]\n"
     ]
    },
    {
     "data": {
      "text/plain": [
       "[<matplotlib.lines.Line2D at 0x25936e73d30>]"
      ]
     },
     "execution_count": 321,
     "metadata": {},
     "output_type": "execute_result"
    },
    {
     "data": {
      "text/plain": [
       "Text(0.5, 1.0, '26-07-2021 bis 05-09-2021, zwischen 18:00 und 22:00')"
      ]
     },
     "execution_count": 321,
     "metadata": {},
     "output_type": "execute_result"
    },
    {
     "data": {
      "text/plain": [
       "<matplotlib.legend.Legend at 0x25907526640>"
      ]
     },
     "execution_count": 321,
     "metadata": {},
     "output_type": "execute_result"
    },
    {
     "data": {
      "text/plain": [
       "(1.56, 1.62)"
      ]
     },
     "execution_count": 321,
     "metadata": {},
     "output_type": "execute_result"
    },
    {
     "data": {
      "text/plain": [
       "[<matplotlib.lines.Line2D at 0x2592804b190>]"
      ]
     },
     "execution_count": 321,
     "metadata": {},
     "output_type": "execute_result"
    },
    {
     "data": {
      "text/plain": [
       "<matplotlib.legend.Legend at 0x25936e73910>"
      ]
     },
     "execution_count": 321,
     "metadata": {},
     "output_type": "execute_result"
    },
    {
     "name": "stdout",
     "output_type": "stream",
     "text": [
      "2021-08-16\n",
      "2021-07-26 00:00:00+00:00 2021-09-05 23:59:59+00:00\n",
      "1.56 1.62\n"
     ]
    },
    {
     "data": {
      "text/plain": [
       "Text(0.5, 0.98, 'Benzinpreise in Wolfsburg')"
      ]
     },
     "execution_count": 321,
     "metadata": {},
     "output_type": "execute_result"
    },
    {
     "name": "stderr",
     "output_type": "stream",
     "text": [
      "C:\\ProgramData\\Anaconda3\\lib\\site-packages\\matplotlib\\axes\\_base.py:507: FutureWarning: Support for multi-dimensional indexing (e.g. `obj[:, None]`) is deprecated and will be removed in a future version.  Convert to a numpy array before indexing instead.\n",
      "  x = x[:, np.newaxis]\n"
     ]
    },
    {
     "data": {
      "text/plain": [
       "[<matplotlib.lines.Line2D at 0x25936e3e490>]"
      ]
     },
     "execution_count": 321,
     "metadata": {},
     "output_type": "execute_result"
    },
    {
     "data": {
      "text/plain": [
       "Text(0.5, 1.0, '26-07-2021 bis 05-09-2021, zwischen 18:00 und 22:00')"
      ]
     },
     "execution_count": 321,
     "metadata": {},
     "output_type": "execute_result"
    },
    {
     "data": {
      "text/plain": [
       "<matplotlib.legend.Legend at 0x2592846e160>"
      ]
     },
     "execution_count": 321,
     "metadata": {},
     "output_type": "execute_result"
    },
    {
     "data": {
      "text/plain": [
       "(1.56, 1.62)"
      ]
     },
     "execution_count": 321,
     "metadata": {},
     "output_type": "execute_result"
    },
    {
     "data": {
      "text/plain": [
       "[<matplotlib.lines.Line2D at 0x25908449fa0>]"
      ]
     },
     "execution_count": 321,
     "metadata": {},
     "output_type": "execute_result"
    },
    {
     "data": {
      "text/plain": [
       "<matplotlib.legend.Legend at 0x259c1c41700>"
      ]
     },
     "execution_count": 321,
     "metadata": {},
     "output_type": "execute_result"
    },
    {
     "name": "stdout",
     "output_type": "stream",
     "text": [
      "2021-08-23\n",
      "2021-07-26 00:00:00+00:00 2021-09-05 23:59:59+00:00\n",
      "1.56 1.62\n"
     ]
    },
    {
     "data": {
      "text/plain": [
       "Text(0.5, 0.98, 'Benzinpreise in Wolfsburg')"
      ]
     },
     "execution_count": 321,
     "metadata": {},
     "output_type": "execute_result"
    },
    {
     "name": "stderr",
     "output_type": "stream",
     "text": [
      "C:\\ProgramData\\Anaconda3\\lib\\site-packages\\matplotlib\\axes\\_base.py:507: FutureWarning: Support for multi-dimensional indexing (e.g. `obj[:, None]`) is deprecated and will be removed in a future version.  Convert to a numpy array before indexing instead.\n",
      "  x = x[:, np.newaxis]\n"
     ]
    },
    {
     "data": {
      "text/plain": [
       "[<matplotlib.lines.Line2D at 0x2592c9e4790>]"
      ]
     },
     "execution_count": 321,
     "metadata": {},
     "output_type": "execute_result"
    },
    {
     "data": {
      "text/plain": [
       "Text(0.5, 1.0, '26-07-2021 bis 05-09-2021, zwischen 18:00 und 22:00')"
      ]
     },
     "execution_count": 321,
     "metadata": {},
     "output_type": "execute_result"
    },
    {
     "data": {
      "text/plain": [
       "<matplotlib.legend.Legend at 0x2594ce99e20>"
      ]
     },
     "execution_count": 321,
     "metadata": {},
     "output_type": "execute_result"
    },
    {
     "data": {
      "text/plain": [
       "(1.56, 1.62)"
      ]
     },
     "execution_count": 321,
     "metadata": {},
     "output_type": "execute_result"
    },
    {
     "data": {
      "text/plain": [
       "[<matplotlib.lines.Line2D at 0x259af45e250>]"
      ]
     },
     "execution_count": 321,
     "metadata": {},
     "output_type": "execute_result"
    },
    {
     "data": {
      "text/plain": [
       "<matplotlib.legend.Legend at 0x2594488d2e0>"
      ]
     },
     "execution_count": 321,
     "metadata": {},
     "output_type": "execute_result"
    },
    {
     "name": "stdout",
     "output_type": "stream",
     "text": [
      "2021-08-30\n",
      "2021-07-26 00:00:00+00:00 2021-09-05 23:59:59+00:00\n",
      "1.56 1.62\n"
     ]
    },
    {
     "data": {
      "text/plain": [
       "Text(0.5, 0.98, 'Benzinpreise in Wolfsburg')"
      ]
     },
     "execution_count": 321,
     "metadata": {},
     "output_type": "execute_result"
    },
    {
     "name": "stderr",
     "output_type": "stream",
     "text": [
      "C:\\ProgramData\\Anaconda3\\lib\\site-packages\\matplotlib\\axes\\_base.py:507: FutureWarning: Support for multi-dimensional indexing (e.g. `obj[:, None]`) is deprecated and will be removed in a future version.  Convert to a numpy array before indexing instead.\n",
      "  x = x[:, np.newaxis]\n"
     ]
    },
    {
     "data": {
      "text/plain": [
       "[<matplotlib.lines.Line2D at 0x2595fbdbdf0>]"
      ]
     },
     "execution_count": 321,
     "metadata": {},
     "output_type": "execute_result"
    },
    {
     "data": {
      "text/plain": [
       "Text(0.5, 1.0, '26-07-2021 bis 05-09-2021, zwischen 18:00 und 22:00')"
      ]
     },
     "execution_count": 321,
     "metadata": {},
     "output_type": "execute_result"
    },
    {
     "data": {
      "text/plain": [
       "<matplotlib.legend.Legend at 0x2595fbdbc10>"
      ]
     },
     "execution_count": 321,
     "metadata": {},
     "output_type": "execute_result"
    },
    {
     "data": {
      "text/plain": [
       "(1.56, 1.62)"
      ]
     },
     "execution_count": 321,
     "metadata": {},
     "output_type": "execute_result"
    },
    {
     "data": {
      "text/plain": [
       "[<matplotlib.lines.Line2D at 0x2595fbdb4c0>]"
      ]
     },
     "execution_count": 321,
     "metadata": {},
     "output_type": "execute_result"
    },
    {
     "data": {
      "text/plain": [
       "<matplotlib.legend.Legend at 0x259310f0850>"
      ]
     },
     "execution_count": 321,
     "metadata": {},
     "output_type": "execute_result"
    },
    {
     "name": "stdout",
     "output_type": "stream",
     "text": [
      "2021-08-30\n",
      "2021-08-30 00:00:00+00:00 2021-10-03 23:59:59+00:00\n",
      "1.58 1.62\n"
     ]
    },
    {
     "data": {
      "text/plain": [
       "Text(0.5, 0.98, 'Benzinpreise in Wolfsburg')"
      ]
     },
     "execution_count": 321,
     "metadata": {},
     "output_type": "execute_result"
    },
    {
     "name": "stderr",
     "output_type": "stream",
     "text": [
      "C:\\ProgramData\\Anaconda3\\lib\\site-packages\\matplotlib\\axes\\_base.py:507: FutureWarning: Support for multi-dimensional indexing (e.g. `obj[:, None]`) is deprecated and will be removed in a future version.  Convert to a numpy array before indexing instead.\n",
      "  x = x[:, np.newaxis]\n"
     ]
    },
    {
     "data": {
      "text/plain": [
       "[<matplotlib.lines.Line2D at 0x2591859a8b0>]"
      ]
     },
     "execution_count": 321,
     "metadata": {},
     "output_type": "execute_result"
    },
    {
     "data": {
      "text/plain": [
       "Text(0.5, 1.0, '30-08-2021 bis 03-10-2021, zwischen 18:00 und 22:00')"
      ]
     },
     "execution_count": 321,
     "metadata": {},
     "output_type": "execute_result"
    },
    {
     "data": {
      "text/plain": [
       "<matplotlib.legend.Legend at 0x25907f9f490>"
      ]
     },
     "execution_count": 321,
     "metadata": {},
     "output_type": "execute_result"
    },
    {
     "data": {
      "text/plain": [
       "(1.58, 1.62)"
      ]
     },
     "execution_count": 321,
     "metadata": {},
     "output_type": "execute_result"
    },
    {
     "data": {
      "text/plain": [
       "[<matplotlib.lines.Line2D at 0x2591859a4f0>]"
      ]
     },
     "execution_count": 321,
     "metadata": {},
     "output_type": "execute_result"
    },
    {
     "data": {
      "text/plain": [
       "<matplotlib.legend.Legend at 0x2591859ab50>"
      ]
     },
     "execution_count": 321,
     "metadata": {},
     "output_type": "execute_result"
    },
    {
     "name": "stdout",
     "output_type": "stream",
     "text": [
      "2021-09-06\n",
      "2021-08-30 00:00:00+00:00 2021-10-03 23:59:59+00:00\n",
      "1.58 1.62\n"
     ]
    },
    {
     "data": {
      "text/plain": [
       "Text(0.5, 0.98, 'Benzinpreise in Wolfsburg')"
      ]
     },
     "execution_count": 321,
     "metadata": {},
     "output_type": "execute_result"
    },
    {
     "name": "stderr",
     "output_type": "stream",
     "text": [
      "C:\\ProgramData\\Anaconda3\\lib\\site-packages\\matplotlib\\axes\\_base.py:507: FutureWarning: Support for multi-dimensional indexing (e.g. `obj[:, None]`) is deprecated and will be removed in a future version.  Convert to a numpy array before indexing instead.\n",
      "  x = x[:, np.newaxis]\n"
     ]
    },
    {
     "data": {
      "text/plain": [
       "[<matplotlib.lines.Line2D at 0x25938108940>]"
      ]
     },
     "execution_count": 321,
     "metadata": {},
     "output_type": "execute_result"
    },
    {
     "data": {
      "text/plain": [
       "Text(0.5, 1.0, '30-08-2021 bis 03-10-2021, zwischen 18:00 und 22:00')"
      ]
     },
     "execution_count": 321,
     "metadata": {},
     "output_type": "execute_result"
    },
    {
     "data": {
      "text/plain": [
       "<matplotlib.legend.Legend at 0x2590b1796a0>"
      ]
     },
     "execution_count": 321,
     "metadata": {},
     "output_type": "execute_result"
    },
    {
     "data": {
      "text/plain": [
       "(1.58, 1.62)"
      ]
     },
     "execution_count": 321,
     "metadata": {},
     "output_type": "execute_result"
    },
    {
     "data": {
      "text/plain": [
       "[<matplotlib.lines.Line2D at 0x259381088b0>]"
      ]
     },
     "execution_count": 321,
     "metadata": {},
     "output_type": "execute_result"
    },
    {
     "data": {
      "text/plain": [
       "<matplotlib.legend.Legend at 0x2590c94c7c0>"
      ]
     },
     "execution_count": 321,
     "metadata": {},
     "output_type": "execute_result"
    },
    {
     "name": "stdout",
     "output_type": "stream",
     "text": [
      "2021-09-13\n",
      "2021-08-30 00:00:00+00:00 2021-10-03 23:59:59+00:00\n",
      "1.58 1.62\n"
     ]
    },
    {
     "data": {
      "text/plain": [
       "Text(0.5, 0.98, 'Benzinpreise in Wolfsburg')"
      ]
     },
     "execution_count": 321,
     "metadata": {},
     "output_type": "execute_result"
    },
    {
     "name": "stderr",
     "output_type": "stream",
     "text": [
      "C:\\ProgramData\\Anaconda3\\lib\\site-packages\\matplotlib\\axes\\_base.py:507: FutureWarning: Support for multi-dimensional indexing (e.g. `obj[:, None]`) is deprecated and will be removed in a future version.  Convert to a numpy array before indexing instead.\n",
      "  x = x[:, np.newaxis]\n"
     ]
    },
    {
     "data": {
      "text/plain": [
       "[<matplotlib.lines.Line2D at 0x2590a821430>]"
      ]
     },
     "execution_count": 321,
     "metadata": {},
     "output_type": "execute_result"
    },
    {
     "data": {
      "text/plain": [
       "Text(0.5, 1.0, '30-08-2021 bis 03-10-2021, zwischen 18:00 und 22:00')"
      ]
     },
     "execution_count": 321,
     "metadata": {},
     "output_type": "execute_result"
    },
    {
     "data": {
      "text/plain": [
       "<matplotlib.legend.Legend at 0x259f9e01e80>"
      ]
     },
     "execution_count": 321,
     "metadata": {},
     "output_type": "execute_result"
    },
    {
     "data": {
      "text/plain": [
       "(1.58, 1.62)"
      ]
     },
     "execution_count": 321,
     "metadata": {},
     "output_type": "execute_result"
    },
    {
     "data": {
      "text/plain": [
       "[<matplotlib.lines.Line2D at 0x2590a821820>]"
      ]
     },
     "execution_count": 321,
     "metadata": {},
     "output_type": "execute_result"
    },
    {
     "data": {
      "text/plain": [
       "<matplotlib.legend.Legend at 0x2595caf1880>"
      ]
     },
     "execution_count": 321,
     "metadata": {},
     "output_type": "execute_result"
    },
    {
     "name": "stdout",
     "output_type": "stream",
     "text": [
      "2021-09-20\n",
      "2021-08-30 00:00:00+00:00 2021-10-03 23:59:59+00:00\n",
      "1.58 1.62\n"
     ]
    },
    {
     "data": {
      "text/plain": [
       "Text(0.5, 0.98, 'Benzinpreise in Wolfsburg')"
      ]
     },
     "execution_count": 321,
     "metadata": {},
     "output_type": "execute_result"
    },
    {
     "name": "stderr",
     "output_type": "stream",
     "text": [
      "C:\\ProgramData\\Anaconda3\\lib\\site-packages\\matplotlib\\axes\\_base.py:507: FutureWarning: Support for multi-dimensional indexing (e.g. `obj[:, None]`) is deprecated and will be removed in a future version.  Convert to a numpy array before indexing instead.\n",
      "  x = x[:, np.newaxis]\n"
     ]
    },
    {
     "data": {
      "text/plain": [
       "[<matplotlib.lines.Line2D at 0x259325d7880>]"
      ]
     },
     "execution_count": 321,
     "metadata": {},
     "output_type": "execute_result"
    },
    {
     "data": {
      "text/plain": [
       "Text(0.5, 1.0, '30-08-2021 bis 03-10-2021, zwischen 18:00 und 22:00')"
      ]
     },
     "execution_count": 321,
     "metadata": {},
     "output_type": "execute_result"
    },
    {
     "data": {
      "text/plain": [
       "<matplotlib.legend.Legend at 0x259389b7b80>"
      ]
     },
     "execution_count": 321,
     "metadata": {},
     "output_type": "execute_result"
    },
    {
     "data": {
      "text/plain": [
       "(1.58, 1.62)"
      ]
     },
     "execution_count": 321,
     "metadata": {},
     "output_type": "execute_result"
    },
    {
     "data": {
      "text/plain": [
       "[<matplotlib.lines.Line2D at 0x259325d7ac0>]"
      ]
     },
     "execution_count": 321,
     "metadata": {},
     "output_type": "execute_result"
    },
    {
     "data": {
      "text/plain": [
       "<matplotlib.legend.Legend at 0x25909a67400>"
      ]
     },
     "execution_count": 321,
     "metadata": {},
     "output_type": "execute_result"
    },
    {
     "name": "stdout",
     "output_type": "stream",
     "text": [
      "2021-09-27\n",
      "2021-08-30 00:00:00+00:00 2021-10-03 23:59:59+00:00\n",
      "1.58 1.62\n"
     ]
    },
    {
     "data": {
      "text/plain": [
       "Text(0.5, 0.98, 'Benzinpreise in Wolfsburg')"
      ]
     },
     "execution_count": 321,
     "metadata": {},
     "output_type": "execute_result"
    },
    {
     "name": "stderr",
     "output_type": "stream",
     "text": [
      "C:\\ProgramData\\Anaconda3\\lib\\site-packages\\matplotlib\\axes\\_base.py:507: FutureWarning: Support for multi-dimensional indexing (e.g. `obj[:, None]`) is deprecated and will be removed in a future version.  Convert to a numpy array before indexing instead.\n",
      "  x = x[:, np.newaxis]\n"
     ]
    },
    {
     "data": {
      "text/plain": [
       "[<matplotlib.lines.Line2D at 0x2590cdf00d0>]"
      ]
     },
     "execution_count": 321,
     "metadata": {},
     "output_type": "execute_result"
    },
    {
     "data": {
      "text/plain": [
       "Text(0.5, 1.0, '30-08-2021 bis 03-10-2021, zwischen 18:00 und 22:00')"
      ]
     },
     "execution_count": 321,
     "metadata": {},
     "output_type": "execute_result"
    },
    {
     "data": {
      "text/plain": [
       "<matplotlib.legend.Legend at 0x259417cdb50>"
      ]
     },
     "execution_count": 321,
     "metadata": {},
     "output_type": "execute_result"
    },
    {
     "data": {
      "text/plain": [
       "(1.58, 1.62)"
      ]
     },
     "execution_count": 321,
     "metadata": {},
     "output_type": "execute_result"
    },
    {
     "data": {
      "text/plain": [
       "[<matplotlib.lines.Line2D at 0x25939fee4f0>]"
      ]
     },
     "execution_count": 321,
     "metadata": {},
     "output_type": "execute_result"
    },
    {
     "data": {
      "text/plain": [
       "<matplotlib.legend.Legend at 0x2592e104d60>"
      ]
     },
     "execution_count": 321,
     "metadata": {},
     "output_type": "execute_result"
    },
    {
     "name": "stdout",
     "output_type": "stream",
     "text": [
      "2021-09-27\n",
      "2021-09-27 00:00:00+00:00 2021-10-31 23:59:59+00:00\n",
      "1.66 1.7\n"
     ]
    },
    {
     "data": {
      "text/plain": [
       "Text(0.5, 0.98, 'Benzinpreise in Wolfsburg')"
      ]
     },
     "execution_count": 321,
     "metadata": {},
     "output_type": "execute_result"
    },
    {
     "name": "stderr",
     "output_type": "stream",
     "text": [
      "C:\\ProgramData\\Anaconda3\\lib\\site-packages\\matplotlib\\axes\\_base.py:507: FutureWarning: Support for multi-dimensional indexing (e.g. `obj[:, None]`) is deprecated and will be removed in a future version.  Convert to a numpy array before indexing instead.\n",
      "  x = x[:, np.newaxis]\n"
     ]
    },
    {
     "data": {
      "text/plain": [
       "[<matplotlib.lines.Line2D at 0x25938254bb0>]"
      ]
     },
     "execution_count": 321,
     "metadata": {},
     "output_type": "execute_result"
    },
    {
     "data": {
      "text/plain": [
       "Text(0.5, 1.0, '27-09-2021 bis 31-10-2021, zwischen 18:00 und 22:00')"
      ]
     },
     "execution_count": 321,
     "metadata": {},
     "output_type": "execute_result"
    },
    {
     "data": {
      "text/plain": [
       "<matplotlib.legend.Legend at 0x2593e8c1f70>"
      ]
     },
     "execution_count": 321,
     "metadata": {},
     "output_type": "execute_result"
    },
    {
     "data": {
      "text/plain": [
       "(1.66, 1.7)"
      ]
     },
     "execution_count": 321,
     "metadata": {},
     "output_type": "execute_result"
    },
    {
     "data": {
      "text/plain": [
       "[<matplotlib.lines.Line2D at 0x25a0dfc4880>]"
      ]
     },
     "execution_count": 321,
     "metadata": {},
     "output_type": "execute_result"
    },
    {
     "data": {
      "text/plain": [
       "<matplotlib.legend.Legend at 0x25926f0d130>"
      ]
     },
     "execution_count": 321,
     "metadata": {},
     "output_type": "execute_result"
    },
    {
     "name": "stdout",
     "output_type": "stream",
     "text": [
      "2021-10-04\n",
      "2021-09-27 00:00:00+00:00 2021-10-31 23:59:59+00:00\n",
      "1.66 1.7\n"
     ]
    },
    {
     "data": {
      "text/plain": [
       "Text(0.5, 0.98, 'Benzinpreise in Wolfsburg')"
      ]
     },
     "execution_count": 321,
     "metadata": {},
     "output_type": "execute_result"
    },
    {
     "name": "stderr",
     "output_type": "stream",
     "text": [
      "C:\\ProgramData\\Anaconda3\\lib\\site-packages\\matplotlib\\axes\\_base.py:507: FutureWarning: Support for multi-dimensional indexing (e.g. `obj[:, None]`) is deprecated and will be removed in a future version.  Convert to a numpy array before indexing instead.\n",
      "  x = x[:, np.newaxis]\n"
     ]
    },
    {
     "data": {
      "text/plain": [
       "[<matplotlib.lines.Line2D at 0x2592f682d60>]"
      ]
     },
     "execution_count": 321,
     "metadata": {},
     "output_type": "execute_result"
    },
    {
     "data": {
      "text/plain": [
       "Text(0.5, 1.0, '27-09-2021 bis 31-10-2021, zwischen 18:00 und 22:00')"
      ]
     },
     "execution_count": 321,
     "metadata": {},
     "output_type": "execute_result"
    },
    {
     "data": {
      "text/plain": [
       "<matplotlib.legend.Legend at 0x259076bc9a0>"
      ]
     },
     "execution_count": 321,
     "metadata": {},
     "output_type": "execute_result"
    },
    {
     "data": {
      "text/plain": [
       "(1.66, 1.7)"
      ]
     },
     "execution_count": 321,
     "metadata": {},
     "output_type": "execute_result"
    },
    {
     "data": {
      "text/plain": [
       "[<matplotlib.lines.Line2D at 0x259aef20a30>]"
      ]
     },
     "execution_count": 321,
     "metadata": {},
     "output_type": "execute_result"
    },
    {
     "data": {
      "text/plain": [
       "<matplotlib.legend.Legend at 0x259273e8160>"
      ]
     },
     "execution_count": 321,
     "metadata": {},
     "output_type": "execute_result"
    },
    {
     "name": "stdout",
     "output_type": "stream",
     "text": [
      "2021-10-11\n",
      "2021-09-27 00:00:00+00:00 2021-10-31 23:59:59+00:00\n",
      "1.66 1.7\n"
     ]
    },
    {
     "data": {
      "text/plain": [
       "Text(0.5, 0.98, 'Benzinpreise in Wolfsburg')"
      ]
     },
     "execution_count": 321,
     "metadata": {},
     "output_type": "execute_result"
    },
    {
     "name": "stderr",
     "output_type": "stream",
     "text": [
      "C:\\ProgramData\\Anaconda3\\lib\\site-packages\\matplotlib\\axes\\_base.py:507: FutureWarning: Support for multi-dimensional indexing (e.g. `obj[:, None]`) is deprecated and will be removed in a future version.  Convert to a numpy array before indexing instead.\n",
      "  x = x[:, np.newaxis]\n"
     ]
    },
    {
     "data": {
      "text/plain": [
       "[<matplotlib.lines.Line2D at 0x2593e7d5310>]"
      ]
     },
     "execution_count": 321,
     "metadata": {},
     "output_type": "execute_result"
    },
    {
     "data": {
      "text/plain": [
       "Text(0.5, 1.0, '27-09-2021 bis 31-10-2021, zwischen 18:00 und 22:00')"
      ]
     },
     "execution_count": 321,
     "metadata": {},
     "output_type": "execute_result"
    },
    {
     "data": {
      "text/plain": [
       "<matplotlib.legend.Legend at 0x25926133b80>"
      ]
     },
     "execution_count": 321,
     "metadata": {},
     "output_type": "execute_result"
    },
    {
     "data": {
      "text/plain": [
       "(1.66, 1.7)"
      ]
     },
     "execution_count": 321,
     "metadata": {},
     "output_type": "execute_result"
    },
    {
     "data": {
      "text/plain": [
       "[<matplotlib.lines.Line2D at 0x25936a6bd90>]"
      ]
     },
     "execution_count": 321,
     "metadata": {},
     "output_type": "execute_result"
    },
    {
     "data": {
      "text/plain": [
       "<matplotlib.legend.Legend at 0x25961cfefa0>"
      ]
     },
     "execution_count": 321,
     "metadata": {},
     "output_type": "execute_result"
    },
    {
     "name": "stdout",
     "output_type": "stream",
     "text": [
      "2021-10-18\n",
      "2021-09-27 00:00:00+00:00 2021-10-31 23:59:59+00:00\n",
      "1.66 1.7\n"
     ]
    },
    {
     "data": {
      "text/plain": [
       "Text(0.5, 0.98, 'Benzinpreise in Wolfsburg')"
      ]
     },
     "execution_count": 321,
     "metadata": {},
     "output_type": "execute_result"
    },
    {
     "name": "stderr",
     "output_type": "stream",
     "text": [
      "C:\\ProgramData\\Anaconda3\\lib\\site-packages\\matplotlib\\axes\\_base.py:507: FutureWarning: Support for multi-dimensional indexing (e.g. `obj[:, None]`) is deprecated and will be removed in a future version.  Convert to a numpy array before indexing instead.\n",
      "  x = x[:, np.newaxis]\n"
     ]
    },
    {
     "data": {
      "text/plain": [
       "[<matplotlib.lines.Line2D at 0x2594b1391f0>]"
      ]
     },
     "execution_count": 321,
     "metadata": {},
     "output_type": "execute_result"
    },
    {
     "data": {
      "text/plain": [
       "Text(0.5, 1.0, '27-09-2021 bis 31-10-2021, zwischen 18:00 und 22:00')"
      ]
     },
     "execution_count": 321,
     "metadata": {},
     "output_type": "execute_result"
    },
    {
     "data": {
      "text/plain": [
       "<matplotlib.legend.Legend at 0x2590a8d7c10>"
      ]
     },
     "execution_count": 321,
     "metadata": {},
     "output_type": "execute_result"
    },
    {
     "data": {
      "text/plain": [
       "(1.66, 1.7)"
      ]
     },
     "execution_count": 321,
     "metadata": {},
     "output_type": "execute_result"
    },
    {
     "data": {
      "text/plain": [
       "[<matplotlib.lines.Line2D at 0x25a0428df70>]"
      ]
     },
     "execution_count": 321,
     "metadata": {},
     "output_type": "execute_result"
    },
    {
     "data": {
      "text/plain": [
       "<matplotlib.legend.Legend at 0x2592c9448b0>"
      ]
     },
     "execution_count": 321,
     "metadata": {},
     "output_type": "execute_result"
    },
    {
     "name": "stdout",
     "output_type": "stream",
     "text": [
      "2021-09-27 00:00:00+00:00 2021-10-29 00:00:00+00:00\n",
      "1.66 1.7\n"
     ]
    },
    {
     "data": {
      "text/plain": [
       "Text(0.5, 0.98, 'Benzinpreise in Wolfsburg')"
      ]
     },
     "execution_count": 321,
     "metadata": {},
     "output_type": "execute_result"
    },
    {
     "name": "stderr",
     "output_type": "stream",
     "text": [
      "C:\\ProgramData\\Anaconda3\\lib\\site-packages\\matplotlib\\axes\\_base.py:507: FutureWarning: Support for multi-dimensional indexing (e.g. `obj[:, None]`) is deprecated and will be removed in a future version.  Convert to a numpy array before indexing instead.\n",
      "  x = x[:, np.newaxis]\n"
     ]
    },
    {
     "data": {
      "text/plain": [
       "[<matplotlib.lines.Line2D at 0x2590b0d9e20>]"
      ]
     },
     "execution_count": 321,
     "metadata": {},
     "output_type": "execute_result"
    },
    {
     "data": {
      "text/plain": [
       "Text(0.5, 1.0, '27-09-2021 bis 29-10-2021, zwischen 18:00 und 22:00')"
      ]
     },
     "execution_count": 321,
     "metadata": {},
     "output_type": "execute_result"
    },
    {
     "data": {
      "text/plain": [
       "<matplotlib.legend.Legend at 0x2590b0d93d0>"
      ]
     },
     "execution_count": 321,
     "metadata": {},
     "output_type": "execute_result"
    },
    {
     "data": {
      "text/plain": [
       "(1.66, 1.7)"
      ]
     },
     "execution_count": 321,
     "metadata": {},
     "output_type": "execute_result"
    },
    {
     "data": {
      "text/plain": [
       "[<matplotlib.lines.Line2D at 0x25911623e80>]"
      ]
     },
     "execution_count": 321,
     "metadata": {},
     "output_type": "execute_result"
    },
    {
     "data": {
      "text/plain": [
       "<matplotlib.legend.Legend at 0x25a151c7d60>"
      ]
     },
     "execution_count": 321,
     "metadata": {},
     "output_type": "execute_result"
    }
   ],
   "source": [
    "cal = calendar.Calendar(firstweekday=0)\n",
    "dates = cal.yeardatescalendar(datetime.date.today().year-1, width=1)\n",
    "dates.extend(cal.yeardatescalendar(datetime.date.today().year, width=1))\n",
    "\n",
    "myConfig= {'Wolfsburg': {'id':'WOB', 'name':'Wolfsburg', 'postCodeMin' : 38000, 'postCodeMax'  : 38999},\n",
    "           'Dietzhoelztal': {'id':'LDK', 'name': 'Dillkreis (Nord)', 'postCodeMin' : 35700, 'postCodeMax' : 35799}}\n",
    "\n",
    "currentOrt = myConfig['Wolfsburg']\n",
    "\n",
    "filesnames = []\n",
    "start_time = \"18:00\"\n",
    "end_time = \"22:00\"\n",
    "\n",
    "for month in dates:\n",
    "    for weeks in month:\n",
    "        #print(weeks[0][0], weeks[-1][6])\n",
    "        for week in weeks:\n",
    "            #  print(week)\n",
    "            start_date = pd.to_datetime(weeks[0][0].strftime('%Y-%m-%d 00:00:00'), utc= True)\n",
    "            end_date = pd.to_datetime(weeks[-1][6].strftime('%Y-%m-%d 23:59:59'), utc= True)\n",
    "            if (week[0] < date.today() and week[-1] < date.today()):\n",
    "                print(week[0])\n",
    "            elif (week[0] < date.today() and week[-1] > date.today()):\n",
    "                end_date = pd.to_datetime(date.today() - datetime.timedelta(days=1), utc= True)\n",
    "            else:\n",
    "                break\n",
    "            #start_date = pd.to_datetime(week[0].strftime('%Y-%m-%d 00:00:00'), utc= True)\n",
    "            #end_date = pd.to_datetime(week[-1].strftime('%Y-%m-%d 23:59:59'), utc= True)\n",
    "            print(start_date, end_date)\n",
    "            filename = r'cpmGasprices_'+currentOrt['id']+'_'+weeks[0][0].strftime('%Y-%m-%d')+'_'+weeks[-1][6].strftime('%Y-%m-%d')\n",
    "            #filename = r'cpmGasprices_'+str(postCodeMin)+'-'+str(postCodeMax)+'_'+week[0].strftime('%Y-%m-%d')+'_'+week[-1].strftime('%Y-%m-%d')\n",
    "            filesnames.append(filename)\n",
    "            mask = (df_merged['date'] > start_date) & (df_merged['date'] <= end_date)\n",
    "            cols_plot = ['e5', 'diesel']\n",
    "            df_plot = df_merged[mask].query('postCode > '+str(currentOrt['postCodeMin'])+' & postCode < '+str(currentOrt['postCodeMax'])).between_time(start_time, end_time).groupby('weekday')[cols_plot].mean()\n",
    "\n",
    "            #df_plot.describe()\n",
    "\n",
    "            e5min = df_plot['e5'][df_plot['e5'] > 0.1].min()\n",
    "            e5max = df_plot['e5'][df_plot['e5'] > 0.1].max()\n",
    "            e5min = math.floor(e5min*100)/100\n",
    "            e5max = math.ceil(e5max*100)/100\n",
    "            print(e5min, e5max)\n",
    "\n",
    "            plt.style.use('Solarize_Light2')\n",
    "            px = 1/plt.rcParams['figure.dpi']  # pixel in inches\n",
    "            \n",
    "            serif_font = {'fontname':'Linux Biolinum'}\n",
    "            plt.rcParams['font.family'] = serif_font\n",
    "            colors = plt.rcParams[\"axes.prop_cycle\"]()\n",
    "            fig, (ax1, ax2) = plt.subplots(nrows=2, ncols=1, sharex=True, figsize=(640*px, 340*px))\n",
    "            fig.suptitle(\"Benzinpreise in \"+currentOrt[\"name\"], fontsize=24, **serif_font)\n",
    "\n",
    "            c = next(colors)[\"color\"]\n",
    "            ax1.plot(df_plot.e5, label='e5', color=c)\n",
    "            #ax.set_title('v = 1',fontweight=\"bold\", size=20) # Title\n",
    "            ax1.set_title(start_date.strftime('%d-%m-%Y')+' bis '+ end_date.strftime('%d-%m-%Y') + ', zwischen '+start_time+' und '+end_time, size=12)\n",
    "            ax1.legend()\n",
    "            ax1.set_ylim([e5min, e5max])\n",
    "\n",
    "            c = next(colors)[\"color\"]\n",
    "            ax2.plot(df_plot.diesel, label='diesel', color=c)\n",
    "            ax2.legend()\n",
    "\n",
    "            fig.tight_layout()\n",
    "            #fig.patch.set_facecolor('#eee8d5')\n",
    "            #fig.subplots_adjust(top=0.88)\n",
    "            plt.savefig(filename, facecolor=fig.get_facecolor(), edgecolor='none')\n",
    "            #plt.show()\n",
    "            plt.close()\n"
   ]
  },
  {
   "cell_type": "code",
   "execution_count": null,
   "id": "4b2375d0",
   "metadata": {},
   "outputs": [],
   "source": []
  },
  {
   "cell_type": "code",
   "execution_count": 310,
   "id": "9c06b97e",
   "metadata": {},
   "outputs": [
    {
     "data": {
      "text/html": [
       "<div>\n",
       "<style scoped>\n",
       "    .dataframe tbody tr th:only-of-type {\n",
       "        vertical-align: middle;\n",
       "    }\n",
       "\n",
       "    .dataframe tbody tr th {\n",
       "        vertical-align: top;\n",
       "    }\n",
       "\n",
       "    .dataframe thead th {\n",
       "        text-align: right;\n",
       "    }\n",
       "</style>\n",
       "<table border=\"1\" class=\"dataframe\">\n",
       "  <thead>\n",
       "    <tr style=\"text-align: right;\">\n",
       "      <th></th>\n",
       "      <th>e5</th>\n",
       "      <th>diesel</th>\n",
       "    </tr>\n",
       "    <tr>\n",
       "      <th>weekday</th>\n",
       "      <th></th>\n",
       "      <th></th>\n",
       "    </tr>\n",
       "  </thead>\n",
       "  <tbody>\n",
       "    <tr>\n",
       "      <th>Monday</th>\n",
       "      <td>1.665494</td>\n",
       "      <td>1.515642</td>\n",
       "    </tr>\n",
       "    <tr>\n",
       "      <th>Tuesday</th>\n",
       "      <td>1.665797</td>\n",
       "      <td>1.475169</td>\n",
       "    </tr>\n",
       "    <tr>\n",
       "      <th>Wednesday</th>\n",
       "      <td>1.678173</td>\n",
       "      <td>1.492309</td>\n",
       "    </tr>\n",
       "    <tr>\n",
       "      <th>Thursday</th>\n",
       "      <td>1.668140</td>\n",
       "      <td>1.490499</td>\n",
       "    </tr>\n",
       "    <tr>\n",
       "      <th>Friday</th>\n",
       "      <td>1.677664</td>\n",
       "      <td>1.490986</td>\n",
       "    </tr>\n",
       "    <tr>\n",
       "      <th>Saturday</th>\n",
       "      <td>1.687852</td>\n",
       "      <td>1.520541</td>\n",
       "    </tr>\n",
       "    <tr>\n",
       "      <th>Sunday</th>\n",
       "      <td>1.697567</td>\n",
       "      <td>1.524733</td>\n",
       "    </tr>\n",
       "  </tbody>\n",
       "</table>\n",
       "</div>"
      ],
      "text/plain": [
       "                 e5    diesel\n",
       "weekday                      \n",
       "Monday     1.665494  1.515642\n",
       "Tuesday    1.665797  1.475169\n",
       "Wednesday  1.678173  1.492309\n",
       "Thursday   1.668140  1.490499\n",
       "Friday     1.677664  1.490986\n",
       "Saturday   1.687852  1.520541\n",
       "Sunday     1.697567  1.524733"
      ]
     },
     "execution_count": 310,
     "metadata": {},
     "output_type": "execute_result"
    }
   ],
   "source": [
    "df_plot"
   ]
  },
  {
   "cell_type": "code",
   "execution_count": null,
   "id": "75b98b35",
   "metadata": {},
   "outputs": [],
   "source": []
  }
 ],
 "metadata": {
  "kernelspec": {
   "display_name": "Python 3 (ipykernel)",
   "language": "python",
   "name": "python3"
  },
  "language_info": {
   "codemirror_mode": {
    "name": "ipython",
    "version": 3
   },
   "file_extension": ".py",
   "mimetype": "text/x-python",
   "name": "python",
   "nbconvert_exporter": "python",
   "pygments_lexer": "ipython3",
   "version": "3.8.12"
  }
 },
 "nbformat": 4,
 "nbformat_minor": 5
}
