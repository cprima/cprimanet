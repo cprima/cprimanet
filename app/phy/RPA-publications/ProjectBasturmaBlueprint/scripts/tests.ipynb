{
 "cells": [
  {
   "cell_type": "code",
   "execution_count": null,
   "metadata": {},
   "outputs": [],
   "source": []
  },
  {
   "cell_type": "code",
   "execution_count": null,
   "metadata": {},
   "outputs": [],
   "source": []
  },
  {
   "cell_type": "code",
   "execution_count": 4,
   "metadata": {},
   "outputs": [
    {
     "ename": "TypeError",
     "evalue": "can only concatenate str (not \"NoneType\") to str",
     "output_type": "error",
     "traceback": [
      "\u001b[1;31m---------------------------------------------------------------------------\u001b[0m",
      "\u001b[1;31mTypeError\u001b[0m                                 Traceback (most recent call last)",
      "\u001b[1;32md:\\github.com\\cprima\\cprimanet\\app\\phy\\RPA-publications\\ProjectBasturmaBlueprint\\scripts\\tests.ipynb Cell 3\u001b[0m line \u001b[0;36m2\n\u001b[0;32m     <a href='vscode-notebook-cell:/d%3A/github.com/cprima/cprimanet/app/phy/RPA-publications/ProjectBasturmaBlueprint/scripts/tests.ipynb#W2sZmlsZQ%3D%3D?line=24'>25</a>\u001b[0m     \u001b[39m# Add recommendation as additional info if available\u001b[39;00m\n\u001b[0;32m     <a href='vscode-notebook-cell:/d%3A/github.com/cprima/cprimanet/app/phy/RPA-publications/ProjectBasturmaBlueprint/scripts/tests.ipynb#W2sZmlsZQ%3D%3D?line=25'>26</a>\u001b[0m     \u001b[39mif\u001b[39;00m \u001b[39m'\u001b[39m\u001b[39mRecommendation\u001b[39m\u001b[39m'\u001b[39m \u001b[39min\u001b[39;00m result:\n\u001b[1;32m---> <a href='vscode-notebook-cell:/d%3A/github.com/cprima/cprimanet/app/phy/RPA-publications/ProjectBasturmaBlueprint/scripts/tests.ipynb#W2sZmlsZQ%3D%3D?line=26'>27</a>\u001b[0m         issue[\u001b[39m'\u001b[39m\u001b[39mprimaryLocation\u001b[39m\u001b[39m'\u001b[39m][\u001b[39m'\u001b[39m\u001b[39mmessage\u001b[39m\u001b[39m'\u001b[39m] \u001b[39m+\u001b[39m\u001b[39m=\u001b[39m \u001b[39m\"\u001b[39;49m\u001b[39m Recommendation: \u001b[39;49m\u001b[39m\"\u001b[39;49m \u001b[39m+\u001b[39;49m result[\u001b[39m'\u001b[39;49m\u001b[39mRecommendation\u001b[39;49m\u001b[39m'\u001b[39;49m]\n\u001b[0;32m     <a href='vscode-notebook-cell:/d%3A/github.com/cprima/cprimanet/app/phy/RPA-publications/ProjectBasturmaBlueprint/scripts/tests.ipynb#W2sZmlsZQ%3D%3D?line=27'>28</a>\u001b[0m     sonarqube_results\u001b[39m.\u001b[39mappend(issue)\n\u001b[0;32m     <a href='vscode-notebook-cell:/d%3A/github.com/cprima/cprimanet/app/phy/RPA-publications/ProjectBasturmaBlueprint/scripts/tests.ipynb#W2sZmlsZQ%3D%3D?line=29'>30</a>\u001b[0m \u001b[39m# Save the results in Generic Issue Import Format\u001b[39;00m\n",
      "\u001b[1;31mTypeError\u001b[0m: can only concatenate str (not \"NoneType\") to str"
     ]
    }
   ],
   "source": [
    "import json\n",
    "\n",
    "# Load UiPath Workflow Analyzer results\n",
    "with open('T:\\\\uipath-workflow-analyzer_results.json', 'r') as f:\n",
    "    uipath_results = json.load(f)\n",
    "\n",
    "sonarqube_results = []\n",
    "\n",
    "severity_mapping = {\n",
    "    4: 'BLOCKER',\n",
    "    3: 'CRITICAL',\n",
    "    2: 'MAJOR'\n",
    "}\n",
    "\n",
    "for result in uipath_results:\n",
    "    issue = {}\n",
    "    issue['engineId'] = 'uipath-workflow-analyzer'\n",
    "    issue['ruleId'] = result['ErrorCode']\n",
    "    issue['type'] = 'CODE_SMELL'  # default, can be adjusted based on your needs\n",
    "    issue['severity'] = severity_mapping.get(result['ErrorSeverity'], 'MINOR')\n",
    "    issue['primaryLocation'] = {\n",
    "        'message': result['Description'],\n",
    "        'filePath': result['FilePath'] if result['FilePath'] else 'unknown_path'\n",
    "    }\n",
    "    # Add recommendation as additional info if available\n",
    "    if 'Recommendation' in result:\n",
    "        issue['primaryLocation']['message'] += \" Recommendation: \" + result['Recommendation']\n",
    "    sonarqube_results.append(issue)\n",
    "\n",
    "# Save the results in Generic Issue Import Format\n",
    "with open('T:\\\\sonarqube_input.json', 'w') as f:\n",
    "    json.dump(sonarqube_results, f, indent=4)\n"
   ]
  },
  {
   "cell_type": "code",
   "execution_count": null,
   "metadata": {},
   "outputs": [],
   "source": []
  },
  {
   "cell_type": "code",
   "execution_count": 7,
   "metadata": {},
   "outputs": [],
   "source": [
    "import json\n",
    "\n",
    "# Load UiPath Workflow Analyzer results\n",
    "with open('T:/uipath-workflow-analyzer_results.json', 'r') as f:\n",
    "    uipath_results = json.load(f)\n",
    "\n",
    "sonarqube_results = []\n",
    "\n",
    "severity_mapping = {\n",
    "    4: 'BLOCKER',\n",
    "    3: 'CRITICAL',\n",
    "    2: 'MAJOR'\n",
    "}\n",
    "\n",
    "for result in uipath_results:\n",
    "    issue = {}\n",
    "    issue['engineId'] = 'uipath-workflow-analyzer'\n",
    "    issue['ruleId'] = result['ErrorCode']\n",
    "    issue['type'] = 'CODE_SMELL'  # default, can be adjusted based on your needs\n",
    "    issue['severity'] = severity_mapping.get(result['ErrorSeverity'], 'MINOR')\n",
    "    issue['primaryLocation'] = {\n",
    "        'message': result['Description'],\n",
    "        'filePath': result['FilePath'] if result['FilePath'] else 'unknown_path'\n",
    "    }\n",
    "    # Add recommendation as additional info if available\n",
    "    if 'Recommendation' in result and result['Recommendation'] is not None:\n",
    "        issue['primaryLocation']['message'] += \" Recommendation: \" + result['Recommendation']\n",
    "    sonarqube_results.append(issue)\n",
    "\n",
    "# Wrap the array in a JSON object\n",
    "output_data = {\n",
    "    \"issues\": sonarqube_results\n",
    "}\n",
    "\n",
    "# Save the results in Generic Issue Import Format\n",
    "with open('T:/sonarqube_input.json', 'w') as f:\n",
    "    json.dump(output_data, f, indent=4)\n"
   ]
  },
  {
   "cell_type": "code",
   "execution_count": null,
   "metadata": {},
   "outputs": [],
   "source": []
  }
 ],
 "metadata": {
  "kernelspec": {
   "display_name": "project-basturma-pipelines",
   "language": "python",
   "name": "python3"
  },
  "language_info": {
   "codemirror_mode": {
    "name": "ipython",
    "version": 3
   },
   "file_extension": ".py",
   "mimetype": "text/x-python",
   "name": "python",
   "nbconvert_exporter": "python",
   "pygments_lexer": "ipython3",
   "version": "3.11.4"
  }
 },
 "nbformat": 4,
 "nbformat_minor": 2
}
